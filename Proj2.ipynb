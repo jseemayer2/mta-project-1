{
 "cells": [
  {
   "cell_type": "code",
   "execution_count": 1,
   "metadata": {},
   "outputs": [],
   "source": [
    "import pandas as pd\n",
    "import matplotlib.pyplot as plt\n",
    "from pylab import rcParams\n",
    "%matplotlib inline\n",
    "rcParams['figure.figsize'] = 20,10\n",
    "import numpy as np\n",
    "import glob\n",
    "from scipy import stats\n",
    "import math"
   ]
  },
  {
   "cell_type": "code",
   "execution_count": 2,
   "metadata": {},
   "outputs": [
    {
     "name": "stdout",
     "output_type": "stream",
     "text": [
      "/Users/racheldilley/Documents/Metis/git_repos/mta-project-1/CSVs\n"
     ]
    }
   ],
   "source": [
    "cd CSVs"
   ]
  },
  {
   "cell_type": "markdown",
   "metadata": {},
   "source": [
    "#### Load Data"
   ]
  },
  {
   "cell_type": "code",
   "execution_count": 3,
   "metadata": {
    "scrolled": true
   },
   "outputs": [
    {
     "data": {
      "text/plain": [
       "REGULAR       2240973\n",
       "RECOVR AUD       9835\n",
       "Name: DESC, dtype: int64"
      ]
     },
     "execution_count": 3,
     "metadata": {},
     "output_type": "execute_result"
    }
   ],
   "source": [
    "extension = 'txt'\n",
    "all_filenames = [i for i in glob.glob('*.{}'.format(extension))]\n",
    "\n",
    "#combine all files in the list\n",
    "data = pd.concat([pd.read_csv(f) for f in all_filenames ])\n",
    "data\n",
    "data.DESC.value_counts()"
   ]
  },
  {
   "cell_type": "markdown",
   "metadata": {},
   "source": [
    "### Clean Data"
   ]
  },
  {
   "cell_type": "markdown",
   "metadata": {},
   "source": [
    "remove spaces from column names"
   ]
  },
  {
   "cell_type": "code",
   "execution_count": 4,
   "metadata": {},
   "outputs": [],
   "source": [
    "data.columns = data.columns.str.replace(' ', '')"
   ]
  },
  {
   "cell_type": "markdown",
   "metadata": {},
   "source": [
    "add Date_Time column "
   ]
  },
  {
   "cell_type": "code",
   "execution_count": 5,
   "metadata": {},
   "outputs": [],
   "source": [
    "data['Date_Time'] = pd.to_datetime(data['DATE'], cache=True) + pd.to_timedelta(data['TIME'])"
   ]
  },
  {
   "cell_type": "markdown",
   "metadata": {},
   "source": [
    "Add Turnstile (Combining SCP,C/A, Station and Unit) and Weekday column"
   ]
  },
  {
   "cell_type": "code",
   "execution_count": 6,
   "metadata": {},
   "outputs": [],
   "source": [
    "data['Turnstile'] = data['C/A'] + data['UNIT'] + data['SCP'] + data['STATION']\n",
    "data['DATE'] = pd.to_datetime(data['DATE'], cache=True)\n",
    "data['Week_Day'] = data['DATE'].dt.day_name()"
   ]
  },
  {
   "cell_type": "markdown",
   "metadata": {},
   "source": [
    "Only look at regular data"
   ]
  },
  {
   "cell_type": "code",
   "execution_count": 7,
   "metadata": {},
   "outputs": [
    {
     "data": {
      "text/html": [
       "<div>\n",
       "<style scoped>\n",
       "    .dataframe tbody tr th:only-of-type {\n",
       "        vertical-align: middle;\n",
       "    }\n",
       "\n",
       "    .dataframe tbody tr th {\n",
       "        vertical-align: top;\n",
       "    }\n",
       "\n",
       "    .dataframe thead th {\n",
       "        text-align: right;\n",
       "    }\n",
       "</style>\n",
       "<table border=\"1\" class=\"dataframe\">\n",
       "  <thead>\n",
       "    <tr style=\"text-align: right;\">\n",
       "      <th></th>\n",
       "      <th>C/A</th>\n",
       "      <th>UNIT</th>\n",
       "      <th>SCP</th>\n",
       "      <th>STATION</th>\n",
       "      <th>LINENAME</th>\n",
       "      <th>DIVISION</th>\n",
       "      <th>DATE</th>\n",
       "      <th>TIME</th>\n",
       "      <th>DESC</th>\n",
       "      <th>ENTRIES</th>\n",
       "      <th>EXITS</th>\n",
       "      <th>Date_Time</th>\n",
       "      <th>Turnstile</th>\n",
       "      <th>Week_Day</th>\n",
       "    </tr>\n",
       "  </thead>\n",
       "  <tbody>\n",
       "    <tr>\n",
       "      <th>0</th>\n",
       "      <td>A002</td>\n",
       "      <td>R051</td>\n",
       "      <td>02-00-00</td>\n",
       "      <td>59 ST</td>\n",
       "      <td>NQR456W</td>\n",
       "      <td>BMT</td>\n",
       "      <td>2019-05-11</td>\n",
       "      <td>00:00:00</td>\n",
       "      <td>REGULAR</td>\n",
       "      <td>7053483</td>\n",
       "      <td>2390505</td>\n",
       "      <td>2019-05-11 00:00:00</td>\n",
       "      <td>A002R05102-00-0059 ST</td>\n",
       "      <td>Saturday</td>\n",
       "    </tr>\n",
       "    <tr>\n",
       "      <th>1</th>\n",
       "      <td>A002</td>\n",
       "      <td>R051</td>\n",
       "      <td>02-00-00</td>\n",
       "      <td>59 ST</td>\n",
       "      <td>NQR456W</td>\n",
       "      <td>BMT</td>\n",
       "      <td>2019-05-11</td>\n",
       "      <td>04:00:00</td>\n",
       "      <td>REGULAR</td>\n",
       "      <td>7053511</td>\n",
       "      <td>2390508</td>\n",
       "      <td>2019-05-11 04:00:00</td>\n",
       "      <td>A002R05102-00-0059 ST</td>\n",
       "      <td>Saturday</td>\n",
       "    </tr>\n",
       "    <tr>\n",
       "      <th>2</th>\n",
       "      <td>A002</td>\n",
       "      <td>R051</td>\n",
       "      <td>02-00-00</td>\n",
       "      <td>59 ST</td>\n",
       "      <td>NQR456W</td>\n",
       "      <td>BMT</td>\n",
       "      <td>2019-05-11</td>\n",
       "      <td>08:00:00</td>\n",
       "      <td>REGULAR</td>\n",
       "      <td>7053534</td>\n",
       "      <td>2390536</td>\n",
       "      <td>2019-05-11 08:00:00</td>\n",
       "      <td>A002R05102-00-0059 ST</td>\n",
       "      <td>Saturday</td>\n",
       "    </tr>\n",
       "    <tr>\n",
       "      <th>3</th>\n",
       "      <td>A002</td>\n",
       "      <td>R051</td>\n",
       "      <td>02-00-00</td>\n",
       "      <td>59 ST</td>\n",
       "      <td>NQR456W</td>\n",
       "      <td>BMT</td>\n",
       "      <td>2019-05-11</td>\n",
       "      <td>12:00:00</td>\n",
       "      <td>REGULAR</td>\n",
       "      <td>7053618</td>\n",
       "      <td>2390596</td>\n",
       "      <td>2019-05-11 12:00:00</td>\n",
       "      <td>A002R05102-00-0059 ST</td>\n",
       "      <td>Saturday</td>\n",
       "    </tr>\n",
       "    <tr>\n",
       "      <th>4</th>\n",
       "      <td>A002</td>\n",
       "      <td>R051</td>\n",
       "      <td>02-00-00</td>\n",
       "      <td>59 ST</td>\n",
       "      <td>NQR456W</td>\n",
       "      <td>BMT</td>\n",
       "      <td>2019-05-11</td>\n",
       "      <td>16:00:00</td>\n",
       "      <td>REGULAR</td>\n",
       "      <td>7053841</td>\n",
       "      <td>2390655</td>\n",
       "      <td>2019-05-11 16:00:00</td>\n",
       "      <td>A002R05102-00-0059 ST</td>\n",
       "      <td>Saturday</td>\n",
       "    </tr>\n",
       "  </tbody>\n",
       "</table>\n",
       "</div>"
      ],
      "text/plain": [
       "    C/A  UNIT       SCP STATION LINENAME DIVISION       DATE      TIME  \\\n",
       "0  A002  R051  02-00-00   59 ST  NQR456W      BMT 2019-05-11  00:00:00   \n",
       "1  A002  R051  02-00-00   59 ST  NQR456W      BMT 2019-05-11  04:00:00   \n",
       "2  A002  R051  02-00-00   59 ST  NQR456W      BMT 2019-05-11  08:00:00   \n",
       "3  A002  R051  02-00-00   59 ST  NQR456W      BMT 2019-05-11  12:00:00   \n",
       "4  A002  R051  02-00-00   59 ST  NQR456W      BMT 2019-05-11  16:00:00   \n",
       "\n",
       "      DESC  ENTRIES    EXITS           Date_Time              Turnstile  \\\n",
       "0  REGULAR  7053483  2390505 2019-05-11 00:00:00  A002R05102-00-0059 ST   \n",
       "1  REGULAR  7053511  2390508 2019-05-11 04:00:00  A002R05102-00-0059 ST   \n",
       "2  REGULAR  7053534  2390536 2019-05-11 08:00:00  A002R05102-00-0059 ST   \n",
       "3  REGULAR  7053618  2390596 2019-05-11 12:00:00  A002R05102-00-0059 ST   \n",
       "4  REGULAR  7053841  2390655 2019-05-11 16:00:00  A002R05102-00-0059 ST   \n",
       "\n",
       "   Week_Day  \n",
       "0  Saturday  \n",
       "1  Saturday  \n",
       "2  Saturday  \n",
       "3  Saturday  \n",
       "4  Saturday  "
      ]
     },
     "execution_count": 7,
     "metadata": {},
     "output_type": "execute_result"
    }
   ],
   "source": [
    "data = data[data.DESC == 'REGULAR']\n",
    "data.head()"
   ]
  },
  {
   "cell_type": "markdown",
   "metadata": {},
   "source": [
    "#### Find total traffic"
   ]
  },
  {
   "cell_type": "markdown",
   "metadata": {},
   "source": [
    "Add shifted columns to show previous entries and exits"
   ]
  },
  {
   "cell_type": "code",
   "execution_count": 8,
   "metadata": {
    "scrolled": true
   },
   "outputs": [
    {
     "data": {
      "text/html": [
       "<div>\n",
       "<style scoped>\n",
       "    .dataframe tbody tr th:only-of-type {\n",
       "        vertical-align: middle;\n",
       "    }\n",
       "\n",
       "    .dataframe tbody tr th {\n",
       "        vertical-align: top;\n",
       "    }\n",
       "\n",
       "    .dataframe thead th {\n",
       "        text-align: right;\n",
       "    }\n",
       "</style>\n",
       "<table border=\"1\" class=\"dataframe\">\n",
       "  <thead>\n",
       "    <tr style=\"text-align: right;\">\n",
       "      <th></th>\n",
       "      <th>C/A</th>\n",
       "      <th>UNIT</th>\n",
       "      <th>SCP</th>\n",
       "      <th>STATION</th>\n",
       "      <th>LINENAME</th>\n",
       "      <th>DIVISION</th>\n",
       "      <th>DATE</th>\n",
       "      <th>TIME</th>\n",
       "      <th>DESC</th>\n",
       "      <th>ENTRIES</th>\n",
       "      <th>EXITS</th>\n",
       "      <th>Date_Time</th>\n",
       "      <th>Turnstile</th>\n",
       "      <th>Week_Day</th>\n",
       "      <th>PREV_TIME</th>\n",
       "      <th>PREV_EXITS</th>\n",
       "      <th>PREV_ENTRIES</th>\n",
       "    </tr>\n",
       "  </thead>\n",
       "  <tbody>\n",
       "    <tr>\n",
       "      <th>206852</th>\n",
       "      <td>TRAM2</td>\n",
       "      <td>R469</td>\n",
       "      <td>00-05-01</td>\n",
       "      <td>RIT-ROOSEVELT</td>\n",
       "      <td>R</td>\n",
       "      <td>RIT</td>\n",
       "      <td>2019-05-03</td>\n",
       "      <td>05:00:00</td>\n",
       "      <td>REGULAR</td>\n",
       "      <td>5554</td>\n",
       "      <td>376</td>\n",
       "      <td>2019-05-03 05:00:00</td>\n",
       "      <td>TRAM2R46900-05-01RIT-ROOSEVELT</td>\n",
       "      <td>Friday</td>\n",
       "      <td>01:00:00</td>\n",
       "      <td>376.0</td>\n",
       "      <td>5554.0</td>\n",
       "    </tr>\n",
       "    <tr>\n",
       "      <th>206853</th>\n",
       "      <td>TRAM2</td>\n",
       "      <td>R469</td>\n",
       "      <td>00-05-01</td>\n",
       "      <td>RIT-ROOSEVELT</td>\n",
       "      <td>R</td>\n",
       "      <td>RIT</td>\n",
       "      <td>2019-05-03</td>\n",
       "      <td>09:00:00</td>\n",
       "      <td>REGULAR</td>\n",
       "      <td>5554</td>\n",
       "      <td>376</td>\n",
       "      <td>2019-05-03 09:00:00</td>\n",
       "      <td>TRAM2R46900-05-01RIT-ROOSEVELT</td>\n",
       "      <td>Friday</td>\n",
       "      <td>05:00:00</td>\n",
       "      <td>376.0</td>\n",
       "      <td>5554.0</td>\n",
       "    </tr>\n",
       "    <tr>\n",
       "      <th>206854</th>\n",
       "      <td>TRAM2</td>\n",
       "      <td>R469</td>\n",
       "      <td>00-05-01</td>\n",
       "      <td>RIT-ROOSEVELT</td>\n",
       "      <td>R</td>\n",
       "      <td>RIT</td>\n",
       "      <td>2019-05-03</td>\n",
       "      <td>13:00:00</td>\n",
       "      <td>REGULAR</td>\n",
       "      <td>5554</td>\n",
       "      <td>376</td>\n",
       "      <td>2019-05-03 13:00:00</td>\n",
       "      <td>TRAM2R46900-05-01RIT-ROOSEVELT</td>\n",
       "      <td>Friday</td>\n",
       "      <td>09:00:00</td>\n",
       "      <td>376.0</td>\n",
       "      <td>5554.0</td>\n",
       "    </tr>\n",
       "    <tr>\n",
       "      <th>206855</th>\n",
       "      <td>TRAM2</td>\n",
       "      <td>R469</td>\n",
       "      <td>00-05-01</td>\n",
       "      <td>RIT-ROOSEVELT</td>\n",
       "      <td>R</td>\n",
       "      <td>RIT</td>\n",
       "      <td>2019-05-03</td>\n",
       "      <td>17:00:00</td>\n",
       "      <td>REGULAR</td>\n",
       "      <td>5554</td>\n",
       "      <td>376</td>\n",
       "      <td>2019-05-03 17:00:00</td>\n",
       "      <td>TRAM2R46900-05-01RIT-ROOSEVELT</td>\n",
       "      <td>Friday</td>\n",
       "      <td>13:00:00</td>\n",
       "      <td>376.0</td>\n",
       "      <td>5554.0</td>\n",
       "    </tr>\n",
       "    <tr>\n",
       "      <th>206856</th>\n",
       "      <td>TRAM2</td>\n",
       "      <td>R469</td>\n",
       "      <td>00-05-01</td>\n",
       "      <td>RIT-ROOSEVELT</td>\n",
       "      <td>R</td>\n",
       "      <td>RIT</td>\n",
       "      <td>2019-05-03</td>\n",
       "      <td>21:00:00</td>\n",
       "      <td>REGULAR</td>\n",
       "      <td>5554</td>\n",
       "      <td>376</td>\n",
       "      <td>2019-05-03 21:00:00</td>\n",
       "      <td>TRAM2R46900-05-01RIT-ROOSEVELT</td>\n",
       "      <td>Friday</td>\n",
       "      <td>17:00:00</td>\n",
       "      <td>376.0</td>\n",
       "      <td>5554.0</td>\n",
       "    </tr>\n",
       "  </tbody>\n",
       "</table>\n",
       "</div>"
      ],
      "text/plain": [
       "          C/A  UNIT       SCP        STATION LINENAME DIVISION       DATE  \\\n",
       "206852  TRAM2  R469  00-05-01  RIT-ROOSEVELT        R      RIT 2019-05-03   \n",
       "206853  TRAM2  R469  00-05-01  RIT-ROOSEVELT        R      RIT 2019-05-03   \n",
       "206854  TRAM2  R469  00-05-01  RIT-ROOSEVELT        R      RIT 2019-05-03   \n",
       "206855  TRAM2  R469  00-05-01  RIT-ROOSEVELT        R      RIT 2019-05-03   \n",
       "206856  TRAM2  R469  00-05-01  RIT-ROOSEVELT        R      RIT 2019-05-03   \n",
       "\n",
       "            TIME     DESC  ENTRIES  EXITS           Date_Time  \\\n",
       "206852  05:00:00  REGULAR     5554    376 2019-05-03 05:00:00   \n",
       "206853  09:00:00  REGULAR     5554    376 2019-05-03 09:00:00   \n",
       "206854  13:00:00  REGULAR     5554    376 2019-05-03 13:00:00   \n",
       "206855  17:00:00  REGULAR     5554    376 2019-05-03 17:00:00   \n",
       "206856  21:00:00  REGULAR     5554    376 2019-05-03 21:00:00   \n",
       "\n",
       "                             Turnstile Week_Day PREV_TIME  PREV_EXITS  \\\n",
       "206852  TRAM2R46900-05-01RIT-ROOSEVELT   Friday  01:00:00       376.0   \n",
       "206853  TRAM2R46900-05-01RIT-ROOSEVELT   Friday  05:00:00       376.0   \n",
       "206854  TRAM2R46900-05-01RIT-ROOSEVELT   Friday  09:00:00       376.0   \n",
       "206855  TRAM2R46900-05-01RIT-ROOSEVELT   Friday  13:00:00       376.0   \n",
       "206856  TRAM2R46900-05-01RIT-ROOSEVELT   Friday  17:00:00       376.0   \n",
       "\n",
       "        PREV_ENTRIES  \n",
       "206852        5554.0  \n",
       "206853        5554.0  \n",
       "206854        5554.0  \n",
       "206855        5554.0  \n",
       "206856        5554.0  "
      ]
     },
     "execution_count": 8,
     "metadata": {},
     "output_type": "execute_result"
    }
   ],
   "source": [
    "#All turnstiles have cumulative counts, previous data needs to be subtraced from current data \n",
    "#to find total entries/exits\n",
    "grouped_time=data.copy()\n",
    "grouped_time[\"PREV_TIME\"] = data.groupby([\"Turnstile\"]).TIME.shift(1)\n",
    "grouped_time[\"PREV_EXITS\"] = data.groupby([\"Turnstile\"]).EXITS.shift(1)\n",
    "grouped_time[\"PREV_ENTRIES\"] = data.groupby([\"Turnstile\"]).ENTRIES.shift(1)\n",
    "grouped_time.tail()"
   ]
  },
  {
   "cell_type": "code",
   "execution_count": 9,
   "metadata": {},
   "outputs": [
    {
     "data": {
      "text/html": [
       "<div>\n",
       "<style scoped>\n",
       "    .dataframe tbody tr th:only-of-type {\n",
       "        vertical-align: middle;\n",
       "    }\n",
       "\n",
       "    .dataframe tbody tr th {\n",
       "        vertical-align: top;\n",
       "    }\n",
       "\n",
       "    .dataframe thead th {\n",
       "        text-align: right;\n",
       "    }\n",
       "</style>\n",
       "<table border=\"1\" class=\"dataframe\">\n",
       "  <thead>\n",
       "    <tr style=\"text-align: right;\">\n",
       "      <th></th>\n",
       "      <th>C/A</th>\n",
       "      <th>UNIT</th>\n",
       "      <th>SCP</th>\n",
       "      <th>STATION</th>\n",
       "      <th>LINENAME</th>\n",
       "      <th>DIVISION</th>\n",
       "      <th>DATE</th>\n",
       "      <th>TIME</th>\n",
       "      <th>DESC</th>\n",
       "      <th>ENTRIES</th>\n",
       "      <th>EXITS</th>\n",
       "      <th>Date_Time</th>\n",
       "      <th>Turnstile</th>\n",
       "      <th>Week_Day</th>\n",
       "      <th>PREV_TIME</th>\n",
       "      <th>PREV_EXITS</th>\n",
       "      <th>PREV_ENTRIES</th>\n",
       "    </tr>\n",
       "  </thead>\n",
       "  <tbody>\n",
       "    <tr>\n",
       "      <th>1</th>\n",
       "      <td>A002</td>\n",
       "      <td>R051</td>\n",
       "      <td>02-00-00</td>\n",
       "      <td>59 ST</td>\n",
       "      <td>NQR456W</td>\n",
       "      <td>BMT</td>\n",
       "      <td>2019-05-11</td>\n",
       "      <td>04:00:00</td>\n",
       "      <td>REGULAR</td>\n",
       "      <td>7053511</td>\n",
       "      <td>2390508</td>\n",
       "      <td>2019-05-11 04:00:00</td>\n",
       "      <td>A002R05102-00-0059 ST</td>\n",
       "      <td>Saturday</td>\n",
       "      <td>00:00:00</td>\n",
       "      <td>2390505.0</td>\n",
       "      <td>7053483.0</td>\n",
       "    </tr>\n",
       "    <tr>\n",
       "      <th>2</th>\n",
       "      <td>A002</td>\n",
       "      <td>R051</td>\n",
       "      <td>02-00-00</td>\n",
       "      <td>59 ST</td>\n",
       "      <td>NQR456W</td>\n",
       "      <td>BMT</td>\n",
       "      <td>2019-05-11</td>\n",
       "      <td>08:00:00</td>\n",
       "      <td>REGULAR</td>\n",
       "      <td>7053534</td>\n",
       "      <td>2390536</td>\n",
       "      <td>2019-05-11 08:00:00</td>\n",
       "      <td>A002R05102-00-0059 ST</td>\n",
       "      <td>Saturday</td>\n",
       "      <td>04:00:00</td>\n",
       "      <td>2390508.0</td>\n",
       "      <td>7053511.0</td>\n",
       "    </tr>\n",
       "    <tr>\n",
       "      <th>3</th>\n",
       "      <td>A002</td>\n",
       "      <td>R051</td>\n",
       "      <td>02-00-00</td>\n",
       "      <td>59 ST</td>\n",
       "      <td>NQR456W</td>\n",
       "      <td>BMT</td>\n",
       "      <td>2019-05-11</td>\n",
       "      <td>12:00:00</td>\n",
       "      <td>REGULAR</td>\n",
       "      <td>7053618</td>\n",
       "      <td>2390596</td>\n",
       "      <td>2019-05-11 12:00:00</td>\n",
       "      <td>A002R05102-00-0059 ST</td>\n",
       "      <td>Saturday</td>\n",
       "      <td>08:00:00</td>\n",
       "      <td>2390536.0</td>\n",
       "      <td>7053534.0</td>\n",
       "    </tr>\n",
       "    <tr>\n",
       "      <th>4</th>\n",
       "      <td>A002</td>\n",
       "      <td>R051</td>\n",
       "      <td>02-00-00</td>\n",
       "      <td>59 ST</td>\n",
       "      <td>NQR456W</td>\n",
       "      <td>BMT</td>\n",
       "      <td>2019-05-11</td>\n",
       "      <td>16:00:00</td>\n",
       "      <td>REGULAR</td>\n",
       "      <td>7053841</td>\n",
       "      <td>2390655</td>\n",
       "      <td>2019-05-11 16:00:00</td>\n",
       "      <td>A002R05102-00-0059 ST</td>\n",
       "      <td>Saturday</td>\n",
       "      <td>12:00:00</td>\n",
       "      <td>2390596.0</td>\n",
       "      <td>7053618.0</td>\n",
       "    </tr>\n",
       "    <tr>\n",
       "      <th>5</th>\n",
       "      <td>A002</td>\n",
       "      <td>R051</td>\n",
       "      <td>02-00-00</td>\n",
       "      <td>59 ST</td>\n",
       "      <td>NQR456W</td>\n",
       "      <td>BMT</td>\n",
       "      <td>2019-05-11</td>\n",
       "      <td>20:00:00</td>\n",
       "      <td>REGULAR</td>\n",
       "      <td>7054133</td>\n",
       "      <td>2390702</td>\n",
       "      <td>2019-05-11 20:00:00</td>\n",
       "      <td>A002R05102-00-0059 ST</td>\n",
       "      <td>Saturday</td>\n",
       "      <td>16:00:00</td>\n",
       "      <td>2390655.0</td>\n",
       "      <td>7053841.0</td>\n",
       "    </tr>\n",
       "  </tbody>\n",
       "</table>\n",
       "</div>"
      ],
      "text/plain": [
       "    C/A  UNIT       SCP STATION LINENAME DIVISION       DATE      TIME  \\\n",
       "1  A002  R051  02-00-00   59 ST  NQR456W      BMT 2019-05-11  04:00:00   \n",
       "2  A002  R051  02-00-00   59 ST  NQR456W      BMT 2019-05-11  08:00:00   \n",
       "3  A002  R051  02-00-00   59 ST  NQR456W      BMT 2019-05-11  12:00:00   \n",
       "4  A002  R051  02-00-00   59 ST  NQR456W      BMT 2019-05-11  16:00:00   \n",
       "5  A002  R051  02-00-00   59 ST  NQR456W      BMT 2019-05-11  20:00:00   \n",
       "\n",
       "      DESC  ENTRIES    EXITS           Date_Time              Turnstile  \\\n",
       "1  REGULAR  7053511  2390508 2019-05-11 04:00:00  A002R05102-00-0059 ST   \n",
       "2  REGULAR  7053534  2390536 2019-05-11 08:00:00  A002R05102-00-0059 ST   \n",
       "3  REGULAR  7053618  2390596 2019-05-11 12:00:00  A002R05102-00-0059 ST   \n",
       "4  REGULAR  7053841  2390655 2019-05-11 16:00:00  A002R05102-00-0059 ST   \n",
       "5  REGULAR  7054133  2390702 2019-05-11 20:00:00  A002R05102-00-0059 ST   \n",
       "\n",
       "   Week_Day PREV_TIME  PREV_EXITS  PREV_ENTRIES  \n",
       "1  Saturday  00:00:00   2390505.0     7053483.0  \n",
       "2  Saturday  04:00:00   2390508.0     7053511.0  \n",
       "3  Saturday  08:00:00   2390536.0     7053534.0  \n",
       "4  Saturday  12:00:00   2390596.0     7053618.0  \n",
       "5  Saturday  16:00:00   2390655.0     7053841.0  "
      ]
     },
     "execution_count": 9,
     "metadata": {},
     "output_type": "execute_result"
    }
   ],
   "source": [
    "#drop first row of each turnstile b/c of shift down\n",
    "grouped_time.dropna(subset=[\"PREV_ENTRIES\"], axis=0, inplace=True)\n",
    "grouped_time.head()"
   ]
  },
  {
   "cell_type": "markdown",
   "metadata": {},
   "source": [
    "Remove counter errors from total entries/exits that occur from counters resetting"
   ]
  },
  {
   "cell_type": "code",
   "execution_count": 10,
   "metadata": {},
   "outputs": [],
   "source": [
    "def get_daily_counts_exits(row, max_counter):\n",
    "    counter_ex = row[\"EXITS\"] - row[\"PREV_EXITS\"]\n",
    "    if counter_ex < 0:\n",
    "        # Maybe counter is reversed?\n",
    "        counter_ex = -counter_ex\n",
    "    if counter_ex > max_counter:\n",
    "        # Maybe counter was reset to 0? \n",
    "        #print(row[\"EXITS\"], row[\"PREV_EXITS\"])\n",
    "        counter_ex = min(row[\"EXITS\"], row[\"PREV_EXITS\"])\n",
    "    if counter_ex > max_counter:\n",
    "        # Check it again to make sure we're not still giving a counter that's too big\n",
    "        return 0\n",
    "    return counter_ex\n",
    "\n",
    "def get_daily_counts_entries(row, max_counter):\n",
    "    counter_ent = row[\"ENTRIES\"] - row[\"PREV_ENTRIES\"]\n",
    "    if counter_ent < 0:\n",
    "        # Maybe counter is reversed?\n",
    "        counter_ent = -counter_ent\n",
    "    if counter_ent > max_counter:\n",
    "        # Maybe counter was reset to 0? \n",
    "        #print(row[\"ENTRIES\"], row[\"PREV_ENTRIES\"])\n",
    "        counter_ent = min(row[\"ENTRIES\"], row[\"PREV_ENTRIES\"])\n",
    "    if counter_ent > max_counter:\n",
    "        # Check it again to make sure we're not still giving a counter that's too big\n",
    "        return 0\n",
    "    return counter_ent\n",
    "\n",
    "\n",
    "# If counter is > 1Million, then the counter might have been reset.  \n",
    "# Just set it to zero as different counters have different cycle limits\n",
    "# It'd probably be a good idea to use a number even significantly smaller than 1 million as the limit!"
   ]
  },
  {
   "cell_type": "code",
   "execution_count": 11,
   "metadata": {},
   "outputs": [
    {
     "data": {
      "text/html": [
       "<div>\n",
       "<style scoped>\n",
       "    .dataframe tbody tr th:only-of-type {\n",
       "        vertical-align: middle;\n",
       "    }\n",
       "\n",
       "    .dataframe tbody tr th {\n",
       "        vertical-align: top;\n",
       "    }\n",
       "\n",
       "    .dataframe thead th {\n",
       "        text-align: right;\n",
       "    }\n",
       "</style>\n",
       "<table border=\"1\" class=\"dataframe\">\n",
       "  <thead>\n",
       "    <tr style=\"text-align: right;\">\n",
       "      <th></th>\n",
       "      <th>ENTRIES</th>\n",
       "      <th>EXITS</th>\n",
       "      <th>PREV_EXITS</th>\n",
       "      <th>PREV_ENTRIES</th>\n",
       "      <th>TOTAL_ENTRIES</th>\n",
       "      <th>TOTAL_EXITS</th>\n",
       "    </tr>\n",
       "  </thead>\n",
       "  <tbody>\n",
       "    <tr>\n",
       "      <th>count</th>\n",
       "      <td>2.236073e+06</td>\n",
       "      <td>2.236073e+06</td>\n",
       "      <td>2.236073e+06</td>\n",
       "      <td>2.236073e+06</td>\n",
       "      <td>2.236073e+06</td>\n",
       "      <td>2.236073e+06</td>\n",
       "    </tr>\n",
       "    <tr>\n",
       "      <th>mean</th>\n",
       "      <td>4.148039e+07</td>\n",
       "      <td>3.396750e+07</td>\n",
       "      <td>3.396821e+07</td>\n",
       "      <td>4.148122e+07</td>\n",
       "      <td>6.120600e+02</td>\n",
       "      <td>4.912548e+02</td>\n",
       "    </tr>\n",
       "    <tr>\n",
       "      <th>std</th>\n",
       "      <td>2.118498e+08</td>\n",
       "      <td>1.951475e+08</td>\n",
       "      <td>1.951484e+08</td>\n",
       "      <td>2.118507e+08</td>\n",
       "      <td>4.711624e+03</td>\n",
       "      <td>4.015928e+03</td>\n",
       "    </tr>\n",
       "    <tr>\n",
       "      <th>min</th>\n",
       "      <td>0.000000e+00</td>\n",
       "      <td>0.000000e+00</td>\n",
       "      <td>0.000000e+00</td>\n",
       "      <td>0.000000e+00</td>\n",
       "      <td>0.000000e+00</td>\n",
       "      <td>0.000000e+00</td>\n",
       "    </tr>\n",
       "    <tr>\n",
       "      <th>25%</th>\n",
       "      <td>3.499730e+05</td>\n",
       "      <td>1.430240e+05</td>\n",
       "      <td>1.430260e+05</td>\n",
       "      <td>3.499680e+05</td>\n",
       "      <td>1.000000e+01</td>\n",
       "      <td>9.000000e+00</td>\n",
       "    </tr>\n",
       "    <tr>\n",
       "      <th>50%</th>\n",
       "      <td>2.176565e+06</td>\n",
       "      <td>1.254667e+06</td>\n",
       "      <td>1.254664e+06</td>\n",
       "      <td>2.176577e+06</td>\n",
       "      <td>7.600000e+01</td>\n",
       "      <td>5.500000e+01</td>\n",
       "    </tr>\n",
       "    <tr>\n",
       "      <th>75%</th>\n",
       "      <td>6.780894e+06</td>\n",
       "      <td>4.604451e+06</td>\n",
       "      <td>4.604462e+06</td>\n",
       "      <td>6.780916e+06</td>\n",
       "      <td>2.520000e+02</td>\n",
       "      <td>1.760000e+02</td>\n",
       "    </tr>\n",
       "    <tr>\n",
       "      <th>max</th>\n",
       "      <td>2.129395e+09</td>\n",
       "      <td>2.124196e+09</td>\n",
       "      <td>2.124196e+09</td>\n",
       "      <td>2.129395e+09</td>\n",
       "      <td>9.997500e+04</td>\n",
       "      <td>9.999600e+04</td>\n",
       "    </tr>\n",
       "  </tbody>\n",
       "</table>\n",
       "</div>"
      ],
      "text/plain": [
       "            ENTRIES         EXITS    PREV_EXITS  PREV_ENTRIES  TOTAL_ENTRIES  \\\n",
       "count  2.236073e+06  2.236073e+06  2.236073e+06  2.236073e+06   2.236073e+06   \n",
       "mean   4.148039e+07  3.396750e+07  3.396821e+07  4.148122e+07   6.120600e+02   \n",
       "std    2.118498e+08  1.951475e+08  1.951484e+08  2.118507e+08   4.711624e+03   \n",
       "min    0.000000e+00  0.000000e+00  0.000000e+00  0.000000e+00   0.000000e+00   \n",
       "25%    3.499730e+05  1.430240e+05  1.430260e+05  3.499680e+05   1.000000e+01   \n",
       "50%    2.176565e+06  1.254667e+06  1.254664e+06  2.176577e+06   7.600000e+01   \n",
       "75%    6.780894e+06  4.604451e+06  4.604462e+06  6.780916e+06   2.520000e+02   \n",
       "max    2.129395e+09  2.124196e+09  2.124196e+09  2.129395e+09   9.997500e+04   \n",
       "\n",
       "        TOTAL_EXITS  \n",
       "count  2.236073e+06  \n",
       "mean   4.912548e+02  \n",
       "std    4.015928e+03  \n",
       "min    0.000000e+00  \n",
       "25%    9.000000e+00  \n",
       "50%    5.500000e+01  \n",
       "75%    1.760000e+02  \n",
       "max    9.999600e+04  "
      ]
     },
     "execution_count": 11,
     "metadata": {},
     "output_type": "execute_result"
    }
   ],
   "source": [
    "grouped_time[\"TOTAL_ENTRIES\"] = grouped_time.apply(get_daily_counts_entries, axis=1, max_counter=100000)\n",
    "grouped_time[\"TOTAL_EXITS\"] = grouped_time.apply(get_daily_counts_exits, axis=1, max_counter=100000)\n",
    "grouped_time.describe()"
   ]
  },
  {
   "cell_type": "code",
   "execution_count": 12,
   "metadata": {},
   "outputs": [
    {
     "data": {
      "text/html": [
       "<div>\n",
       "<style scoped>\n",
       "    .dataframe tbody tr th:only-of-type {\n",
       "        vertical-align: middle;\n",
       "    }\n",
       "\n",
       "    .dataframe tbody tr th {\n",
       "        vertical-align: top;\n",
       "    }\n",
       "\n",
       "    .dataframe thead th {\n",
       "        text-align: right;\n",
       "    }\n",
       "</style>\n",
       "<table border=\"1\" class=\"dataframe\">\n",
       "  <thead>\n",
       "    <tr style=\"text-align: right;\">\n",
       "      <th></th>\n",
       "      <th>C/A</th>\n",
       "      <th>UNIT</th>\n",
       "      <th>SCP</th>\n",
       "      <th>STATION</th>\n",
       "      <th>LINENAME</th>\n",
       "      <th>DIVISION</th>\n",
       "      <th>DATE</th>\n",
       "      <th>TIME</th>\n",
       "      <th>DESC</th>\n",
       "      <th>ENTRIES</th>\n",
       "      <th>EXITS</th>\n",
       "      <th>Date_Time</th>\n",
       "      <th>Turnstile</th>\n",
       "      <th>Week_Day</th>\n",
       "      <th>PREV_TIME</th>\n",
       "      <th>PREV_EXITS</th>\n",
       "      <th>PREV_ENTRIES</th>\n",
       "      <th>TOTAL_ENTRIES</th>\n",
       "      <th>TOTAL_EXITS</th>\n",
       "      <th>TOTAL_TRAFFIC</th>\n",
       "    </tr>\n",
       "  </thead>\n",
       "  <tbody>\n",
       "    <tr>\n",
       "      <th>1</th>\n",
       "      <td>A002</td>\n",
       "      <td>R051</td>\n",
       "      <td>02-00-00</td>\n",
       "      <td>59 ST</td>\n",
       "      <td>NQR456W</td>\n",
       "      <td>BMT</td>\n",
       "      <td>2019-05-11</td>\n",
       "      <td>04:00:00</td>\n",
       "      <td>REGULAR</td>\n",
       "      <td>7053511</td>\n",
       "      <td>2390508</td>\n",
       "      <td>2019-05-11 04:00:00</td>\n",
       "      <td>A002R05102-00-0059 ST</td>\n",
       "      <td>Saturday</td>\n",
       "      <td>00:00:00</td>\n",
       "      <td>2390505.0</td>\n",
       "      <td>7053483.0</td>\n",
       "      <td>28.0</td>\n",
       "      <td>3.0</td>\n",
       "      <td>31.0</td>\n",
       "    </tr>\n",
       "    <tr>\n",
       "      <th>2</th>\n",
       "      <td>A002</td>\n",
       "      <td>R051</td>\n",
       "      <td>02-00-00</td>\n",
       "      <td>59 ST</td>\n",
       "      <td>NQR456W</td>\n",
       "      <td>BMT</td>\n",
       "      <td>2019-05-11</td>\n",
       "      <td>08:00:00</td>\n",
       "      <td>REGULAR</td>\n",
       "      <td>7053534</td>\n",
       "      <td>2390536</td>\n",
       "      <td>2019-05-11 08:00:00</td>\n",
       "      <td>A002R05102-00-0059 ST</td>\n",
       "      <td>Saturday</td>\n",
       "      <td>04:00:00</td>\n",
       "      <td>2390508.0</td>\n",
       "      <td>7053511.0</td>\n",
       "      <td>23.0</td>\n",
       "      <td>28.0</td>\n",
       "      <td>51.0</td>\n",
       "    </tr>\n",
       "    <tr>\n",
       "      <th>3</th>\n",
       "      <td>A002</td>\n",
       "      <td>R051</td>\n",
       "      <td>02-00-00</td>\n",
       "      <td>59 ST</td>\n",
       "      <td>NQR456W</td>\n",
       "      <td>BMT</td>\n",
       "      <td>2019-05-11</td>\n",
       "      <td>12:00:00</td>\n",
       "      <td>REGULAR</td>\n",
       "      <td>7053618</td>\n",
       "      <td>2390596</td>\n",
       "      <td>2019-05-11 12:00:00</td>\n",
       "      <td>A002R05102-00-0059 ST</td>\n",
       "      <td>Saturday</td>\n",
       "      <td>08:00:00</td>\n",
       "      <td>2390536.0</td>\n",
       "      <td>7053534.0</td>\n",
       "      <td>84.0</td>\n",
       "      <td>60.0</td>\n",
       "      <td>144.0</td>\n",
       "    </tr>\n",
       "    <tr>\n",
       "      <th>4</th>\n",
       "      <td>A002</td>\n",
       "      <td>R051</td>\n",
       "      <td>02-00-00</td>\n",
       "      <td>59 ST</td>\n",
       "      <td>NQR456W</td>\n",
       "      <td>BMT</td>\n",
       "      <td>2019-05-11</td>\n",
       "      <td>16:00:00</td>\n",
       "      <td>REGULAR</td>\n",
       "      <td>7053841</td>\n",
       "      <td>2390655</td>\n",
       "      <td>2019-05-11 16:00:00</td>\n",
       "      <td>A002R05102-00-0059 ST</td>\n",
       "      <td>Saturday</td>\n",
       "      <td>12:00:00</td>\n",
       "      <td>2390596.0</td>\n",
       "      <td>7053618.0</td>\n",
       "      <td>223.0</td>\n",
       "      <td>59.0</td>\n",
       "      <td>282.0</td>\n",
       "    </tr>\n",
       "    <tr>\n",
       "      <th>5</th>\n",
       "      <td>A002</td>\n",
       "      <td>R051</td>\n",
       "      <td>02-00-00</td>\n",
       "      <td>59 ST</td>\n",
       "      <td>NQR456W</td>\n",
       "      <td>BMT</td>\n",
       "      <td>2019-05-11</td>\n",
       "      <td>20:00:00</td>\n",
       "      <td>REGULAR</td>\n",
       "      <td>7054133</td>\n",
       "      <td>2390702</td>\n",
       "      <td>2019-05-11 20:00:00</td>\n",
       "      <td>A002R05102-00-0059 ST</td>\n",
       "      <td>Saturday</td>\n",
       "      <td>16:00:00</td>\n",
       "      <td>2390655.0</td>\n",
       "      <td>7053841.0</td>\n",
       "      <td>292.0</td>\n",
       "      <td>47.0</td>\n",
       "      <td>339.0</td>\n",
       "    </tr>\n",
       "  </tbody>\n",
       "</table>\n",
       "</div>"
      ],
      "text/plain": [
       "    C/A  UNIT       SCP STATION LINENAME DIVISION       DATE      TIME  \\\n",
       "1  A002  R051  02-00-00   59 ST  NQR456W      BMT 2019-05-11  04:00:00   \n",
       "2  A002  R051  02-00-00   59 ST  NQR456W      BMT 2019-05-11  08:00:00   \n",
       "3  A002  R051  02-00-00   59 ST  NQR456W      BMT 2019-05-11  12:00:00   \n",
       "4  A002  R051  02-00-00   59 ST  NQR456W      BMT 2019-05-11  16:00:00   \n",
       "5  A002  R051  02-00-00   59 ST  NQR456W      BMT 2019-05-11  20:00:00   \n",
       "\n",
       "      DESC  ENTRIES    EXITS           Date_Time              Turnstile  \\\n",
       "1  REGULAR  7053511  2390508 2019-05-11 04:00:00  A002R05102-00-0059 ST   \n",
       "2  REGULAR  7053534  2390536 2019-05-11 08:00:00  A002R05102-00-0059 ST   \n",
       "3  REGULAR  7053618  2390596 2019-05-11 12:00:00  A002R05102-00-0059 ST   \n",
       "4  REGULAR  7053841  2390655 2019-05-11 16:00:00  A002R05102-00-0059 ST   \n",
       "5  REGULAR  7054133  2390702 2019-05-11 20:00:00  A002R05102-00-0059 ST   \n",
       "\n",
       "   Week_Day PREV_TIME  PREV_EXITS  PREV_ENTRIES  TOTAL_ENTRIES  TOTAL_EXITS  \\\n",
       "1  Saturday  00:00:00   2390505.0     7053483.0           28.0          3.0   \n",
       "2  Saturday  04:00:00   2390508.0     7053511.0           23.0         28.0   \n",
       "3  Saturday  08:00:00   2390536.0     7053534.0           84.0         60.0   \n",
       "4  Saturday  12:00:00   2390596.0     7053618.0          223.0         59.0   \n",
       "5  Saturday  16:00:00   2390655.0     7053841.0          292.0         47.0   \n",
       "\n",
       "   TOTAL_TRAFFIC  \n",
       "1           31.0  \n",
       "2           51.0  \n",
       "3          144.0  \n",
       "4          282.0  \n",
       "5          339.0  "
      ]
     },
     "execution_count": 12,
     "metadata": {},
     "output_type": "execute_result"
    }
   ],
   "source": [
    "#find total traffic\n",
    "grouped_time[\"TOTAL_TRAFFIC\"] = grouped_time[\"TOTAL_EXITS\"] + grouped_time[\"TOTAL_ENTRIES\"]\n",
    "grouped_time.head()"
   ]
  },
  {
   "cell_type": "markdown",
   "metadata": {},
   "source": [
    "remove total traffic outliers that are 3 sigmas from mean"
   ]
  },
  {
   "cell_type": "code",
   "execution_count": 13,
   "metadata": {},
   "outputs": [
    {
     "data": {
      "text/html": [
       "<div>\n",
       "<style scoped>\n",
       "    .dataframe tbody tr th:only-of-type {\n",
       "        vertical-align: middle;\n",
       "    }\n",
       "\n",
       "    .dataframe tbody tr th {\n",
       "        vertical-align: top;\n",
       "    }\n",
       "\n",
       "    .dataframe thead th {\n",
       "        text-align: right;\n",
       "    }\n",
       "</style>\n",
       "<table border=\"1\" class=\"dataframe\">\n",
       "  <thead>\n",
       "    <tr style=\"text-align: right;\">\n",
       "      <th></th>\n",
       "      <th>ENTRIES</th>\n",
       "      <th>EXITS</th>\n",
       "      <th>PREV_EXITS</th>\n",
       "      <th>PREV_ENTRIES</th>\n",
       "      <th>TOTAL_ENTRIES</th>\n",
       "      <th>TOTAL_EXITS</th>\n",
       "      <th>TOTAL_TRAFFIC</th>\n",
       "    </tr>\n",
       "  </thead>\n",
       "  <tbody>\n",
       "    <tr>\n",
       "      <th>count</th>\n",
       "      <td>2.212235e+06</td>\n",
       "      <td>2.212235e+06</td>\n",
       "      <td>2.212235e+06</td>\n",
       "      <td>2.212235e+06</td>\n",
       "      <td>2.212235e+06</td>\n",
       "      <td>2.212235e+06</td>\n",
       "      <td>2.212235e+06</td>\n",
       "    </tr>\n",
       "    <tr>\n",
       "      <th>mean</th>\n",
       "      <td>4.145657e+07</td>\n",
       "      <td>3.392900e+07</td>\n",
       "      <td>3.393014e+07</td>\n",
       "      <td>4.145877e+07</td>\n",
       "      <td>2.111534e+02</td>\n",
       "      <td>1.666225e+02</td>\n",
       "      <td>3.777759e+02</td>\n",
       "    </tr>\n",
       "    <tr>\n",
       "      <th>std</th>\n",
       "      <td>2.117360e+08</td>\n",
       "      <td>1.950153e+08</td>\n",
       "      <td>1.950168e+08</td>\n",
       "      <td>2.117418e+08</td>\n",
       "      <td>6.844930e+02</td>\n",
       "      <td>5.832379e+02</td>\n",
       "      <td>1.089409e+03</td>\n",
       "    </tr>\n",
       "    <tr>\n",
       "      <th>min</th>\n",
       "      <td>0.000000e+00</td>\n",
       "      <td>0.000000e+00</td>\n",
       "      <td>0.000000e+00</td>\n",
       "      <td>0.000000e+00</td>\n",
       "      <td>0.000000e+00</td>\n",
       "      <td>0.000000e+00</td>\n",
       "      <td>0.000000e+00</td>\n",
       "    </tr>\n",
       "    <tr>\n",
       "      <th>25%</th>\n",
       "      <td>3.461120e+05</td>\n",
       "      <td>1.405950e+05</td>\n",
       "      <td>1.405980e+05</td>\n",
       "      <td>3.462060e+05</td>\n",
       "      <td>1.000000e+01</td>\n",
       "      <td>8.000000e+00</td>\n",
       "      <td>2.900000e+01</td>\n",
       "    </tr>\n",
       "    <tr>\n",
       "      <th>50%</th>\n",
       "      <td>2.166457e+06</td>\n",
       "      <td>1.246360e+06</td>\n",
       "      <td>1.246475e+06</td>\n",
       "      <td>2.166594e+06</td>\n",
       "      <td>7.400000e+01</td>\n",
       "      <td>5.300000e+01</td>\n",
       "      <td>1.740000e+02</td>\n",
       "    </tr>\n",
       "    <tr>\n",
       "      <th>75%</th>\n",
       "      <td>6.771164e+06</td>\n",
       "      <td>4.591253e+06</td>\n",
       "      <td>4.591504e+06</td>\n",
       "      <td>6.771260e+06</td>\n",
       "      <td>2.440000e+02</td>\n",
       "      <td>1.700000e+02</td>\n",
       "      <td>4.640000e+02</td>\n",
       "    </tr>\n",
       "    <tr>\n",
       "      <th>max</th>\n",
       "      <td>2.129395e+09</td>\n",
       "      <td>2.124196e+09</td>\n",
       "      <td>2.124196e+09</td>\n",
       "      <td>2.129395e+09</td>\n",
       "      <td>2.481100e+04</td>\n",
       "      <td>2.474800e+04</td>\n",
       "      <td>2.482000e+04</td>\n",
       "    </tr>\n",
       "  </tbody>\n",
       "</table>\n",
       "</div>"
      ],
      "text/plain": [
       "            ENTRIES         EXITS    PREV_EXITS  PREV_ENTRIES  TOTAL_ENTRIES  \\\n",
       "count  2.212235e+06  2.212235e+06  2.212235e+06  2.212235e+06   2.212235e+06   \n",
       "mean   4.145657e+07  3.392900e+07  3.393014e+07  4.145877e+07   2.111534e+02   \n",
       "std    2.117360e+08  1.950153e+08  1.950168e+08  2.117418e+08   6.844930e+02   \n",
       "min    0.000000e+00  0.000000e+00  0.000000e+00  0.000000e+00   0.000000e+00   \n",
       "25%    3.461120e+05  1.405950e+05  1.405980e+05  3.462060e+05   1.000000e+01   \n",
       "50%    2.166457e+06  1.246360e+06  1.246475e+06  2.166594e+06   7.400000e+01   \n",
       "75%    6.771164e+06  4.591253e+06  4.591504e+06  6.771260e+06   2.440000e+02   \n",
       "max    2.129395e+09  2.124196e+09  2.124196e+09  2.129395e+09   2.481100e+04   \n",
       "\n",
       "        TOTAL_EXITS  TOTAL_TRAFFIC  \n",
       "count  2.212235e+06   2.212235e+06  \n",
       "mean   1.666225e+02   3.777759e+02  \n",
       "std    5.832379e+02   1.089409e+03  \n",
       "min    0.000000e+00   0.000000e+00  \n",
       "25%    8.000000e+00   2.900000e+01  \n",
       "50%    5.300000e+01   1.740000e+02  \n",
       "75%    1.700000e+02   4.640000e+02  \n",
       "max    2.474800e+04   2.482000e+04  "
      ]
     },
     "execution_count": 13,
     "metadata": {},
     "output_type": "execute_result"
    }
   ],
   "source": [
    "grouped_time = grouped_time[(np.abs(stats.zscore(grouped_time['TOTAL_TRAFFIC'])) < 3)] #filtering\n",
    "grouped_time.describe()"
   ]
  },
  {
   "cell_type": "markdown",
   "metadata": {},
   "source": [
    "drop uneeded columns"
   ]
  },
  {
   "cell_type": "code",
   "execution_count": 14,
   "metadata": {},
   "outputs": [],
   "source": [
    "grouped_time.drop(['C/A','UNIT','SCP','LINENAME','DESC', 'ENTRIES', 'EXITS', 'PREV_TIME', 'PREV_ENTRIES', 'PREV_EXITS', 'TOTAL_ENTRIES', 'TOTAL_EXITS'], axis=1, inplace=True)"
   ]
  },
  {
   "cell_type": "code",
   "execution_count": 15,
   "metadata": {},
   "outputs": [],
   "source": [
    "#grouped_day = data.groupby(['DATE','Turnstile','STATION'], as_index=False).agg({'ENTRIES': ['min', 'max'], 'EXITS': ['min', 'max']})\n",
    "#grouped = data.groupby(['STATION','DATE']).agg({'ENTRIES': ['min', 'max'], 'EXITS': ['min', 'max']})\n",
    "#grouped = grouped.set_index('STATION')\n",
    "#grouped.head()"
   ]
  },
  {
   "cell_type": "code",
   "execution_count": 16,
   "metadata": {},
   "outputs": [],
   "source": [
    "#grouped_day.head()"
   ]
  },
  {
   "cell_type": "code",
   "execution_count": 17,
   "metadata": {},
   "outputs": [],
   "source": [
    "#grouped.columns = [ 'Station', 'Date', 'ENTRIES_MIN', 'ENTRIES_MAX', 'EXITS_MIN', 'EXITS_MAX']\n",
    "#grouped_day.columns = [ 'Date', 'Turnstile', 'Station','ENTRIES_MIN', 'ENTRIES_MAX', 'EXITS_MIN', 'EXITS_MAX']\n",
    "#grouped.columns = ['ENTRIES_MIN', 'ENTRIES_MAX', 'EXITS_MIN', 'EXITS_MAX']\n",
    "#grouped.dtypes"
   ]
  },
  {
   "cell_type": "code",
   "execution_count": null,
   "metadata": {},
   "outputs": [],
   "source": []
  },
  {
   "cell_type": "code",
   "execution_count": null,
   "metadata": {},
   "outputs": [],
   "source": []
  },
  {
   "cell_type": "code",
   "execution_count": null,
   "metadata": {},
   "outputs": [],
   "source": []
  },
  {
   "cell_type": "markdown",
   "metadata": {},
   "source": [
    "Find total entries exits, and traffic"
   ]
  },
  {
   "cell_type": "code",
   "execution_count": 18,
   "metadata": {},
   "outputs": [],
   "source": [
    "#grouped_day['Total_Entries'] = grouped_day['ENTRIES_MAX'] - grouped_day['ENTRIES_MIN']\n",
    "#grouped_day['Total_Exits'] = grouped_day['EXITS_MAX'] - grouped_day['EXITS_MIN']\n",
    "#grouped_day['Total_Traffic'] = grouped_day['Total_Exits'] + grouped_day['Total_Entries']\n",
    "#grouped_day.head()"
   ]
  },
  {
   "cell_type": "code",
   "execution_count": 19,
   "metadata": {},
   "outputs": [],
   "source": [
    "#grouped_day.drop(['ENTRIES_MIN','ENTRIES_MAX','EXITS_MIN','EXITS_MAX', 'Total_Entries', 'Total_Exits', ], axis=1)\n",
    "\n"
   ]
  },
  {
   "cell_type": "markdown",
   "metadata": {},
   "source": [
    "Removing Outlier data from Total_traffic column (Removing anything outside 3 sigma)"
   ]
  },
  {
   "cell_type": "code",
   "execution_count": 20,
   "metadata": {},
   "outputs": [],
   "source": [
    "#grouped_day = grouped_day[(np.abs(stats.zscore(grouped_day['Total_Traffic'])) < 3)] #filtering"
   ]
  },
  {
   "cell_type": "code",
   "execution_count": null,
   "metadata": {},
   "outputs": [],
   "source": []
  },
  {
   "cell_type": "code",
   "execution_count": null,
   "metadata": {},
   "outputs": [],
   "source": []
  },
  {
   "cell_type": "code",
   "execution_count": null,
   "metadata": {},
   "outputs": [],
   "source": []
  },
  {
   "cell_type": "code",
   "execution_count": null,
   "metadata": {},
   "outputs": [],
   "source": []
  },
  {
   "cell_type": "code",
   "execution_count": null,
   "metadata": {},
   "outputs": [],
   "source": []
  },
  {
   "cell_type": "code",
   "execution_count": null,
   "metadata": {},
   "outputs": [],
   "source": []
  },
  {
   "cell_type": "code",
   "execution_count": null,
   "metadata": {},
   "outputs": [],
   "source": []
  },
  {
   "cell_type": "code",
   "execution_count": null,
   "metadata": {},
   "outputs": [],
   "source": []
  },
  {
   "cell_type": "markdown",
   "metadata": {},
   "source": [
    "#### Combine data"
   ]
  },
  {
   "cell_type": "markdown",
   "metadata": {},
   "source": [
    "### Finding top 10 visited stations"
   ]
  },
  {
   "cell_type": "code",
   "execution_count": 21,
   "metadata": {},
   "outputs": [
    {
     "ename": "NameError",
     "evalue": "name 'grouped_day' is not defined",
     "output_type": "error",
     "traceback": [
      "\u001b[0;31m---------------------------------------------------------------------------\u001b[0m",
      "\u001b[0;31mNameError\u001b[0m                                 Traceback (most recent call last)",
      "\u001b[0;32m<ipython-input-21-8bc3c35ef6ba>\u001b[0m in \u001b[0;36m<module>\u001b[0;34m\u001b[0m\n\u001b[0;32m----> 1\u001b[0;31m \u001b[0mTotal_ridership\u001b[0m \u001b[0;34m=\u001b[0m \u001b[0mgrouped_day\u001b[0m\u001b[0;34m.\u001b[0m\u001b[0mgroupby\u001b[0m\u001b[0;34m(\u001b[0m\u001b[0;34m[\u001b[0m\u001b[0;34m'Station'\u001b[0m\u001b[0;34m]\u001b[0m\u001b[0;34m)\u001b[0m\u001b[0;34m.\u001b[0m\u001b[0mTotal_Traffic\u001b[0m\u001b[0;34m.\u001b[0m\u001b[0msum\u001b[0m\u001b[0;34m(\u001b[0m\u001b[0;34m)\u001b[0m\u001b[0;34m.\u001b[0m\u001b[0mreset_index\u001b[0m\u001b[0;34m(\u001b[0m\u001b[0;34m)\u001b[0m\u001b[0;34m\u001b[0m\u001b[0;34m\u001b[0m\u001b[0m\n\u001b[0m",
      "\u001b[0;31mNameError\u001b[0m: name 'grouped_day' is not defined"
     ]
    }
   ],
   "source": [
    "Total_ridership = grouped_day.groupby(['Station']).Total_Traffic.sum().reset_index()"
   ]
  },
  {
   "cell_type": "code",
   "execution_count": null,
   "metadata": {},
   "outputs": [],
   "source": [
    "Total_ridership.sort_values(by=['Total_Traffic'],inplace = True, ascending = False)\n"
   ]
  },
  {
   "cell_type": "code",
   "execution_count": null,
   "metadata": {},
   "outputs": [],
   "source": [
    "Row_list =[] \n",
    "indices = []\n",
    "  \n",
    "# Iterate over each row \n",
    "for index, rows in Total_ridership[:10].iterrows(): \n",
    "    # Create list for the current row \n",
    "#    my_list =[rows.STATION, rows.Total_Traffic] \n",
    "    my_list =rows.Total_Traffic \n",
    "    station_list = rows.Station\n",
    "    # append the list to the final list \n",
    "    Row_list.append(my_list) \n",
    "    indices.append(station_list)\n",
    "Total_ridership.head(10)\n"
   ]
  },
  {
   "cell_type": "code",
   "execution_count": null,
   "metadata": {},
   "outputs": [],
   "source": [
    "plt.ylim(10000000,21000000)\n",
    "plt.xlabel(\"Station\")\n",
    "plt.ylabel(\"Total Traffic\")\n",
    "plt.title(\"Total traffic for the period for top 10 busiest stations\")\n",
    "plt.bar(indices, Row_list)"
   ]
  },
  {
   "cell_type": "markdown",
   "metadata": {},
   "source": [
    "Top 10 Busy Stations, We will focus on top5 of these."
   ]
  },
  {
   "cell_type": "code",
   "execution_count": null,
   "metadata": {},
   "outputs": [],
   "source": [
    "indices"
   ]
  },
  {
   "cell_type": "markdown",
   "metadata": {},
   "source": [
    "### Find high traffic days"
   ]
  },
  {
   "cell_type": "code",
   "execution_count": null,
   "metadata": {},
   "outputs": [],
   "source": [
    "Total_Weekly_ridership = grouped_day.groupby(['Week_Day']).Total_Traffic.sum().reset_index()\n",
    "#Total_Weekly_ridership = grouped_day.groupby(['Week_Day']).Total_Traffic.mean().reset_index()\n",
    "Total_Weekly_ridership.sort_values(by=['Total_Traffic'],inplace = True, ascending = False)\n",
    "Total_Weekly_ridership.head()"
   ]
  },
  {
   "cell_type": "code",
   "execution_count": null,
   "metadata": {},
   "outputs": [],
   "source": [
    "#plt.ylim(1610000000000,1620000000000)\n",
    "plt.ylim(40000000,140000000)\n",
    "plt.bar(Total_Weekly_ridership['Week_Day'], Total_Weekly_ridership['Total_Traffic'])"
   ]
  },
  {
   "cell_type": "markdown",
   "metadata": {},
   "source": [
    "Based on this it seems like weekends see much less traffic compared to weekdays. So WWTF should focus more on weekdays "
   ]
  },
  {
   "cell_type": "code",
   "execution_count": null,
   "metadata": {},
   "outputs": [],
   "source": [
    "Top5 = Total_ridership['Station'][0:5].tolist()\n",
    "Top5_stations = grouped_day[grouped_day['Station'].isin(Top5)]\n",
    "Top5_station_weekly = Top5_stations.groupby(['Station','Week_Day']).Total_Traffic.sum().reset_index()\n",
    "Top5_station_Daily = Top5_stations.groupby(['Station','Date']).Total_Traffic.sum().reset_index()\n",
    "#Top5_station_weekly = Top5_stations.groupby(['Station','Week_Day']).Total_Traffic.mean().reset_index()"
   ]
  },
  {
   "cell_type": "markdown",
   "metadata": {},
   "source": [
    "    "
   ]
  },
  {
   "cell_type": "markdown",
   "metadata": {},
   "source": [
    "#### Weekly Plot for Top5 stations"
   ]
  },
  {
   "cell_type": "code",
   "execution_count": null,
   "metadata": {},
   "outputs": [],
   "source": [
    "\n",
    "for stations in Top5:\n",
    "    station = Top5_station_weekly[Top5_station_weekly['Station'] == stations]\n",
    "#    print(station)\n",
    "    plt.plot(station['Week_Day'],station['Total_Traffic'],label = stations)\n",
    "#plt.ylim(32500000000,40700000000)\n",
    "#plt.ylim(400000000,405000000)\n",
    "plt.legend()\n",
    "plt.show()\n",
    "\n"
   ]
  },
  {
   "cell_type": "markdown",
   "metadata": {},
   "source": [
    "Looking at the plot seems like top5 stations are also showing a dip on weekends, but PATH NEW WTC station is oblitrating seeing the trend properly. This needs to be investigated further. Also, to see the trend for rest of the station we will do another plot removing the data for PATH NEW WTC"
   ]
  },
  {
   "cell_type": "code",
   "execution_count": null,
   "metadata": {},
   "outputs": [],
   "source": [
    "for stations in Top5:\n",
    "    if stations != \"PATH NEW WTC\" :\n",
    "        station = Top5_station_weekly[Top5_station_weekly['Station'] == stations]\n",
    "#    print(station)\n",
    "        plt.plot(station['Week_Day'],station['Total_Traffic'],label = stations)\n",
    "#plt.ylim(32500000000,40700000000)\n",
    "#plt.ylim(400000000,405000000)\n",
    "plt.legend()\n",
    "plt.show()"
   ]
  },
  {
   "cell_type": "markdown",
   "metadata": {},
   "source": [
    "This is also showing the dip in weekend more clearly. But GRD CNTRL-42 ST shows peak on thursday - which needs to be investigated."
   ]
  },
  {
   "cell_type": "code",
   "execution_count": null,
   "metadata": {},
   "outputs": [],
   "source": [
    "for stations in Top5:\n",
    "    station = Top5_station_Daily[Top5_station_Daily['Station'] == stations]\n",
    "#    print(station)\n",
    "    plt.plot(station['Date'],station['Total_Traffic'],label = stations)\n",
    "#plt.ylim(32500000000,40700000000)\n",
    "#plt.ylim(400000000,405000000)\n",
    "plt.legend()\n",
    "plt.show()"
   ]
  },
  {
   "cell_type": "markdown",
   "metadata": {},
   "source": [
    "This plot is also showing some abnormal values for some of the days for PATH NEW WTC. Two of these dates are looking on thursdays. We will look at rest of the stations removing PATH NEW WTC"
   ]
  },
  {
   "cell_type": "code",
   "execution_count": null,
   "metadata": {},
   "outputs": [],
   "source": [
    "for stations in Top5:\n",
    "    if stations != \"PATH NEW WTC\" :\n",
    "        station = Top5_station_Daily[Top5_station_Daily['Station'] == stations]\n",
    "#    print(station)\n",
    "        plt.plot(station['Date'],station['Total_Traffic'],label = stations)\n",
    "#plt.ylim(32500000000,40700000000)\n",
    "#plt.ylim(400000000,405000000)\n",
    "plt.legend()\n",
    "plt.show()"
   ]
  },
  {
   "cell_type": "markdown",
   "metadata": {},
   "source": [
    "This plot also seems to have some outliers. But In general trend is clear Traffic takes a dip on weekends and remains kind of static on weekdays"
   ]
  },
  {
   "cell_type": "markdown",
   "metadata": {},
   "source": [
    "### Find peak hours"
   ]
  },
  {
   "cell_type": "code",
   "execution_count": null,
   "metadata": {},
   "outputs": [],
   "source": []
  },
  {
   "cell_type": "code",
   "execution_count": null,
   "metadata": {},
   "outputs": [],
   "source": []
  },
  {
   "cell_type": "code",
   "execution_count": null,
   "metadata": {},
   "outputs": [],
   "source": []
  },
  {
   "cell_type": "markdown",
   "metadata": {},
   "source": [
    "### Find high traffic areas for games"
   ]
  },
  {
   "cell_type": "markdown",
   "metadata": {},
   "source": [
    "### Compare Boroughs"
   ]
  },
  {
   "cell_type": "markdown",
   "metadata": {},
   "source": [
    "read location data to get borough info and latitude/longitude information"
   ]
  },
  {
   "cell_type": "code",
   "execution_count": 82,
   "metadata": {},
   "outputs": [
    {
     "name": "stdout",
     "output_type": "stream",
     "text": [
      "Empty DataFrame\n",
      "Columns: [Station ID, Complex ID, GTFS Stop ID, Division, Line, Stop Name, Borough, Daytime Routes, Structure, GTFS Latitude, GTFS Longitude, North Direction Label, South Direction Label, ADA, ADA Notes]\n",
      "Index: []\n"
     ]
    }
   ],
   "source": [
    "loc_df = pd.read_csv('http://web.mta.info/developers/data/nyct/subway/Stations.csv')\n",
    "#print(loc_data.Borough.unique())\n",
    "loc_df.tail()\n",
    "print(loc_df[loc_df['GTFS Latitude']== 40.750580])\n"
   ]
  },
  {
   "cell_type": "code",
   "execution_count": 83,
   "metadata": {},
   "outputs": [],
   "source": [
    "#add borough_name column\n",
    "burough_dict = { 'Q': 'Queens', 'M': 'Manhattan', 'Bk':'Brooklyn', 'Bx': 'Bronx', 'SI': 'Staten Island'}\n",
    "loc_df['Borough_Name'] = loc_df['Borough'].map(burough_dict)"
   ]
  },
  {
   "cell_type": "code",
   "execution_count": 84,
   "metadata": {},
   "outputs": [],
   "source": [
    "#drop uneeded columns\n",
    "loc_df.drop(['Borough','Line','Station ID','Complex ID', 'GTFS Stop ID', 'Line', 'Structure', \n",
    "               'Daytime Routes', 'North Direction Label', 'South Direction Label', 'ADA', 'ADA Notes'], axis=1, inplace =True)"
   ]
  },
  {
   "cell_type": "markdown",
   "metadata": {},
   "source": [
    "Rename columns in loc_data to merge on STATION and DIVISION"
   ]
  },
  {
   "cell_type": "code",
   "execution_count": 105,
   "metadata": {},
   "outputs": [
    {
     "name": "stdout",
     "output_type": "stream",
     "text": [
      "       STATION DIVISION_x       DATE      TIME           Date_Time  \\\n",
      "213514   28 ST        BMT 2019-05-11  04:00:00 2019-05-11 04:00:00   \n",
      "213515   28 ST        BMT 2019-05-11  04:00:00 2019-05-11 04:00:00   \n",
      "213516   28 ST        BMT 2019-05-11  04:00:00 2019-05-11 04:00:00   \n",
      "213517   28 ST        BMT 2019-05-11  08:00:00 2019-05-11 08:00:00   \n",
      "213518   28 ST        BMT 2019-05-11  08:00:00 2019-05-11 08:00:00   \n",
      "...        ...        ...        ...       ...                 ...   \n",
      "266915   28 ST        IRT 2019-05-03  17:00:00 2019-05-03 17:00:00   \n",
      "266916   28 ST        IRT 2019-05-03  17:00:00 2019-05-03 17:00:00   \n",
      "266917   28 ST        IRT 2019-05-03  21:00:00 2019-05-03 21:00:00   \n",
      "266918   28 ST        IRT 2019-05-03  21:00:00 2019-05-03 21:00:00   \n",
      "266919   28 ST        IRT 2019-05-03  21:00:00 2019-05-03 21:00:00   \n",
      "\n",
      "                    Turnstile  Week_Day  TOTAL_TRAFFIC DIVISION_y   Latitude  \\\n",
      "213514  A027R08201-00-0028 ST  Saturday           87.0        BMT  40.745494   \n",
      "213515  A027R08201-00-0028 ST  Saturday           87.0        IRT  40.747215   \n",
      "213516  A027R08201-00-0028 ST  Saturday           87.0        IRT  40.743070   \n",
      "213517  A027R08201-00-0028 ST  Saturday           96.0        BMT  40.745494   \n",
      "213518  A027R08201-00-0028 ST  Saturday           96.0        IRT  40.747215   \n",
      "...                       ...       ...            ...        ...        ...   \n",
      "266915  R230R14302-00-0328 ST    Friday          397.0        IRT  40.747215   \n",
      "266916  R230R14302-00-0328 ST    Friday          397.0        IRT  40.743070   \n",
      "266917  R230R14302-00-0328 ST    Friday          412.0        BMT  40.745494   \n",
      "266918  R230R14302-00-0328 ST    Friday          412.0        IRT  40.747215   \n",
      "266919  R230R14302-00-0328 ST    Friday          412.0        IRT  40.743070   \n",
      "\n",
      "        Longitude Borough_Name  \n",
      "213514 -73.988691    Manhattan  \n",
      "213515 -73.993365    Manhattan  \n",
      "213516 -73.984264    Manhattan  \n",
      "213517 -73.988691    Manhattan  \n",
      "213518 -73.993365    Manhattan  \n",
      "...           ...          ...  \n",
      "266915 -73.993365    Manhattan  \n",
      "266916 -73.984264    Manhattan  \n",
      "266917 -73.988691    Manhattan  \n",
      "266918 -73.993365    Manhattan  \n",
      "266919 -73.984264    Manhattan  \n",
      "\n",
      "[53406 rows x 12 columns]\n",
      "                STATION DIVISION_x       DATE      TIME           Date_Time  \\\n",
      "2109530  34 ST-PENN STA        IND 2019-05-11  04:00:00 2019-05-11 04:00:00   \n",
      "2109531  34 ST-PENN STA        IND 2019-05-11  04:00:00 2019-05-11 04:00:00   \n",
      "2109532  34 ST-PENN STA        IND 2019-05-11  08:00:00 2019-05-11 08:00:00   \n",
      "2109533  34 ST-PENN STA        IND 2019-05-11  08:00:00 2019-05-11 08:00:00   \n",
      "2109534  34 ST-PENN STA        IND 2019-05-11  12:00:00 2019-05-11 12:00:00   \n",
      "...                 ...        ...        ...       ...                 ...   \n",
      "2201095  34 ST-PENN STA        IRT 2019-05-03  14:00:00 2019-05-03 14:00:00   \n",
      "2201096  34 ST-PENN STA        IRT 2019-05-03  18:00:00 2019-05-03 18:00:00   \n",
      "2201097  34 ST-PENN STA        IRT 2019-05-03  18:00:00 2019-05-03 18:00:00   \n",
      "2201098  34 ST-PENN STA        IRT 2019-05-03  22:00:00 2019-05-03 22:00:00   \n",
      "2201099  34 ST-PENN STA        IRT 2019-05-03  22:00:00 2019-05-03 22:00:00   \n",
      "\n",
      "                              Turnstile  Week_Day  TOTAL_TRAFFIC DIVISION_y  \\\n",
      "2109530  N067R01200-00-0034 ST-PENN STA  Saturday           19.0        IND   \n",
      "2109531  N067R01200-00-0034 ST-PENN STA  Saturday           19.0        IRT   \n",
      "2109532  N067R01200-00-0034 ST-PENN STA  Saturday          105.0        IND   \n",
      "2109533  N067R01200-00-0034 ST-PENN STA  Saturday          105.0        IRT   \n",
      "2109534  N067R01200-00-0034 ST-PENN STA  Saturday          229.0        IND   \n",
      "...                                 ...       ...            ...        ...   \n",
      "2201095  R142R29301-06-0134 ST-PENN STA    Friday          559.0        IRT   \n",
      "2201096  R142R29301-06-0134 ST-PENN STA    Friday          609.0        IND   \n",
      "2201097  R142R29301-06-0134 ST-PENN STA    Friday          609.0        IRT   \n",
      "2201098  R142R29301-06-0134 ST-PENN STA    Friday          380.0        IND   \n",
      "2201099  R142R29301-06-0134 ST-PENN STA    Friday          380.0        IRT   \n",
      "\n",
      "          Latitude  Longitude Borough_Name  \n",
      "2109530  40.752287 -73.993391    Manhattan  \n",
      "2109531  40.750373 -73.991057    Manhattan  \n",
      "2109532  40.752287 -73.993391    Manhattan  \n",
      "2109533  40.750373 -73.991057    Manhattan  \n",
      "2109534  40.752287 -73.993391    Manhattan  \n",
      "...            ...        ...          ...  \n",
      "2201095  40.750373 -73.991057    Manhattan  \n",
      "2201096  40.752287 -73.993391    Manhattan  \n",
      "2201097  40.750373 -73.991057    Manhattan  \n",
      "2201098  40.752287 -73.993391    Manhattan  \n",
      "2201099  40.750373 -73.991057    Manhattan  \n",
      "\n",
      "[91570 rows x 12 columns]\n"
     ]
    }
   ],
   "source": [
    "#stations were found to have the same but located in diff areas so DIVISION was also used\n",
    "loc_df.rename(columns = {'Stop Name':'STATION', 'Division':'DIVISION','GTFS Latitude':'Latitude','GTFS Longitude':'Longitude'}, inplace = True) \n",
    "loc_df['STATION'] = loc_df['STATION'].str.upper()\n",
    "loc_df['STATION'] = loc_df['STATION'].str.replace('STATION', 'STA')\n",
    "loc_df['STATION'] = loc_df['STATION'].str.replace('GRAND CENTRAL', 'GRD CNTRL')\n",
    "loc_df['STATION'] = loc_df['STATION'].str.replace('42 ST-PORT AUTHORITY BUS TERMINAL', '42 ST-PORT AUTH')\n",
    "#join with grouped_time\n",
    "station_loc_df = grouped_time.merge(loc_df, how = 'inner', on = ['STATION'])\n",
    "station_loc_df.tail()\n",
    "print(station_loc_df[station_loc_df['STATION']=='28 ST'])\n",
    "print(station_loc_df[station_loc_df['STATION']=='34 ST-PENN STA'])"
   ]
  },
  {
   "cell_type": "markdown",
   "metadata": {},
   "source": [
    "#### Graph number of stations in each borough"
   ]
  },
  {
   "cell_type": "code",
   "execution_count": 106,
   "metadata": {},
   "outputs": [
    {
     "data": {
      "text/plain": [
       "<BarContainer object of 5 artists>"
      ]
     },
     "execution_count": 106,
     "metadata": {},
     "output_type": "execute_result"
    },
    {
     "data": {
      "image/png": "[encoded data removed]",
      "text/plain": [
       "<Figure size 576x288 with 1 Axes>"
      ]
     },
     "metadata": {
      "needs_background": "light"
     },
     "output_type": "display_data"
    }
   ],
   "source": [
    "borough_station_count_df = station_loc_df.groupby('Borough_Name')['STATION'].nunique().reset_index()\n",
    "#borough_station_count_df\n",
    "plt.rcParams[\"figure.figsize\"] = (8, 4)\n",
    "plt.xlabel(\"Borough\")\n",
    "plt.ylabel(\"Number of Stations\")\n",
    "plt.title(\"Number of Stations in Each Borough\")\n",
    "plt.bar(borough_station_count_df['Borough_Name'], borough_station_count_df['STATION'])"
   ]
  },
  {
   "cell_type": "markdown",
   "metadata": {},
   "source": [
    "#### Graph total traffic in each Borough "
   ]
  },
  {
   "cell_type": "code",
   "execution_count": 107,
   "metadata": {},
   "outputs": [
    {
     "data": {
      "text/plain": [
       "<BarContainer object of 5 artists>"
      ]
     },
     "execution_count": 107,
     "metadata": {},
     "output_type": "execute_result"
    },
    {
     "data": {
      "image/png": "[encoded data removed]",
      "text/plain": [
       "<Figure size 576x288 with 1 Axes>"
      ]
     },
     "metadata": {
      "needs_background": "light"
     },
     "output_type": "display_data"
    }
   ],
   "source": [
    "borough_traffic_df = station_loc_df.groupby('Borough_Name').TOTAL_TRAFFIC.sum().reset_index()\n",
    "plt.xlabel(\"Borough\")\n",
    "plt.ylabel(\"Total Traffic\")\n",
    "plt.title(\"Total Traffic in Each Borough\")\n",
    "plt.bar(borough_traffic_df['Borough_Name'], borough_traffic_df['TOTAL_TRAFFIC'])\n",
    "#borough_traffic_df"
   ]
  },
  {
   "cell_type": "markdown",
   "metadata": {},
   "source": [
    "### Find top stations in each borough"
   ]
  },
  {
   "cell_type": "markdown",
   "metadata": {},
   "source": [
    "#### Find top 5 stations in each borough and graph"
   ]
  },
  {
   "cell_type": "code",
   "execution_count": 108,
   "metadata": {},
   "outputs": [
    {
     "data": {
      "text/plain": [
       "Borough_Name   STATION        \n",
       "Bronx          FORDHAM RD          5020206.0\n",
       "               167 ST              4645166.0\n",
       "               KINGSBRIDGE RD      4505952.0\n",
       "               170 ST              4130198.0\n",
       "               GUN HILL RD         3450604.0\n",
       "Brooklyn       86 ST              25797912.0\n",
       "               CHURCH AV          15777033.0\n",
       "               FULTON ST          14657662.0\n",
       "               KINGS HWY          12601506.0\n",
       "               7 AV               10612046.0\n",
       "Manhattan      23 ST              70800200.0\n",
       "               CANAL ST           65664786.0\n",
       "               GRD CNTRL-42 ST    60331374.0\n",
       "               FULTON ST          58630648.0\n",
       "               TIMES SQ-42 ST     55958712.0\n",
       "Queens         111 ST              6122097.0\n",
       "               WOODHAVEN BLVD      6089928.0\n",
       "               COURT SQ            5935204.0\n",
       "               36 ST               2846419.0\n",
       "               JUNCTION BLVD       2838276.0\n",
       "Staten Island  TOMPKINSVILLE        247600.0\n",
       "Name: TOTAL_TRAFFIC, dtype: float64"
      ]
     },
     "execution_count": 108,
     "metadata": {},
     "output_type": "execute_result"
    }
   ],
   "source": [
    "borough_top5_df = station_loc_df.groupby(['Borough_Name','STATION']).agg({'TOTAL_TRAFFIC':'sum'})\n",
    "borough_top5_df = borough_top5_df['TOTAL_TRAFFIC'].groupby('Borough_Name', group_keys=False)\n",
    "borough_top5_df = borough_top5_df.apply(lambda x: x.sort_values(ascending=False).head(5))\n",
    "borough_top5_df"
   ]
  },
  {
   "cell_type": "code",
   "execution_count": 109,
   "metadata": {},
   "outputs": [
    {
     "data": {
      "image/png": "[encoded data removed]",
      "text/plain": [
       "<Figure size 1440x720 with 1 Axes>"
      ]
     },
     "metadata": {
      "needs_background": "light"
     },
     "output_type": "display_data"
    }
   ],
   "source": [
    "rcParams['figure.figsize'] = 20,10\n",
    "borough_top5_df.unstack().plot.bar(width=1.5)\n",
    "#plt.bar([0,2,3,4],borough_top5_df.unstack(),width=1.5)\n",
    "#plt.bar(borough_top5_df.unstack(),width=1.5)\n",
    "plt.title(\"Top 5 Busiest Stations in Each Borough\", fontsize=20)\n",
    "plt.ylabel(\"Total Traffic\",fontsize=13)\n",
    "plt.xlabel(\"Borough\",fontsize=13)\n",
    "plt.rcParams.update({'font.size': 9})\n",
    "#plt.tight_layout()\n",
    " \n",
    "#borough_top5_df.unstack().plot.bar()"
   ]
  },
  {
   "cell_type": "markdown",
   "metadata": {},
   "source": [
    "### Find stations in the highest income areas"
   ]
  },
  {
   "cell_type": "code",
   "execution_count": 110,
   "metadata": {},
   "outputs": [
    {
     "data": {
      "text/html": [
       "<div>\n",
       "<style scoped>\n",
       "    .dataframe tbody tr th:only-of-type {\n",
       "        vertical-align: middle;\n",
       "    }\n",
       "\n",
       "    .dataframe tbody tr th {\n",
       "        vertical-align: top;\n",
       "    }\n",
       "\n",
       "    .dataframe thead th {\n",
       "        text-align: right;\n",
       "    }\n",
       "</style>\n",
       "<table border=\"1\" class=\"dataframe\">\n",
       "  <thead>\n",
       "    <tr style=\"text-align: right;\">\n",
       "      <th></th>\n",
       "      <th>Zip Code</th>\n",
       "      <th>Location</th>\n",
       "      <th>City</th>\n",
       "      <th>Avg. Income/H/hold</th>\n",
       "      <th>Unnamed: 4</th>\n",
       "      <th>Unnamed: 5</th>\n",
       "      <th>Unnamed: 6</th>\n",
       "    </tr>\n",
       "  </thead>\n",
       "  <tbody>\n",
       "    <tr>\n",
       "      <th>0</th>\n",
       "      <td>10007</td>\n",
       "      <td>40.713973, -74.008336</td>\n",
       "      <td>New York, New York</td>\n",
       "      <td>112947</td>\n",
       "      <td>NaN</td>\n",
       "      <td>NaN</td>\n",
       "      <td>NaN</td>\n",
       "    </tr>\n",
       "    <tr>\n",
       "      <th>1</th>\n",
       "      <td>10280</td>\n",
       "      <td>40.708501, -74.016828</td>\n",
       "      <td>New York, New York</td>\n",
       "      <td>108536</td>\n",
       "      <td>NaN</td>\n",
       "      <td>NaN</td>\n",
       "      <td>NaN</td>\n",
       "    </tr>\n",
       "    <tr>\n",
       "      <th>2</th>\n",
       "      <td>10162</td>\n",
       "      <td>40.769298, -73.949942</td>\n",
       "      <td>New York, New York</td>\n",
       "      <td>108416</td>\n",
       "      <td>NaN</td>\n",
       "      <td>NaN</td>\n",
       "      <td>NaN</td>\n",
       "    </tr>\n",
       "    <tr>\n",
       "      <th>3</th>\n",
       "      <td>10004</td>\n",
       "      <td>40.691870, -74.014109</td>\n",
       "      <td>New York, New York</td>\n",
       "      <td>101868</td>\n",
       "      <td>NaN</td>\n",
       "      <td>NaN</td>\n",
       "      <td>NaN</td>\n",
       "    </tr>\n",
       "    <tr>\n",
       "      <th>4</th>\n",
       "      <td>10069</td>\n",
       "      <td>40.775551, -73.989689</td>\n",
       "      <td>New York, New York</td>\n",
       "      <td>88091</td>\n",
       "      <td>NaN</td>\n",
       "      <td>NaN</td>\n",
       "      <td>NaN</td>\n",
       "    </tr>\n",
       "  </tbody>\n",
       "</table>\n",
       "</div>"
      ],
      "text/plain": [
       "   Zip Code               Location                City  Avg. Income/H/hold  \\\n",
       "0     10007  40.713973, -74.008336  New York, New York              112947   \n",
       "1     10280  40.708501, -74.016828  New York, New York              108536   \n",
       "2     10162  40.769298, -73.949942  New York, New York              108416   \n",
       "3     10004  40.691870, -74.014109  New York, New York              101868   \n",
       "4     10069  40.775551, -73.989689  New York, New York               88091   \n",
       "\n",
       "  Unnamed: 4  Unnamed: 5  Unnamed: 6  \n",
       "0        NaN         NaN         NaN  \n",
       "1        NaN         NaN         NaN  \n",
       "2        NaN         NaN         NaN  \n",
       "3        NaN         NaN         NaN  \n",
       "4        NaN         NaN         NaN  "
      ]
     },
     "execution_count": 110,
     "metadata": {},
     "output_type": "execute_result"
    }
   ],
   "source": [
    "#import income data\n",
    "income_data = pd.read_csv('https://raw.githubusercontent.com/hollyyuqizheng/transportation-transformation/master/data/new_york/new%20york%20income%20data.csv')\n",
    "#print(loc_data.Borough.unique())\n",
    "income_data.head()"
   ]
  },
  {
   "cell_type": "code",
   "execution_count": 111,
   "metadata": {},
   "outputs": [],
   "source": [
    "#new df grouped by latitude, longitude, and station\n",
    "#station_lat_long_df = station_loc_df.groupby(['STATION','Borough_Name'], as_index=False ).agg({'Latitude':'mean','Longitude':'mean','TOTAL_TRAFFIC':'count'})\n",
    "station_lat_long_df = station_loc_df.groupby(['Latitude','Longitude', 'STATION','Borough_Name'], as_index=False ).TOTAL_TRAFFIC.sum()\n",
    "station_lat_long_df.drop_duplicates('STATION',keep='first', inplace=True)\n",
    "#print(station_lat_long_df[station_lat_long_df['STATION']=='28 ST'])\n",
    "\n",
    "#station_lat_long_df.duplicated(subset=['STATION']) \n",
    "#print(station_lat_long_df[station_lat_long_df['STATION']==True])"
   ]
  },
  {
   "cell_type": "markdown",
   "metadata": {},
   "source": [
    "Find average income for each station"
   ]
  },
  {
   "cell_type": "code",
   "execution_count": 112,
   "metadata": {},
   "outputs": [],
   "source": [
    "#row from station_income_df as argument\n",
    "#loop through income_df to find closest zip code based on latitude and longitude\n",
    "#return Avg income of closest zip code to station\n",
    "def find_min_dist(row):\n",
    "    min_dist = 1000\n",
    "    idx = 0\n",
    "    for index, r in income_data.iterrows():\n",
    "        l = r[1].split(\", \")\n",
    "        l = [float(i) for i in l]\n",
    "        a = ((l[0] - row['Latitude'])**2 + (l[1] - row['Longitude'])**2)\n",
    "        a = abs(a)\n",
    "        dist = math.sqrt(a)\n",
    "        if dist < min_dist:\n",
    "            min_dist = dist\n",
    "            idx = index\n",
    "    return income_data.iloc[idx]['Avg. Income/H/hold']"
   ]
  },
  {
   "cell_type": "code",
   "execution_count": 113,
   "metadata": {},
   "outputs": [
    {
     "name": "stdout",
     "output_type": "stream",
     "text": [
      "      Latitude  Longitude          STATION Borough_Name  TOTAL_TRAFFIC  \\\n",
      "257  40.764811 -73.973347       5 AV/59 ST    Manhattan      2166735.0   \n",
      "248  40.759901 -73.984139            49 ST    Manhattan      3338006.0   \n",
      "230  40.750373 -73.991057   34 ST-PENN STA    Manhattan     23461003.0   \n",
      "227  40.749567 -73.987950  34 ST-HERALD SQ    Manhattan     16776171.0   \n",
      "145  40.706476 -74.011056         BROAD ST    Manhattan      1257782.0   \n",
      "..         ...        ...              ...          ...            ...   \n",
      "301  40.830135 -73.938209           155 ST    Manhattan      1021278.0   \n",
      "292  40.820421 -73.936245           145 ST    Manhattan      4792705.0   \n",
      "280  40.805368 -73.914042       CYPRESS AV        Bronx       638661.0   \n",
      "281  40.807566 -73.919240         BROOK AV        Bronx      1013783.0   \n",
      "161  40.710668 -74.011029     CORTLANDT ST    Manhattan      4060938.0   \n",
      "\n",
      "     Avg_Income  \n",
      "257    9925.825  \n",
      "248    1920.137  \n",
      "230     775.718  \n",
      "227     775.718  \n",
      "145     683.269  \n",
      "..          ...  \n",
      "301      17.370  \n",
      "292      17.370  \n",
      "280      14.271  \n",
      "281      14.271  \n",
      "161       0.000  \n",
      "\n",
      "[256 rows x 6 columns]\n"
     ]
    }
   ],
   "source": [
    "station_income_df = station_lat_long_df.copy()\n",
    "station_income_df['Avg_Income'] = station_income_df.apply(find_min_dist, axis=1)\n",
    "station_income_df.sort_values('Avg_Income', ascending=False, inplace=True)\n",
    "station_income_df['Avg_Income'] = station_income_df['Avg_Income']/1000\n",
    "#station_income_df['Rank_Income'] = station_income_df['Avg_Income'].rank(method='dense')\n",
    "#station_income_df.head(10)\n",
    "total_income = station_income_df['Avg_Income'].sum()\n",
    "station_income_df.duplicated(subset=['STATION']) \n",
    "print(station_income_df)"
   ]
  },
  {
   "cell_type": "code",
   "execution_count": 114,
   "metadata": {},
   "outputs": [
    {
     "name": "stdout",
     "output_type": "stream",
     "text": [
      "      Borough_Name          STATION  Avg_Income  TOTAL_TRAFFIC\n",
      "230      Manhattan   34 ST-PENN STA     775.718      23.461003\n",
      "231      Manhattan  GRD CNTRL-42 ST     122.802      20.110458\n",
      "227      Manhattan  34 ST-HERALD SQ     775.718      16.776171\n",
      "114       Brooklyn        FULTON ST      49.567      14.657662\n",
      "205      Manhattan            23 ST      62.467      14.160040\n",
      "..             ...              ...         ...            ...\n",
      "2         Brooklyn       NEPTUNE AV      21.281       0.307780\n",
      "4           Queens      BEACH 98 ST      57.443       0.274311\n",
      "50   Staten Island    TOMPKINSVILLE      45.620       0.247600\n",
      "3           Queens     BEACH 105 ST      57.443       0.165250\n",
      "25          Queens    BROAD CHANNEL      57.443       0.120142\n",
      "\n",
      "[256 rows x 4 columns]\n",
      "      Latitude  Longitude          STATION Borough_Name  TOTAL_TRAFFIC  \\\n",
      "257  40.764811 -73.973347       5 AV/59 ST    Manhattan      2166735.0   \n",
      "248  40.759901 -73.984139            49 ST    Manhattan      3338006.0   \n",
      "230  40.750373 -73.991057   34 ST-PENN STA    Manhattan     23461003.0   \n",
      "227  40.749567 -73.987950  34 ST-HERALD SQ    Manhattan     16776171.0   \n",
      "145  40.706476 -74.011056         BROAD ST    Manhattan      1257782.0   \n",
      "..         ...        ...              ...          ...            ...   \n",
      "301  40.830135 -73.938209           155 ST    Manhattan      1021278.0   \n",
      "292  40.820421 -73.936245           145 ST    Manhattan      4792705.0   \n",
      "280  40.805368 -73.914042       CYPRESS AV        Bronx       638661.0   \n",
      "281  40.807566 -73.919240         BROOK AV        Bronx      1013783.0   \n",
      "161  40.710668 -74.011029     CORTLANDT ST    Manhattan      4060938.0   \n",
      "\n",
      "     Avg_Income  \n",
      "257    9925.825  \n",
      "248    1920.137  \n",
      "230     775.718  \n",
      "227     775.718  \n",
      "145     683.269  \n",
      "..          ...  \n",
      "301      17.370  \n",
      "292      17.370  \n",
      "280      14.271  \n",
      "281      14.271  \n",
      "161       0.000  \n",
      "\n",
      "[256 rows x 6 columns]\n",
      "576.352191\n"
     ]
    }
   ],
   "source": [
    "top_traffic_stations_df = station_income_df.copy()\n",
    "top_traffic_stations_df = top_traffic_stations_df[['Borough_Name','STATION','Avg_Income', 'TOTAL_TRAFFIC']]\n",
    "top_traffic_stations_df.sort_values('TOTAL_TRAFFIC', ascending=False, inplace=True)\n",
    "#top_traffic_stations_df['Rank_Traffic'] = top_traffic_stations_df['TOTAL_TRAFFIC'].rank(method='dense')\n",
    "#top_traffic_stations_df['Avg_Income'] = top_traffic_stations_df['Avg_Income']/1000\n",
    "top_traffic_stations_df['TOTAL_TRAFFIC'] = top_traffic_stations_df['TOTAL_TRAFFIC']/1000000\n",
    "top10_traffic_stations_df = top_traffic_stations_df.head(10)\n",
    "#print(top_station_income_df )\n",
    "print(top_traffic_stations_df )\n",
    "print(station_income_df )\n",
    "total_traffic = top_traffic_stations_df['TOTAL_TRAFFIC'].sum()\n",
    "print(total_traffic )"
   ]
  },
  {
   "cell_type": "code",
   "execution_count": 115,
   "metadata": {},
   "outputs": [
    {
     "name": "stderr",
     "output_type": "stream",
     "text": [
      "<ipython-input-115-67a3123556de>:2: SettingWithCopyWarning: \n",
      "A value is trying to be set on a copy of a slice from a DataFrame.\n",
      "Try using .loc[row_indexer,col_indexer] = value instead\n",
      "\n",
      "See the caveats in the documentation: https://pandas.pydata.org/pandas-docs/stable/user_guide/indexing.html#returning-a-view-versus-a-copy\n",
      "  top50_income['Rank_Income'] = top50_income['Avg_Income'].rank(method='dense')\n",
      "<ipython-input-115-67a3123556de>:3: SettingWithCopyWarning: \n",
      "A value is trying to be set on a copy of a slice from a DataFrame.\n",
      "Try using .loc[row_indexer,col_indexer] = value instead\n",
      "\n",
      "See the caveats in the documentation: https://pandas.pydata.org/pandas-docs/stable/user_guide/indexing.html#returning-a-view-versus-a-copy\n",
      "  top50_income['Income_Percentile'] = (top50_income['Avg_Income']/total_income)*100\n",
      "<ipython-input-115-67a3123556de>:6: SettingWithCopyWarning: \n",
      "A value is trying to be set on a copy of a slice from a DataFrame.\n",
      "Try using .loc[row_indexer,col_indexer] = value instead\n",
      "\n",
      "See the caveats in the documentation: https://pandas.pydata.org/pandas-docs/stable/user_guide/indexing.html#returning-a-view-versus-a-copy\n",
      "  top50_traffic['Rank_Traffic'] = top50_traffic['TOTAL_TRAFFIC'].rank(method='dense')\n",
      "<ipython-input-115-67a3123556de>:7: SettingWithCopyWarning: \n",
      "A value is trying to be set on a copy of a slice from a DataFrame.\n",
      "Try using .loc[row_indexer,col_indexer] = value instead\n",
      "\n",
      "See the caveats in the documentation: https://pandas.pydata.org/pandas-docs/stable/user_guide/indexing.html#returning-a-view-versus-a-copy\n",
      "  top50_traffic['Traffic_Percentile'] = (top50_traffic['TOTAL_TRAFFIC']/total_traffic)*100\n",
      "/Users/racheldilley/opt/anaconda3/lib/python3.8/site-packages/pandas/core/frame.py:4167: SettingWithCopyWarning: \n",
      "A value is trying to be set on a copy of a slice from a DataFrame\n",
      "\n",
      "See the caveats in the documentation: https://pandas.pydata.org/pandas-docs/stable/user_guide/indexing.html#returning-a-view-versus-a-copy\n",
      "  return super().drop(\n"
     ]
    }
   ],
   "source": [
    "top50_income = station_income_df.head(50)\n",
    "top50_income['Rank_Income'] = top50_income['Avg_Income'].rank(method='dense')\n",
    "top50_income['Income_Percentile'] = (top50_income['Avg_Income']/total_income)*100\n",
    "\n",
    "top50_traffic = top_traffic_stations_df.head(50)\n",
    "top50_traffic['Rank_Traffic'] = top50_traffic['TOTAL_TRAFFIC'].rank(method='dense')\n",
    "top50_traffic['Traffic_Percentile'] = (top50_traffic['TOTAL_TRAFFIC']/total_traffic)*100\n",
    "\n",
    "top50_income.drop([ 'Avg_Income'], axis=1, inplace=True)\n",
    "top50_traffic.drop([ 'Avg_Income'], axis=1, inplace=True)"
   ]
  },
  {
   "cell_type": "code",
   "execution_count": 116,
   "metadata": {},
   "outputs": [
    {
     "name": "stdout",
     "output_type": "stream",
     "text": [
      "     Latitude  Longitude          STATION Borough_Name  TOTAL_TRAFFIC_x  \\\n",
      "0   40.759901 -73.984139            49 ST    Manhattan        3338006.0   \n",
      "1   40.750373 -73.991057   34 ST-PENN STA    Manhattan       23461003.0   \n",
      "2   40.749567 -73.987950  34 ST-HERALD SQ    Manhattan       16776171.0   \n",
      "5   40.751431 -73.976041  GRD CNTRL-42 ST    Manhattan       20110458.0   \n",
      "16  40.739864 -73.986599            23 ST    Manhattan       14160040.0   \n",
      "20  40.734673 -73.989951   14 ST-UNION SQ    Manhattan       13962090.0   \n",
      "7   40.718092 -73.999892         CANAL ST    Manhattan       10944131.0   \n",
      "14  40.732338 -74.000495   W 4 ST-WASH SQ    Manhattan       11849174.0   \n",
      "6   40.713243 -74.003401      CHAMBERS ST    Manhattan        8605351.0   \n",
      "18  40.737826 -74.000201            14 ST    Manhattan        9047249.0   \n",
      "12  40.784318 -73.947152            96 ST    Manhattan        8497078.0   \n",
      "10  40.706821 -74.009100          WALL ST    Manhattan        6926455.0   \n",
      "17  40.743070 -73.984264            28 ST    Manhattan        7133546.0   \n",
      "11  40.768799 -73.958424            72 ST    Manhattan        6815140.0   \n",
      "3   40.757107 -73.971920            51 ST    Manhattan        3600154.0   \n",
      "8   40.754222 -73.984569  42 ST-BRYANT PK    Manhattan        5109450.0   \n",
      "4   40.760167 -73.975224       5 AV/53 ST    Manhattan        4163137.0   \n",
      "9   40.704817 -74.014065    BOWLING GREEN    Manhattan        4556524.0   \n",
      "15  40.746081 -73.982076            33 ST    Manhattan        3764025.0   \n",
      "13  40.693879 -73.851576   WOODHAVEN BLVD       Queens        3044964.0   \n",
      "19  40.730054 -73.991070         ASTOR PL    Manhattan        2720514.0   \n",
      "\n",
      "    Rank_Income  Income_Percentile  TOTAL_TRAFFIC_y  Rank_Traffic  \\\n",
      "0          33.0           7.789000         3.338006          12.0   \n",
      "1          32.0           3.146686        23.461003          50.0   \n",
      "2          32.0           3.146686        16.776171          48.0   \n",
      "5          27.0           0.498144        20.110458          49.0   \n",
      "16          7.0           0.253396        14.160040          46.0   \n",
      "20          4.0           0.247003        13.962090          44.0   \n",
      "7          25.0           0.461956        10.944131          40.0   \n",
      "14         13.0           0.270166        11.849174          41.0   \n",
      "6          25.0           0.461956         8.605351          36.0   \n",
      "18          6.0           0.251445         9.047249          37.0   \n",
      "12         17.0           0.284079         8.497078          35.0   \n",
      "10         20.0           0.322559         6.926455          33.0   \n",
      "17          7.0           0.253396         7.133546          34.0   \n",
      "11         18.0           0.306151         6.815140          31.0   \n",
      "3          29.0           0.763633         3.600154          13.0   \n",
      "8          23.0           0.441978         5.109450          28.0   \n",
      "4          28.0           0.562942         4.163137          20.0   \n",
      "9          21.0           0.329930         4.556524          24.0   \n",
      "15         12.0           0.269115         3.764025          16.0   \n",
      "13         15.0           0.280112         3.044964           9.0   \n",
      "19          4.0           0.247003         2.720514           1.0   \n",
      "\n",
      "    Traffic_Percentile  Total_Rank  Total_Percentile  \n",
      "0             0.579161        45.0          8.368161  \n",
      "1             4.070602        82.0          7.217287  \n",
      "2             2.910750        80.0          6.057435  \n",
      "5             3.489265        76.0          3.987409  \n",
      "16            2.456838        53.0          2.710234  \n",
      "20            2.422493        48.0          2.669496  \n",
      "7             1.898862        65.0          2.360818  \n",
      "14            2.055891        54.0          2.326057  \n",
      "6             1.493072        61.0          1.955028  \n",
      "18            1.569743        43.0          1.821188  \n",
      "12            1.474286        52.0          1.758365  \n",
      "10            1.201775        53.0          1.524334  \n",
      "17            1.237706        41.0          1.491102  \n",
      "11            1.182461        49.0          1.488612  \n",
      "3             0.624645        42.0          1.388277  \n",
      "8             0.886515        51.0          1.328493  \n",
      "4             0.722325        48.0          1.285267  \n",
      "9             0.790580        45.0          1.120510  \n",
      "15            0.653077        28.0          0.922192  \n",
      "13            0.528317        24.0          0.808429  \n",
      "19            0.472023         5.0          0.719026  \n"
     ]
    }
   ],
   "source": [
    "top_50_df = top50_income.merge(top50_traffic, how = 'inner', on = ['STATION', 'Borough_Name'])\n",
    "top_50_df['Total_Rank'] = top_50_df['Rank_Income'] + top_50_df['Rank_Traffic']\n",
    "top_50_df['Total_Percentile'] = top_50_df['Traffic_Percentile'] + top_50_df['Income_Percentile']\n",
    "top_50_df.sort_values('Total_Percentile', ascending=False, inplace=True)\n",
    "top10_rank_df = top_50_df.head(10)\n",
    "print(top_50_df)"
   ]
  },
  {
   "cell_type": "code",
   "execution_count": 117,
   "metadata": {},
   "outputs": [
    {
     "data": {
      "image/png": "[encoded data removed]",
      "text/plain": [
       "<Figure size 1440x720 with 1 Axes>"
      ]
     },
     "metadata": {
      "needs_background": "light"
     },
     "output_type": "display_data"
    }
   ],
   "source": [
    "barWidth = 0.25\n",
    " \n",
    "# set height of bar\n",
    "#bars1 = [12, 30, 1, 8, 22]\n",
    "#bars2 = [28, 6, 16, 5, 10]\n",
    "#bars3 = [29, 3, 24, 25, 17]\n",
    " \n",
    "# Set position of bar on X axis\n",
    "r1 = np.arange(len(top10_rank_df['Rank_Income']))\n",
    "r2 = [x + barWidth for x in r1]\n",
    "#r3 = [x + barWidth for x in r2]\n",
    " \n",
    "# Make the plot\n",
    "plt.bar(r1,top10_rank_df['Income_Percentile'], color= '#f06292', width=barWidth, edgecolor='white', label='Income Percentile')\n",
    "plt.bar(r2, top10_rank_df['Traffic_Percentile'], color='#2a3990', width=barWidth, edgecolor='white', label='Traffic Percentile')\n",
    "#plt.bar(r3, bars3, color='#2d7f5e', width=barWidth, edgecolor='white', label='var3')\n",
    "plt.ylabel(\"Percentile\",fontsize=18)\n",
    "# Add xticks on the middle of the group bars\n",
    "#plt.xlabel('group', fontweight='bold')\n",
    "plt.xticks([r + barWidth for r in range(len(top10_rank_df['Rank_Income']))], top10_rank_df['STATION'])\n",
    " \n",
    "plt.rcParams['font.size']= 12\n",
    "plt.legend()\n",
    "plt.savefig('top10_rank_bar.png', dpi=300)\n",
    "plt.show()\n",
    "\n",
    "#plt.ylabel(\"Rank\",fontsize=18)\n",
    "#plt.title(\"Top 10 Stations with Highest Incomes\",fontsize=27)\n",
    "\n",
    "\n",
    "\n"
   ]
  },
  {
   "cell_type": "code",
   "execution_count": 118,
   "metadata": {},
   "outputs": [
    {
     "data": {
      "text/plain": [
       "(0.0, 90.0)"
      ]
     },
     "execution_count": 118,
     "metadata": {},
     "output_type": "execute_result"
    },
    {
     "data": {
      "image/png": "[encoded data removed]",
      "text/plain": [
       "<Figure size 1440x720 with 1 Axes>"
      ]
     },
     "metadata": {
      "needs_background": "light"
     },
     "output_type": "display_data"
    }
   ],
   "source": [
    "top10_rank_df = top_50_df.head(10)\n",
    "ax = plt.subplot(111)\n",
    "ax.bar(top10_rank_df['STATION'], top10_rank_df['Rank_Income'], width=0.5, color='b', align='center')\n",
    "ax.bar(top10_rank_df['STATION'], top10_rank_df['Rank_Traffic'], width=0.5, color='g', align='center')\n",
    "plt.ylim(0, 90)"
   ]
  },
  {
   "cell_type": "code",
   "execution_count": 119,
   "metadata": {},
   "outputs": [
    {
     "name": "stdout",
     "output_type": "stream",
     "text": [
      "/Users/racheldilley/Documents/Metis/git_repos/mta-project-1\n"
     ]
    }
   ],
   "source": [
    "cd-"
   ]
  },
  {
   "cell_type": "code",
   "execution_count": 120,
   "metadata": {},
   "outputs": [
    {
     "name": "stdout",
     "output_type": "stream",
     "text": [
      "/Users/racheldilley/Documents/Metis/git_repos/mta-project-1/Graphs\n"
     ]
    }
   ],
   "source": [
    "cd Graphs"
   ]
  },
  {
   "cell_type": "code",
   "execution_count": 121,
   "metadata": {},
   "outputs": [
    {
     "data": {
      "image/png": "[encoded data removed]",
      "text/plain": [
       "<Figure size 1440x720 with 1 Axes>"
      ]
     },
     "metadata": {
      "needs_background": "light"
     },
     "output_type": "display_data"
    }
   ],
   "source": [
    "plt.rcParams['font.size']= 12\n",
    "top_station_income_df = station_income_df[['Borough_Name','STATION','Avg_Income', 'TOTAL_TRAFFIC']].head(10)\n",
    "top_station_income_df['Avg_Income'] = top_station_income_df['Avg_Income']/1000\n",
    "top_station_income_df['TOTAL_TRAFFIC'] = top_station_income_df['TOTAL_TRAFFIC']/1000000\n",
    "\n",
    "top_inc_bar = plt.bar(top_station_income_df['STATION'], top_station_income_df['Avg_Income'], color='#3949ab')\n",
    "plt.ylabel(\"Average Income (Thousands)\",fontsize=18)\n",
    "\n",
    "top_inc_bar[3].set_color('#9c254d')\n",
    "top_inc_bar[2].set_color('#9c254d')\n",
    "top_inc_bar[2].set_color('#9c254d')\n",
    "#top_inc_bar[8].set_color('mediumorchid')\n",
    "plt.savefig('top10_inc_bar.png', dpi=300)\n",
    "plt.show()"
   ]
  },
  {
   "cell_type": "code",
   "execution_count": 122,
   "metadata": {},
   "outputs": [
    {
     "data": {
      "image/png": "[encoded data removed]",
      "text/plain": [
       "<Figure size 1440x720 with 1 Axes>"
      ]
     },
     "metadata": {
      "needs_background": "light"
     },
     "output_type": "display_data"
    }
   ],
   "source": [
    "top10_traf_inc_bar = plt.bar(top_traffic_stations_df['STATION'], top_traffic_stations_df['Avg_Income'],color='orange')\n",
    "#plt.xlabel(\"Stations\",fontsize=18)\n",
    "plt.ylabel(\"Average Income (Thousands)\",fontsize=18)\n",
    "#plt.title(\"Incomes of Top 10 Stations with Highest Traffic\",fontsize=27)\n",
    "plt.ylim(0, 10000)\n",
    "top_traf_inc_bar[0].set_color('b')\n",
    "top_traf_inc_bar[1].set_color('b')\n",
    "top_traf_inc_bar[7].set_color('mediumorchid')\n",
    "plt.savefig('top10_inc_traf_bar.png', dpi=300)"
   ]
  },
  {
   "cell_type": "code",
   "execution_count": 123,
   "metadata": {},
   "outputs": [
    {
     "data": {
      "image/png": "[encoded data removed]",
      "text/plain": [
       "<Figure size 1440x720 with 1 Axes>"
      ]
     },
     "metadata": {
      "needs_background": "light"
     },
     "output_type": "display_data"
    }
   ],
   "source": [
    "top10_traf_bar = plt.bar(top10_traffic_stations_df['STATION'], top10_traffic_stations_df['TOTAL_TRAFFIC'],color='#212d74')\n",
    "#plt.xlabel(\"Stations\",fontsize=18)\n",
    "plt.ylabel(\"Total Traffic (Millions)\",fontsize=18)\n",
    "#plt.title(\"Top 10 Stations with Highest Traffic\",fontsize=27)\n",
    "top10_traf_bar[0].set_color('#9c254d')\n",
    "top10_traf_bar[2].set_color('#9c254d')\n",
    "#top_traf_bar[7].set_color('mediumorchid')\n",
    "plt.savefig('top10_traf_bar.png', dpi=300)"
   ]
  },
  {
   "cell_type": "code",
   "execution_count": 68,
   "metadata": {},
   "outputs": [
    {
     "data": {
      "image/png": "[encoded data removed]",
      "text/plain": [
       "<Figure size 1440x720 with 1 Axes>"
      ]
     },
     "metadata": {
      "needs_background": "light"
     },
     "output_type": "display_data"
    }
   ],
   "source": [
    "top_traf_inc_bar = plt.bar(top_station_income_df['STATION'], top_station_income_df['TOTAL_TRAFFIC'], color='purple')\n",
    "#plt.xlabel(\"Stations\", fontsize=18)\n",
    "plt.ylabel(\"Total Traffic (Millions)\",fontsize=18)\n",
    "#plt.title(\"Traffic of Top 10 Stations with Highest Incomes\",fontsize=27)\n",
    "top_traf_inc_bar[3].set_color('b')\n",
    "top_traf_inc_bar[2].set_color('b')\n",
    "top_traf_inc_bar[8].set_color('mediumorchid')\n",
    "plt.savefig('top10_traf_inc_bar.png', dpi=300)"
   ]
  },
  {
   "cell_type": "code",
   "execution_count": null,
   "metadata": {},
   "outputs": [],
   "source": []
  },
  {
   "cell_type": "code",
   "execution_count": 45,
   "metadata": {},
   "outputs": [
    {
     "data": {
      "text/plain": [
       "(-74.074835, -73.761353, 40.576312, 40.898379)"
      ]
     },
     "execution_count": 45,
     "metadata": {},
     "output_type": "execute_result"
    }
   ],
   "source": [
    "#find max and min of lat and long\n",
    "BBox = (station_lat_long_df.Longitude.min(),   station_lat_long_df.Longitude.max(),      \n",
    "         station_lat_long_df.Latitude.min(), station_lat_long_df.Latitude.max())\n",
    "BBox"
   ]
  },
  {
   "cell_type": "code",
   "execution_count": null,
   "metadata": {},
   "outputs": [],
   "source": [
    "cd - "
   ]
  },
  {
   "cell_type": "code",
   "execution_count": null,
   "metadata": {},
   "outputs": [],
   "source": [
    "ruh_m = plt.imread('NYC_Map.png') #load NYC Map"
   ]
  },
  {
   "cell_type": "code",
   "execution_count": null,
   "metadata": {},
   "outputs": [],
   "source": [
    "fig, ax = plt.subplots(figsize = (11,10))\n",
    "ax.scatter(station_lat_long_df.Longitude, station_lat_long_df.Latitude, zorder=1, alpha= 0.2, c='b', s=15)\n",
    "ax.set_title('Plotting Stations in NYC')\n",
    "ax.set_xlim(BBox[0],BBox[1])\n",
    "ax.set_ylim(BBox[2],BBox[3])\n",
    "ax.imshow(ruh_m, zorder=0, extent = BBox, aspect= 'equal')"
   ]
  },
  {
   "cell_type": "code",
   "execution_count": null,
   "metadata": {},
   "outputs": [],
   "source": []
  },
  {
   "cell_type": "code",
   "execution_count": null,
   "metadata": {},
   "outputs": [],
   "source": []
  },
  {
   "cell_type": "code",
   "execution_count": null,
   "metadata": {},
   "outputs": [],
   "source": []
  }
 ],
 "metadata": {
  "kernelspec": {
   "display_name": "Python 3",
   "language": "python",
   "name": "python3"
  },
  "language_info": {
   "codemirror_mode": {
    "name": "ipython",
    "version": 3
   },
   "file_extension": ".py",
   "mimetype": "text/x-python",
   "name": "python",
   "nbconvert_exporter": "python",
   "pygments_lexer": "ipython3",
   "version": "3.8.5"
  }
 },
 "nbformat": 4,
 "nbformat_minor": 4
}
