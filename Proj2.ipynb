{
 "cells": [
  {
   "cell_type": "code",
   "execution_count": 1,
   "metadata": {},
   "outputs": [],
   "source": [
    "import pandas as pd\n",
    "import matplotlib.pyplot as plt\n",
    "from pylab import rcParams\n",
    "%matplotlib inline\n",
    "rcParams['figure.figsize'] = 20,10\n",
    "import numpy as np\n",
    "import glob\n",
    "from scipy import stats\n",
    "import math"
   ]
  },
  {
   "cell_type": "code",
   "execution_count": 2,
   "metadata": {},
   "outputs": [
    {
     "name": "stdout",
     "output_type": "stream",
     "text": [
      "/Users/racheldilley/Documents/Metis/git_repos/mta-project-1/CSVs\n"
     ]
    }
   ],
   "source": [
    "cd CSVs"
   ]
  },
  {
   "cell_type": "markdown",
   "metadata": {},
   "source": [
    "#### Load Data"
   ]
  },
  {
   "cell_type": "code",
   "execution_count": 3,
   "metadata": {
    "scrolled": true
   },
   "outputs": [
    {
     "data": {
      "text/plain": [
       "REGULAR       2240973\n",
       "RECOVR AUD       9835\n",
       "Name: DESC, dtype: int64"
      ]
     },
     "execution_count": 3,
     "metadata": {},
     "output_type": "execute_result"
    }
   ],
   "source": [
    "extension = 'txt'\n",
    "all_filenames = [i for i in glob.glob('*.{}'.format(extension))]\n",
    "\n",
    "#combine all files in the list\n",
    "data = pd.concat([pd.read_csv(f) for f in all_filenames ])\n",
    "data\n",
    "data.DESC.value_counts()"
   ]
  },
  {
   "cell_type": "markdown",
   "metadata": {},
   "source": [
    "### Clean Data"
   ]
  },
  {
   "cell_type": "markdown",
   "metadata": {},
   "source": [
    "remove spaces from column names"
   ]
  },
  {
   "cell_type": "code",
   "execution_count": 4,
   "metadata": {},
   "outputs": [],
   "source": [
    "data.columns = data.columns.str.replace(' ', '')"
   ]
  },
  {
   "cell_type": "markdown",
   "metadata": {},
   "source": [
    "add Date_Time column "
   ]
  },
  {
   "cell_type": "code",
   "execution_count": 5,
   "metadata": {},
   "outputs": [],
   "source": [
    "data['Date_Time'] = pd.to_datetime(data['DATE'], cache=True) + pd.to_timedelta(data['TIME'])"
   ]
  },
  {
   "cell_type": "markdown",
   "metadata": {},
   "source": [
    "Add Turnstile (Combining SCP,C/A, Station and Unit) and Weekday column"
   ]
  },
  {
   "cell_type": "code",
   "execution_count": 6,
   "metadata": {},
   "outputs": [],
   "source": [
    "data['Turnstile'] = data['C/A'] + data['UNIT'] + data['SCP'] + data['STATION']\n",
    "data['DATE'] = pd.to_datetime(data['DATE'], cache=True)\n",
    "data['Week_Day'] = data['DATE'].dt.day_name()"
   ]
  },
  {
   "cell_type": "markdown",
   "metadata": {},
   "source": [
    "Only look at regular data"
   ]
  },
  {
   "cell_type": "code",
   "execution_count": 7,
   "metadata": {},
   "outputs": [
    {
     "data": {
      "text/html": [
       "<div>\n",
       "<style scoped>\n",
       "    .dataframe tbody tr th:only-of-type {\n",
       "        vertical-align: middle;\n",
       "    }\n",
       "\n",
       "    .dataframe tbody tr th {\n",
       "        vertical-align: top;\n",
       "    }\n",
       "\n",
       "    .dataframe thead th {\n",
       "        text-align: right;\n",
       "    }\n",
       "</style>\n",
       "<table border=\"1\" class=\"dataframe\">\n",
       "  <thead>\n",
       "    <tr style=\"text-align: right;\">\n",
       "      <th></th>\n",
       "      <th>C/A</th>\n",
       "      <th>UNIT</th>\n",
       "      <th>SCP</th>\n",
       "      <th>STATION</th>\n",
       "      <th>LINENAME</th>\n",
       "      <th>DIVISION</th>\n",
       "      <th>DATE</th>\n",
       "      <th>TIME</th>\n",
       "      <th>DESC</th>\n",
       "      <th>ENTRIES</th>\n",
       "      <th>EXITS</th>\n",
       "      <th>Date_Time</th>\n",
       "      <th>Turnstile</th>\n",
       "      <th>Week_Day</th>\n",
       "    </tr>\n",
       "  </thead>\n",
       "  <tbody>\n",
       "    <tr>\n",
       "      <th>0</th>\n",
       "      <td>A002</td>\n",
       "      <td>R051</td>\n",
       "      <td>02-00-00</td>\n",
       "      <td>59 ST</td>\n",
       "      <td>NQR456W</td>\n",
       "      <td>BMT</td>\n",
       "      <td>2019-05-11</td>\n",
       "      <td>00:00:00</td>\n",
       "      <td>REGULAR</td>\n",
       "      <td>7053483</td>\n",
       "      <td>2390505</td>\n",
       "      <td>2019-05-11 00:00:00</td>\n",
       "      <td>A002R05102-00-0059 ST</td>\n",
       "      <td>Saturday</td>\n",
       "    </tr>\n",
       "    <tr>\n",
       "      <th>1</th>\n",
       "      <td>A002</td>\n",
       "      <td>R051</td>\n",
       "      <td>02-00-00</td>\n",
       "      <td>59 ST</td>\n",
       "      <td>NQR456W</td>\n",
       "      <td>BMT</td>\n",
       "      <td>2019-05-11</td>\n",
       "      <td>04:00:00</td>\n",
       "      <td>REGULAR</td>\n",
       "      <td>7053511</td>\n",
       "      <td>2390508</td>\n",
       "      <td>2019-05-11 04:00:00</td>\n",
       "      <td>A002R05102-00-0059 ST</td>\n",
       "      <td>Saturday</td>\n",
       "    </tr>\n",
       "    <tr>\n",
       "      <th>2</th>\n",
       "      <td>A002</td>\n",
       "      <td>R051</td>\n",
       "      <td>02-00-00</td>\n",
       "      <td>59 ST</td>\n",
       "      <td>NQR456W</td>\n",
       "      <td>BMT</td>\n",
       "      <td>2019-05-11</td>\n",
       "      <td>08:00:00</td>\n",
       "      <td>REGULAR</td>\n",
       "      <td>7053534</td>\n",
       "      <td>2390536</td>\n",
       "      <td>2019-05-11 08:00:00</td>\n",
       "      <td>A002R05102-00-0059 ST</td>\n",
       "      <td>Saturday</td>\n",
       "    </tr>\n",
       "    <tr>\n",
       "      <th>3</th>\n",
       "      <td>A002</td>\n",
       "      <td>R051</td>\n",
       "      <td>02-00-00</td>\n",
       "      <td>59 ST</td>\n",
       "      <td>NQR456W</td>\n",
       "      <td>BMT</td>\n",
       "      <td>2019-05-11</td>\n",
       "      <td>12:00:00</td>\n",
       "      <td>REGULAR</td>\n",
       "      <td>7053618</td>\n",
       "      <td>2390596</td>\n",
       "      <td>2019-05-11 12:00:00</td>\n",
       "      <td>A002R05102-00-0059 ST</td>\n",
       "      <td>Saturday</td>\n",
       "    </tr>\n",
       "    <tr>\n",
       "      <th>4</th>\n",
       "      <td>A002</td>\n",
       "      <td>R051</td>\n",
       "      <td>02-00-00</td>\n",
       "      <td>59 ST</td>\n",
       "      <td>NQR456W</td>\n",
       "      <td>BMT</td>\n",
       "      <td>2019-05-11</td>\n",
       "      <td>16:00:00</td>\n",
       "      <td>REGULAR</td>\n",
       "      <td>7053841</td>\n",
       "      <td>2390655</td>\n",
       "      <td>2019-05-11 16:00:00</td>\n",
       "      <td>A002R05102-00-0059 ST</td>\n",
       "      <td>Saturday</td>\n",
       "    </tr>\n",
       "  </tbody>\n",
       "</table>\n",
       "</div>"
      ],
      "text/plain": [
       "    C/A  UNIT       SCP STATION LINENAME DIVISION       DATE      TIME  \\\n",
       "0  A002  R051  02-00-00   59 ST  NQR456W      BMT 2019-05-11  00:00:00   \n",
       "1  A002  R051  02-00-00   59 ST  NQR456W      BMT 2019-05-11  04:00:00   \n",
       "2  A002  R051  02-00-00   59 ST  NQR456W      BMT 2019-05-11  08:00:00   \n",
       "3  A002  R051  02-00-00   59 ST  NQR456W      BMT 2019-05-11  12:00:00   \n",
       "4  A002  R051  02-00-00   59 ST  NQR456W      BMT 2019-05-11  16:00:00   \n",
       "\n",
       "      DESC  ENTRIES    EXITS           Date_Time              Turnstile  \\\n",
       "0  REGULAR  7053483  2390505 2019-05-11 00:00:00  A002R05102-00-0059 ST   \n",
       "1  REGULAR  7053511  2390508 2019-05-11 04:00:00  A002R05102-00-0059 ST   \n",
       "2  REGULAR  7053534  2390536 2019-05-11 08:00:00  A002R05102-00-0059 ST   \n",
       "3  REGULAR  7053618  2390596 2019-05-11 12:00:00  A002R05102-00-0059 ST   \n",
       "4  REGULAR  7053841  2390655 2019-05-11 16:00:00  A002R05102-00-0059 ST   \n",
       "\n",
       "   Week_Day  \n",
       "0  Saturday  \n",
       "1  Saturday  \n",
       "2  Saturday  \n",
       "3  Saturday  \n",
       "4  Saturday  "
      ]
     },
     "execution_count": 7,
     "metadata": {},
     "output_type": "execute_result"
    }
   ],
   "source": [
    "data = data[data.DESC == 'REGULAR']\n",
    "data.head()"
   ]
  },
  {
   "cell_type": "markdown",
   "metadata": {},
   "source": [
    "#### Find total traffic"
   ]
  },
  {
   "cell_type": "markdown",
   "metadata": {},
   "source": [
    "Add shifted columns to show previous entries and exits"
   ]
  },
  {
   "cell_type": "code",
   "execution_count": 8,
   "metadata": {
    "scrolled": true
   },
   "outputs": [
    {
     "data": {
      "text/html": [
       "<div>\n",
       "<style scoped>\n",
       "    .dataframe tbody tr th:only-of-type {\n",
       "        vertical-align: middle;\n",
       "    }\n",
       "\n",
       "    .dataframe tbody tr th {\n",
       "        vertical-align: top;\n",
       "    }\n",
       "\n",
       "    .dataframe thead th {\n",
       "        text-align: right;\n",
       "    }\n",
       "</style>\n",
       "<table border=\"1\" class=\"dataframe\">\n",
       "  <thead>\n",
       "    <tr style=\"text-align: right;\">\n",
       "      <th></th>\n",
       "      <th>C/A</th>\n",
       "      <th>UNIT</th>\n",
       "      <th>SCP</th>\n",
       "      <th>STATION</th>\n",
       "      <th>LINENAME</th>\n",
       "      <th>DIVISION</th>\n",
       "      <th>DATE</th>\n",
       "      <th>TIME</th>\n",
       "      <th>DESC</th>\n",
       "      <th>ENTRIES</th>\n",
       "      <th>EXITS</th>\n",
       "      <th>Date_Time</th>\n",
       "      <th>Turnstile</th>\n",
       "      <th>Week_Day</th>\n",
       "      <th>PREV_TIME</th>\n",
       "      <th>PREV_EXITS</th>\n",
       "      <th>PREV_ENTRIES</th>\n",
       "    </tr>\n",
       "  </thead>\n",
       "  <tbody>\n",
       "    <tr>\n",
       "      <th>206852</th>\n",
       "      <td>TRAM2</td>\n",
       "      <td>R469</td>\n",
       "      <td>00-05-01</td>\n",
       "      <td>RIT-ROOSEVELT</td>\n",
       "      <td>R</td>\n",
       "      <td>RIT</td>\n",
       "      <td>2019-05-03</td>\n",
       "      <td>05:00:00</td>\n",
       "      <td>REGULAR</td>\n",
       "      <td>5554</td>\n",
       "      <td>376</td>\n",
       "      <td>2019-05-03 05:00:00</td>\n",
       "      <td>TRAM2R46900-05-01RIT-ROOSEVELT</td>\n",
       "      <td>Friday</td>\n",
       "      <td>01:00:00</td>\n",
       "      <td>376.0</td>\n",
       "      <td>5554.0</td>\n",
       "    </tr>\n",
       "    <tr>\n",
       "      <th>206853</th>\n",
       "      <td>TRAM2</td>\n",
       "      <td>R469</td>\n",
       "      <td>00-05-01</td>\n",
       "      <td>RIT-ROOSEVELT</td>\n",
       "      <td>R</td>\n",
       "      <td>RIT</td>\n",
       "      <td>2019-05-03</td>\n",
       "      <td>09:00:00</td>\n",
       "      <td>REGULAR</td>\n",
       "      <td>5554</td>\n",
       "      <td>376</td>\n",
       "      <td>2019-05-03 09:00:00</td>\n",
       "      <td>TRAM2R46900-05-01RIT-ROOSEVELT</td>\n",
       "      <td>Friday</td>\n",
       "      <td>05:00:00</td>\n",
       "      <td>376.0</td>\n",
       "      <td>5554.0</td>\n",
       "    </tr>\n",
       "    <tr>\n",
       "      <th>206854</th>\n",
       "      <td>TRAM2</td>\n",
       "      <td>R469</td>\n",
       "      <td>00-05-01</td>\n",
       "      <td>RIT-ROOSEVELT</td>\n",
       "      <td>R</td>\n",
       "      <td>RIT</td>\n",
       "      <td>2019-05-03</td>\n",
       "      <td>13:00:00</td>\n",
       "      <td>REGULAR</td>\n",
       "      <td>5554</td>\n",
       "      <td>376</td>\n",
       "      <td>2019-05-03 13:00:00</td>\n",
       "      <td>TRAM2R46900-05-01RIT-ROOSEVELT</td>\n",
       "      <td>Friday</td>\n",
       "      <td>09:00:00</td>\n",
       "      <td>376.0</td>\n",
       "      <td>5554.0</td>\n",
       "    </tr>\n",
       "    <tr>\n",
       "      <th>206855</th>\n",
       "      <td>TRAM2</td>\n",
       "      <td>R469</td>\n",
       "      <td>00-05-01</td>\n",
       "      <td>RIT-ROOSEVELT</td>\n",
       "      <td>R</td>\n",
       "      <td>RIT</td>\n",
       "      <td>2019-05-03</td>\n",
       "      <td>17:00:00</td>\n",
       "      <td>REGULAR</td>\n",
       "      <td>5554</td>\n",
       "      <td>376</td>\n",
       "      <td>2019-05-03 17:00:00</td>\n",
       "      <td>TRAM2R46900-05-01RIT-ROOSEVELT</td>\n",
       "      <td>Friday</td>\n",
       "      <td>13:00:00</td>\n",
       "      <td>376.0</td>\n",
       "      <td>5554.0</td>\n",
       "    </tr>\n",
       "    <tr>\n",
       "      <th>206856</th>\n",
       "      <td>TRAM2</td>\n",
       "      <td>R469</td>\n",
       "      <td>00-05-01</td>\n",
       "      <td>RIT-ROOSEVELT</td>\n",
       "      <td>R</td>\n",
       "      <td>RIT</td>\n",
       "      <td>2019-05-03</td>\n",
       "      <td>21:00:00</td>\n",
       "      <td>REGULAR</td>\n",
       "      <td>5554</td>\n",
       "      <td>376</td>\n",
       "      <td>2019-05-03 21:00:00</td>\n",
       "      <td>TRAM2R46900-05-01RIT-ROOSEVELT</td>\n",
       "      <td>Friday</td>\n",
       "      <td>17:00:00</td>\n",
       "      <td>376.0</td>\n",
       "      <td>5554.0</td>\n",
       "    </tr>\n",
       "  </tbody>\n",
       "</table>\n",
       "</div>"
      ],
      "text/plain": [
       "          C/A  UNIT       SCP        STATION LINENAME DIVISION       DATE  \\\n",
       "206852  TRAM2  R469  00-05-01  RIT-ROOSEVELT        R      RIT 2019-05-03   \n",
       "206853  TRAM2  R469  00-05-01  RIT-ROOSEVELT        R      RIT 2019-05-03   \n",
       "206854  TRAM2  R469  00-05-01  RIT-ROOSEVELT        R      RIT 2019-05-03   \n",
       "206855  TRAM2  R469  00-05-01  RIT-ROOSEVELT        R      RIT 2019-05-03   \n",
       "206856  TRAM2  R469  00-05-01  RIT-ROOSEVELT        R      RIT 2019-05-03   \n",
       "\n",
       "            TIME     DESC  ENTRIES  EXITS           Date_Time  \\\n",
       "206852  05:00:00  REGULAR     5554    376 2019-05-03 05:00:00   \n",
       "206853  09:00:00  REGULAR     5554    376 2019-05-03 09:00:00   \n",
       "206854  13:00:00  REGULAR     5554    376 2019-05-03 13:00:00   \n",
       "206855  17:00:00  REGULAR     5554    376 2019-05-03 17:00:00   \n",
       "206856  21:00:00  REGULAR     5554    376 2019-05-03 21:00:00   \n",
       "\n",
       "                             Turnstile Week_Day PREV_TIME  PREV_EXITS  \\\n",
       "206852  TRAM2R46900-05-01RIT-ROOSEVELT   Friday  01:00:00       376.0   \n",
       "206853  TRAM2R46900-05-01RIT-ROOSEVELT   Friday  05:00:00       376.0   \n",
       "206854  TRAM2R46900-05-01RIT-ROOSEVELT   Friday  09:00:00       376.0   \n",
       "206855  TRAM2R46900-05-01RIT-ROOSEVELT   Friday  13:00:00       376.0   \n",
       "206856  TRAM2R46900-05-01RIT-ROOSEVELT   Friday  17:00:00       376.0   \n",
       "\n",
       "        PREV_ENTRIES  \n",
       "206852        5554.0  \n",
       "206853        5554.0  \n",
       "206854        5554.0  \n",
       "206855        5554.0  \n",
       "206856        5554.0  "
      ]
     },
     "execution_count": 8,
     "metadata": {},
     "output_type": "execute_result"
    }
   ],
   "source": [
    "#All turnstiles have cumulative counts, previous data needs to be subtraced from current data \n",
    "#to find total entries/exits\n",
    "grouped_time=data.copy()\n",
    "grouped_time[\"PREV_TIME\"] = data.groupby([\"Turnstile\"]).TIME.shift(1)\n",
    "grouped_time[\"PREV_EXITS\"] = data.groupby([\"Turnstile\"]).EXITS.shift(1)\n",
    "grouped_time[\"PREV_ENTRIES\"] = data.groupby([\"Turnstile\"]).ENTRIES.shift(1)\n",
    "grouped_time.tail()"
   ]
  },
  {
   "cell_type": "code",
   "execution_count": 9,
   "metadata": {},
   "outputs": [
    {
     "data": {
      "text/html": [
       "<div>\n",
       "<style scoped>\n",
       "    .dataframe tbody tr th:only-of-type {\n",
       "        vertical-align: middle;\n",
       "    }\n",
       "\n",
       "    .dataframe tbody tr th {\n",
       "        vertical-align: top;\n",
       "    }\n",
       "\n",
       "    .dataframe thead th {\n",
       "        text-align: right;\n",
       "    }\n",
       "</style>\n",
       "<table border=\"1\" class=\"dataframe\">\n",
       "  <thead>\n",
       "    <tr style=\"text-align: right;\">\n",
       "      <th></th>\n",
       "      <th>C/A</th>\n",
       "      <th>UNIT</th>\n",
       "      <th>SCP</th>\n",
       "      <th>STATION</th>\n",
       "      <th>LINENAME</th>\n",
       "      <th>DIVISION</th>\n",
       "      <th>DATE</th>\n",
       "      <th>TIME</th>\n",
       "      <th>DESC</th>\n",
       "      <th>ENTRIES</th>\n",
       "      <th>EXITS</th>\n",
       "      <th>Date_Time</th>\n",
       "      <th>Turnstile</th>\n",
       "      <th>Week_Day</th>\n",
       "      <th>PREV_TIME</th>\n",
       "      <th>PREV_EXITS</th>\n",
       "      <th>PREV_ENTRIES</th>\n",
       "    </tr>\n",
       "  </thead>\n",
       "  <tbody>\n",
       "    <tr>\n",
       "      <th>1</th>\n",
       "      <td>A002</td>\n",
       "      <td>R051</td>\n",
       "      <td>02-00-00</td>\n",
       "      <td>59 ST</td>\n",
       "      <td>NQR456W</td>\n",
       "      <td>BMT</td>\n",
       "      <td>2019-05-11</td>\n",
       "      <td>04:00:00</td>\n",
       "      <td>REGULAR</td>\n",
       "      <td>7053511</td>\n",
       "      <td>2390508</td>\n",
       "      <td>2019-05-11 04:00:00</td>\n",
       "      <td>A002R05102-00-0059 ST</td>\n",
       "      <td>Saturday</td>\n",
       "      <td>00:00:00</td>\n",
       "      <td>2390505.0</td>\n",
       "      <td>7053483.0</td>\n",
       "    </tr>\n",
       "    <tr>\n",
       "      <th>2</th>\n",
       "      <td>A002</td>\n",
       "      <td>R051</td>\n",
       "      <td>02-00-00</td>\n",
       "      <td>59 ST</td>\n",
       "      <td>NQR456W</td>\n",
       "      <td>BMT</td>\n",
       "      <td>2019-05-11</td>\n",
       "      <td>08:00:00</td>\n",
       "      <td>REGULAR</td>\n",
       "      <td>7053534</td>\n",
       "      <td>2390536</td>\n",
       "      <td>2019-05-11 08:00:00</td>\n",
       "      <td>A002R05102-00-0059 ST</td>\n",
       "      <td>Saturday</td>\n",
       "      <td>04:00:00</td>\n",
       "      <td>2390508.0</td>\n",
       "      <td>7053511.0</td>\n",
       "    </tr>\n",
       "    <tr>\n",
       "      <th>3</th>\n",
       "      <td>A002</td>\n",
       "      <td>R051</td>\n",
       "      <td>02-00-00</td>\n",
       "      <td>59 ST</td>\n",
       "      <td>NQR456W</td>\n",
       "      <td>BMT</td>\n",
       "      <td>2019-05-11</td>\n",
       "      <td>12:00:00</td>\n",
       "      <td>REGULAR</td>\n",
       "      <td>7053618</td>\n",
       "      <td>2390596</td>\n",
       "      <td>2019-05-11 12:00:00</td>\n",
       "      <td>A002R05102-00-0059 ST</td>\n",
       "      <td>Saturday</td>\n",
       "      <td>08:00:00</td>\n",
       "      <td>2390536.0</td>\n",
       "      <td>7053534.0</td>\n",
       "    </tr>\n",
       "    <tr>\n",
       "      <th>4</th>\n",
       "      <td>A002</td>\n",
       "      <td>R051</td>\n",
       "      <td>02-00-00</td>\n",
       "      <td>59 ST</td>\n",
       "      <td>NQR456W</td>\n",
       "      <td>BMT</td>\n",
       "      <td>2019-05-11</td>\n",
       "      <td>16:00:00</td>\n",
       "      <td>REGULAR</td>\n",
       "      <td>7053841</td>\n",
       "      <td>2390655</td>\n",
       "      <td>2019-05-11 16:00:00</td>\n",
       "      <td>A002R05102-00-0059 ST</td>\n",
       "      <td>Saturday</td>\n",
       "      <td>12:00:00</td>\n",
       "      <td>2390596.0</td>\n",
       "      <td>7053618.0</td>\n",
       "    </tr>\n",
       "    <tr>\n",
       "      <th>5</th>\n",
       "      <td>A002</td>\n",
       "      <td>R051</td>\n",
       "      <td>02-00-00</td>\n",
       "      <td>59 ST</td>\n",
       "      <td>NQR456W</td>\n",
       "      <td>BMT</td>\n",
       "      <td>2019-05-11</td>\n",
       "      <td>20:00:00</td>\n",
       "      <td>REGULAR</td>\n",
       "      <td>7054133</td>\n",
       "      <td>2390702</td>\n",
       "      <td>2019-05-11 20:00:00</td>\n",
       "      <td>A002R05102-00-0059 ST</td>\n",
       "      <td>Saturday</td>\n",
       "      <td>16:00:00</td>\n",
       "      <td>2390655.0</td>\n",
       "      <td>7053841.0</td>\n",
       "    </tr>\n",
       "  </tbody>\n",
       "</table>\n",
       "</div>"
      ],
      "text/plain": [
       "    C/A  UNIT       SCP STATION LINENAME DIVISION       DATE      TIME  \\\n",
       "1  A002  R051  02-00-00   59 ST  NQR456W      BMT 2019-05-11  04:00:00   \n",
       "2  A002  R051  02-00-00   59 ST  NQR456W      BMT 2019-05-11  08:00:00   \n",
       "3  A002  R051  02-00-00   59 ST  NQR456W      BMT 2019-05-11  12:00:00   \n",
       "4  A002  R051  02-00-00   59 ST  NQR456W      BMT 2019-05-11  16:00:00   \n",
       "5  A002  R051  02-00-00   59 ST  NQR456W      BMT 2019-05-11  20:00:00   \n",
       "\n",
       "      DESC  ENTRIES    EXITS           Date_Time              Turnstile  \\\n",
       "1  REGULAR  7053511  2390508 2019-05-11 04:00:00  A002R05102-00-0059 ST   \n",
       "2  REGULAR  7053534  2390536 2019-05-11 08:00:00  A002R05102-00-0059 ST   \n",
       "3  REGULAR  7053618  2390596 2019-05-11 12:00:00  A002R05102-00-0059 ST   \n",
       "4  REGULAR  7053841  2390655 2019-05-11 16:00:00  A002R05102-00-0059 ST   \n",
       "5  REGULAR  7054133  2390702 2019-05-11 20:00:00  A002R05102-00-0059 ST   \n",
       "\n",
       "   Week_Day PREV_TIME  PREV_EXITS  PREV_ENTRIES  \n",
       "1  Saturday  00:00:00   2390505.0     7053483.0  \n",
       "2  Saturday  04:00:00   2390508.0     7053511.0  \n",
       "3  Saturday  08:00:00   2390536.0     7053534.0  \n",
       "4  Saturday  12:00:00   2390596.0     7053618.0  \n",
       "5  Saturday  16:00:00   2390655.0     7053841.0  "
      ]
     },
     "execution_count": 9,
     "metadata": {},
     "output_type": "execute_result"
    }
   ],
   "source": [
    "#drop first row of each turnstile b/c of shift down\n",
    "grouped_time.dropna(subset=[\"PREV_ENTRIES\"], axis=0, inplace=True)\n",
    "grouped_time.head()"
   ]
  },
  {
   "cell_type": "markdown",
   "metadata": {},
   "source": [
    "Remove counter errors from total entries/exits that occur from counters resetting"
   ]
  },
  {
   "cell_type": "code",
   "execution_count": 10,
   "metadata": {},
   "outputs": [],
   "source": [
    "def get_daily_counts_exits(row, max_counter):\n",
    "    counter_ex = row[\"EXITS\"] - row[\"PREV_EXITS\"]\n",
    "    if counter_ex < 0:\n",
    "        # Maybe counter is reversed?\n",
    "        counter_ex = -counter_ex\n",
    "    if counter_ex > max_counter:\n",
    "        # Maybe counter was reset to 0? \n",
    "        #print(row[\"EXITS\"], row[\"PREV_EXITS\"])\n",
    "        counter_ex = min(row[\"EXITS\"], row[\"PREV_EXITS\"])\n",
    "    if counter_ex > max_counter:\n",
    "        # Check it again to make sure we're not still giving a counter that's too big\n",
    "        return 0\n",
    "    return counter_ex\n",
    "\n",
    "def get_daily_counts_entries(row, max_counter):\n",
    "    counter_ent = row[\"ENTRIES\"] - row[\"PREV_ENTRIES\"]\n",
    "    if counter_ent < 0:\n",
    "        # Maybe counter is reversed?\n",
    "        counter_ent = -counter_ent\n",
    "    if counter_ent > max_counter:\n",
    "        # Maybe counter was reset to 0? \n",
    "        #print(row[\"ENTRIES\"], row[\"PREV_ENTRIES\"])\n",
    "        counter_ent = min(row[\"ENTRIES\"], row[\"PREV_ENTRIES\"])\n",
    "    if counter_ent > max_counter:\n",
    "        # Check it again to make sure we're not still giving a counter that's too big\n",
    "        return 0\n",
    "    return counter_ent\n",
    "\n",
    "\n",
    "# If counter is > 1Million, then the counter might have been reset.  \n",
    "# Just set it to zero as different counters have different cycle limits\n",
    "# It'd probably be a good idea to use a number even significantly smaller than 1 million as the limit!"
   ]
  },
  {
   "cell_type": "code",
   "execution_count": 11,
   "metadata": {},
   "outputs": [
    {
     "data": {
      "text/html": [
       "<div>\n",
       "<style scoped>\n",
       "    .dataframe tbody tr th:only-of-type {\n",
       "        vertical-align: middle;\n",
       "    }\n",
       "\n",
       "    .dataframe tbody tr th {\n",
       "        vertical-align: top;\n",
       "    }\n",
       "\n",
       "    .dataframe thead th {\n",
       "        text-align: right;\n",
       "    }\n",
       "</style>\n",
       "<table border=\"1\" class=\"dataframe\">\n",
       "  <thead>\n",
       "    <tr style=\"text-align: right;\">\n",
       "      <th></th>\n",
       "      <th>ENTRIES</th>\n",
       "      <th>EXITS</th>\n",
       "      <th>PREV_EXITS</th>\n",
       "      <th>PREV_ENTRIES</th>\n",
       "      <th>TOTAL_ENTRIES</th>\n",
       "      <th>TOTAL_EXITS</th>\n",
       "    </tr>\n",
       "  </thead>\n",
       "  <tbody>\n",
       "    <tr>\n",
       "      <th>count</th>\n",
       "      <td>2.236073e+06</td>\n",
       "      <td>2.236073e+06</td>\n",
       "      <td>2.236073e+06</td>\n",
       "      <td>2.236073e+06</td>\n",
       "      <td>2.236073e+06</td>\n",
       "      <td>2.236073e+06</td>\n",
       "    </tr>\n",
       "    <tr>\n",
       "      <th>mean</th>\n",
       "      <td>4.148039e+07</td>\n",
       "      <td>3.396750e+07</td>\n",
       "      <td>3.396821e+07</td>\n",
       "      <td>4.148122e+07</td>\n",
       "      <td>6.120600e+02</td>\n",
       "      <td>4.912548e+02</td>\n",
       "    </tr>\n",
       "    <tr>\n",
       "      <th>std</th>\n",
       "      <td>2.118498e+08</td>\n",
       "      <td>1.951475e+08</td>\n",
       "      <td>1.951484e+08</td>\n",
       "      <td>2.118507e+08</td>\n",
       "      <td>4.711624e+03</td>\n",
       "      <td>4.015928e+03</td>\n",
       "    </tr>\n",
       "    <tr>\n",
       "      <th>min</th>\n",
       "      <td>0.000000e+00</td>\n",
       "      <td>0.000000e+00</td>\n",
       "      <td>0.000000e+00</td>\n",
       "      <td>0.000000e+00</td>\n",
       "      <td>0.000000e+00</td>\n",
       "      <td>0.000000e+00</td>\n",
       "    </tr>\n",
       "    <tr>\n",
       "      <th>25%</th>\n",
       "      <td>3.499730e+05</td>\n",
       "      <td>1.430240e+05</td>\n",
       "      <td>1.430260e+05</td>\n",
       "      <td>3.499680e+05</td>\n",
       "      <td>1.000000e+01</td>\n",
       "      <td>9.000000e+00</td>\n",
       "    </tr>\n",
       "    <tr>\n",
       "      <th>50%</th>\n",
       "      <td>2.176565e+06</td>\n",
       "      <td>1.254667e+06</td>\n",
       "      <td>1.254664e+06</td>\n",
       "      <td>2.176577e+06</td>\n",
       "      <td>7.600000e+01</td>\n",
       "      <td>5.500000e+01</td>\n",
       "    </tr>\n",
       "    <tr>\n",
       "      <th>75%</th>\n",
       "      <td>6.780894e+06</td>\n",
       "      <td>4.604451e+06</td>\n",
       "      <td>4.604462e+06</td>\n",
       "      <td>6.780916e+06</td>\n",
       "      <td>2.520000e+02</td>\n",
       "      <td>1.760000e+02</td>\n",
       "    </tr>\n",
       "    <tr>\n",
       "      <th>max</th>\n",
       "      <td>2.129395e+09</td>\n",
       "      <td>2.124196e+09</td>\n",
       "      <td>2.124196e+09</td>\n",
       "      <td>2.129395e+09</td>\n",
       "      <td>9.997500e+04</td>\n",
       "      <td>9.999600e+04</td>\n",
       "    </tr>\n",
       "  </tbody>\n",
       "</table>\n",
       "</div>"
      ],
      "text/plain": [
       "            ENTRIES         EXITS    PREV_EXITS  PREV_ENTRIES  TOTAL_ENTRIES  \\\n",
       "count  2.236073e+06  2.236073e+06  2.236073e+06  2.236073e+06   2.236073e+06   \n",
       "mean   4.148039e+07  3.396750e+07  3.396821e+07  4.148122e+07   6.120600e+02   \n",
       "std    2.118498e+08  1.951475e+08  1.951484e+08  2.118507e+08   4.711624e+03   \n",
       "min    0.000000e+00  0.000000e+00  0.000000e+00  0.000000e+00   0.000000e+00   \n",
       "25%    3.499730e+05  1.430240e+05  1.430260e+05  3.499680e+05   1.000000e+01   \n",
       "50%    2.176565e+06  1.254667e+06  1.254664e+06  2.176577e+06   7.600000e+01   \n",
       "75%    6.780894e+06  4.604451e+06  4.604462e+06  6.780916e+06   2.520000e+02   \n",
       "max    2.129395e+09  2.124196e+09  2.124196e+09  2.129395e+09   9.997500e+04   \n",
       "\n",
       "        TOTAL_EXITS  \n",
       "count  2.236073e+06  \n",
       "mean   4.912548e+02  \n",
       "std    4.015928e+03  \n",
       "min    0.000000e+00  \n",
       "25%    9.000000e+00  \n",
       "50%    5.500000e+01  \n",
       "75%    1.760000e+02  \n",
       "max    9.999600e+04  "
      ]
     },
     "execution_count": 11,
     "metadata": {},
     "output_type": "execute_result"
    }
   ],
   "source": [
    "grouped_time[\"TOTAL_ENTRIES\"] = grouped_time.apply(get_daily_counts_entries, axis=1, max_counter=100000)\n",
    "grouped_time[\"TOTAL_EXITS\"] = grouped_time.apply(get_daily_counts_exits, axis=1, max_counter=100000)\n",
    "grouped_time.describe()"
   ]
  },
  {
   "cell_type": "code",
   "execution_count": 12,
   "metadata": {},
   "outputs": [
    {
     "data": {
      "text/html": [
       "<div>\n",
       "<style scoped>\n",
       "    .dataframe tbody tr th:only-of-type {\n",
       "        vertical-align: middle;\n",
       "    }\n",
       "\n",
       "    .dataframe tbody tr th {\n",
       "        vertical-align: top;\n",
       "    }\n",
       "\n",
       "    .dataframe thead th {\n",
       "        text-align: right;\n",
       "    }\n",
       "</style>\n",
       "<table border=\"1\" class=\"dataframe\">\n",
       "  <thead>\n",
       "    <tr style=\"text-align: right;\">\n",
       "      <th></th>\n",
       "      <th>C/A</th>\n",
       "      <th>UNIT</th>\n",
       "      <th>SCP</th>\n",
       "      <th>STATION</th>\n",
       "      <th>LINENAME</th>\n",
       "      <th>DIVISION</th>\n",
       "      <th>DATE</th>\n",
       "      <th>TIME</th>\n",
       "      <th>DESC</th>\n",
       "      <th>ENTRIES</th>\n",
       "      <th>EXITS</th>\n",
       "      <th>Date_Time</th>\n",
       "      <th>Turnstile</th>\n",
       "      <th>Week_Day</th>\n",
       "      <th>PREV_TIME</th>\n",
       "      <th>PREV_EXITS</th>\n",
       "      <th>PREV_ENTRIES</th>\n",
       "      <th>TOTAL_ENTRIES</th>\n",
       "      <th>TOTAL_EXITS</th>\n",
       "      <th>TOTAL_TRAFFIC</th>\n",
       "    </tr>\n",
       "  </thead>\n",
       "  <tbody>\n",
       "    <tr>\n",
       "      <th>1</th>\n",
       "      <td>A002</td>\n",
       "      <td>R051</td>\n",
       "      <td>02-00-00</td>\n",
       "      <td>59 ST</td>\n",
       "      <td>NQR456W</td>\n",
       "      <td>BMT</td>\n",
       "      <td>2019-05-11</td>\n",
       "      <td>04:00:00</td>\n",
       "      <td>REGULAR</td>\n",
       "      <td>7053511</td>\n",
       "      <td>2390508</td>\n",
       "      <td>2019-05-11 04:00:00</td>\n",
       "      <td>A002R05102-00-0059 ST</td>\n",
       "      <td>Saturday</td>\n",
       "      <td>00:00:00</td>\n",
       "      <td>2390505.0</td>\n",
       "      <td>7053483.0</td>\n",
       "      <td>28.0</td>\n",
       "      <td>3.0</td>\n",
       "      <td>31.0</td>\n",
       "    </tr>\n",
       "    <tr>\n",
       "      <th>2</th>\n",
       "      <td>A002</td>\n",
       "      <td>R051</td>\n",
       "      <td>02-00-00</td>\n",
       "      <td>59 ST</td>\n",
       "      <td>NQR456W</td>\n",
       "      <td>BMT</td>\n",
       "      <td>2019-05-11</td>\n",
       "      <td>08:00:00</td>\n",
       "      <td>REGULAR</td>\n",
       "      <td>7053534</td>\n",
       "      <td>2390536</td>\n",
       "      <td>2019-05-11 08:00:00</td>\n",
       "      <td>A002R05102-00-0059 ST</td>\n",
       "      <td>Saturday</td>\n",
       "      <td>04:00:00</td>\n",
       "      <td>2390508.0</td>\n",
       "      <td>7053511.0</td>\n",
       "      <td>23.0</td>\n",
       "      <td>28.0</td>\n",
       "      <td>51.0</td>\n",
       "    </tr>\n",
       "    <tr>\n",
       "      <th>3</th>\n",
       "      <td>A002</td>\n",
       "      <td>R051</td>\n",
       "      <td>02-00-00</td>\n",
       "      <td>59 ST</td>\n",
       "      <td>NQR456W</td>\n",
       "      <td>BMT</td>\n",
       "      <td>2019-05-11</td>\n",
       "      <td>12:00:00</td>\n",
       "      <td>REGULAR</td>\n",
       "      <td>7053618</td>\n",
       "      <td>2390596</td>\n",
       "      <td>2019-05-11 12:00:00</td>\n",
       "      <td>A002R05102-00-0059 ST</td>\n",
       "      <td>Saturday</td>\n",
       "      <td>08:00:00</td>\n",
       "      <td>2390536.0</td>\n",
       "      <td>7053534.0</td>\n",
       "      <td>84.0</td>\n",
       "      <td>60.0</td>\n",
       "      <td>144.0</td>\n",
       "    </tr>\n",
       "    <tr>\n",
       "      <th>4</th>\n",
       "      <td>A002</td>\n",
       "      <td>R051</td>\n",
       "      <td>02-00-00</td>\n",
       "      <td>59 ST</td>\n",
       "      <td>NQR456W</td>\n",
       "      <td>BMT</td>\n",
       "      <td>2019-05-11</td>\n",
       "      <td>16:00:00</td>\n",
       "      <td>REGULAR</td>\n",
       "      <td>7053841</td>\n",
       "      <td>2390655</td>\n",
       "      <td>2019-05-11 16:00:00</td>\n",
       "      <td>A002R05102-00-0059 ST</td>\n",
       "      <td>Saturday</td>\n",
       "      <td>12:00:00</td>\n",
       "      <td>2390596.0</td>\n",
       "      <td>7053618.0</td>\n",
       "      <td>223.0</td>\n",
       "      <td>59.0</td>\n",
       "      <td>282.0</td>\n",
       "    </tr>\n",
       "    <tr>\n",
       "      <th>5</th>\n",
       "      <td>A002</td>\n",
       "      <td>R051</td>\n",
       "      <td>02-00-00</td>\n",
       "      <td>59 ST</td>\n",
       "      <td>NQR456W</td>\n",
       "      <td>BMT</td>\n",
       "      <td>2019-05-11</td>\n",
       "      <td>20:00:00</td>\n",
       "      <td>REGULAR</td>\n",
       "      <td>7054133</td>\n",
       "      <td>2390702</td>\n",
       "      <td>2019-05-11 20:00:00</td>\n",
       "      <td>A002R05102-00-0059 ST</td>\n",
       "      <td>Saturday</td>\n",
       "      <td>16:00:00</td>\n",
       "      <td>2390655.0</td>\n",
       "      <td>7053841.0</td>\n",
       "      <td>292.0</td>\n",
       "      <td>47.0</td>\n",
       "      <td>339.0</td>\n",
       "    </tr>\n",
       "  </tbody>\n",
       "</table>\n",
       "</div>"
      ],
      "text/plain": [
       "    C/A  UNIT       SCP STATION LINENAME DIVISION       DATE      TIME  \\\n",
       "1  A002  R051  02-00-00   59 ST  NQR456W      BMT 2019-05-11  04:00:00   \n",
       "2  A002  R051  02-00-00   59 ST  NQR456W      BMT 2019-05-11  08:00:00   \n",
       "3  A002  R051  02-00-00   59 ST  NQR456W      BMT 2019-05-11  12:00:00   \n",
       "4  A002  R051  02-00-00   59 ST  NQR456W      BMT 2019-05-11  16:00:00   \n",
       "5  A002  R051  02-00-00   59 ST  NQR456W      BMT 2019-05-11  20:00:00   \n",
       "\n",
       "      DESC  ENTRIES    EXITS           Date_Time              Turnstile  \\\n",
       "1  REGULAR  7053511  2390508 2019-05-11 04:00:00  A002R05102-00-0059 ST   \n",
       "2  REGULAR  7053534  2390536 2019-05-11 08:00:00  A002R05102-00-0059 ST   \n",
       "3  REGULAR  7053618  2390596 2019-05-11 12:00:00  A002R05102-00-0059 ST   \n",
       "4  REGULAR  7053841  2390655 2019-05-11 16:00:00  A002R05102-00-0059 ST   \n",
       "5  REGULAR  7054133  2390702 2019-05-11 20:00:00  A002R05102-00-0059 ST   \n",
       "\n",
       "   Week_Day PREV_TIME  PREV_EXITS  PREV_ENTRIES  TOTAL_ENTRIES  TOTAL_EXITS  \\\n",
       "1  Saturday  00:00:00   2390505.0     7053483.0           28.0          3.0   \n",
       "2  Saturday  04:00:00   2390508.0     7053511.0           23.0         28.0   \n",
       "3  Saturday  08:00:00   2390536.0     7053534.0           84.0         60.0   \n",
       "4  Saturday  12:00:00   2390596.0     7053618.0          223.0         59.0   \n",
       "5  Saturday  16:00:00   2390655.0     7053841.0          292.0         47.0   \n",
       "\n",
       "   TOTAL_TRAFFIC  \n",
       "1           31.0  \n",
       "2           51.0  \n",
       "3          144.0  \n",
       "4          282.0  \n",
       "5          339.0  "
      ]
     },
     "execution_count": 12,
     "metadata": {},
     "output_type": "execute_result"
    }
   ],
   "source": [
    "#find total traffic\n",
    "grouped_time[\"TOTAL_TRAFFIC\"] = grouped_time[\"TOTAL_EXITS\"] + grouped_time[\"TOTAL_ENTRIES\"]\n",
    "grouped_time.head()"
   ]
  },
  {
   "cell_type": "markdown",
   "metadata": {},
   "source": [
    "remove total traffic outliers that are 3 sigmas from mean"
   ]
  },
  {
   "cell_type": "code",
   "execution_count": 13,
   "metadata": {},
   "outputs": [
    {
     "data": {
      "text/html": [
       "<div>\n",
       "<style scoped>\n",
       "    .dataframe tbody tr th:only-of-type {\n",
       "        vertical-align: middle;\n",
       "    }\n",
       "\n",
       "    .dataframe tbody tr th {\n",
       "        vertical-align: top;\n",
       "    }\n",
       "\n",
       "    .dataframe thead th {\n",
       "        text-align: right;\n",
       "    }\n",
       "</style>\n",
       "<table border=\"1\" class=\"dataframe\">\n",
       "  <thead>\n",
       "    <tr style=\"text-align: right;\">\n",
       "      <th></th>\n",
       "      <th>ENTRIES</th>\n",
       "      <th>EXITS</th>\n",
       "      <th>PREV_EXITS</th>\n",
       "      <th>PREV_ENTRIES</th>\n",
       "      <th>TOTAL_ENTRIES</th>\n",
       "      <th>TOTAL_EXITS</th>\n",
       "      <th>TOTAL_TRAFFIC</th>\n",
       "    </tr>\n",
       "  </thead>\n",
       "  <tbody>\n",
       "    <tr>\n",
       "      <th>count</th>\n",
       "      <td>2.212235e+06</td>\n",
       "      <td>2.212235e+06</td>\n",
       "      <td>2.212235e+06</td>\n",
       "      <td>2.212235e+06</td>\n",
       "      <td>2.212235e+06</td>\n",
       "      <td>2.212235e+06</td>\n",
       "      <td>2.212235e+06</td>\n",
       "    </tr>\n",
       "    <tr>\n",
       "      <th>mean</th>\n",
       "      <td>4.145657e+07</td>\n",
       "      <td>3.392900e+07</td>\n",
       "      <td>3.393014e+07</td>\n",
       "      <td>4.145877e+07</td>\n",
       "      <td>2.111534e+02</td>\n",
       "      <td>1.666225e+02</td>\n",
       "      <td>3.777759e+02</td>\n",
       "    </tr>\n",
       "    <tr>\n",
       "      <th>std</th>\n",
       "      <td>2.117360e+08</td>\n",
       "      <td>1.950153e+08</td>\n",
       "      <td>1.950168e+08</td>\n",
       "      <td>2.117418e+08</td>\n",
       "      <td>6.844930e+02</td>\n",
       "      <td>5.832379e+02</td>\n",
       "      <td>1.089409e+03</td>\n",
       "    </tr>\n",
       "    <tr>\n",
       "      <th>min</th>\n",
       "      <td>0.000000e+00</td>\n",
       "      <td>0.000000e+00</td>\n",
       "      <td>0.000000e+00</td>\n",
       "      <td>0.000000e+00</td>\n",
       "      <td>0.000000e+00</td>\n",
       "      <td>0.000000e+00</td>\n",
       "      <td>0.000000e+00</td>\n",
       "    </tr>\n",
       "    <tr>\n",
       "      <th>25%</th>\n",
       "      <td>3.461120e+05</td>\n",
       "      <td>1.405950e+05</td>\n",
       "      <td>1.405980e+05</td>\n",
       "      <td>3.462060e+05</td>\n",
       "      <td>1.000000e+01</td>\n",
       "      <td>8.000000e+00</td>\n",
       "      <td>2.900000e+01</td>\n",
       "    </tr>\n",
       "    <tr>\n",
       "      <th>50%</th>\n",
       "      <td>2.166457e+06</td>\n",
       "      <td>1.246360e+06</td>\n",
       "      <td>1.246475e+06</td>\n",
       "      <td>2.166594e+06</td>\n",
       "      <td>7.400000e+01</td>\n",
       "      <td>5.300000e+01</td>\n",
       "      <td>1.740000e+02</td>\n",
       "    </tr>\n",
       "    <tr>\n",
       "      <th>75%</th>\n",
       "      <td>6.771164e+06</td>\n",
       "      <td>4.591253e+06</td>\n",
       "      <td>4.591504e+06</td>\n",
       "      <td>6.771260e+06</td>\n",
       "      <td>2.440000e+02</td>\n",
       "      <td>1.700000e+02</td>\n",
       "      <td>4.640000e+02</td>\n",
       "    </tr>\n",
       "    <tr>\n",
       "      <th>max</th>\n",
       "      <td>2.129395e+09</td>\n",
       "      <td>2.124196e+09</td>\n",
       "      <td>2.124196e+09</td>\n",
       "      <td>2.129395e+09</td>\n",
       "      <td>2.481100e+04</td>\n",
       "      <td>2.474800e+04</td>\n",
       "      <td>2.482000e+04</td>\n",
       "    </tr>\n",
       "  </tbody>\n",
       "</table>\n",
       "</div>"
      ],
      "text/plain": [
       "            ENTRIES         EXITS    PREV_EXITS  PREV_ENTRIES  TOTAL_ENTRIES  \\\n",
       "count  2.212235e+06  2.212235e+06  2.212235e+06  2.212235e+06   2.212235e+06   \n",
       "mean   4.145657e+07  3.392900e+07  3.393014e+07  4.145877e+07   2.111534e+02   \n",
       "std    2.117360e+08  1.950153e+08  1.950168e+08  2.117418e+08   6.844930e+02   \n",
       "min    0.000000e+00  0.000000e+00  0.000000e+00  0.000000e+00   0.000000e+00   \n",
       "25%    3.461120e+05  1.405950e+05  1.405980e+05  3.462060e+05   1.000000e+01   \n",
       "50%    2.166457e+06  1.246360e+06  1.246475e+06  2.166594e+06   7.400000e+01   \n",
       "75%    6.771164e+06  4.591253e+06  4.591504e+06  6.771260e+06   2.440000e+02   \n",
       "max    2.129395e+09  2.124196e+09  2.124196e+09  2.129395e+09   2.481100e+04   \n",
       "\n",
       "        TOTAL_EXITS  TOTAL_TRAFFIC  \n",
       "count  2.212235e+06   2.212235e+06  \n",
       "mean   1.666225e+02   3.777759e+02  \n",
       "std    5.832379e+02   1.089409e+03  \n",
       "min    0.000000e+00   0.000000e+00  \n",
       "25%    8.000000e+00   2.900000e+01  \n",
       "50%    5.300000e+01   1.740000e+02  \n",
       "75%    1.700000e+02   4.640000e+02  \n",
       "max    2.474800e+04   2.482000e+04  "
      ]
     },
     "execution_count": 13,
     "metadata": {},
     "output_type": "execute_result"
    }
   ],
   "source": [
    "grouped_time = grouped_time[(np.abs(stats.zscore(grouped_time['TOTAL_TRAFFIC'])) < 3)] #filtering\n",
    "grouped_time.describe()"
   ]
  },
  {
   "cell_type": "markdown",
   "metadata": {},
   "source": [
    "drop uneeded columns"
   ]
  },
  {
   "cell_type": "code",
   "execution_count": 14,
   "metadata": {},
   "outputs": [],
   "source": [
    "grouped_time.drop(['C/A','UNIT','SCP','LINENAME','DESC', 'ENTRIES', 'EXITS', 'PREV_TIME', 'PREV_ENTRIES', 'PREV_EXITS', 'TOTAL_ENTRIES', 'TOTAL_EXITS'], axis=1, inplace=True)"
   ]
  },
  {
   "cell_type": "code",
   "execution_count": 15,
   "metadata": {},
   "outputs": [],
   "source": [
    "#grouped_day = data.groupby(['DATE','Turnstile','STATION'], as_index=False).agg({'ENTRIES': ['min', 'max'], 'EXITS': ['min', 'max']})\n",
    "#grouped = data.groupby(['STATION','DATE']).agg({'ENTRIES': ['min', 'max'], 'EXITS': ['min', 'max']})\n",
    "#grouped = grouped.set_index('STATION')\n",
    "#grouped.head()"
   ]
  },
  {
   "cell_type": "code",
   "execution_count": 16,
   "metadata": {},
   "outputs": [],
   "source": [
    "#grouped_day.head()"
   ]
  },
  {
   "cell_type": "code",
   "execution_count": 17,
   "metadata": {},
   "outputs": [],
   "source": [
    "#grouped.columns = [ 'Station', 'Date', 'ENTRIES_MIN', 'ENTRIES_MAX', 'EXITS_MIN', 'EXITS_MAX']\n",
    "#grouped_day.columns = [ 'Date', 'Turnstile', 'Station','ENTRIES_MIN', 'ENTRIES_MAX', 'EXITS_MIN', 'EXITS_MAX']\n",
    "#grouped.columns = ['ENTRIES_MIN', 'ENTRIES_MAX', 'EXITS_MIN', 'EXITS_MAX']\n",
    "#grouped.dtypes"
   ]
  },
  {
   "cell_type": "code",
   "execution_count": null,
   "metadata": {},
   "outputs": [],
   "source": []
  },
  {
   "cell_type": "code",
   "execution_count": null,
   "metadata": {},
   "outputs": [],
   "source": []
  },
  {
   "cell_type": "code",
   "execution_count": null,
   "metadata": {},
   "outputs": [],
   "source": []
  },
  {
   "cell_type": "markdown",
   "metadata": {},
   "source": [
    "Find total entries exits, and traffic"
   ]
  },
  {
   "cell_type": "code",
   "execution_count": 18,
   "metadata": {},
   "outputs": [],
   "source": [
    "#grouped_day['Total_Entries'] = grouped_day['ENTRIES_MAX'] - grouped_day['ENTRIES_MIN']\n",
    "#grouped_day['Total_Exits'] = grouped_day['EXITS_MAX'] - grouped_day['EXITS_MIN']\n",
    "#grouped_day['Total_Traffic'] = grouped_day['Total_Exits'] + grouped_day['Total_Entries']\n",
    "#grouped_day.head()"
   ]
  },
  {
   "cell_type": "code",
   "execution_count": 19,
   "metadata": {},
   "outputs": [],
   "source": [
    "#grouped_day.drop(['ENTRIES_MIN','ENTRIES_MAX','EXITS_MIN','EXITS_MAX', 'Total_Entries', 'Total_Exits', ], axis=1)\n",
    "\n"
   ]
  },
  {
   "cell_type": "markdown",
   "metadata": {},
   "source": [
    "Removing Outlier data from Total_traffic column (Removing anything outside 3 sigma)"
   ]
  },
  {
   "cell_type": "code",
   "execution_count": 20,
   "metadata": {},
   "outputs": [],
   "source": [
    "#grouped_day = grouped_day[(np.abs(stats.zscore(grouped_day['Total_Traffic'])) < 3)] #filtering"
   ]
  },
  {
   "cell_type": "code",
   "execution_count": null,
   "metadata": {},
   "outputs": [],
   "source": []
  },
  {
   "cell_type": "code",
   "execution_count": null,
   "metadata": {},
   "outputs": [],
   "source": []
  },
  {
   "cell_type": "code",
   "execution_count": null,
   "metadata": {},
   "outputs": [],
   "source": []
  },
  {
   "cell_type": "code",
   "execution_count": null,
   "metadata": {},
   "outputs": [],
   "source": []
  },
  {
   "cell_type": "code",
   "execution_count": null,
   "metadata": {},
   "outputs": [],
   "source": []
  },
  {
   "cell_type": "code",
   "execution_count": null,
   "metadata": {},
   "outputs": [],
   "source": []
  },
  {
   "cell_type": "code",
   "execution_count": null,
   "metadata": {},
   "outputs": [],
   "source": []
  },
  {
   "cell_type": "code",
   "execution_count": null,
   "metadata": {},
   "outputs": [],
   "source": []
  },
  {
   "cell_type": "markdown",
   "metadata": {},
   "source": [
    "#### Combine data"
   ]
  },
  {
   "cell_type": "markdown",
   "metadata": {},
   "source": [
    "### Finding top 10 visited stations"
   ]
  },
  {
   "cell_type": "code",
   "execution_count": 21,
   "metadata": {},
   "outputs": [
    {
     "ename": "NameError",
     "evalue": "name 'grouped_day' is not defined",
     "output_type": "error",
     "traceback": [
      "\u001b[0;31m---------------------------------------------------------------------------\u001b[0m",
      "\u001b[0;31mNameError\u001b[0m                                 Traceback (most recent call last)",
      "\u001b[0;32m<ipython-input-21-8bc3c35ef6ba>\u001b[0m in \u001b[0;36m<module>\u001b[0;34m\u001b[0m\n\u001b[0;32m----> 1\u001b[0;31m \u001b[0mTotal_ridership\u001b[0m \u001b[0;34m=\u001b[0m \u001b[0mgrouped_day\u001b[0m\u001b[0;34m.\u001b[0m\u001b[0mgroupby\u001b[0m\u001b[0;34m(\u001b[0m\u001b[0;34m[\u001b[0m\u001b[0;34m'Station'\u001b[0m\u001b[0;34m]\u001b[0m\u001b[0;34m)\u001b[0m\u001b[0;34m.\u001b[0m\u001b[0mTotal_Traffic\u001b[0m\u001b[0;34m.\u001b[0m\u001b[0msum\u001b[0m\u001b[0;34m(\u001b[0m\u001b[0;34m)\u001b[0m\u001b[0;34m.\u001b[0m\u001b[0mreset_index\u001b[0m\u001b[0;34m(\u001b[0m\u001b[0;34m)\u001b[0m\u001b[0;34m\u001b[0m\u001b[0;34m\u001b[0m\u001b[0m\n\u001b[0m",
      "\u001b[0;31mNameError\u001b[0m: name 'grouped_day' is not defined"
     ]
    }
   ],
   "source": [
    "Total_ridership = grouped_day.groupby(['Station']).Total_Traffic.sum().reset_index()"
   ]
  },
  {
   "cell_type": "code",
   "execution_count": null,
   "metadata": {},
   "outputs": [],
   "source": [
    "Total_ridership.sort_values(by=['Total_Traffic'],inplace = True, ascending = False)\n"
   ]
  },
  {
   "cell_type": "code",
   "execution_count": null,
   "metadata": {},
   "outputs": [],
   "source": [
    "Row_list =[] \n",
    "indices = []\n",
    "  \n",
    "# Iterate over each row \n",
    "for index, rows in Total_ridership[:10].iterrows(): \n",
    "    # Create list for the current row \n",
    "#    my_list =[rows.STATION, rows.Total_Traffic] \n",
    "    my_list =rows.Total_Traffic \n",
    "    station_list = rows.Station\n",
    "    # append the list to the final list \n",
    "    Row_list.append(my_list) \n",
    "    indices.append(station_list)\n",
    "Total_ridership.head(10)\n"
   ]
  },
  {
   "cell_type": "code",
   "execution_count": null,
   "metadata": {},
   "outputs": [],
   "source": [
    "plt.ylim(10000000,21000000)\n",
    "plt.xlabel(\"Station\")\n",
    "plt.ylabel(\"Total Traffic\")\n",
    "plt.title(\"Total traffic for the period for top 10 busiest stations\")\n",
    "plt.bar(indices, Row_list)"
   ]
  },
  {
   "cell_type": "markdown",
   "metadata": {},
   "source": [
    "Top 10 Busy Stations, We will focus on top5 of these."
   ]
  },
  {
   "cell_type": "code",
   "execution_count": null,
   "metadata": {},
   "outputs": [],
   "source": [
    "indices"
   ]
  },
  {
   "cell_type": "markdown",
   "metadata": {},
   "source": [
    "### Find high traffic days"
   ]
  },
  {
   "cell_type": "code",
   "execution_count": null,
   "metadata": {},
   "outputs": [],
   "source": [
    "Total_Weekly_ridership = grouped_day.groupby(['Week_Day']).Total_Traffic.sum().reset_index()\n",
    "#Total_Weekly_ridership = grouped_day.groupby(['Week_Day']).Total_Traffic.mean().reset_index()\n",
    "Total_Weekly_ridership.sort_values(by=['Total_Traffic'],inplace = True, ascending = False)\n",
    "Total_Weekly_ridership.head()"
   ]
  },
  {
   "cell_type": "code",
   "execution_count": null,
   "metadata": {},
   "outputs": [],
   "source": [
    "#plt.ylim(1610000000000,1620000000000)\n",
    "plt.ylim(40000000,140000000)\n",
    "plt.bar(Total_Weekly_ridership['Week_Day'], Total_Weekly_ridership['Total_Traffic'])"
   ]
  },
  {
   "cell_type": "markdown",
   "metadata": {},
   "source": [
    "Based on this it seems like weekends see much less traffic compared to weekdays. So WWTF should focus more on weekdays "
   ]
  },
  {
   "cell_type": "code",
   "execution_count": null,
   "metadata": {},
   "outputs": [],
   "source": [
    "Top5 = Total_ridership['Station'][0:5].tolist()\n",
    "Top5_stations = grouped_day[grouped_day['Station'].isin(Top5)]\n",
    "Top5_station_weekly = Top5_stations.groupby(['Station','Week_Day']).Total_Traffic.sum().reset_index()\n",
    "Top5_station_Daily = Top5_stations.groupby(['Station','Date']).Total_Traffic.sum().reset_index()\n",
    "#Top5_station_weekly = Top5_stations.groupby(['Station','Week_Day']).Total_Traffic.mean().reset_index()"
   ]
  },
  {
   "cell_type": "markdown",
   "metadata": {},
   "source": [
    "    "
   ]
  },
  {
   "cell_type": "markdown",
   "metadata": {},
   "source": [
    "#### Weekly Plot for Top5 stations"
   ]
  },
  {
   "cell_type": "code",
   "execution_count": null,
   "metadata": {},
   "outputs": [],
   "source": [
    "\n",
    "for stations in Top5:\n",
    "    station = Top5_station_weekly[Top5_station_weekly['Station'] == stations]\n",
    "#    print(station)\n",
    "    plt.plot(station['Week_Day'],station['Total_Traffic'],label = stations)\n",
    "#plt.ylim(32500000000,40700000000)\n",
    "#plt.ylim(400000000,405000000)\n",
    "plt.legend()\n",
    "plt.show()\n",
    "\n"
   ]
  },
  {
   "cell_type": "markdown",
   "metadata": {},
   "source": [
    "Looking at the plot seems like top5 stations are also showing a dip on weekends, but PATH NEW WTC station is oblitrating seeing the trend properly. This needs to be investigated further. Also, to see the trend for rest of the station we will do another plot removing the data for PATH NEW WTC"
   ]
  },
  {
   "cell_type": "code",
   "execution_count": null,
   "metadata": {},
   "outputs": [],
   "source": [
    "for stations in Top5:\n",
    "    if stations != \"PATH NEW WTC\" :\n",
    "        station = Top5_station_weekly[Top5_station_weekly['Station'] == stations]\n",
    "#    print(station)\n",
    "        plt.plot(station['Week_Day'],station['Total_Traffic'],label = stations)\n",
    "#plt.ylim(32500000000,40700000000)\n",
    "#plt.ylim(400000000,405000000)\n",
    "plt.legend()\n",
    "plt.show()"
   ]
  },
  {
   "cell_type": "markdown",
   "metadata": {},
   "source": [
    "This is also showing the dip in weekend more clearly. But GRD CNTRL-42 ST shows peak on thursday - which needs to be investigated."
   ]
  },
  {
   "cell_type": "code",
   "execution_count": null,
   "metadata": {},
   "outputs": [],
   "source": [
    "for stations in Top5:\n",
    "    station = Top5_station_Daily[Top5_station_Daily['Station'] == stations]\n",
    "#    print(station)\n",
    "    plt.plot(station['Date'],station['Total_Traffic'],label = stations)\n",
    "#plt.ylim(32500000000,40700000000)\n",
    "#plt.ylim(400000000,405000000)\n",
    "plt.legend()\n",
    "plt.show()"
   ]
  },
  {
   "cell_type": "markdown",
   "metadata": {},
   "source": [
    "This plot is also showing some abnormal values for some of the days for PATH NEW WTC. Two of these dates are looking on thursdays. We will look at rest of the stations removing PATH NEW WTC"
   ]
  },
  {
   "cell_type": "code",
   "execution_count": null,
   "metadata": {},
   "outputs": [],
   "source": [
    "for stations in Top5:\n",
    "    if stations != \"PATH NEW WTC\" :\n",
    "        station = Top5_station_Daily[Top5_station_Daily['Station'] == stations]\n",
    "#    print(station)\n",
    "        plt.plot(station['Date'],station['Total_Traffic'],label = stations)\n",
    "#plt.ylim(32500000000,40700000000)\n",
    "#plt.ylim(400000000,405000000)\n",
    "plt.legend()\n",
    "plt.show()"
   ]
  },
  {
   "cell_type": "markdown",
   "metadata": {},
   "source": [
    "This plot also seems to have some outliers. But In general trend is clear Traffic takes a dip on weekends and remains kind of static on weekdays"
   ]
  },
  {
   "cell_type": "markdown",
   "metadata": {},
   "source": [
    "### Find peak hours"
   ]
  },
  {
   "cell_type": "code",
   "execution_count": null,
   "metadata": {},
   "outputs": [],
   "source": []
  },
  {
   "cell_type": "code",
   "execution_count": null,
   "metadata": {},
   "outputs": [],
   "source": []
  },
  {
   "cell_type": "code",
   "execution_count": null,
   "metadata": {},
   "outputs": [],
   "source": []
  },
  {
   "cell_type": "markdown",
   "metadata": {},
   "source": [
    "### Find high traffic areas for games"
   ]
  },
  {
   "cell_type": "markdown",
   "metadata": {},
   "source": [
    "### Compare Boroughs"
   ]
  },
  {
   "cell_type": "markdown",
   "metadata": {},
   "source": [
    "read location data to get borough info and latitude/longitude information"
   ]
  },
  {
   "cell_type": "code",
   "execution_count": 22,
   "metadata": {},
   "outputs": [
    {
     "name": "stdout",
     "output_type": "stream",
     "text": [
      "Empty DataFrame\n",
      "Columns: [Station ID, Complex ID, GTFS Stop ID, Division, Line, Stop Name, Borough, Daytime Routes, Structure, GTFS Latitude, GTFS Longitude, North Direction Label, South Direction Label, ADA, ADA Notes]\n",
      "Index: []\n"
     ]
    }
   ],
   "source": [
    "loc_df = pd.read_csv('http://web.mta.info/developers/data/nyct/subway/Stations.csv')\n",
    "#print(loc_data.Borough.unique())\n",
    "loc_df.tail()\n",
    "print(loc_df[loc_df['GTFS Latitude']== 40.750580])"
   ]
  },
  {
   "cell_type": "code",
   "execution_count": 23,
   "metadata": {},
   "outputs": [],
   "source": [
    "#add borough_name column\n",
    "burough_dict = { 'Q': 'Queens', 'M': 'Manhattan', 'Bk':'Brooklyn', 'Bx': 'Bronx', 'SI': 'Staten Island'}\n",
    "loc_df['Borough_Name'] = loc_df['Borough'].map(burough_dict)"
   ]
  },
  {
   "cell_type": "code",
   "execution_count": 24,
   "metadata": {},
   "outputs": [],
   "source": [
    "#drop uneeded columns\n",
    "loc_df.drop(['Borough','Line','Station ID','Complex ID', 'GTFS Stop ID', 'Line', 'Structure', \n",
    "               'Daytime Routes', 'North Direction Label', 'South Direction Label', 'ADA', 'ADA Notes'], axis=1, inplace =True)"
   ]
  },
  {
   "cell_type": "markdown",
   "metadata": {},
   "source": [
    "Rename columns in loc_data to merge on STATION and DIVISION"
   ]
  },
  {
   "cell_type": "code",
   "execution_count": 25,
   "metadata": {},
   "outputs": [
    {
     "name": "stdout",
     "output_type": "stream",
     "text": [
      "       STATION DIVISION_x       DATE      TIME           Date_Time  \\\n",
      "213514   28 ST        BMT 2019-05-11  04:00:00 2019-05-11 04:00:00   \n",
      "213515   28 ST        BMT 2019-05-11  04:00:00 2019-05-11 04:00:00   \n",
      "213516   28 ST        BMT 2019-05-11  04:00:00 2019-05-11 04:00:00   \n",
      "213517   28 ST        BMT 2019-05-11  08:00:00 2019-05-11 08:00:00   \n",
      "213518   28 ST        BMT 2019-05-11  08:00:00 2019-05-11 08:00:00   \n",
      "...        ...        ...        ...       ...                 ...   \n",
      "266915   28 ST        IRT 2019-05-03  17:00:00 2019-05-03 17:00:00   \n",
      "266916   28 ST        IRT 2019-05-03  17:00:00 2019-05-03 17:00:00   \n",
      "266917   28 ST        IRT 2019-05-03  21:00:00 2019-05-03 21:00:00   \n",
      "266918   28 ST        IRT 2019-05-03  21:00:00 2019-05-03 21:00:00   \n",
      "266919   28 ST        IRT 2019-05-03  21:00:00 2019-05-03 21:00:00   \n",
      "\n",
      "                    Turnstile  Week_Day  TOTAL_TRAFFIC DIVISION_y   Latitude  \\\n",
      "213514  A027R08201-00-0028 ST  Saturday           87.0        BMT  40.745494   \n",
      "213515  A027R08201-00-0028 ST  Saturday           87.0        IRT  40.747215   \n",
      "213516  A027R08201-00-0028 ST  Saturday           87.0        IRT  40.743070   \n",
      "213517  A027R08201-00-0028 ST  Saturday           96.0        BMT  40.745494   \n",
      "213518  A027R08201-00-0028 ST  Saturday           96.0        IRT  40.747215   \n",
      "...                       ...       ...            ...        ...        ...   \n",
      "266915  R230R14302-00-0328 ST    Friday          397.0        IRT  40.747215   \n",
      "266916  R230R14302-00-0328 ST    Friday          397.0        IRT  40.743070   \n",
      "266917  R230R14302-00-0328 ST    Friday          412.0        BMT  40.745494   \n",
      "266918  R230R14302-00-0328 ST    Friday          412.0        IRT  40.747215   \n",
      "266919  R230R14302-00-0328 ST    Friday          412.0        IRT  40.743070   \n",
      "\n",
      "        Longitude Borough_Name  \n",
      "213514 -73.988691    Manhattan  \n",
      "213515 -73.993365    Manhattan  \n",
      "213516 -73.984264    Manhattan  \n",
      "213517 -73.988691    Manhattan  \n",
      "213518 -73.993365    Manhattan  \n",
      "...           ...          ...  \n",
      "266915 -73.993365    Manhattan  \n",
      "266916 -73.984264    Manhattan  \n",
      "266917 -73.988691    Manhattan  \n",
      "266918 -73.993365    Manhattan  \n",
      "266919 -73.984264    Manhattan  \n",
      "\n",
      "[53406 rows x 12 columns]\n",
      "                STATION DIVISION_x       DATE      TIME           Date_Time  \\\n",
      "2086059  34 ST-PENN STA        IND 2019-05-11  04:00:00 2019-05-11 04:00:00   \n",
      "2086060  34 ST-PENN STA        IND 2019-05-11  04:00:00 2019-05-11 04:00:00   \n",
      "2086061  34 ST-PENN STA        IND 2019-05-11  08:00:00 2019-05-11 08:00:00   \n",
      "2086062  34 ST-PENN STA        IND 2019-05-11  08:00:00 2019-05-11 08:00:00   \n",
      "2086063  34 ST-PENN STA        IND 2019-05-11  12:00:00 2019-05-11 12:00:00   \n",
      "...                 ...        ...        ...       ...                 ...   \n",
      "2177624  34 ST-PENN STA        IRT 2019-05-03  14:00:00 2019-05-03 14:00:00   \n",
      "2177625  34 ST-PENN STA        IRT 2019-05-03  18:00:00 2019-05-03 18:00:00   \n",
      "2177626  34 ST-PENN STA        IRT 2019-05-03  18:00:00 2019-05-03 18:00:00   \n",
      "2177627  34 ST-PENN STA        IRT 2019-05-03  22:00:00 2019-05-03 22:00:00   \n",
      "2177628  34 ST-PENN STA        IRT 2019-05-03  22:00:00 2019-05-03 22:00:00   \n",
      "\n",
      "                              Turnstile  Week_Day  TOTAL_TRAFFIC DIVISION_y  \\\n",
      "2086059  N067R01200-00-0034 ST-PENN STA  Saturday           19.0        IND   \n",
      "2086060  N067R01200-00-0034 ST-PENN STA  Saturday           19.0        IRT   \n",
      "2086061  N067R01200-00-0034 ST-PENN STA  Saturday          105.0        IND   \n",
      "2086062  N067R01200-00-0034 ST-PENN STA  Saturday          105.0        IRT   \n",
      "2086063  N067R01200-00-0034 ST-PENN STA  Saturday          229.0        IND   \n",
      "...                                 ...       ...            ...        ...   \n",
      "2177624  R142R29301-06-0134 ST-PENN STA    Friday          559.0        IRT   \n",
      "2177625  R142R29301-06-0134 ST-PENN STA    Friday          609.0        IND   \n",
      "2177626  R142R29301-06-0134 ST-PENN STA    Friday          609.0        IRT   \n",
      "2177627  R142R29301-06-0134 ST-PENN STA    Friday          380.0        IND   \n",
      "2177628  R142R29301-06-0134 ST-PENN STA    Friday          380.0        IRT   \n",
      "\n",
      "          Latitude  Longitude Borough_Name  \n",
      "2086059  40.752287 -73.993391    Manhattan  \n",
      "2086060  40.750373 -73.991057    Manhattan  \n",
      "2086061  40.752287 -73.993391    Manhattan  \n",
      "2086062  40.750373 -73.991057    Manhattan  \n",
      "2086063  40.752287 -73.993391    Manhattan  \n",
      "...            ...        ...          ...  \n",
      "2177624  40.750373 -73.991057    Manhattan  \n",
      "2177625  40.752287 -73.993391    Manhattan  \n",
      "2177626  40.750373 -73.991057    Manhattan  \n",
      "2177627  40.752287 -73.993391    Manhattan  \n",
      "2177628  40.750373 -73.991057    Manhattan  \n",
      "\n",
      "[91570 rows x 12 columns]\n"
     ]
    }
   ],
   "source": [
    "#stations were found to have the same but located in diff areas so DIVISION was also used\n",
    "loc_df.rename(columns = {'Stop Name':'STATION', 'Division':'DIVISION','GTFS Latitude':'Latitude','GTFS Longitude':'Longitude'}, inplace = True) \n",
    "loc_df['STATION'] = loc_df['STATION'].str.upper()\n",
    "loc_df['STATION'] = loc_df['STATION'].str.replace('STATION', 'STA')\n",
    "#join with grouped_time\n",
    "station_loc_df = grouped_time.merge(loc_df, how = 'inner', on = ['STATION'])\n",
    "station_loc_df.tail()\n",
    "print(station_loc_df[station_loc_df['STATION']=='28 ST'])\n",
    "print(station_loc_df[station_loc_df['STATION']=='34 ST-PENN STA'])"
   ]
  },
  {
   "cell_type": "markdown",
   "metadata": {},
   "source": [
    "#### Graph number of stations in each borough"
   ]
  },
  {
   "cell_type": "code",
   "execution_count": 26,
   "metadata": {},
   "outputs": [
    {
     "data": {
      "text/plain": [
       "<BarContainer object of 5 artists>"
      ]
     },
     "execution_count": 26,
     "metadata": {},
     "output_type": "execute_result"
    },
    {
     "data": {
      "image/png": "[encoded data removed]",
      "text/plain": [
       "<Figure size 576x288 with 1 Axes>"
      ]
     },
     "metadata": {
      "needs_background": "light"
     },
     "output_type": "display_data"
    }
   ],
   "source": [
    "borough_station_count_df = station_loc_df.groupby('Borough_Name')['STATION'].nunique().reset_index()\n",
    "#borough_station_count_df\n",
    "plt.rcParams[\"figure.figsize\"] = (8, 4)\n",
    "plt.xlabel(\"Borough\")\n",
    "plt.ylabel(\"Number of Stations\")\n",
    "plt.title(\"Number of Stations in Each Borough\")\n",
    "plt.bar(borough_station_count_df['Borough_Name'], borough_station_count_df['STATION'])"
   ]
  },
  {
   "cell_type": "markdown",
   "metadata": {},
   "source": [
    "#### Graph total traffic in each Borough "
   ]
  },
  {
   "cell_type": "code",
   "execution_count": 27,
   "metadata": {},
   "outputs": [
    {
     "data": {
      "text/plain": [
       "<BarContainer object of 5 artists>"
      ]
     },
     "execution_count": 27,
     "metadata": {},
     "output_type": "execute_result"
    },
    {
     "data": {
      "image/png": "[encoded data removed]",
      "text/plain": [
       "<Figure size 576x288 with 1 Axes>"
      ]
     },
     "metadata": {
      "needs_background": "light"
     },
     "output_type": "display_data"
    }
   ],
   "source": [
    "borough_traffic_df = station_loc_df.groupby('Borough_Name').TOTAL_TRAFFIC.sum().reset_index()\n",
    "plt.xlabel(\"Borough\")\n",
    "plt.ylabel(\"Total Traffic\")\n",
    "plt.title(\"Total Traffic in Each Borough\")\n",
    "plt.bar(borough_traffic_df['Borough_Name'], borough_traffic_df['TOTAL_TRAFFIC'])\n",
    "#borough_traffic_df"
   ]
  },
  {
   "cell_type": "markdown",
   "metadata": {},
   "source": [
    "### Find top stations in each borough"
   ]
  },
  {
   "cell_type": "markdown",
   "metadata": {},
   "source": [
    "#### Find top 5 stations in each borough and graph"
   ]
  },
  {
   "cell_type": "code",
   "execution_count": 28,
   "metadata": {},
   "outputs": [
    {
     "data": {
      "text/plain": [
       "Borough_Name   STATION       \n",
       "Bronx          FORDHAM RD         5020206.0\n",
       "               167 ST             4645166.0\n",
       "               KINGSBRIDGE RD     4505952.0\n",
       "               170 ST             4130198.0\n",
       "               GUN HILL RD        3450604.0\n",
       "Brooklyn       86 ST             25797912.0\n",
       "               CHURCH AV         15777033.0\n",
       "               FULTON ST         14657662.0\n",
       "               KINGS HWY         12601506.0\n",
       "               7 AV              10612046.0\n",
       "Manhattan      23 ST             70800200.0\n",
       "               CANAL ST          65664786.0\n",
       "               FULTON ST         58630648.0\n",
       "               TIMES SQ-42 ST    55958712.0\n",
       "               86 ST             51595824.0\n",
       "Queens         111 ST             6122097.0\n",
       "               WOODHAVEN BLVD     6089928.0\n",
       "               COURT SQ           5935204.0\n",
       "               36 ST              2846419.0\n",
       "               JUNCTION BLVD      2838276.0\n",
       "Staten Island  TOMPKINSVILLE       247600.0\n",
       "Name: TOTAL_TRAFFIC, dtype: float64"
      ]
     },
     "execution_count": 28,
     "metadata": {},
     "output_type": "execute_result"
    }
   ],
   "source": [
    "borough_top5_df = station_loc_df.groupby(['Borough_Name','STATION']).agg({'TOTAL_TRAFFIC':'sum'})\n",
    "borough_top5_df = borough_top5_df['TOTAL_TRAFFIC'].groupby('Borough_Name', group_keys=False)\n",
    "borough_top5_df = borough_top5_df.apply(lambda x: x.sort_values(ascending=False).head(5))\n",
    "borough_top5_df"
   ]
  },
  {
   "cell_type": "code",
   "execution_count": 29,
   "metadata": {},
   "outputs": [
    {
     "data": {
      "image/png": "[encoded data removed]",
      "text/plain": [
       "<Figure size 1440x720 with 1 Axes>"
      ]
     },
     "metadata": {
      "needs_background": "light"
     },
     "output_type": "display_data"
    }
   ],
   "source": [
    "rcParams['figure.figsize'] = 20,10\n",
    "borough_top5_df.unstack().plot.bar(width=1.5)\n",
    "#plt.bar([0,2,3,4],borough_top5_df.unstack(),width=1.5)\n",
    "#plt.bar(borough_top5_df.unstack(),width=1.5)\n",
    "plt.title(\"Top 5 Busiest Stations in Each Borough\", fontsize=20)\n",
    "plt.ylabel(\"Total Traffic\",fontsize=13)\n",
    "plt.xlabel(\"Borough\",fontsize=13)\n",
    "plt.rcParams.update({'font.size': 9})\n",
    "#plt.tight_layout()\n",
    " \n",
    "#borough_top5_df.unstack().plot.bar()"
   ]
  },
  {
   "cell_type": "markdown",
   "metadata": {},
   "source": [
    "### Find stations in the highest income areas"
   ]
  },
  {
   "cell_type": "code",
   "execution_count": 30,
   "metadata": {},
   "outputs": [
    {
     "data": {
      "text/html": [
       "<div>\n",
       "<style scoped>\n",
       "    .dataframe tbody tr th:only-of-type {\n",
       "        vertical-align: middle;\n",
       "    }\n",
       "\n",
       "    .dataframe tbody tr th {\n",
       "        vertical-align: top;\n",
       "    }\n",
       "\n",
       "    .dataframe thead th {\n",
       "        text-align: right;\n",
       "    }\n",
       "</style>\n",
       "<table border=\"1\" class=\"dataframe\">\n",
       "  <thead>\n",
       "    <tr style=\"text-align: right;\">\n",
       "      <th></th>\n",
       "      <th>Zip Code</th>\n",
       "      <th>Location</th>\n",
       "      <th>City</th>\n",
       "      <th>Avg. Income/H/hold</th>\n",
       "      <th>Unnamed: 4</th>\n",
       "      <th>Unnamed: 5</th>\n",
       "      <th>Unnamed: 6</th>\n",
       "    </tr>\n",
       "  </thead>\n",
       "  <tbody>\n",
       "    <tr>\n",
       "      <th>0</th>\n",
       "      <td>10007</td>\n",
       "      <td>40.713973, -74.008336</td>\n",
       "      <td>New York, New York</td>\n",
       "      <td>112947</td>\n",
       "      <td>NaN</td>\n",
       "      <td>NaN</td>\n",
       "      <td>NaN</td>\n",
       "    </tr>\n",
       "    <tr>\n",
       "      <th>1</th>\n",
       "      <td>10280</td>\n",
       "      <td>40.708501, -74.016828</td>\n",
       "      <td>New York, New York</td>\n",
       "      <td>108536</td>\n",
       "      <td>NaN</td>\n",
       "      <td>NaN</td>\n",
       "      <td>NaN</td>\n",
       "    </tr>\n",
       "    <tr>\n",
       "      <th>2</th>\n",
       "      <td>10162</td>\n",
       "      <td>40.769298, -73.949942</td>\n",
       "      <td>New York, New York</td>\n",
       "      <td>108416</td>\n",
       "      <td>NaN</td>\n",
       "      <td>NaN</td>\n",
       "      <td>NaN</td>\n",
       "    </tr>\n",
       "    <tr>\n",
       "      <th>3</th>\n",
       "      <td>10004</td>\n",
       "      <td>40.691870, -74.014109</td>\n",
       "      <td>New York, New York</td>\n",
       "      <td>101868</td>\n",
       "      <td>NaN</td>\n",
       "      <td>NaN</td>\n",
       "      <td>NaN</td>\n",
       "    </tr>\n",
       "    <tr>\n",
       "      <th>4</th>\n",
       "      <td>10069</td>\n",
       "      <td>40.775551, -73.989689</td>\n",
       "      <td>New York, New York</td>\n",
       "      <td>88091</td>\n",
       "      <td>NaN</td>\n",
       "      <td>NaN</td>\n",
       "      <td>NaN</td>\n",
       "    </tr>\n",
       "  </tbody>\n",
       "</table>\n",
       "</div>"
      ],
      "text/plain": [
       "   Zip Code               Location                City  Avg. Income/H/hold  \\\n",
       "0     10007  40.713973, -74.008336  New York, New York              112947   \n",
       "1     10280  40.708501, -74.016828  New York, New York              108536   \n",
       "2     10162  40.769298, -73.949942  New York, New York              108416   \n",
       "3     10004  40.691870, -74.014109  New York, New York              101868   \n",
       "4     10069  40.775551, -73.989689  New York, New York               88091   \n",
       "\n",
       "  Unnamed: 4  Unnamed: 5  Unnamed: 6  \n",
       "0        NaN         NaN         NaN  \n",
       "1        NaN         NaN         NaN  \n",
       "2        NaN         NaN         NaN  \n",
       "3        NaN         NaN         NaN  \n",
       "4        NaN         NaN         NaN  "
      ]
     },
     "execution_count": 30,
     "metadata": {},
     "output_type": "execute_result"
    }
   ],
   "source": [
    "#import income data\n",
    "income_data = pd.read_csv('https://raw.githubusercontent.com/hollyyuqizheng/transportation-transformation/master/data/new_york/new%20york%20income%20data.csv')\n",
    "#print(loc_data.Borough.unique())\n",
    "income_data.head()"
   ]
  },
  {
   "cell_type": "code",
   "execution_count": 31,
   "metadata": {},
   "outputs": [],
   "source": [
    "#new df grouped by latitude, longitude, and station\n",
    "#station_lat_long_df = station_loc_df.groupby(['STATION','Borough_Name'], as_index=False ).agg({'Latitude':'mean','Longitude':'mean','TOTAL_TRAFFIC':'count'})\n",
    "station_lat_long_df = station_loc_df.groupby(['Latitude','Longitude', 'STATION','Borough_Name'], as_index=False ).TOTAL_TRAFFIC.sum()\n",
    "station_lat_long_df.drop_duplicates('STATION',keep='first', inplace=True)\n",
    "#print(station_lat_long_df[station_lat_long_df['STATION']=='28 ST'])\n",
    "\n",
    "#station_lat_long_df.duplicated(subset=['STATION']) \n",
    "#print(station_lat_long_df[station_lat_long_df['STATION']==True])"
   ]
  },
  {
   "cell_type": "markdown",
   "metadata": {},
   "source": [
    "Find average income for each station"
   ]
  },
  {
   "cell_type": "code",
   "execution_count": 32,
   "metadata": {},
   "outputs": [],
   "source": [
    "#row from station_income_df as argument\n",
    "#loop through income_df to find closest zip code based on latitude and longitude\n",
    "#return Avg income of closest zip code to station\n",
    "def find_min_dist(row):\n",
    "    min_dist = 1000\n",
    "    idx = 0\n",
    "    for index, r in income_data.iterrows():\n",
    "        l = r[1].split(\", \")\n",
    "        l = [float(i) for i in l]\n",
    "        a = ((l[0] - row['Latitude'])**2 + (l[1] - row['Longitude'])**2)\n",
    "        a = abs(a)\n",
    "        dist = math.sqrt(a)\n",
    "        if dist < min_dist:\n",
    "            min_dist = dist\n",
    "            idx = index\n",
    "    return income_data.iloc[idx]['Avg. Income/H/hold']"
   ]
  },
  {
   "cell_type": "code",
   "execution_count": 33,
   "metadata": {},
   "outputs": [
    {
     "name": "stdout",
     "output_type": "stream",
     "text": [
      "Empty DataFrame\n",
      "Columns: [Latitude, Longitude, STATION, Borough_Name, TOTAL_TRAFFIC, Avg_Income]\n",
      "Index: []\n"
     ]
    }
   ],
   "source": [
    "station_income_df = station_lat_long_df.copy()\n",
    "station_income_df['Avg_Income'] = station_income_df.apply(find_min_dist, axis=1)\n",
    "station_income_df.sort_values('Avg_Income', ascending=False, inplace=True)\n",
    "station_income_df.head(10)\n",
    "station_income_df.duplicated(subset=['STATION']) \n",
    "print(station_income_df[station_income_df['STATION']==True])"
   ]
  },
  {
   "cell_type": "code",
   "execution_count": 66,
   "metadata": {},
   "outputs": [
    {
     "name": "stdout",
     "output_type": "stream",
     "text": [
      "/Users/racheldilley/Documents/Metis/git_repos/mta-project-1\n"
     ]
    }
   ],
   "source": [
    "cd-"
   ]
  },
  {
   "cell_type": "code",
   "execution_count": 67,
   "metadata": {},
   "outputs": [
    {
     "name": "stdout",
     "output_type": "stream",
     "text": [
      "/Users/racheldilley/Documents/Metis/git_repos/mta-project-1/Graphs\n"
     ]
    }
   ],
   "source": [
    "cd Graphs"
   ]
  },
  {
   "cell_type": "code",
   "execution_count": 68,
   "metadata": {},
   "outputs": [
    {
     "data": {
      "image/png": "[encoded data removed]",
      "text/plain": [
       "<Figure size 1440x720 with 1 Axes>"
      ]
     },
     "metadata": {
      "needs_background": "light"
     },
     "output_type": "display_data"
    }
   ],
   "source": [
    "top_station_income_df = station_income_df[['Borough_Name','STATION','Avg_Income', 'TOTAL_TRAFFIC']].head(10)\n",
    "top_station_income_df['Avg_Income'] = top_station_income_df['Avg_Income']/1000\n",
    "#top_station_income_df.duplicated(subset=['STATION']) \n",
    "#print(top_station_income_df[top_station_income_df['STATION']==True])\n",
    "#print(top_station_income_df[top_station_income_df['STATION']=='34 ST-PENN STA'])\n",
    "#plt.rcParams[\"figure.figsize\"] = (8, 4)\n",
    "top_inc_bar = plt.bar(top_station_income_df['STATION'], top_station_income_df['Avg_Income'], color='orange')\n",
    "plt.xlabel(\"Stations\", fontsize=18)\n",
    "plt.ylabel(\"Average Income (Thousands)\",fontsize=18)\n",
    "plt.title(\"Top 10 Stations with Highest Incomes\",fontsize=27)\n",
    "plt.rcParams.update({'font.size': 10})\n",
    "top_inc_bar[3].set_color('b')\n",
    "plt.savefig('top10_inc_bar.png', dpi=300)\n",
    "plt.show()"
   ]
  },
  {
   "cell_type": "code",
   "execution_count": 35,
   "metadata": {},
   "outputs": [
    {
     "name": "stdout",
     "output_type": "stream",
     "text": [
      "    Borough_Name          STATION  Avg_Income  TOTAL_TRAFFIC\n",
      "253    Manhattan       5 AV/59 ST    9925.825      2166735.0\n",
      "244    Manhattan            49 ST    1920.137      3338006.0\n",
      "227    Manhattan  34 ST-HERALD SQ     775.718     16776171.0\n",
      "230    Manhattan   34 ST-PENN STA     775.718     23461003.0\n",
      "145    Manhattan         BROAD ST     683.269      1257782.0\n",
      "164    Manhattan       PARK PLACE     205.192       882960.0\n",
      "243    Manhattan            51 ST     188.250      3600154.0\n",
      "245    Manhattan       5 AV/53 ST     138.776      4163137.0\n",
      "251    Manhattan            57 ST     138.776      2394853.0\n",
      "137    Manhattan      SOUTH FERRY     120.045      2432177.0\n",
      "    Borough_Name          STATION  Avg_Income  TOTAL_TRAFFIC\n",
      "230    Manhattan   34 ST-PENN STA     775.718     23461003.0\n",
      "227    Manhattan  34 ST-HERALD SQ     775.718     16776171.0\n",
      "114     Brooklyn        FULTON ST      49.567     14657662.0\n",
      "205    Manhattan            23 ST      62.467     14160040.0\n",
      "236    Manhattan   TIMES SQ-42 ST      48.705     13989678.0\n",
      "199    Manhattan   14 ST-UNION SQ      60.891     13962090.0\n",
      "11      Brooklyn            86 ST      32.104     12898956.0\n",
      "196    Manhattan   W 4 ST-WASH SQ      66.601     11849174.0\n",
      "173    Manhattan         CANAL ST     113.881     10944131.0\n",
      "274    Manhattan           125 ST      26.561     10391503.0\n"
     ]
    }
   ],
   "source": [
    "top_traffic_stations_df = station_income_df.copy()\n",
    "top_traffic_stations_df = top_traffic_stations_df[['Borough_Name','STATION','Avg_Income', 'TOTAL_TRAFFIC']]\n",
    "top_traffic_stations_df.sort_values('TOTAL_TRAFFIC', ascending=False, inplace=True)\n",
    "top_traffic_stations_df['Avg_Income'] = top_traffic_stations_df['Avg_Income']/1000\n",
    "top_traffic_stations_df = top_traffic_stations_df.head(10)\n",
    "print(top_station_income_df )\n",
    "print(top_traffic_stations_df )"
   ]
  },
  {
   "cell_type": "code",
   "execution_count": 61,
   "metadata": {},
   "outputs": [
    {
     "data": {
      "image/png": "[encoded data removed]",
      "text/plain": [
       "<Figure size 1440x720 with 1 Axes>"
      ]
     },
     "metadata": {
      "needs_background": "light"
     },
     "output_type": "display_data"
    }
   ],
   "source": [
    "top_traf_inc_bar = plt.bar(top_traffic_stations_df['STATION'], top_traffic_stations_df['Avg_Income'],color='orange')\n",
    "plt.xlabel(\"Stations\",fontsize=18)\n",
    "plt.ylabel(\"Average Income (Thousands)\",fontsize=18)\n",
    "plt.title(\"Incomes of Top 10 Stations with Highest Traffic\",fontsize=27)\n",
    "plt.ylim(0, 10000)\n",
    "top_traf_inc_bar[0].set_color('b')\n",
    "top_traf_inc_bar[1].set_color('b')\n",
    "plt.savefig('top10_inc_traf_bar.png', dpi=300)"
   ]
  },
  {
   "cell_type": "code",
   "execution_count": 59,
   "metadata": {},
   "outputs": [
    {
     "data": {
      "image/png": "[encoded data removed]",
      "text/plain": [
       "<Figure size 1440x720 with 1 Axes>"
      ]
     },
     "metadata": {
      "needs_background": "light"
     },
     "output_type": "display_data"
    }
   ],
   "source": [
    "top_traf_bar = plt.bar(top_traffic_stations_df['STATION'], top_traffic_stations_df['TOTAL_TRAFFIC'],color='purple')\n",
    "plt.xlabel(\"Stations\",fontsize=18)\n",
    "plt.ylabel(\"Traffic\",fontsize=18)\n",
    "plt.title(\"Top 10 Stations with Highest Traffic\",fontsize=27)\n",
    "top_traf_bar[0].set_color('b')\n",
    "top_traf_bar[1].set_color('b')\n",
    "plt.savefig('top10_traf_bar.png', dpi=300)"
   ]
  },
  {
   "cell_type": "code",
   "execution_count": 60,
   "metadata": {},
   "outputs": [
    {
     "data": {
      "image/png": "[encoded data removed]",
      "text/plain": [
       "<Figure size 1440x720 with 1 Axes>"
      ]
     },
     "metadata": {
      "needs_background": "light"
     },
     "output_type": "display_data"
    }
   ],
   "source": [
    "top_traf_inc_bar = plt.bar(top_station_income_df['STATION'], top_station_income_df['TOTAL_TRAFFIC'], color='purple')\n",
    "plt.xlabel(\"Stations\", fontsize=18)\n",
    "plt.ylabel(\"Average Income (Thousands)\",fontsize=18)\n",
    "plt.title(\"Traffic of Top 10 Stations with Highest Incomes\",fontsize=27)\n",
    "top_traf_inc_bar[3].set_color('b')\n",
    "top_traf_inc_bar[2].set_color('b')\n",
    "plt.savefig('top10_traf_inc_bar.png', dpi=300)"
   ]
  },
  {
   "cell_type": "code",
   "execution_count": null,
   "metadata": {},
   "outputs": [],
   "source": []
  },
  {
   "cell_type": "code",
   "execution_count": null,
   "metadata": {},
   "outputs": [],
   "source": [
    "#find max and min of lat and long\n",
    "BBox = (station_lat_long_df.Longitude.min(),   station_lat_long_df.Longitude.max(),      \n",
    "         station_lat_long_df.Latitude.min(), station_lat_long_df.Latitude.max())\n",
    "BBox"
   ]
  },
  {
   "cell_type": "code",
   "execution_count": null,
   "metadata": {},
   "outputs": [],
   "source": [
    "cd - "
   ]
  },
  {
   "cell_type": "code",
   "execution_count": null,
   "metadata": {},
   "outputs": [],
   "source": [
    "ruh_m = plt.imread('NYC_Map.png') #load NYC Map"
   ]
  },
  {
   "cell_type": "code",
   "execution_count": null,
   "metadata": {},
   "outputs": [],
   "source": [
    "fig, ax = plt.subplots(figsize = (11,10))\n",
    "ax.scatter(station_lat_long_df.Longitude, station_lat_long_df.Latitude, zorder=1, alpha= 0.2, c='b', s=15)\n",
    "ax.set_title('Plotting Stations in NYC')\n",
    "ax.set_xlim(BBox[0],BBox[1])\n",
    "ax.set_ylim(BBox[2],BBox[3])\n",
    "ax.imshow(ruh_m, zorder=0, extent = BBox, aspect= 'equal')"
   ]
  },
  {
   "cell_type": "code",
   "execution_count": null,
   "metadata": {},
   "outputs": [],
   "source": []
  },
  {
   "cell_type": "code",
   "execution_count": null,
   "metadata": {},
   "outputs": [],
   "source": []
  },
  {
   "cell_type": "code",
   "execution_count": null,
   "metadata": {},
   "outputs": [],
   "source": []
  }
 ],
 "metadata": {
  "kernelspec": {
   "display_name": "Python 3",
   "language": "python",
   "name": "python3"
  },
  "language_info": {
   "codemirror_mode": {
    "name": "ipython",
    "version": 3
   },
   "file_extension": ".py",
   "mimetype": "text/x-python",
   "name": "python",
   "nbconvert_exporter": "python",
   "pygments_lexer": "ipython3",
   "version": "3.8.5"
  }
 },
 "nbformat": 4,
 "nbformat_minor": 4
}
