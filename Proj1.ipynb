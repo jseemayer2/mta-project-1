{
 "cells": [
  {
   "cell_type": "code",
   "execution_count": 1,
   "metadata": {},
   "outputs": [],
   "source": [
    "import pandas as pd\n",
    "import matplotlib.pyplot as plt\n",
    "from pylab import rcParams\n",
    "%matplotlib inline\n",
    "rcParams['figure.figsize'] = 20,10\n",
    "import numpy as np\n",
    "import glob\n",
    "from scipy import stats"
   ]
  },
  {
   "cell_type": "code",
   "execution_count": 2,
   "metadata": {},
   "outputs": [
    {
     "name": "stdout",
     "output_type": "stream",
     "text": [
      "/Users/racheldilley/Documents/Metis/git_repos/mta-project-1/CSVs\n"
     ]
    }
   ],
   "source": [
    "cd CSVs"
   ]
  },
  {
   "cell_type": "markdown",
   "metadata": {},
   "source": [
    "#### Load Data"
   ]
  },
  {
   "cell_type": "code",
   "execution_count": 3,
   "metadata": {},
   "outputs": [
    {
     "data": {
      "text/html": [
       "<div>\n",
       "<style scoped>\n",
       "    .dataframe tbody tr th:only-of-type {\n",
       "        vertical-align: middle;\n",
       "    }\n",
       "\n",
       "    .dataframe tbody tr th {\n",
       "        vertical-align: top;\n",
       "    }\n",
       "\n",
       "    .dataframe thead th {\n",
       "        text-align: right;\n",
       "    }\n",
       "</style>\n",
       "<table border=\"1\" class=\"dataframe\">\n",
       "  <thead>\n",
       "    <tr style=\"text-align: right;\">\n",
       "      <th></th>\n",
       "      <th>C/A</th>\n",
       "      <th>UNIT</th>\n",
       "      <th>SCP</th>\n",
       "      <th>STATION</th>\n",
       "      <th>LINENAME</th>\n",
       "      <th>DIVISION</th>\n",
       "      <th>DATE</th>\n",
       "      <th>TIME</th>\n",
       "      <th>DESC</th>\n",
       "      <th>ENTRIES</th>\n",
       "      <th>EXITS</th>\n",
       "    </tr>\n",
       "  </thead>\n",
       "  <tbody>\n",
       "    <tr>\n",
       "      <th>0</th>\n",
       "      <td>A002</td>\n",
       "      <td>R051</td>\n",
       "      <td>02-00-00</td>\n",
       "      <td>59 ST</td>\n",
       "      <td>NQR456W</td>\n",
       "      <td>BMT</td>\n",
       "      <td>05/11/2019</td>\n",
       "      <td>00:00:00</td>\n",
       "      <td>REGULAR</td>\n",
       "      <td>7053483</td>\n",
       "      <td>2390505</td>\n",
       "    </tr>\n",
       "    <tr>\n",
       "      <th>1</th>\n",
       "      <td>A002</td>\n",
       "      <td>R051</td>\n",
       "      <td>02-00-00</td>\n",
       "      <td>59 ST</td>\n",
       "      <td>NQR456W</td>\n",
       "      <td>BMT</td>\n",
       "      <td>05/11/2019</td>\n",
       "      <td>04:00:00</td>\n",
       "      <td>REGULAR</td>\n",
       "      <td>7053511</td>\n",
       "      <td>2390508</td>\n",
       "    </tr>\n",
       "    <tr>\n",
       "      <th>2</th>\n",
       "      <td>A002</td>\n",
       "      <td>R051</td>\n",
       "      <td>02-00-00</td>\n",
       "      <td>59 ST</td>\n",
       "      <td>NQR456W</td>\n",
       "      <td>BMT</td>\n",
       "      <td>05/11/2019</td>\n",
       "      <td>08:00:00</td>\n",
       "      <td>REGULAR</td>\n",
       "      <td>7053534</td>\n",
       "      <td>2390536</td>\n",
       "    </tr>\n",
       "    <tr>\n",
       "      <th>3</th>\n",
       "      <td>A002</td>\n",
       "      <td>R051</td>\n",
       "      <td>02-00-00</td>\n",
       "      <td>59 ST</td>\n",
       "      <td>NQR456W</td>\n",
       "      <td>BMT</td>\n",
       "      <td>05/11/2019</td>\n",
       "      <td>12:00:00</td>\n",
       "      <td>REGULAR</td>\n",
       "      <td>7053618</td>\n",
       "      <td>2390596</td>\n",
       "    </tr>\n",
       "    <tr>\n",
       "      <th>4</th>\n",
       "      <td>A002</td>\n",
       "      <td>R051</td>\n",
       "      <td>02-00-00</td>\n",
       "      <td>59 ST</td>\n",
       "      <td>NQR456W</td>\n",
       "      <td>BMT</td>\n",
       "      <td>05/11/2019</td>\n",
       "      <td>16:00:00</td>\n",
       "      <td>REGULAR</td>\n",
       "      <td>7053841</td>\n",
       "      <td>2390655</td>\n",
       "    </tr>\n",
       "    <tr>\n",
       "      <th>...</th>\n",
       "      <td>...</td>\n",
       "      <td>...</td>\n",
       "      <td>...</td>\n",
       "      <td>...</td>\n",
       "      <td>...</td>\n",
       "      <td>...</td>\n",
       "      <td>...</td>\n",
       "      <td>...</td>\n",
       "      <td>...</td>\n",
       "      <td>...</td>\n",
       "      <td>...</td>\n",
       "    </tr>\n",
       "    <tr>\n",
       "      <th>206852</th>\n",
       "      <td>TRAM2</td>\n",
       "      <td>R469</td>\n",
       "      <td>00-05-01</td>\n",
       "      <td>RIT-ROOSEVELT</td>\n",
       "      <td>R</td>\n",
       "      <td>RIT</td>\n",
       "      <td>05/03/2019</td>\n",
       "      <td>05:00:00</td>\n",
       "      <td>REGULAR</td>\n",
       "      <td>5554</td>\n",
       "      <td>376</td>\n",
       "    </tr>\n",
       "    <tr>\n",
       "      <th>206853</th>\n",
       "      <td>TRAM2</td>\n",
       "      <td>R469</td>\n",
       "      <td>00-05-01</td>\n",
       "      <td>RIT-ROOSEVELT</td>\n",
       "      <td>R</td>\n",
       "      <td>RIT</td>\n",
       "      <td>05/03/2019</td>\n",
       "      <td>09:00:00</td>\n",
       "      <td>REGULAR</td>\n",
       "      <td>5554</td>\n",
       "      <td>376</td>\n",
       "    </tr>\n",
       "    <tr>\n",
       "      <th>206854</th>\n",
       "      <td>TRAM2</td>\n",
       "      <td>R469</td>\n",
       "      <td>00-05-01</td>\n",
       "      <td>RIT-ROOSEVELT</td>\n",
       "      <td>R</td>\n",
       "      <td>RIT</td>\n",
       "      <td>05/03/2019</td>\n",
       "      <td>13:00:00</td>\n",
       "      <td>REGULAR</td>\n",
       "      <td>5554</td>\n",
       "      <td>376</td>\n",
       "    </tr>\n",
       "    <tr>\n",
       "      <th>206855</th>\n",
       "      <td>TRAM2</td>\n",
       "      <td>R469</td>\n",
       "      <td>00-05-01</td>\n",
       "      <td>RIT-ROOSEVELT</td>\n",
       "      <td>R</td>\n",
       "      <td>RIT</td>\n",
       "      <td>05/03/2019</td>\n",
       "      <td>17:00:00</td>\n",
       "      <td>REGULAR</td>\n",
       "      <td>5554</td>\n",
       "      <td>376</td>\n",
       "    </tr>\n",
       "    <tr>\n",
       "      <th>206856</th>\n",
       "      <td>TRAM2</td>\n",
       "      <td>R469</td>\n",
       "      <td>00-05-01</td>\n",
       "      <td>RIT-ROOSEVELT</td>\n",
       "      <td>R</td>\n",
       "      <td>RIT</td>\n",
       "      <td>05/03/2019</td>\n",
       "      <td>21:00:00</td>\n",
       "      <td>REGULAR</td>\n",
       "      <td>5554</td>\n",
       "      <td>376</td>\n",
       "    </tr>\n",
       "  </tbody>\n",
       "</table>\n",
       "<p>2250808 rows × 11 columns</p>\n",
       "</div>"
      ],
      "text/plain": [
       "          C/A  UNIT       SCP        STATION LINENAME DIVISION        DATE  \\\n",
       "0        A002  R051  02-00-00          59 ST  NQR456W      BMT  05/11/2019   \n",
       "1        A002  R051  02-00-00          59 ST  NQR456W      BMT  05/11/2019   \n",
       "2        A002  R051  02-00-00          59 ST  NQR456W      BMT  05/11/2019   \n",
       "3        A002  R051  02-00-00          59 ST  NQR456W      BMT  05/11/2019   \n",
       "4        A002  R051  02-00-00          59 ST  NQR456W      BMT  05/11/2019   \n",
       "...       ...   ...       ...            ...      ...      ...         ...   \n",
       "206852  TRAM2  R469  00-05-01  RIT-ROOSEVELT        R      RIT  05/03/2019   \n",
       "206853  TRAM2  R469  00-05-01  RIT-ROOSEVELT        R      RIT  05/03/2019   \n",
       "206854  TRAM2  R469  00-05-01  RIT-ROOSEVELT        R      RIT  05/03/2019   \n",
       "206855  TRAM2  R469  00-05-01  RIT-ROOSEVELT        R      RIT  05/03/2019   \n",
       "206856  TRAM2  R469  00-05-01  RIT-ROOSEVELT        R      RIT  05/03/2019   \n",
       "\n",
       "            TIME     DESC  ENTRIES  \\\n",
       "0       00:00:00  REGULAR  7053483   \n",
       "1       04:00:00  REGULAR  7053511   \n",
       "2       08:00:00  REGULAR  7053534   \n",
       "3       12:00:00  REGULAR  7053618   \n",
       "4       16:00:00  REGULAR  7053841   \n",
       "...          ...      ...      ...   \n",
       "206852  05:00:00  REGULAR     5554   \n",
       "206853  09:00:00  REGULAR     5554   \n",
       "206854  13:00:00  REGULAR     5554   \n",
       "206855  17:00:00  REGULAR     5554   \n",
       "206856  21:00:00  REGULAR     5554   \n",
       "\n",
       "        EXITS                                                                 \n",
       "0                                                 2390505                     \n",
       "1                                                 2390508                     \n",
       "2                                                 2390536                     \n",
       "3                                                 2390596                     \n",
       "4                                                 2390655                     \n",
       "...                                                   ...                     \n",
       "206852                                                376                     \n",
       "206853                                                376                     \n",
       "206854                                                376                     \n",
       "206855                                                376                     \n",
       "206856                                                376                     \n",
       "\n",
       "[2250808 rows x 11 columns]"
      ]
     },
     "execution_count": 3,
     "metadata": {},
     "output_type": "execute_result"
    }
   ],
   "source": [
    "extension = 'txt'\n",
    "all_filenames = [i for i in glob.glob('*.{}'.format(extension))]\n",
    "\n",
    "#combine all files in the list\n",
    "data = pd.concat([pd.read_csv(f) for f in all_filenames ])\n",
    "data\n"
   ]
  },
  {
   "cell_type": "code",
   "execution_count": null,
   "metadata": {},
   "outputs": [],
   "source": []
  },
  {
   "cell_type": "markdown",
   "metadata": {},
   "source": [
    "#### Clean Data"
   ]
  },
  {
   "cell_type": "markdown",
   "metadata": {},
   "source": [
    "remove spaces from column names"
   ]
  },
  {
   "cell_type": "code",
   "execution_count": 5,
   "metadata": {},
   "outputs": [],
   "source": [
    "data.columns = data.columns.str.replace(' ', '')"
   ]
  },
  {
   "cell_type": "markdown",
   "metadata": {},
   "source": [
    "add Date_Time column and turnstile column"
   ]
  },
  {
   "cell_type": "code",
   "execution_count": 6,
   "metadata": {},
   "outputs": [],
   "source": [
    "data['Date_Time'] = pd.to_datetime(data['DATE'], cache=True) + pd.to_timedelta(data['TIME'])"
   ]
  },
  {
   "cell_type": "code",
   "execution_count": null,
   "metadata": {},
   "outputs": [],
   "source": []
  },
  {
   "cell_type": "markdown",
   "metadata": {},
   "source": [
    "Group by date and stations"
   ]
  },
  {
   "cell_type": "code",
   "execution_count": 7,
   "metadata": {},
   "outputs": [],
   "source": [
    "grouped_day = data.groupby(['STATION','DATE'], as_index=False).agg({'ENTRIES': ['min', 'max'], 'EXITS': ['min', 'max']})\n",
    "#grouped = data.groupby(['STATION','DATE']).agg({'ENTRIES': ['min', 'max'], 'EXITS': ['min', 'max']})\n",
    "#grouped = grouped.set_index('STATION')\n",
    "#grouped.head()"
   ]
  },
  {
   "cell_type": "code",
   "execution_count": 8,
   "metadata": {},
   "outputs": [],
   "source": [
    "#grouped.columns = [ 'Station', 'Date', 'ENTRIES_MIN', 'ENTRIES_MAX', 'EXITS_MIN', 'EXITS_MAX']\n",
    "grouped_day.columns = [ 'Station','Date', 'ENTRIES_MIN', 'ENTRIES_MAX', 'EXITS_MIN', 'EXITS_MAX']\n",
    "#grouped.columns = ['ENTRIES_MIN', 'ENTRIES_MAX', 'EXITS_MIN', 'EXITS_MAX']\n",
    "#grouped.dtypes"
   ]
  },
  {
   "cell_type": "markdown",
   "metadata": {},
   "source": [
    "Add weekday column"
   ]
  },
  {
   "cell_type": "code",
   "execution_count": 9,
   "metadata": {},
   "outputs": [],
   "source": [
    "grouped_day['Date'] = pd.to_datetime(grouped_day['Date'], cache=True)\n",
    "grouped_day['Week_Day'] = grouped_day['Date'].dt.day_name()"
   ]
  },
  {
   "cell_type": "markdown",
   "metadata": {},
   "source": [
    "Find total entries exits, and traffic"
   ]
  },
  {
   "cell_type": "code",
   "execution_count": 10,
   "metadata": {},
   "outputs": [
    {
     "data": {
      "text/html": [
       "<div>\n",
       "<style scoped>\n",
       "    .dataframe tbody tr th:only-of-type {\n",
       "        vertical-align: middle;\n",
       "    }\n",
       "\n",
       "    .dataframe tbody tr th {\n",
       "        vertical-align: top;\n",
       "    }\n",
       "\n",
       "    .dataframe thead th {\n",
       "        text-align: right;\n",
       "    }\n",
       "</style>\n",
       "<table border=\"1\" class=\"dataframe\">\n",
       "  <thead>\n",
       "    <tr style=\"text-align: right;\">\n",
       "      <th></th>\n",
       "      <th>Station</th>\n",
       "      <th>Date</th>\n",
       "      <th>ENTRIES_MIN</th>\n",
       "      <th>ENTRIES_MAX</th>\n",
       "      <th>EXITS_MIN</th>\n",
       "      <th>EXITS_MAX</th>\n",
       "      <th>Week_Day</th>\n",
       "      <th>Total_Entries</th>\n",
       "      <th>Total_Exits</th>\n",
       "      <th>Total_Traffic</th>\n",
       "    </tr>\n",
       "  </thead>\n",
       "  <tbody>\n",
       "    <tr>\n",
       "      <th>0</th>\n",
       "      <td>1 AV</td>\n",
       "      <td>2019-03-30</td>\n",
       "      <td>100798</td>\n",
       "      <td>955292159</td>\n",
       "      <td>12708</td>\n",
       "      <td>998669812</td>\n",
       "      <td>Saturday</td>\n",
       "      <td>955191361</td>\n",
       "      <td>998657104</td>\n",
       "      <td>1997314208</td>\n",
       "    </tr>\n",
       "    <tr>\n",
       "      <th>1</th>\n",
       "      <td>1 AV</td>\n",
       "      <td>2019-03-31</td>\n",
       "      <td>104309</td>\n",
       "      <td>955294001</td>\n",
       "      <td>13062</td>\n",
       "      <td>998670921</td>\n",
       "      <td>Sunday</td>\n",
       "      <td>955189692</td>\n",
       "      <td>998657859</td>\n",
       "      <td>1997315718</td>\n",
       "    </tr>\n",
       "    <tr>\n",
       "      <th>2</th>\n",
       "      <td>1 AV</td>\n",
       "      <td>2019-04-01</td>\n",
       "      <td>106948</td>\n",
       "      <td>955296212</td>\n",
       "      <td>13366</td>\n",
       "      <td>998672726</td>\n",
       "      <td>Monday</td>\n",
       "      <td>955189264</td>\n",
       "      <td>998659360</td>\n",
       "      <td>1997318720</td>\n",
       "    </tr>\n",
       "    <tr>\n",
       "      <th>3</th>\n",
       "      <td>1 AV</td>\n",
       "      <td>2019-04-02</td>\n",
       "      <td>110569</td>\n",
       "      <td>955297253</td>\n",
       "      <td>13856</td>\n",
       "      <td>998674559</td>\n",
       "      <td>Tuesday</td>\n",
       "      <td>955186684</td>\n",
       "      <td>998660703</td>\n",
       "      <td>1997321406</td>\n",
       "    </tr>\n",
       "    <tr>\n",
       "      <th>4</th>\n",
       "      <td>1 AV</td>\n",
       "      <td>2019-04-03</td>\n",
       "      <td>114965</td>\n",
       "      <td>955297587</td>\n",
       "      <td>14325</td>\n",
       "      <td>998676287</td>\n",
       "      <td>Wednesday</td>\n",
       "      <td>955182622</td>\n",
       "      <td>998661962</td>\n",
       "      <td>1997323924</td>\n",
       "    </tr>\n",
       "  </tbody>\n",
       "</table>\n",
       "</div>"
      ],
      "text/plain": [
       "  Station       Date  ENTRIES_MIN  ENTRIES_MAX  EXITS_MIN  EXITS_MAX  \\\n",
       "0    1 AV 2019-03-30       100798    955292159      12708  998669812   \n",
       "1    1 AV 2019-03-31       104309    955294001      13062  998670921   \n",
       "2    1 AV 2019-04-01       106948    955296212      13366  998672726   \n",
       "3    1 AV 2019-04-02       110569    955297253      13856  998674559   \n",
       "4    1 AV 2019-04-03       114965    955297587      14325  998676287   \n",
       "\n",
       "    Week_Day  Total_Entries  Total_Exits  Total_Traffic  \n",
       "0   Saturday      955191361    998657104     1997314208  \n",
       "1     Sunday      955189692    998657859     1997315718  \n",
       "2     Monday      955189264    998659360     1997318720  \n",
       "3    Tuesday      955186684    998660703     1997321406  \n",
       "4  Wednesday      955182622    998661962     1997323924  "
      ]
     },
     "execution_count": 10,
     "metadata": {},
     "output_type": "execute_result"
    }
   ],
   "source": [
    "grouped_day['Total_Entries'] = grouped_day['ENTRIES_MAX'] - grouped_day['ENTRIES_MIN']\n",
    "grouped_day['Total_Exits'] = grouped_day['EXITS_MAX'] - grouped_day['EXITS_MIN']\n",
    "grouped_day['Total_Traffic'] = grouped_day['Total_Exits'] + grouped_day['Total_Exits']\n",
    "grouped_day.head()"
   ]
  },
  {
   "cell_type": "code",
   "execution_count": 11,
   "metadata": {},
   "outputs": [],
   "source": [
    "grouped_day.drop(['ENTRIES_MIN','ENTRIES_MAX','EXITS_MIN','EXITS_MAX', 'Total_Entries', 'Total_Exits', ], axis=1)\n",
    "\n",
    "grouped_day = grouped_day[(np.abs(stats.zscore(grouped_day['Total_Traffic'])) < 3)] #filtering"
   ]
  },
  {
   "cell_type": "code",
   "execution_count": 12,
   "metadata": {},
   "outputs": [],
   "source": [
    "grouped_time = data.groupby(['STATION','TIME'], as_index=False).agg({'ENTRIES': ['min', 'max'], 'EXITS': ['min', 'max']})\n",
    "grouped_time.columns = ['Station', 'Time', 'ENTRIES_MIN', 'ENTRIES_MAX', 'EXITS_MIN', 'EXITS_MAX']\n"
   ]
  },
  {
   "cell_type": "code",
   "execution_count": 13,
   "metadata": {},
   "outputs": [
    {
     "data": {
      "text/html": [
       "<div>\n",
       "<style scoped>\n",
       "    .dataframe tbody tr th:only-of-type {\n",
       "        vertical-align: middle;\n",
       "    }\n",
       "\n",
       "    .dataframe tbody tr th {\n",
       "        vertical-align: top;\n",
       "    }\n",
       "\n",
       "    .dataframe thead th {\n",
       "        text-align: right;\n",
       "    }\n",
       "</style>\n",
       "<table border=\"1\" class=\"dataframe\">\n",
       "  <thead>\n",
       "    <tr style=\"text-align: right;\">\n",
       "      <th></th>\n",
       "      <th>Station</th>\n",
       "      <th>Time</th>\n",
       "      <th>ENTRIES_MIN</th>\n",
       "      <th>ENTRIES_MAX</th>\n",
       "      <th>EXITS_MIN</th>\n",
       "      <th>EXITS_MAX</th>\n",
       "      <th>Total_Entries</th>\n",
       "      <th>Total_Exits</th>\n",
       "      <th>Total_Traffic</th>\n",
       "    </tr>\n",
       "  </thead>\n",
       "  <tbody>\n",
       "    <tr>\n",
       "      <th>0</th>\n",
       "      <td>1 AV</td>\n",
       "      <td>00:00:00</td>\n",
       "      <td>100798</td>\n",
       "      <td>955451362</td>\n",
       "      <td>12708</td>\n",
       "      <td>998779409</td>\n",
       "      <td>955350564</td>\n",
       "      <td>998766701</td>\n",
       "      <td>1997533402</td>\n",
       "    </tr>\n",
       "    <tr>\n",
       "      <th>1</th>\n",
       "      <td>1 AV</td>\n",
       "      <td>04:00:00</td>\n",
       "      <td>101143</td>\n",
       "      <td>955451475</td>\n",
       "      <td>12724</td>\n",
       "      <td>998779435</td>\n",
       "      <td>955350332</td>\n",
       "      <td>998766711</td>\n",
       "      <td>1997533422</td>\n",
       "    </tr>\n",
       "    <tr>\n",
       "      <th>2</th>\n",
       "      <td>1 AV</td>\n",
       "      <td>07:41:30</td>\n",
       "      <td>123152</td>\n",
       "      <td>955301590</td>\n",
       "      <td>15360</td>\n",
       "      <td>998678517</td>\n",
       "      <td>955178438</td>\n",
       "      <td>998663157</td>\n",
       "      <td>1997326314</td>\n",
       "    </tr>\n",
       "    <tr>\n",
       "      <th>3</th>\n",
       "      <td>1 AV</td>\n",
       "      <td>07:54:19</td>\n",
       "      <td>2442404</td>\n",
       "      <td>370652473</td>\n",
       "      <td>535881</td>\n",
       "      <td>387768467</td>\n",
       "      <td>368210069</td>\n",
       "      <td>387232586</td>\n",
       "      <td>774465172</td>\n",
       "    </tr>\n",
       "    <tr>\n",
       "      <th>4</th>\n",
       "      <td>1 AV</td>\n",
       "      <td>07:54:45</td>\n",
       "      <td>2451533</td>\n",
       "      <td>370663467</td>\n",
       "      <td>536971</td>\n",
       "      <td>387783795</td>\n",
       "      <td>368211934</td>\n",
       "      <td>387246824</td>\n",
       "      <td>774493648</td>\n",
       "    </tr>\n",
       "  </tbody>\n",
       "</table>\n",
       "</div>"
      ],
      "text/plain": [
       "  Station      Time  ENTRIES_MIN  ENTRIES_MAX  EXITS_MIN  EXITS_MAX  \\\n",
       "0    1 AV  00:00:00       100798    955451362      12708  998779409   \n",
       "1    1 AV  04:00:00       101143    955451475      12724  998779435   \n",
       "2    1 AV  07:41:30       123152    955301590      15360  998678517   \n",
       "3    1 AV  07:54:19      2442404    370652473     535881  387768467   \n",
       "4    1 AV  07:54:45      2451533    370663467     536971  387783795   \n",
       "\n",
       "   Total_Entries  Total_Exits  Total_Traffic  \n",
       "0      955350564    998766701     1997533402  \n",
       "1      955350332    998766711     1997533422  \n",
       "2      955178438    998663157     1997326314  \n",
       "3      368210069    387232586      774465172  \n",
       "4      368211934    387246824      774493648  "
      ]
     },
     "execution_count": 13,
     "metadata": {},
     "output_type": "execute_result"
    }
   ],
   "source": [
    "grouped_time['Total_Entries'] = grouped_time['ENTRIES_MAX'] - grouped_time['ENTRIES_MIN']\n",
    "grouped_time['Total_Exits'] = grouped_time['EXITS_MAX'] - grouped_time['EXITS_MIN']\n",
    "grouped_time['Total_Traffic'] = grouped_time['Total_Exits'] + grouped_time['Total_Exits']\n",
    "grouped_time.head()"
   ]
  },
  {
   "cell_type": "code",
   "execution_count": 14,
   "metadata": {},
   "outputs": [
    {
     "data": {
      "text/html": [
       "<div>\n",
       "<style scoped>\n",
       "    .dataframe tbody tr th:only-of-type {\n",
       "        vertical-align: middle;\n",
       "    }\n",
       "\n",
       "    .dataframe tbody tr th {\n",
       "        vertical-align: top;\n",
       "    }\n",
       "\n",
       "    .dataframe thead th {\n",
       "        text-align: right;\n",
       "    }\n",
       "</style>\n",
       "<table border=\"1\" class=\"dataframe\">\n",
       "  <thead>\n",
       "    <tr style=\"text-align: right;\">\n",
       "      <th></th>\n",
       "      <th>Station</th>\n",
       "      <th>Time</th>\n",
       "      <th>Total_Traffic</th>\n",
       "    </tr>\n",
       "  </thead>\n",
       "  <tbody>\n",
       "    <tr>\n",
       "      <th>0</th>\n",
       "      <td>1 AV</td>\n",
       "      <td>00:00:00</td>\n",
       "      <td>1997533402</td>\n",
       "    </tr>\n",
       "    <tr>\n",
       "      <th>1</th>\n",
       "      <td>1 AV</td>\n",
       "      <td>04:00:00</td>\n",
       "      <td>1997533422</td>\n",
       "    </tr>\n",
       "    <tr>\n",
       "      <th>2</th>\n",
       "      <td>1 AV</td>\n",
       "      <td>07:41:30</td>\n",
       "      <td>1997326314</td>\n",
       "    </tr>\n",
       "    <tr>\n",
       "      <th>3</th>\n",
       "      <td>1 AV</td>\n",
       "      <td>07:54:19</td>\n",
       "      <td>774465172</td>\n",
       "    </tr>\n",
       "    <tr>\n",
       "      <th>4</th>\n",
       "      <td>1 AV</td>\n",
       "      <td>07:54:45</td>\n",
       "      <td>774493648</td>\n",
       "    </tr>\n",
       "    <tr>\n",
       "      <th>...</th>\n",
       "      <td>...</td>\n",
       "      <td>...</td>\n",
       "      <td>...</td>\n",
       "    </tr>\n",
       "    <tr>\n",
       "      <th>99249</th>\n",
       "      <td>ZEREGA AV</td>\n",
       "      <td>05:00:00</td>\n",
       "      <td>826182</td>\n",
       "    </tr>\n",
       "    <tr>\n",
       "      <th>99250</th>\n",
       "      <td>ZEREGA AV</td>\n",
       "      <td>09:00:00</td>\n",
       "      <td>826254</td>\n",
       "    </tr>\n",
       "    <tr>\n",
       "      <th>99251</th>\n",
       "      <td>ZEREGA AV</td>\n",
       "      <td>13:00:00</td>\n",
       "      <td>826340</td>\n",
       "    </tr>\n",
       "    <tr>\n",
       "      <th>99252</th>\n",
       "      <td>ZEREGA AV</td>\n",
       "      <td>17:00:00</td>\n",
       "      <td>826496</td>\n",
       "    </tr>\n",
       "    <tr>\n",
       "      <th>99253</th>\n",
       "      <td>ZEREGA AV</td>\n",
       "      <td>21:00:00</td>\n",
       "      <td>826666</td>\n",
       "    </tr>\n",
       "  </tbody>\n",
       "</table>\n",
       "<p>99254 rows × 3 columns</p>\n",
       "</div>"
      ],
      "text/plain": [
       "         Station      Time  Total_Traffic\n",
       "0           1 AV  00:00:00     1997533402\n",
       "1           1 AV  04:00:00     1997533422\n",
       "2           1 AV  07:41:30     1997326314\n",
       "3           1 AV  07:54:19      774465172\n",
       "4           1 AV  07:54:45      774493648\n",
       "...          ...       ...            ...\n",
       "99249  ZEREGA AV  05:00:00         826182\n",
       "99250  ZEREGA AV  09:00:00         826254\n",
       "99251  ZEREGA AV  13:00:00         826340\n",
       "99252  ZEREGA AV  17:00:00         826496\n",
       "99253  ZEREGA AV  21:00:00         826666\n",
       "\n",
       "[99254 rows x 3 columns]"
      ]
     },
     "execution_count": 14,
     "metadata": {},
     "output_type": "execute_result"
    }
   ],
   "source": [
    "grouped_time.drop(['ENTRIES_MIN','ENTRIES_MAX','EXITS_MIN','EXITS_MAX', 'Total_Entries', 'Total_Exits', ], axis=1)"
   ]
  },
  {
   "cell_type": "code",
   "execution_count": 15,
   "metadata": {},
   "outputs": [],
   "source": [
    "grouped_time = grouped_time[(np.abs(stats.zscore(grouped_time['Total_Traffic'])) < 3)] #filtering"
   ]
  },
  {
   "cell_type": "code",
   "execution_count": null,
   "metadata": {},
   "outputs": [],
   "source": []
  },
  {
   "cell_type": "markdown",
   "metadata": {},
   "source": [
    "#### Combine data"
   ]
  },
  {
   "cell_type": "markdown",
   "metadata": {},
   "source": [
    "### Finding top 10 visited stations"
   ]
  },
  {
   "cell_type": "code",
   "execution_count": 18,
   "metadata": {},
   "outputs": [],
   "source": [
    "Total_ridership = grouped_day.groupby(['Station']).Total_Traffic.sum().reset_index()"
   ]
  },
  {
   "cell_type": "code",
   "execution_count": 19,
   "metadata": {},
   "outputs": [],
   "source": [
    "Total_ridership.sort_values(by=['Total_Traffic'],inplace = True, ascending = False)\n"
   ]
  },
  {
   "cell_type": "code",
   "execution_count": 29,
   "metadata": {},
   "outputs": [
    {
     "data": {
      "text/html": [
       "<div>\n",
       "<style scoped>\n",
       "    .dataframe tbody tr th:only-of-type {\n",
       "        vertical-align: middle;\n",
       "    }\n",
       "\n",
       "    .dataframe tbody tr th {\n",
       "        vertical-align: top;\n",
       "    }\n",
       "\n",
       "    .dataframe thead th {\n",
       "        text-align: right;\n",
       "    }\n",
       "</style>\n",
       "<table border=\"1\" class=\"dataframe\">\n",
       "  <thead>\n",
       "    <tr style=\"text-align: right;\">\n",
       "      <th></th>\n",
       "      <th>Station</th>\n",
       "      <th>Total_Traffic</th>\n",
       "    </tr>\n",
       "  </thead>\n",
       "  <tbody>\n",
       "    <tr>\n",
       "      <th>33</th>\n",
       "      <td>182-183 STS</td>\n",
       "      <td>284163869936</td>\n",
       "    </tr>\n",
       "    <tr>\n",
       "      <th>65</th>\n",
       "      <td>42 ST-PORT AUTH</td>\n",
       "      <td>281843135406</td>\n",
       "    </tr>\n",
       "    <tr>\n",
       "      <th>364</th>\n",
       "      <td>WORLD TRADE CTR</td>\n",
       "      <td>281680223666</td>\n",
       "    </tr>\n",
       "    <tr>\n",
       "      <th>172</th>\n",
       "      <td>CHAMBERS ST</td>\n",
       "      <td>277182762888</td>\n",
       "    </tr>\n",
       "    <tr>\n",
       "      <th>34</th>\n",
       "      <td>190 ST</td>\n",
       "      <td>276617755672</td>\n",
       "    </tr>\n",
       "  </tbody>\n",
       "</table>\n",
       "</div>"
      ],
      "text/plain": [
       "             Station  Total_Traffic\n",
       "33       182-183 STS   284163869936\n",
       "65   42 ST-PORT AUTH   281843135406\n",
       "364  WORLD TRADE CTR   281680223666\n",
       "172      CHAMBERS ST   277182762888\n",
       "34            190 ST   276617755672"
      ]
     },
     "execution_count": 29,
     "metadata": {},
     "output_type": "execute_result"
    }
   ],
   "source": [
    "Row_list =[] \n",
    "indices = []\n",
    "  \n",
    "# Iterate over each row \n",
    "for index, rows in Total_ridership[:10].iterrows(): \n",
    "    # Create list for the current row \n",
    "#    my_list =[rows.STATION, rows.Total_Traffic] \n",
    "    my_list =rows.Total_Traffic \n",
    "    station_list = rows.Station\n",
    "    # append the list to the final list \n",
    "    Row_list.append(my_list) \n",
    "    indices.append(station_list)\n",
    "Total_ridership.head()\n"
   ]
  },
  {
   "cell_type": "code",
   "execution_count": 34,
   "metadata": {},
   "outputs": [
    {
     "data": {
      "text/plain": [
       "<BarContainer object of 10 artists>"
      ]
     },
     "execution_count": 34,
     "metadata": {},
     "output_type": "execute_result"
    },
    {
     "data": {
      "image/png": "[encoded data removed]",
      "text/plain": [
       "<Figure size 1440x720 with 1 Axes>"
      ]
     },
     "metadata": {
      "needs_background": "light"
     },
     "output_type": "display_data"
    }
   ],
   "source": [
    "plt.ylim(240000000000,290000000000)\n",
    "plt.xlabel(\"Station\")\n",
    "plt.ylabel(\"Total Traffic\")\n",
    "plt.title(\"Total traffic for the period for top 10 busiest stations\")\n",
    "plt.bar(indices, Row_list)"
   ]
  },
  {
   "cell_type": "code",
   "execution_count": 35,
   "metadata": {},
   "outputs": [
    {
     "data": {
      "text/plain": [
       "['182-183 STS',\n",
       " '42 ST-PORT AUTH',\n",
       " 'WORLD TRADE CTR',\n",
       " 'CHAMBERS ST',\n",
       " '190 ST',\n",
       " 'FULTON ST',\n",
       " 'GRANT AV',\n",
       " 'BAY PKWY',\n",
       " 'EASTCHSTER/DYRE',\n",
       " 'LEXINGTON AV/53']"
      ]
     },
     "execution_count": 35,
     "metadata": {},
     "output_type": "execute_result"
    }
   ],
   "source": [
    "indices"
   ]
  },
  {
   "cell_type": "markdown",
   "metadata": {},
   "source": [
    "### Find high traffic days"
   ]
  },
  {
   "cell_type": "code",
   "execution_count": 71,
   "metadata": {},
   "outputs": [
    {
     "data": {
      "text/html": [
       "<div>\n",
       "<style scoped>\n",
       "    .dataframe tbody tr th:only-of-type {\n",
       "        vertical-align: middle;\n",
       "    }\n",
       "\n",
       "    .dataframe tbody tr th {\n",
       "        vertical-align: top;\n",
       "    }\n",
       "\n",
       "    .dataframe thead th {\n",
       "        text-align: right;\n",
       "    }\n",
       "</style>\n",
       "<table border=\"1\" class=\"dataframe\">\n",
       "  <thead>\n",
       "    <tr style=\"text-align: right;\">\n",
       "      <th></th>\n",
       "      <th>Week_Day</th>\n",
       "      <th>Total_Traffic</th>\n",
       "    </tr>\n",
       "  </thead>\n",
       "  <tbody>\n",
       "    <tr>\n",
       "      <th>0</th>\n",
       "      <td>Friday</td>\n",
       "      <td>4.039308e+08</td>\n",
       "    </tr>\n",
       "    <tr>\n",
       "      <th>6</th>\n",
       "      <td>Wednesday</td>\n",
       "      <td>4.030400e+08</td>\n",
       "    </tr>\n",
       "    <tr>\n",
       "      <th>4</th>\n",
       "      <td>Thursday</td>\n",
       "      <td>4.027653e+08</td>\n",
       "    </tr>\n",
       "    <tr>\n",
       "      <th>5</th>\n",
       "      <td>Tuesday</td>\n",
       "      <td>4.026115e+08</td>\n",
       "    </tr>\n",
       "    <tr>\n",
       "      <th>3</th>\n",
       "      <td>Sunday</td>\n",
       "      <td>4.018840e+08</td>\n",
       "    </tr>\n",
       "  </tbody>\n",
       "</table>\n",
       "</div>"
      ],
      "text/plain": [
       "    Week_Day  Total_Traffic\n",
       "0     Friday   4.039308e+08\n",
       "6  Wednesday   4.030400e+08\n",
       "4   Thursday   4.027653e+08\n",
       "5    Tuesday   4.026115e+08\n",
       "3     Sunday   4.018840e+08"
      ]
     },
     "execution_count": 71,
     "metadata": {},
     "output_type": "execute_result"
    }
   ],
   "source": [
    "#Total_Weekly_ridership = grouped_day.groupby(['Week_Day']).Total_Traffic.sum().reset_index()\n",
    "Total_Weekly_ridership = grouped_day.groupby(['Week_Day']).Total_Traffic.mean().reset_index()\n",
    "Total_Weekly_ridership.sort_values(by=['Total_Traffic'],inplace = True, ascending = False)\n",
    "Total_Weekly_ridership.head()"
   ]
  },
  {
   "cell_type": "code",
   "execution_count": 74,
   "metadata": {},
   "outputs": [
    {
     "data": {
      "text/plain": [
       "<BarContainer object of 7 artists>"
      ]
     },
     "execution_count": 74,
     "metadata": {},
     "output_type": "execute_result"
    },
    {
     "data": {
      "image/png": "[encoded data removed]",
      "text/plain": [
       "<Figure size 1440x720 with 1 Axes>"
      ]
     },
     "metadata": {
      "needs_background": "light"
     },
     "output_type": "display_data"
    }
   ],
   "source": [
    "#plt.ylim(1610000000000,1620000000000)\n",
    "plt.ylim(400000000,405000000)\n",
    "plt.bar(Total_Weekly_ridership['Week_Day'], Total_Weekly_ridership['Total_Traffic'])"
   ]
  },
  {
   "cell_type": "markdown",
   "metadata": {},
   "source": [
    "Lowest Trafic Days: Saturday, Monday, Sunday\n",
    "Highest Traffic Days: Friday, Wedensday, Tuesday "
   ]
  },
  {
   "cell_type": "code",
   "execution_count": 78,
   "metadata": {},
   "outputs": [],
   "source": [
    "Top5 = Total_ridership['Station'][0:1].tolist()\n",
    "#if \"CANAL ST\" in Top5:\n",
    " #   print(\"TRUE\")\n",
    "#plt.hist(Total_ridership['Total_Traffic'])\n",
    "#station_grouped_filtered['STATION'].head()\n",
    "Top5_stations = grouped_day[grouped_day['Station'].isin(Top5)]\n",
    "#Top5_station_weekly = Top5_stations.groupby(['Station','Week_Day']).Total_Traffic.sum().reset_index()\n",
    "Top5_station_weekly = Top5_stations.groupby(['Station','Week_Day']).Total_Traffic.mean().reset_index()"
   ]
  },
  {
   "cell_type": "code",
   "execution_count": null,
   "metadata": {},
   "outputs": [],
   "source": [
    "    "
   ]
  },
  {
   "cell_type": "code",
   "execution_count": 87,
   "metadata": {},
   "outputs": [
    {
     "name": "stdout",
     "output_type": "stream",
     "text": [
      "       Station   Week_Day  Total_Traffic\n",
      "0  182-183 STS     Friday   3.690440e+09\n",
      "1  182-183 STS     Monday   3.690440e+09\n",
      "2  182-183 STS   Saturday   3.690440e+09\n",
      "3  182-183 STS     Sunday   3.690440e+09\n",
      "4  182-183 STS   Thursday   3.690440e+09\n",
      "5  182-183 STS    Tuesday   3.690440e+09\n",
      "6  182-183 STS  Wednesday   3.690440e+09\n"
     ]
    },
    {
     "data": {
      "image/png": "[encoded data removed]",
      "text/plain": [
       "<Figure size 1440x720 with 1 Axes>"
      ]
     },
     "metadata": {
      "needs_background": "light"
     },
     "output_type": "display_data"
    },
    {
     "name": "stdout",
     "output_type": "stream",
     "text": [
      "1   NaN\n",
      "3   NaN\n",
      "Name: Total_Traffic, dtype: float64\n"
     ]
    }
   ],
   "source": [
    "\n",
    "for stations in Top5:\n",
    "    station = Top5_station_weekly[Top5_station_weekly['Station'] == stations]\n",
    "    print(station)\n",
    "    plt.plot(station['Week_Day'],station['Total_Traffic'],label = stations)\n",
    "#plt.ylim(32500000000,40700000000)\n",
    "#plt.ylim(400000000,405000000)\n",
    "plt.legend()\n",
    "plt.show()\n",
    "\n",
    "station_monday = station[station['Week_Day'] == 'Monday'] \n",
    "station_sunday = station[station['Week_Day'] == 'Sunday']\n",
    "difference = station_monday['Total_Traffic'] - station_sunday['Total_Traffic']\n",
    "print(difference)"
   ]
  },
  {
   "cell_type": "code",
   "execution_count": 66,
   "metadata": {},
   "outputs": [],
   "source": [
    "Bottom5 = Total_ridership['Station'][-10:].tolist()\n",
    "#if \"CANAL ST\" in Top5:\n",
    " #   print(\"TRUE\")\n",
    "#plt.hist(Total_ridership['Total_Traffic'])\n",
    "#station_grouped_filtered['STATION'].head()\n",
    "Bottom5_stations = grouped_day[grouped_day['Station'].isin(Bottom5)]\n",
    "Bottom5_stations_weekly = Bottom5_stations.groupby(['Station','Week_Day']).Total_Traffic.sum().reset_index()"
   ]
  },
  {
   "cell_type": "code",
   "execution_count": 70,
   "metadata": {},
   "outputs": [
    {
     "data": {
      "image/png": "[encoded data removed]",
      "text/plain": [
       "<Figure size 1440x720 with 1 Axes>"
      ]
     },
     "metadata": {
      "needs_background": "light"
     },
     "output_type": "display_data"
    }
   ],
   "source": [
    "for stations in Bottom5:\n",
    "    station = Bottom5_stations_weekly[Bottom5_stations_weekly['Station'] == stations]\n",
    "    #print(station)\n",
    "    plt.plot(station['Week_Day'],station['Total_Traffic'],label = stations)\n",
    "plt.ylim(150000,9000000)\n",
    "plt.legend()\n",
    "plt.show()"
   ]
  },
  {
   "cell_type": "markdown",
   "metadata": {},
   "source": [
    "### Find peak hours"
   ]
  },
  {
   "cell_type": "code",
   "execution_count": null,
   "metadata": {},
   "outputs": [],
   "source": []
  },
  {
   "cell_type": "code",
   "execution_count": null,
   "metadata": {},
   "outputs": [],
   "source": []
  },
  {
   "cell_type": "code",
   "execution_count": null,
   "metadata": {},
   "outputs": [],
   "source": []
  },
  {
   "cell_type": "markdown",
   "metadata": {},
   "source": [
    "### Find high traffic areas for games"
   ]
  },
  {
   "cell_type": "markdown",
   "metadata": {},
   "source": [
    "### Find top stations in each area code"
   ]
  },
  {
   "cell_type": "code",
   "execution_count": 96,
   "metadata": {},
   "outputs": [
    {
     "name": "stdout",
     "output_type": "stream",
     "text": [
      "['Q' 'M' 'Bk' 'Bx' 'SI']\n"
     ]
    },
    {
     "data": {
      "text/html": [
       "<div>\n",
       "<style scoped>\n",
       "    .dataframe tbody tr th:only-of-type {\n",
       "        vertical-align: middle;\n",
       "    }\n",
       "\n",
       "    .dataframe tbody tr th {\n",
       "        vertical-align: top;\n",
       "    }\n",
       "\n",
       "    .dataframe thead th {\n",
       "        text-align: right;\n",
       "    }\n",
       "</style>\n",
       "<table border=\"1\" class=\"dataframe\">\n",
       "  <thead>\n",
       "    <tr style=\"text-align: right;\">\n",
       "      <th></th>\n",
       "      <th>Station ID</th>\n",
       "      <th>Complex ID</th>\n",
       "      <th>GTFS Stop ID</th>\n",
       "      <th>Division</th>\n",
       "      <th>Line</th>\n",
       "      <th>Stop Name</th>\n",
       "      <th>Borough</th>\n",
       "      <th>Daytime Routes</th>\n",
       "      <th>Structure</th>\n",
       "      <th>GTFS Latitude</th>\n",
       "      <th>GTFS Longitude</th>\n",
       "      <th>North Direction Label</th>\n",
       "      <th>South Direction Label</th>\n",
       "      <th>ADA</th>\n",
       "      <th>ADA Notes</th>\n",
       "    </tr>\n",
       "  </thead>\n",
       "  <tbody>\n",
       "    <tr>\n",
       "      <th>491</th>\n",
       "      <td>517</td>\n",
       "      <td>517</td>\n",
       "      <td>S15</td>\n",
       "      <td>SIR</td>\n",
       "      <td>Staten Island</td>\n",
       "      <td>Prince's Bay</td>\n",
       "      <td>SI</td>\n",
       "      <td>SIR</td>\n",
       "      <td>Open Cut</td>\n",
       "      <td>40.525507</td>\n",
       "      <td>-74.200064</td>\n",
       "      <td>St George</td>\n",
       "      <td>Tottenville</td>\n",
       "      <td>0</td>\n",
       "      <td>NaN</td>\n",
       "    </tr>\n",
       "    <tr>\n",
       "      <th>492</th>\n",
       "      <td>518</td>\n",
       "      <td>518</td>\n",
       "      <td>S14</td>\n",
       "      <td>SIR</td>\n",
       "      <td>Staten Island</td>\n",
       "      <td>Pleasant Plains</td>\n",
       "      <td>SI</td>\n",
       "      <td>SIR</td>\n",
       "      <td>Embankment</td>\n",
       "      <td>40.522410</td>\n",
       "      <td>-74.217847</td>\n",
       "      <td>St George</td>\n",
       "      <td>Tottenville</td>\n",
       "      <td>0</td>\n",
       "      <td>NaN</td>\n",
       "    </tr>\n",
       "    <tr>\n",
       "      <th>493</th>\n",
       "      <td>519</td>\n",
       "      <td>519</td>\n",
       "      <td>S13</td>\n",
       "      <td>SIR</td>\n",
       "      <td>Staten Island</td>\n",
       "      <td>Richmond Valley</td>\n",
       "      <td>SI</td>\n",
       "      <td>SIR</td>\n",
       "      <td>Open Cut</td>\n",
       "      <td>40.519631</td>\n",
       "      <td>-74.229141</td>\n",
       "      <td>St George</td>\n",
       "      <td>Tottenville</td>\n",
       "      <td>0</td>\n",
       "      <td>NaN</td>\n",
       "    </tr>\n",
       "    <tr>\n",
       "      <th>494</th>\n",
       "      <td>522</td>\n",
       "      <td>522</td>\n",
       "      <td>S09</td>\n",
       "      <td>SIR</td>\n",
       "      <td>Staten Island</td>\n",
       "      <td>Tottenville</td>\n",
       "      <td>SI</td>\n",
       "      <td>SIR</td>\n",
       "      <td>At Grade</td>\n",
       "      <td>40.512764</td>\n",
       "      <td>-74.251961</td>\n",
       "      <td>St George</td>\n",
       "      <td>NaN</td>\n",
       "      <td>1</td>\n",
       "      <td>NaN</td>\n",
       "    </tr>\n",
       "    <tr>\n",
       "      <th>495</th>\n",
       "      <td>523</td>\n",
       "      <td>523</td>\n",
       "      <td>S11</td>\n",
       "      <td>SIR</td>\n",
       "      <td>Staten Island</td>\n",
       "      <td>Arthur Kill</td>\n",
       "      <td>SI</td>\n",
       "      <td>SIR</td>\n",
       "      <td>At Grade</td>\n",
       "      <td>40.516578</td>\n",
       "      <td>-74.242096</td>\n",
       "      <td>St George</td>\n",
       "      <td>Tottenville</td>\n",
       "      <td>1</td>\n",
       "      <td>NaN</td>\n",
       "    </tr>\n",
       "  </tbody>\n",
       "</table>\n",
       "</div>"
      ],
      "text/plain": [
       "     Station ID  Complex ID GTFS Stop ID Division           Line  \\\n",
       "491         517         517          S15      SIR  Staten Island   \n",
       "492         518         518          S14      SIR  Staten Island   \n",
       "493         519         519          S13      SIR  Staten Island   \n",
       "494         522         522          S09      SIR  Staten Island   \n",
       "495         523         523          S11      SIR  Staten Island   \n",
       "\n",
       "           Stop Name Borough Daytime Routes   Structure  GTFS Latitude  \\\n",
       "491     Prince's Bay      SI            SIR    Open Cut      40.525507   \n",
       "492  Pleasant Plains      SI            SIR  Embankment      40.522410   \n",
       "493  Richmond Valley      SI            SIR    Open Cut      40.519631   \n",
       "494      Tottenville      SI            SIR    At Grade      40.512764   \n",
       "495      Arthur Kill      SI            SIR    At Grade      40.516578   \n",
       "\n",
       "     GTFS Longitude North Direction Label South Direction Label  ADA ADA Notes  \n",
       "491      -74.200064             St George           Tottenville    0       NaN  \n",
       "492      -74.217847             St George           Tottenville    0       NaN  \n",
       "493      -74.229141             St George           Tottenville    0       NaN  \n",
       "494      -74.251961             St George                   NaN    1       NaN  \n",
       "495      -74.242096             St George           Tottenville    1       NaN  "
      ]
     },
     "execution_count": 96,
     "metadata": {},
     "output_type": "execute_result"
    }
   ],
   "source": [
    "loc_data = pd.read_csv('http://web.mta.info/developers/data/nyct/subway/Stations.csv')\n",
    "print(loc_data.Borough.unique())\n",
    "loc_data.tail()"
   ]
  },
  {
   "cell_type": "code",
   "execution_count": null,
   "metadata": {},
   "outputs": [],
   "source": []
  },
  {
   "cell_type": "code",
   "execution_count": null,
   "metadata": {},
   "outputs": [],
   "source": []
  },
  {
   "cell_type": "code",
   "execution_count": null,
   "metadata": {},
   "outputs": [],
   "source": []
  }
 ],
 "metadata": {
  "kernelspec": {
   "display_name": "Python 3",
   "language": "python",
   "name": "python3"
  },
  "language_info": {
   "codemirror_mode": {
    "name": "ipython",
    "version": 3
   },
   "file_extension": ".py",
   "mimetype": "text/x-python",
   "name": "python",
   "nbconvert_exporter": "python",
   "pygments_lexer": "ipython3",
   "version": "3.8.5"
  }
 },
 "nbformat": 4,
 "nbformat_minor": 4
}
