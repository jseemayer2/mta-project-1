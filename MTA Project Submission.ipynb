{
 "cells": [
  {
   "cell_type": "code",
<<<<<<< HEAD
=======
   "execution_count": 1,
   "metadata": {},
   "outputs": [],
   "source": [
    "import pandas as pd\n",
    "import numpy as np\n",
    "import glob\n",
    "\n",
    "%matplotlib inline"
   ]
  },
  {
   "cell_type": "code",
   "execution_count": 2,
   "metadata": {},
   "outputs": [
    {
     "data": {
      "text/plain": [
       "'/Users/jseemayer/Documents/Me/Metis/mta-project-1'"
      ]
     },
     "execution_count": 2,
     "metadata": {},
     "output_type": "execute_result"
    }
   ],
   "source": [
    "pwd"
   ]
  },
  {
   "cell_type": "code",
>>>>>>> 325b7f847dcb0e82b063e59defeb70f0802a1619
   >>>>>> "execution_count": null,
   >>>>>> "metadata": {},
   >>>>>> "outputs": [],
   >>>>>> "source": []
  >>>>>> }
>>>>>>  ],
>>>>>>  "metadata": {
  >>>>>> "kernelspec": {
   >>>>>> "display_name": "Python 3",
   >>>>>> "language": "python",
   >>>>>> "name": "python3"
  >>>>>> },
  >>>>>> "language_info": {
   >>>>>> "codemirror_mode": {
    >>>>>> "name": "ipython",
    >>>>>> "version": 3
   >>>>>> },
   >>>>>> "file_extension": ".py",
   >>>>>> "mimetype": "text/x-python",
   >>>>>> "name": "python",
   >>>>>> "nbconvert_exporter": "python",
   >>>>>> "pygments_lexer": "ipython3",
>>>>>> <<<<<<< HEAD
   >>>>>> "version": "3.8.5"
>>>>>> =======
   >>>>>> "version": "3.8.3"
>>>>>>> 325b7f847dcb0e82b063e59defeb70f0802a1619
  >>>>>> }
>>>>>>  },
>>>>>>  "nbformat": 4,
>>>>>>  "nbformat_minor": 4
>>>>>> }
   >>>>>>
   >>>>>> 
