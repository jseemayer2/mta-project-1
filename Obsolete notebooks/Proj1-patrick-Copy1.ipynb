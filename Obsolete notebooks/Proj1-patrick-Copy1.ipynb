{
 "cells": [
  {
   "cell_type": "code",
   "execution_count": 1,
   "metadata": {},
   "outputs": [],
   "source": [
    "import pandas as pd\n",
    "import matplotlib.pyplot as plt\n",
    "from pylab import rcParams\n",
    "%matplotlib inline\n",
    "rcParams['figure.figsize'] = 20,10\n",
    "import numpy as np\n",
    "import glob\n",
    "from scipy import stats"
   ]
  },
  {
   "cell_type": "code",
   "execution_count": 2,
   "metadata": {},
   "outputs": [
    {
     "name": "stdout",
     "output_type": "stream",
     "text": [
      "/Users/patrickbovard/Documents/GitHubRepos/mta-project-1/CSVs\n"
     ]
    }
   ],
   "source": [
    "cd CSVs"
   ]
  },
  {
   "cell_type": "markdown",
   "metadata": {},
   "source": [
    "#### Load Data"
   ]
  },
  {
   "cell_type": "code",
   "execution_count": 15,
   "metadata": {},
   "outputs": [
    {
     "data": {
      "text/html": [
       "<div>\n",
       "<style scoped>\n",
       "    .dataframe tbody tr th:only-of-type {\n",
       "        vertical-align: middle;\n",
       "    }\n",
       "\n",
       "    .dataframe tbody tr th {\n",
       "        vertical-align: top;\n",
       "    }\n",
       "\n",
       "    .dataframe thead th {\n",
       "        text-align: right;\n",
       "    }\n",
       "</style>\n",
       "<table border=\"1\" class=\"dataframe\">\n",
       "  <thead>\n",
       "    <tr style=\"text-align: right;\">\n",
       "      <th></th>\n",
       "      <th>C/A</th>\n",
       "      <th>UNIT</th>\n",
       "      <th>SCP</th>\n",
       "      <th>STATION</th>\n",
       "      <th>LINENAME</th>\n",
       "      <th>DIVISION</th>\n",
       "      <th>DATE</th>\n",
       "      <th>TIME</th>\n",
       "      <th>DESC</th>\n",
       "      <th>ENTRIES</th>\n",
       "      <th>EXITS</th>\n",
       "    </tr>\n",
       "  </thead>\n",
       "  <tbody>\n",
       "    <tr>\n",
       "      <th>0</th>\n",
       "      <td>A002</td>\n",
       "      <td>R051</td>\n",
       "      <td>02-00-00</td>\n",
       "      <td>59 ST</td>\n",
       "      <td>NQR456W</td>\n",
       "      <td>BMT</td>\n",
       "      <td>05/11/2019</td>\n",
       "      <td>00:00:00</td>\n",
       "      <td>REGULAR</td>\n",
       "      <td>7053483</td>\n",
       "      <td>2390505</td>\n",
       "    </tr>\n",
       "    <tr>\n",
       "      <th>1</th>\n",
       "      <td>A002</td>\n",
       "      <td>R051</td>\n",
       "      <td>02-00-00</td>\n",
       "      <td>59 ST</td>\n",
       "      <td>NQR456W</td>\n",
       "      <td>BMT</td>\n",
       "      <td>05/11/2019</td>\n",
       "      <td>04:00:00</td>\n",
       "      <td>REGULAR</td>\n",
       "      <td>7053511</td>\n",
       "      <td>2390508</td>\n",
       "    </tr>\n",
       "    <tr>\n",
       "      <th>2</th>\n",
       "      <td>A002</td>\n",
       "      <td>R051</td>\n",
       "      <td>02-00-00</td>\n",
       "      <td>59 ST</td>\n",
       "      <td>NQR456W</td>\n",
       "      <td>BMT</td>\n",
       "      <td>05/11/2019</td>\n",
       "      <td>08:00:00</td>\n",
       "      <td>REGULAR</td>\n",
       "      <td>7053534</td>\n",
       "      <td>2390536</td>\n",
       "    </tr>\n",
       "    <tr>\n",
       "      <th>3</th>\n",
       "      <td>A002</td>\n",
       "      <td>R051</td>\n",
       "      <td>02-00-00</td>\n",
       "      <td>59 ST</td>\n",
       "      <td>NQR456W</td>\n",
       "      <td>BMT</td>\n",
       "      <td>05/11/2019</td>\n",
       "      <td>12:00:00</td>\n",
       "      <td>REGULAR</td>\n",
       "      <td>7053618</td>\n",
       "      <td>2390596</td>\n",
       "    </tr>\n",
       "    <tr>\n",
       "      <th>4</th>\n",
       "      <td>A002</td>\n",
       "      <td>R051</td>\n",
       "      <td>02-00-00</td>\n",
       "      <td>59 ST</td>\n",
       "      <td>NQR456W</td>\n",
       "      <td>BMT</td>\n",
       "      <td>05/11/2019</td>\n",
       "      <td>16:00:00</td>\n",
       "      <td>REGULAR</td>\n",
       "      <td>7053841</td>\n",
       "      <td>2390655</td>\n",
       "    </tr>\n",
       "    <tr>\n",
       "      <th>...</th>\n",
       "      <td>...</td>\n",
       "      <td>...</td>\n",
       "      <td>...</td>\n",
       "      <td>...</td>\n",
       "      <td>...</td>\n",
       "      <td>...</td>\n",
       "      <td>...</td>\n",
       "      <td>...</td>\n",
       "      <td>...</td>\n",
       "      <td>...</td>\n",
       "      <td>...</td>\n",
       "    </tr>\n",
       "    <tr>\n",
       "      <th>206852</th>\n",
       "      <td>TRAM2</td>\n",
       "      <td>R469</td>\n",
       "      <td>00-05-01</td>\n",
       "      <td>RIT-ROOSEVELT</td>\n",
       "      <td>R</td>\n",
       "      <td>RIT</td>\n",
       "      <td>05/03/2019</td>\n",
       "      <td>05:00:00</td>\n",
       "      <td>REGULAR</td>\n",
       "      <td>5554</td>\n",
       "      <td>376</td>\n",
       "    </tr>\n",
       "    <tr>\n",
       "      <th>206853</th>\n",
       "      <td>TRAM2</td>\n",
       "      <td>R469</td>\n",
       "      <td>00-05-01</td>\n",
       "      <td>RIT-ROOSEVELT</td>\n",
       "      <td>R</td>\n",
       "      <td>RIT</td>\n",
       "      <td>05/03/2019</td>\n",
       "      <td>09:00:00</td>\n",
       "      <td>REGULAR</td>\n",
       "      <td>5554</td>\n",
       "      <td>376</td>\n",
       "    </tr>\n",
       "    <tr>\n",
       "      <th>206854</th>\n",
       "      <td>TRAM2</td>\n",
       "      <td>R469</td>\n",
       "      <td>00-05-01</td>\n",
       "      <td>RIT-ROOSEVELT</td>\n",
       "      <td>R</td>\n",
       "      <td>RIT</td>\n",
       "      <td>05/03/2019</td>\n",
       "      <td>13:00:00</td>\n",
       "      <td>REGULAR</td>\n",
       "      <td>5554</td>\n",
       "      <td>376</td>\n",
       "    </tr>\n",
       "    <tr>\n",
       "      <th>206855</th>\n",
       "      <td>TRAM2</td>\n",
       "      <td>R469</td>\n",
       "      <td>00-05-01</td>\n",
       "      <td>RIT-ROOSEVELT</td>\n",
       "      <td>R</td>\n",
       "      <td>RIT</td>\n",
       "      <td>05/03/2019</td>\n",
       "      <td>17:00:00</td>\n",
       "      <td>REGULAR</td>\n",
       "      <td>5554</td>\n",
       "      <td>376</td>\n",
       "    </tr>\n",
       "    <tr>\n",
       "      <th>206856</th>\n",
       "      <td>TRAM2</td>\n",
       "      <td>R469</td>\n",
       "      <td>00-05-01</td>\n",
       "      <td>RIT-ROOSEVELT</td>\n",
       "      <td>R</td>\n",
       "      <td>RIT</td>\n",
       "      <td>05/03/2019</td>\n",
       "      <td>21:00:00</td>\n",
       "      <td>REGULAR</td>\n",
       "      <td>5554</td>\n",
       "      <td>376</td>\n",
       "    </tr>\n",
       "  </tbody>\n",
       "</table>\n",
       "<p>2250808 rows × 11 columns</p>\n",
       "</div>"
      ],
      "text/plain": [
       "          C/A  UNIT       SCP        STATION LINENAME DIVISION        DATE  \\\n",
       "0        A002  R051  02-00-00          59 ST  NQR456W      BMT  05/11/2019   \n",
       "1        A002  R051  02-00-00          59 ST  NQR456W      BMT  05/11/2019   \n",
       "2        A002  R051  02-00-00          59 ST  NQR456W      BMT  05/11/2019   \n",
       "3        A002  R051  02-00-00          59 ST  NQR456W      BMT  05/11/2019   \n",
       "4        A002  R051  02-00-00          59 ST  NQR456W      BMT  05/11/2019   \n",
       "...       ...   ...       ...            ...      ...      ...         ...   \n",
       "206852  TRAM2  R469  00-05-01  RIT-ROOSEVELT        R      RIT  05/03/2019   \n",
       "206853  TRAM2  R469  00-05-01  RIT-ROOSEVELT        R      RIT  05/03/2019   \n",
       "206854  TRAM2  R469  00-05-01  RIT-ROOSEVELT        R      RIT  05/03/2019   \n",
       "206855  TRAM2  R469  00-05-01  RIT-ROOSEVELT        R      RIT  05/03/2019   \n",
       "206856  TRAM2  R469  00-05-01  RIT-ROOSEVELT        R      RIT  05/03/2019   \n",
       "\n",
       "            TIME     DESC  ENTRIES  \\\n",
       "0       00:00:00  REGULAR  7053483   \n",
       "1       04:00:00  REGULAR  7053511   \n",
       "2       08:00:00  REGULAR  7053534   \n",
       "3       12:00:00  REGULAR  7053618   \n",
       "4       16:00:00  REGULAR  7053841   \n",
       "...          ...      ...      ...   \n",
       "206852  05:00:00  REGULAR     5554   \n",
       "206853  09:00:00  REGULAR     5554   \n",
       "206854  13:00:00  REGULAR     5554   \n",
       "206855  17:00:00  REGULAR     5554   \n",
       "206856  21:00:00  REGULAR     5554   \n",
       "\n",
       "        EXITS                                                                 \n",
       "0                                                 2390505                     \n",
       "1                                                 2390508                     \n",
       "2                                                 2390536                     \n",
       "3                                                 2390596                     \n",
       "4                                                 2390655                     \n",
       "...                                                   ...                     \n",
       "206852                                                376                     \n",
       "206853                                                376                     \n",
       "206854                                                376                     \n",
       "206855                                                376                     \n",
       "206856                                                376                     \n",
       "\n",
       "[2250808 rows x 11 columns]"
      ]
     },
     "execution_count": 15,
     "metadata": {},
     "output_type": "execute_result"
    }
   ],
   "source": [
    "extension = 'txt'\n",
    "all_filenames = [i for i in glob.glob('*.{}'.format(extension))]\n",
    "\n",
    "#combine all files in the list\n",
    "data = pd.concat([pd.read_csv(f) for f in all_filenames ])\n",
    "data\n"
   ]
  },
  {
   "cell_type": "markdown",
   "metadata": {},
   "source": [
    "### Clean Data"
   ]
  },
  {
   "cell_type": "markdown",
   "metadata": {},
   "source": [
    "remove spaces from column names"
   ]
  },
  {
   "cell_type": "code",
   "execution_count": 16,
   "metadata": {},
   "outputs": [],
   "source": [
    "data.columns = data.columns.str.replace(' ', '')"
   ]
  },
  {
   "cell_type": "markdown",
   "metadata": {},
   "source": [
    "add Date_Time column "
   ]
  },
  {
   "cell_type": "code",
   "execution_count": 17,
   "metadata": {},
   "outputs": [],
   "source": [
    "data['Date_Time'] = pd.to_datetime(data['DATE'], cache=True) + pd.to_timedelta(data['TIME'])"
   ]
  },
  {
   "cell_type": "markdown",
   "metadata": {},
   "source": [
    "Add Turnstile (Combining SCP,C/A, Station and Unit) and Weekday column"
   ]
  },
  {
   "cell_type": "code",
   "execution_count": 18,
   "metadata": {},
   "outputs": [],
   "source": [
    "data['Turnstile'] = data['C/A'] + data['UNIT'] + data['SCP'] + data['STATION']\n",
    "data['DATE'] = pd.to_datetime(data['DATE'], cache=True)\n",
    "data['Week_Day'] = data['DATE'].dt.day_name()"
   ]
  },
  {
   "cell_type": "code",
   "execution_count": 19,
   "metadata": {},
   "outputs": [],
   "source": [
    "grouped_day = data.groupby(['STATION','DATE'], as_index=False).agg({'ENTRIES': ['min', 'max'], 'EXITS': ['min', 'max']})\n",
    "grouped_day.columns = [ 'Station','Date', 'ENTRIES_MIN', 'ENTRIES_MAX', 'EXITS_MIN', 'EXITS_MAX']"
   ]
  },
  {
   "cell_type": "code",
   "execution_count": 20,
   "metadata": {},
   "outputs": [],
   "source": [
    "grouped_day['Date'] = pd.to_datetime(grouped_day['Date'], cache=True)\n",
    "grouped_day['Week_Day'] = grouped_day['Date'].dt.day_name()"
   ]
  },
  {
   "cell_type": "code",
   "execution_count": 21,
   "metadata": {},
   "outputs": [
    {
     "data": {
      "text/html": [
       "<div>\n",
       "<style scoped>\n",
       "    .dataframe tbody tr th:only-of-type {\n",
       "        vertical-align: middle;\n",
       "    }\n",
       "\n",
       "    .dataframe tbody tr th {\n",
       "        vertical-align: top;\n",
       "    }\n",
       "\n",
       "    .dataframe thead th {\n",
       "        text-align: right;\n",
       "    }\n",
       "</style>\n",
       "<table border=\"1\" class=\"dataframe\">\n",
       "  <thead>\n",
       "    <tr style=\"text-align: right;\">\n",
       "      <th></th>\n",
       "      <th>Station</th>\n",
       "      <th>Date</th>\n",
       "      <th>ENTRIES_MIN</th>\n",
       "      <th>ENTRIES_MAX</th>\n",
       "      <th>EXITS_MIN</th>\n",
       "      <th>EXITS_MAX</th>\n",
       "      <th>Week_Day</th>\n",
       "      <th>Total_Entries</th>\n",
       "      <th>Total_Exits</th>\n",
       "      <th>Total_Traffic</th>\n",
       "    </tr>\n",
       "  </thead>\n",
       "  <tbody>\n",
       "    <tr>\n",
       "      <th>0</th>\n",
       "      <td>1 AV</td>\n",
       "      <td>2019-03-30</td>\n",
       "      <td>100798</td>\n",
       "      <td>955292159</td>\n",
       "      <td>12708</td>\n",
       "      <td>998669812</td>\n",
       "      <td>Saturday</td>\n",
       "      <td>955191361</td>\n",
       "      <td>998657104</td>\n",
       "      <td>1997314208</td>\n",
       "    </tr>\n",
       "    <tr>\n",
       "      <th>1</th>\n",
       "      <td>1 AV</td>\n",
       "      <td>2019-03-31</td>\n",
       "      <td>104309</td>\n",
       "      <td>955294001</td>\n",
       "      <td>13062</td>\n",
       "      <td>998670921</td>\n",
       "      <td>Sunday</td>\n",
       "      <td>955189692</td>\n",
       "      <td>998657859</td>\n",
       "      <td>1997315718</td>\n",
       "    </tr>\n",
       "    <tr>\n",
       "      <th>2</th>\n",
       "      <td>1 AV</td>\n",
       "      <td>2019-04-01</td>\n",
       "      <td>106948</td>\n",
       "      <td>955296212</td>\n",
       "      <td>13366</td>\n",
       "      <td>998672726</td>\n",
       "      <td>Monday</td>\n",
       "      <td>955189264</td>\n",
       "      <td>998659360</td>\n",
       "      <td>1997318720</td>\n",
       "    </tr>\n",
       "    <tr>\n",
       "      <th>3</th>\n",
       "      <td>1 AV</td>\n",
       "      <td>2019-04-02</td>\n",
       "      <td>110569</td>\n",
       "      <td>955297253</td>\n",
       "      <td>13856</td>\n",
       "      <td>998674559</td>\n",
       "      <td>Tuesday</td>\n",
       "      <td>955186684</td>\n",
       "      <td>998660703</td>\n",
       "      <td>1997321406</td>\n",
       "    </tr>\n",
       "    <tr>\n",
       "      <th>4</th>\n",
       "      <td>1 AV</td>\n",
       "      <td>2019-04-03</td>\n",
       "      <td>114965</td>\n",
       "      <td>955297587</td>\n",
       "      <td>14325</td>\n",
       "      <td>998676287</td>\n",
       "      <td>Wednesday</td>\n",
       "      <td>955182622</td>\n",
       "      <td>998661962</td>\n",
       "      <td>1997323924</td>\n",
       "    </tr>\n",
       "  </tbody>\n",
       "</table>\n",
       "</div>"
      ],
      "text/plain": [
       "  Station       Date  ENTRIES_MIN  ENTRIES_MAX  EXITS_MIN  EXITS_MAX  \\\n",
       "0    1 AV 2019-03-30       100798    955292159      12708  998669812   \n",
       "1    1 AV 2019-03-31       104309    955294001      13062  998670921   \n",
       "2    1 AV 2019-04-01       106948    955296212      13366  998672726   \n",
       "3    1 AV 2019-04-02       110569    955297253      13856  998674559   \n",
       "4    1 AV 2019-04-03       114965    955297587      14325  998676287   \n",
       "\n",
       "    Week_Day  Total_Entries  Total_Exits  Total_Traffic  \n",
       "0   Saturday      955191361    998657104     1997314208  \n",
       "1     Sunday      955189692    998657859     1997315718  \n",
       "2     Monday      955189264    998659360     1997318720  \n",
       "3    Tuesday      955186684    998660703     1997321406  \n",
       "4  Wednesday      955182622    998661962     1997323924  "
      ]
     },
     "execution_count": 21,
     "metadata": {},
     "output_type": "execute_result"
    }
   ],
   "source": [
    "grouped_day['Total_Entries'] = grouped_day['ENTRIES_MAX'] - grouped_day['ENTRIES_MIN']\n",
    "grouped_day['Total_Exits'] = grouped_day['EXITS_MAX'] - grouped_day['EXITS_MIN']\n",
    "grouped_day['Total_Traffic'] = grouped_day['Total_Exits'] + grouped_day['Total_Exits']\n",
    "grouped_day.head()"
   ]
  },
  {
   "cell_type": "code",
   "execution_count": 22,
   "metadata": {},
   "outputs": [],
   "source": [
    "grouped_day.drop(['ENTRIES_MIN','ENTRIES_MAX','EXITS_MIN','EXITS_MAX', 'Total_Entries', 'Total_Exits', ], axis=1)\n",
    "\n",
    "grouped_day = grouped_day[(np.abs(stats.zscore(grouped_day['Total_Traffic'])) < 3)] #filtering"
   ]
  },
  {
   "cell_type": "markdown",
   "metadata": {},
   "source": [
    "#### Find total traffic"
   ]
  },
  {
   "cell_type": "markdown",
   "metadata": {},
   "source": [
    "Add shifted columns to show previous entries and exits"
   ]
  },
  {
   "cell_type": "code",
   "execution_count": 23,
   "metadata": {},
   "outputs": [],
   "source": [
    "#All turnstiles have cumulative counts, previous data needs to be subtraced from current data \n",
    "#to find total entries/exits\n",
    "grouped_time=data\n",
    "grouped_time[\"PREV_TIME\"] = data.groupby([\"Turnstile\"]).TIME.shift(1)\n",
    "grouped_time[\"PREV_EXITS\"] = data.groupby([\"Turnstile\"]).EXITS.shift(1)\n",
    "grouped_time[\"PREV_ENTRIES\"] = data.groupby([\"Turnstile\"]).ENTRIES.shift(1)\n",
    "#grouped_time.head()"
   ]
  },
  {
   "cell_type": "code",
   "execution_count": 24,
   "metadata": {},
   "outputs": [],
   "source": [
    "#drop first row of each turnstile b/c of shift down\n",
    "grouped_time.dropna(subset=[\"PREV_ENTRIES\"], axis=0, inplace=True) "
   ]
  },
  {
   "cell_type": "code",
   "execution_count": null,
   "metadata": {},
   "outputs": [],
   "source": []
  },
  {
   "cell_type": "markdown",
   "metadata": {},
   "source": [
    "Remove counter errors from total entries/exits that occur from counters resetting"
   ]
  },
  {
   "cell_type": "code",
   "execution_count": 25,
   "metadata": {},
   "outputs": [],
   "source": [
    "def get_daily_counts_exits(row, max_counter):\n",
    "    counter_ex = row[\"EXITS\"] - row[\"PREV_EXITS\"]\n",
    "    if counter_ex < 0:\n",
    "        # Maybe counter is reversed?\n",
    "        counter_ex = -counter_ex\n",
    "    if counter_ex > max_counter:\n",
    "        # Maybe counter was reset to 0? \n",
    "        #print(row[\"EXITS\"], row[\"PREV_EXITS\"])\n",
    "        counter = min(row[\"EXITS\"], row[\"PREV_EXITS\"])\n",
    "    if counter_ex > max_counter:\n",
    "        # Check it again to make sure we're not still giving a counter that's too big\n",
    "        return 0\n",
    "    return counter_ex\n",
    "\n",
    "def get_daily_counts_entries(row, max_counter):\n",
    "    counter_ent = row[\"ENTRIES\"] - row[\"PREV_ENTRIES\"]\n",
    "    if counter_ent < 0:\n",
    "        # Maybe counter is reversed?\n",
    "        counter_ent = -counter_ent\n",
    "    if counter_ent > max_counter:\n",
    "        # Maybe counter was reset to 0? \n",
    "        #print(row[\"ENTRIES\"], row[\"PREV_ENTRIES\"])\n",
    "        counter = min(row[\"ENTRIES\"], row[\"PREV_ENTRIES\"])\n",
    "    if counter_ent > max_counter:\n",
    "        # Check it again to make sure we're not still giving a counter that's too big\n",
    "        return 0\n",
    "    return counter_ent\n",
    "\n",
    "\n",
    "# If counter is > 1Million, then the counter might have been reset.  \n",
    "# Just set it to zero as different counters have different cycle limits\n",
    "# It'd probably be a good idea to use a number even significantly smaller than 1 million as the limit!"
   ]
  },
  {
   "cell_type": "code",
   "execution_count": 26,
   "metadata": {},
   "outputs": [],
   "source": [
    "grouped_time[\"TOTAL_ENTRIES\"] = grouped_time.apply(get_daily_counts_entries, axis=1, max_counter=1000000)\n",
    "grouped_time[\"TOTAL_EXITS\"] = grouped_time.apply(get_daily_counts_exits, axis=1, max_counter=1000000)\n",
    "#grouped_time[\"TOTAL_EXITS\"] = grouped_time.apply(get_daily_counts, axis=1, max_counter=1000000)"
   ]
  },
  {
   "cell_type": "code",
   "execution_count": 27,
   "metadata": {},
   "outputs": [
    {
     "data": {
      "text/html": [
       "<div>\n",
       "<style scoped>\n",
       "    .dataframe tbody tr th:only-of-type {\n",
       "        vertical-align: middle;\n",
       "    }\n",
       "\n",
       "    .dataframe tbody tr th {\n",
       "        vertical-align: top;\n",
       "    }\n",
       "\n",
       "    .dataframe thead th {\n",
       "        text-align: right;\n",
       "    }\n",
       "</style>\n",
       "<table border=\"1\" class=\"dataframe\">\n",
       "  <thead>\n",
       "    <tr style=\"text-align: right;\">\n",
       "      <th></th>\n",
       "      <th>C/A</th>\n",
       "      <th>UNIT</th>\n",
       "      <th>SCP</th>\n",
       "      <th>STATION</th>\n",
       "      <th>LINENAME</th>\n",
       "      <th>DIVISION</th>\n",
       "      <th>DATE</th>\n",
       "      <th>TIME</th>\n",
       "      <th>DESC</th>\n",
       "      <th>ENTRIES</th>\n",
       "      <th>EXITS</th>\n",
       "      <th>Date_Time</th>\n",
       "      <th>Turnstile</th>\n",
       "      <th>Week_Day</th>\n",
       "      <th>PREV_TIME</th>\n",
       "      <th>PREV_EXITS</th>\n",
       "      <th>PREV_ENTRIES</th>\n",
       "      <th>TOTAL_ENTRIES</th>\n",
       "      <th>TOTAL_EXITS</th>\n",
       "      <th>TOTAL_TRAFFIC</th>\n",
       "    </tr>\n",
       "  </thead>\n",
       "  <tbody>\n",
       "    <tr>\n",
       "      <th>1</th>\n",
       "      <td>A002</td>\n",
       "      <td>R051</td>\n",
       "      <td>02-00-00</td>\n",
       "      <td>59 ST</td>\n",
       "      <td>NQR456W</td>\n",
       "      <td>BMT</td>\n",
       "      <td>2019-05-11</td>\n",
       "      <td>04:00:00</td>\n",
       "      <td>REGULAR</td>\n",
       "      <td>7053511</td>\n",
       "      <td>2390508</td>\n",
       "      <td>2019-05-11 04:00:00</td>\n",
       "      <td>A002R05102-00-0059 ST</td>\n",
       "      <td>Saturday</td>\n",
       "      <td>00:00:00</td>\n",
       "      <td>2390505.0</td>\n",
       "      <td>7053483.0</td>\n",
       "      <td>28.0</td>\n",
       "      <td>3.0</td>\n",
       "      <td>31.0</td>\n",
       "    </tr>\n",
       "    <tr>\n",
       "      <th>2</th>\n",
       "      <td>A002</td>\n",
       "      <td>R051</td>\n",
       "      <td>02-00-00</td>\n",
       "      <td>59 ST</td>\n",
       "      <td>NQR456W</td>\n",
       "      <td>BMT</td>\n",
       "      <td>2019-05-11</td>\n",
       "      <td>08:00:00</td>\n",
       "      <td>REGULAR</td>\n",
       "      <td>7053534</td>\n",
       "      <td>2390536</td>\n",
       "      <td>2019-05-11 08:00:00</td>\n",
       "      <td>A002R05102-00-0059 ST</td>\n",
       "      <td>Saturday</td>\n",
       "      <td>04:00:00</td>\n",
       "      <td>2390508.0</td>\n",
       "      <td>7053511.0</td>\n",
       "      <td>23.0</td>\n",
       "      <td>28.0</td>\n",
       "      <td>51.0</td>\n",
       "    </tr>\n",
       "    <tr>\n",
       "      <th>3</th>\n",
       "      <td>A002</td>\n",
       "      <td>R051</td>\n",
       "      <td>02-00-00</td>\n",
       "      <td>59 ST</td>\n",
       "      <td>NQR456W</td>\n",
       "      <td>BMT</td>\n",
       "      <td>2019-05-11</td>\n",
       "      <td>12:00:00</td>\n",
       "      <td>REGULAR</td>\n",
       "      <td>7053618</td>\n",
       "      <td>2390596</td>\n",
       "      <td>2019-05-11 12:00:00</td>\n",
       "      <td>A002R05102-00-0059 ST</td>\n",
       "      <td>Saturday</td>\n",
       "      <td>08:00:00</td>\n",
       "      <td>2390536.0</td>\n",
       "      <td>7053534.0</td>\n",
       "      <td>84.0</td>\n",
       "      <td>60.0</td>\n",
       "      <td>144.0</td>\n",
       "    </tr>\n",
       "    <tr>\n",
       "      <th>4</th>\n",
       "      <td>A002</td>\n",
       "      <td>R051</td>\n",
       "      <td>02-00-00</td>\n",
       "      <td>59 ST</td>\n",
       "      <td>NQR456W</td>\n",
       "      <td>BMT</td>\n",
       "      <td>2019-05-11</td>\n",
       "      <td>16:00:00</td>\n",
       "      <td>REGULAR</td>\n",
       "      <td>7053841</td>\n",
       "      <td>2390655</td>\n",
       "      <td>2019-05-11 16:00:00</td>\n",
       "      <td>A002R05102-00-0059 ST</td>\n",
       "      <td>Saturday</td>\n",
       "      <td>12:00:00</td>\n",
       "      <td>2390596.0</td>\n",
       "      <td>7053618.0</td>\n",
       "      <td>223.0</td>\n",
       "      <td>59.0</td>\n",
       "      <td>282.0</td>\n",
       "    </tr>\n",
       "    <tr>\n",
       "      <th>5</th>\n",
       "      <td>A002</td>\n",
       "      <td>R051</td>\n",
       "      <td>02-00-00</td>\n",
       "      <td>59 ST</td>\n",
       "      <td>NQR456W</td>\n",
       "      <td>BMT</td>\n",
       "      <td>2019-05-11</td>\n",
       "      <td>20:00:00</td>\n",
       "      <td>REGULAR</td>\n",
       "      <td>7054133</td>\n",
       "      <td>2390702</td>\n",
       "      <td>2019-05-11 20:00:00</td>\n",
       "      <td>A002R05102-00-0059 ST</td>\n",
       "      <td>Saturday</td>\n",
       "      <td>16:00:00</td>\n",
       "      <td>2390655.0</td>\n",
       "      <td>7053841.0</td>\n",
       "      <td>292.0</td>\n",
       "      <td>47.0</td>\n",
       "      <td>339.0</td>\n",
       "    </tr>\n",
       "  </tbody>\n",
       "</table>\n",
       "</div>"
      ],
      "text/plain": [
       "    C/A  UNIT       SCP STATION LINENAME DIVISION       DATE      TIME  \\\n",
       "1  A002  R051  02-00-00   59 ST  NQR456W      BMT 2019-05-11  04:00:00   \n",
       "2  A002  R051  02-00-00   59 ST  NQR456W      BMT 2019-05-11  08:00:00   \n",
       "3  A002  R051  02-00-00   59 ST  NQR456W      BMT 2019-05-11  12:00:00   \n",
       "4  A002  R051  02-00-00   59 ST  NQR456W      BMT 2019-05-11  16:00:00   \n",
       "5  A002  R051  02-00-00   59 ST  NQR456W      BMT 2019-05-11  20:00:00   \n",
       "\n",
       "      DESC  ENTRIES    EXITS           Date_Time              Turnstile  \\\n",
       "1  REGULAR  7053511  2390508 2019-05-11 04:00:00  A002R05102-00-0059 ST   \n",
       "2  REGULAR  7053534  2390536 2019-05-11 08:00:00  A002R05102-00-0059 ST   \n",
       "3  REGULAR  7053618  2390596 2019-05-11 12:00:00  A002R05102-00-0059 ST   \n",
       "4  REGULAR  7053841  2390655 2019-05-11 16:00:00  A002R05102-00-0059 ST   \n",
       "5  REGULAR  7054133  2390702 2019-05-11 20:00:00  A002R05102-00-0059 ST   \n",
       "\n",
       "   Week_Day PREV_TIME  PREV_EXITS  PREV_ENTRIES  TOTAL_ENTRIES  TOTAL_EXITS  \\\n",
       "1  Saturday  00:00:00   2390505.0     7053483.0           28.0          3.0   \n",
       "2  Saturday  04:00:00   2390508.0     7053511.0           23.0         28.0   \n",
       "3  Saturday  08:00:00   2390536.0     7053534.0           84.0         60.0   \n",
       "4  Saturday  12:00:00   2390596.0     7053618.0          223.0         59.0   \n",
       "5  Saturday  16:00:00   2390655.0     7053841.0          292.0         47.0   \n",
       "\n",
       "   TOTAL_TRAFFIC  \n",
       "1           31.0  \n",
       "2           51.0  \n",
       "3          144.0  \n",
       "4          282.0  \n",
       "5          339.0  "
      ]
     },
     "execution_count": 27,
     "metadata": {},
     "output_type": "execute_result"
    }
   ],
   "source": [
    "grouped_time[\"TOTAL_TRAFFIC\"] = grouped_time[\"TOTAL_EXITS\"] + grouped_time[\"TOTAL_ENTRIES\"]\n",
    "grouped_time.head()"
   ]
  },
  {
   "cell_type": "markdown",
   "metadata": {},
   "source": [
    "remove total traffic outliers that are 3 sigmas from mean"
   ]
  },
  {
   "cell_type": "code",
   "execution_count": 28,
   "metadata": {},
   "outputs": [],
   "source": [
    "grouped_time = grouped_time[(np.abs(stats.zscore(grouped_time['TOTAL_TRAFFIC'])) < 3)] #filtering"
   ]
  },
  {
   "cell_type": "markdown",
   "metadata": {},
   "source": [
    "drop uneeded columns"
   ]
  },
  {
   "cell_type": "code",
   "execution_count": 29,
   "metadata": {},
   "outputs": [
    {
     "data": {
      "text/html": [
       "<div>\n",
       "<style scoped>\n",
       "    .dataframe tbody tr th:only-of-type {\n",
       "        vertical-align: middle;\n",
       "    }\n",
       "\n",
       "    .dataframe tbody tr th {\n",
       "        vertical-align: top;\n",
       "    }\n",
       "\n",
       "    .dataframe thead th {\n",
       "        text-align: right;\n",
       "    }\n",
       "</style>\n",
       "<table border=\"1\" class=\"dataframe\">\n",
       "  <thead>\n",
       "    <tr style=\"text-align: right;\">\n",
       "      <th></th>\n",
       "      <th>STATION</th>\n",
       "      <th>DIVISION</th>\n",
       "      <th>DATE</th>\n",
       "      <th>TIME</th>\n",
       "      <th>DESC</th>\n",
       "      <th>Date_Time</th>\n",
       "      <th>Turnstile</th>\n",
       "      <th>Week_Day</th>\n",
       "      <th>TOTAL_ENTRIES</th>\n",
       "      <th>TOTAL_EXITS</th>\n",
       "      <th>TOTAL_TRAFFIC</th>\n",
       "    </tr>\n",
       "  </thead>\n",
       "  <tbody>\n",
       "    <tr>\n",
       "      <th>1</th>\n",
       "      <td>59 ST</td>\n",
       "      <td>BMT</td>\n",
       "      <td>2019-05-11</td>\n",
       "      <td>04:00:00</td>\n",
       "      <td>REGULAR</td>\n",
       "      <td>2019-05-11 04:00:00</td>\n",
       "      <td>A002R05102-00-0059 ST</td>\n",
       "      <td>Saturday</td>\n",
       "      <td>28.0</td>\n",
       "      <td>3.0</td>\n",
       "      <td>31.0</td>\n",
       "    </tr>\n",
       "    <tr>\n",
       "      <th>2</th>\n",
       "      <td>59 ST</td>\n",
       "      <td>BMT</td>\n",
       "      <td>2019-05-11</td>\n",
       "      <td>08:00:00</td>\n",
       "      <td>REGULAR</td>\n",
       "      <td>2019-05-11 08:00:00</td>\n",
       "      <td>A002R05102-00-0059 ST</td>\n",
       "      <td>Saturday</td>\n",
       "      <td>23.0</td>\n",
       "      <td>28.0</td>\n",
       "      <td>51.0</td>\n",
       "    </tr>\n",
       "    <tr>\n",
       "      <th>3</th>\n",
       "      <td>59 ST</td>\n",
       "      <td>BMT</td>\n",
       "      <td>2019-05-11</td>\n",
       "      <td>12:00:00</td>\n",
       "      <td>REGULAR</td>\n",
       "      <td>2019-05-11 12:00:00</td>\n",
       "      <td>A002R05102-00-0059 ST</td>\n",
       "      <td>Saturday</td>\n",
       "      <td>84.0</td>\n",
       "      <td>60.0</td>\n",
       "      <td>144.0</td>\n",
       "    </tr>\n",
       "    <tr>\n",
       "      <th>4</th>\n",
       "      <td>59 ST</td>\n",
       "      <td>BMT</td>\n",
       "      <td>2019-05-11</td>\n",
       "      <td>16:00:00</td>\n",
       "      <td>REGULAR</td>\n",
       "      <td>2019-05-11 16:00:00</td>\n",
       "      <td>A002R05102-00-0059 ST</td>\n",
       "      <td>Saturday</td>\n",
       "      <td>223.0</td>\n",
       "      <td>59.0</td>\n",
       "      <td>282.0</td>\n",
       "    </tr>\n",
       "    <tr>\n",
       "      <th>5</th>\n",
       "      <td>59 ST</td>\n",
       "      <td>BMT</td>\n",
       "      <td>2019-05-11</td>\n",
       "      <td>20:00:00</td>\n",
       "      <td>REGULAR</td>\n",
       "      <td>2019-05-11 20:00:00</td>\n",
       "      <td>A002R05102-00-0059 ST</td>\n",
       "      <td>Saturday</td>\n",
       "      <td>292.0</td>\n",
       "      <td>47.0</td>\n",
       "      <td>339.0</td>\n",
       "    </tr>\n",
       "    <tr>\n",
       "      <th>...</th>\n",
       "      <td>...</td>\n",
       "      <td>...</td>\n",
       "      <td>...</td>\n",
       "      <td>...</td>\n",
       "      <td>...</td>\n",
       "      <td>...</td>\n",
       "      <td>...</td>\n",
       "      <td>...</td>\n",
       "      <td>...</td>\n",
       "      <td>...</td>\n",
       "      <td>...</td>\n",
       "    </tr>\n",
       "    <tr>\n",
       "      <th>206852</th>\n",
       "      <td>RIT-ROOSEVELT</td>\n",
       "      <td>RIT</td>\n",
       "      <td>2019-05-03</td>\n",
       "      <td>05:00:00</td>\n",
       "      <td>REGULAR</td>\n",
       "      <td>2019-05-03 05:00:00</td>\n",
       "      <td>TRAM2R46900-05-01RIT-ROOSEVELT</td>\n",
       "      <td>Friday</td>\n",
       "      <td>0.0</td>\n",
       "      <td>0.0</td>\n",
       "      <td>0.0</td>\n",
       "    </tr>\n",
       "    <tr>\n",
       "      <th>206853</th>\n",
       "      <td>RIT-ROOSEVELT</td>\n",
       "      <td>RIT</td>\n",
       "      <td>2019-05-03</td>\n",
       "      <td>09:00:00</td>\n",
       "      <td>REGULAR</td>\n",
       "      <td>2019-05-03 09:00:00</td>\n",
       "      <td>TRAM2R46900-05-01RIT-ROOSEVELT</td>\n",
       "      <td>Friday</td>\n",
       "      <td>0.0</td>\n",
       "      <td>0.0</td>\n",
       "      <td>0.0</td>\n",
       "    </tr>\n",
       "    <tr>\n",
       "      <th>206854</th>\n",
       "      <td>RIT-ROOSEVELT</td>\n",
       "      <td>RIT</td>\n",
       "      <td>2019-05-03</td>\n",
       "      <td>13:00:00</td>\n",
       "      <td>REGULAR</td>\n",
       "      <td>2019-05-03 13:00:00</td>\n",
       "      <td>TRAM2R46900-05-01RIT-ROOSEVELT</td>\n",
       "      <td>Friday</td>\n",
       "      <td>0.0</td>\n",
       "      <td>0.0</td>\n",
       "      <td>0.0</td>\n",
       "    </tr>\n",
       "    <tr>\n",
       "      <th>206855</th>\n",
       "      <td>RIT-ROOSEVELT</td>\n",
       "      <td>RIT</td>\n",
       "      <td>2019-05-03</td>\n",
       "      <td>17:00:00</td>\n",
       "      <td>REGULAR</td>\n",
       "      <td>2019-05-03 17:00:00</td>\n",
       "      <td>TRAM2R46900-05-01RIT-ROOSEVELT</td>\n",
       "      <td>Friday</td>\n",
       "      <td>0.0</td>\n",
       "      <td>0.0</td>\n",
       "      <td>0.0</td>\n",
       "    </tr>\n",
       "    <tr>\n",
       "      <th>206856</th>\n",
       "      <td>RIT-ROOSEVELT</td>\n",
       "      <td>RIT</td>\n",
       "      <td>2019-05-03</td>\n",
       "      <td>21:00:00</td>\n",
       "      <td>REGULAR</td>\n",
       "      <td>2019-05-03 21:00:00</td>\n",
       "      <td>TRAM2R46900-05-01RIT-ROOSEVELT</td>\n",
       "      <td>Friday</td>\n",
       "      <td>0.0</td>\n",
       "      <td>0.0</td>\n",
       "      <td>0.0</td>\n",
       "    </tr>\n",
       "  </tbody>\n",
       "</table>\n",
       "<p>2228794 rows × 11 columns</p>\n",
       "</div>"
      ],
      "text/plain": [
       "              STATION DIVISION       DATE      TIME     DESC  \\\n",
       "1               59 ST      BMT 2019-05-11  04:00:00  REGULAR   \n",
       "2               59 ST      BMT 2019-05-11  08:00:00  REGULAR   \n",
       "3               59 ST      BMT 2019-05-11  12:00:00  REGULAR   \n",
       "4               59 ST      BMT 2019-05-11  16:00:00  REGULAR   \n",
       "5               59 ST      BMT 2019-05-11  20:00:00  REGULAR   \n",
       "...               ...      ...        ...       ...      ...   \n",
       "206852  RIT-ROOSEVELT      RIT 2019-05-03  05:00:00  REGULAR   \n",
       "206853  RIT-ROOSEVELT      RIT 2019-05-03  09:00:00  REGULAR   \n",
       "206854  RIT-ROOSEVELT      RIT 2019-05-03  13:00:00  REGULAR   \n",
       "206855  RIT-ROOSEVELT      RIT 2019-05-03  17:00:00  REGULAR   \n",
       "206856  RIT-ROOSEVELT      RIT 2019-05-03  21:00:00  REGULAR   \n",
       "\n",
       "                 Date_Time                       Turnstile  Week_Day  \\\n",
       "1      2019-05-11 04:00:00           A002R05102-00-0059 ST  Saturday   \n",
       "2      2019-05-11 08:00:00           A002R05102-00-0059 ST  Saturday   \n",
       "3      2019-05-11 12:00:00           A002R05102-00-0059 ST  Saturday   \n",
       "4      2019-05-11 16:00:00           A002R05102-00-0059 ST  Saturday   \n",
       "5      2019-05-11 20:00:00           A002R05102-00-0059 ST  Saturday   \n",
       "...                    ...                             ...       ...   \n",
       "206852 2019-05-03 05:00:00  TRAM2R46900-05-01RIT-ROOSEVELT    Friday   \n",
       "206853 2019-05-03 09:00:00  TRAM2R46900-05-01RIT-ROOSEVELT    Friday   \n",
       "206854 2019-05-03 13:00:00  TRAM2R46900-05-01RIT-ROOSEVELT    Friday   \n",
       "206855 2019-05-03 17:00:00  TRAM2R46900-05-01RIT-ROOSEVELT    Friday   \n",
       "206856 2019-05-03 21:00:00  TRAM2R46900-05-01RIT-ROOSEVELT    Friday   \n",
       "\n",
       "        TOTAL_ENTRIES  TOTAL_EXITS  TOTAL_TRAFFIC  \n",
       "1                28.0          3.0           31.0  \n",
       "2                23.0         28.0           51.0  \n",
       "3                84.0         60.0          144.0  \n",
       "4               223.0         59.0          282.0  \n",
       "5               292.0         47.0          339.0  \n",
       "...               ...          ...            ...  \n",
       "206852            0.0          0.0            0.0  \n",
       "206853            0.0          0.0            0.0  \n",
       "206854            0.0          0.0            0.0  \n",
       "206855            0.0          0.0            0.0  \n",
       "206856            0.0          0.0            0.0  \n",
       "\n",
       "[2228794 rows x 11 columns]"
      ]
     },
     "execution_count": 29,
     "metadata": {},
     "output_type": "execute_result"
    }
   ],
   "source": [
    "grouped_time.drop(['C/A','UNIT','SCP','LINENAME', 'ENTRIES', 'EXITS', 'PREV_TIME', 'PREV_ENTRIES', 'PREV_EXITS'], axis=1)"
   ]
  },
  {
   "cell_type": "code",
   "execution_count": 30,
   "metadata": {},
   "outputs": [],
   "source": [
    "#grouped_day = data.groupby(['DATE','Turnstile','STATION'], as_index=False).agg({'ENTRIES': ['min', 'max'], 'EXITS': ['min', 'max']})\n",
    "#grouped = data.groupby(['STATION','DATE']).agg({'ENTRIES': ['min', 'max'], 'EXITS': ['min', 'max']})\n",
    "#grouped = grouped.set_index('STATION')\n",
    "#grouped.head()"
   ]
  },
  {
   "cell_type": "code",
   "execution_count": 31,
   "metadata": {},
   "outputs": [],
   "source": [
    "#grouped_day.head()"
   ]
  },
  {
   "cell_type": "code",
   "execution_count": 32,
   "metadata": {},
   "outputs": [
    {
     "ename": "ValueError",
     "evalue": "Length mismatch: Expected axis has 10 elements, new values have 7 elements",
     "output_type": "error",
     "traceback": [
      "\u001b[0;31m---------------------------------------------------------------------------\u001b[0m",
      "\u001b[0;31mValueError\u001b[0m                                Traceback (most recent call last)",
      "\u001b[0;32m<ipython-input-32-43bcc6473245>\u001b[0m in \u001b[0;36m<module>\u001b[0;34m\u001b[0m\n\u001b[1;32m      1\u001b[0m \u001b[0;31m#grouped.columns = [ 'Station', 'Date', 'ENTRIES_MIN', 'ENTRIES_MAX', 'EXITS_MIN', 'EXITS_MAX']\u001b[0m\u001b[0;34m\u001b[0m\u001b[0;34m\u001b[0m\u001b[0;34m\u001b[0m\u001b[0m\n\u001b[0;32m----> 2\u001b[0;31m \u001b[0mgrouped_day\u001b[0m\u001b[0;34m.\u001b[0m\u001b[0mcolumns\u001b[0m \u001b[0;34m=\u001b[0m \u001b[0;34m[\u001b[0m \u001b[0;34m'Date'\u001b[0m\u001b[0;34m,\u001b[0m \u001b[0;34m'Turnstile'\u001b[0m\u001b[0;34m,\u001b[0m \u001b[0;34m'Station'\u001b[0m\u001b[0;34m,\u001b[0m\u001b[0;34m'ENTRIES_MIN'\u001b[0m\u001b[0;34m,\u001b[0m \u001b[0;34m'ENTRIES_MAX'\u001b[0m\u001b[0;34m,\u001b[0m \u001b[0;34m'EXITS_MIN'\u001b[0m\u001b[0;34m,\u001b[0m \u001b[0;34m'EXITS_MAX'\u001b[0m\u001b[0;34m]\u001b[0m\u001b[0;34m\u001b[0m\u001b[0;34m\u001b[0m\u001b[0m\n\u001b[0m\u001b[1;32m      3\u001b[0m \u001b[0;31m#grouped.columns = ['ENTRIES_MIN', 'ENTRIES_MAX', 'EXITS_MIN', 'EXITS_MAX']\u001b[0m\u001b[0;34m\u001b[0m\u001b[0;34m\u001b[0m\u001b[0;34m\u001b[0m\u001b[0m\n\u001b[1;32m      4\u001b[0m \u001b[0;31m#grouped.dtypes\u001b[0m\u001b[0;34m\u001b[0m\u001b[0;34m\u001b[0m\u001b[0;34m\u001b[0m\u001b[0m\n",
      "\u001b[0;32m~/opt/anaconda3/lib/python3.8/site-packages/pandas/core/generic.py\u001b[0m in \u001b[0;36m__setattr__\u001b[0;34m(self, name, value)\u001b[0m\n\u001b[1;32m   5150\u001b[0m         \u001b[0;32mtry\u001b[0m\u001b[0;34m:\u001b[0m\u001b[0;34m\u001b[0m\u001b[0;34m\u001b[0m\u001b[0m\n\u001b[1;32m   5151\u001b[0m             \u001b[0mobject\u001b[0m\u001b[0;34m.\u001b[0m\u001b[0m__getattribute__\u001b[0m\u001b[0;34m(\u001b[0m\u001b[0mself\u001b[0m\u001b[0;34m,\u001b[0m \u001b[0mname\u001b[0m\u001b[0;34m)\u001b[0m\u001b[0;34m\u001b[0m\u001b[0;34m\u001b[0m\u001b[0m\n\u001b[0;32m-> 5152\u001b[0;31m             \u001b[0;32mreturn\u001b[0m \u001b[0mobject\u001b[0m\u001b[0;34m.\u001b[0m\u001b[0m__setattr__\u001b[0m\u001b[0;34m(\u001b[0m\u001b[0mself\u001b[0m\u001b[0;34m,\u001b[0m \u001b[0mname\u001b[0m\u001b[0;34m,\u001b[0m \u001b[0mvalue\u001b[0m\u001b[0;34m)\u001b[0m\u001b[0;34m\u001b[0m\u001b[0;34m\u001b[0m\u001b[0m\n\u001b[0m\u001b[1;32m   5153\u001b[0m         \u001b[0;32mexcept\u001b[0m \u001b[0mAttributeError\u001b[0m\u001b[0;34m:\u001b[0m\u001b[0;34m\u001b[0m\u001b[0;34m\u001b[0m\u001b[0m\n\u001b[1;32m   5154\u001b[0m             \u001b[0;32mpass\u001b[0m\u001b[0;34m\u001b[0m\u001b[0;34m\u001b[0m\u001b[0m\n",
      "\u001b[0;32mpandas/_libs/properties.pyx\u001b[0m in \u001b[0;36mpandas._libs.properties.AxisProperty.__set__\u001b[0;34m()\u001b[0m\n",
      "\u001b[0;32m~/opt/anaconda3/lib/python3.8/site-packages/pandas/core/generic.py\u001b[0m in \u001b[0;36m_set_axis\u001b[0;34m(self, axis, labels)\u001b[0m\n\u001b[1;32m    562\u001b[0m     \u001b[0;32mdef\u001b[0m \u001b[0m_set_axis\u001b[0m\u001b[0;34m(\u001b[0m\u001b[0mself\u001b[0m\u001b[0;34m,\u001b[0m \u001b[0maxis\u001b[0m\u001b[0;34m:\u001b[0m \u001b[0mint\u001b[0m\u001b[0;34m,\u001b[0m \u001b[0mlabels\u001b[0m\u001b[0;34m:\u001b[0m \u001b[0mIndex\u001b[0m\u001b[0;34m)\u001b[0m \u001b[0;34m->\u001b[0m \u001b[0;32mNone\u001b[0m\u001b[0;34m:\u001b[0m\u001b[0;34m\u001b[0m\u001b[0;34m\u001b[0m\u001b[0m\n\u001b[1;32m    563\u001b[0m         \u001b[0mlabels\u001b[0m \u001b[0;34m=\u001b[0m \u001b[0mensure_index\u001b[0m\u001b[0;34m(\u001b[0m\u001b[0mlabels\u001b[0m\u001b[0;34m)\u001b[0m\u001b[0;34m\u001b[0m\u001b[0;34m\u001b[0m\u001b[0m\n\u001b[0;32m--> 564\u001b[0;31m         \u001b[0mself\u001b[0m\u001b[0;34m.\u001b[0m\u001b[0m_mgr\u001b[0m\u001b[0;34m.\u001b[0m\u001b[0mset_axis\u001b[0m\u001b[0;34m(\u001b[0m\u001b[0maxis\u001b[0m\u001b[0;34m,\u001b[0m \u001b[0mlabels\u001b[0m\u001b[0;34m)\u001b[0m\u001b[0;34m\u001b[0m\u001b[0;34m\u001b[0m\u001b[0m\n\u001b[0m\u001b[1;32m    565\u001b[0m         \u001b[0mself\u001b[0m\u001b[0;34m.\u001b[0m\u001b[0m_clear_item_cache\u001b[0m\u001b[0;34m(\u001b[0m\u001b[0;34m)\u001b[0m\u001b[0;34m\u001b[0m\u001b[0;34m\u001b[0m\u001b[0m\n\u001b[1;32m    566\u001b[0m \u001b[0;34m\u001b[0m\u001b[0m\n",
      "\u001b[0;32m~/opt/anaconda3/lib/python3.8/site-packages/pandas/core/internals/managers.py\u001b[0m in \u001b[0;36mset_axis\u001b[0;34m(self, axis, new_labels)\u001b[0m\n\u001b[1;32m    224\u001b[0m \u001b[0;34m\u001b[0m\u001b[0m\n\u001b[1;32m    225\u001b[0m         \u001b[0;32mif\u001b[0m \u001b[0mnew_len\u001b[0m \u001b[0;34m!=\u001b[0m \u001b[0mold_len\u001b[0m\u001b[0;34m:\u001b[0m\u001b[0;34m\u001b[0m\u001b[0;34m\u001b[0m\u001b[0m\n\u001b[0;32m--> 226\u001b[0;31m             raise ValueError(\n\u001b[0m\u001b[1;32m    227\u001b[0m                 \u001b[0;34mf\"Length mismatch: Expected axis has {old_len} elements, new \"\u001b[0m\u001b[0;34m\u001b[0m\u001b[0;34m\u001b[0m\u001b[0m\n\u001b[1;32m    228\u001b[0m                 \u001b[0;34mf\"values have {new_len} elements\"\u001b[0m\u001b[0;34m\u001b[0m\u001b[0;34m\u001b[0m\u001b[0m\n",
      "\u001b[0;31mValueError\u001b[0m: Length mismatch: Expected axis has 10 elements, new values have 7 elements"
     ]
    }
   ],
   "source": [
    "#grouped.columns = [ 'Station', 'Date', 'ENTRIES_MIN', 'ENTRIES_MAX', 'EXITS_MIN', 'EXITS_MAX']\n",
    "grouped_day.columns = [ 'Date', 'Turnstile', 'Station','ENTRIES_MIN', 'ENTRIES_MAX', 'EXITS_MIN', 'EXITS_MAX']\n",
    "#grouped.columns = ['ENTRIES_MIN', 'ENTRIES_MAX', 'EXITS_MIN', 'EXITS_MAX']\n",
    "#grouped.dtypes"
   ]
  },
  {
   "cell_type": "code",
   "execution_count": null,
   "metadata": {},
   "outputs": [],
   "source": []
  },
  {
   "cell_type": "code",
   "execution_count": null,
   "metadata": {},
   "outputs": [],
   "source": []
  },
  {
   "cell_type": "markdown",
   "metadata": {},
   "source": [
    "Find total entries exits, and traffic"
   ]
  },
  {
   "cell_type": "code",
   "execution_count": 34,
   "metadata": {},
   "outputs": [
    {
     "ename": "NameError",
     "evalue": "name 'grouped_day' is not defined",
     "output_type": "error",
     "traceback": [
      "\u001b[0;31m---------------------------------------------------------------------------\u001b[0m",
      "\u001b[0;31mNameError\u001b[0m                                 Traceback (most recent call last)",
      "\u001b[0;32m<ipython-input-34-39f75aadd18d>\u001b[0m in \u001b[0;36m<module>\u001b[0;34m\u001b[0m\n\u001b[0;32m----> 1\u001b[0;31m \u001b[0mgrouped_day\u001b[0m\u001b[0;34m[\u001b[0m\u001b[0;34m'Total_Entries'\u001b[0m\u001b[0;34m]\u001b[0m \u001b[0;34m=\u001b[0m \u001b[0mgrouped_day\u001b[0m\u001b[0;34m[\u001b[0m\u001b[0;34m'ENTRIES_MAX'\u001b[0m\u001b[0;34m]\u001b[0m \u001b[0;34m-\u001b[0m \u001b[0mgrouped_day\u001b[0m\u001b[0;34m[\u001b[0m\u001b[0;34m'ENTRIES_MIN'\u001b[0m\u001b[0;34m]\u001b[0m\u001b[0;34m\u001b[0m\u001b[0;34m\u001b[0m\u001b[0m\n\u001b[0m\u001b[1;32m      2\u001b[0m \u001b[0mgrouped_day\u001b[0m\u001b[0;34m[\u001b[0m\u001b[0;34m'Total_Exits'\u001b[0m\u001b[0;34m]\u001b[0m \u001b[0;34m=\u001b[0m \u001b[0mgrouped_day\u001b[0m\u001b[0;34m[\u001b[0m\u001b[0;34m'EXITS_MAX'\u001b[0m\u001b[0;34m]\u001b[0m \u001b[0;34m-\u001b[0m \u001b[0mgrouped_day\u001b[0m\u001b[0;34m[\u001b[0m\u001b[0;34m'EXITS_MIN'\u001b[0m\u001b[0;34m]\u001b[0m\u001b[0;34m\u001b[0m\u001b[0;34m\u001b[0m\u001b[0m\n\u001b[1;32m      3\u001b[0m \u001b[0mgrouped_day\u001b[0m\u001b[0;34m[\u001b[0m\u001b[0;34m'Total_Traffic'\u001b[0m\u001b[0;34m]\u001b[0m \u001b[0;34m=\u001b[0m \u001b[0mgrouped_day\u001b[0m\u001b[0;34m[\u001b[0m\u001b[0;34m'Total_Exits'\u001b[0m\u001b[0;34m]\u001b[0m \u001b[0;34m+\u001b[0m \u001b[0mgrouped_day\u001b[0m\u001b[0;34m[\u001b[0m\u001b[0;34m'Total_Entries'\u001b[0m\u001b[0;34m]\u001b[0m\u001b[0;34m\u001b[0m\u001b[0;34m\u001b[0m\u001b[0m\n\u001b[1;32m      4\u001b[0m \u001b[0;31m#grouped_day.head()\u001b[0m\u001b[0;34m\u001b[0m\u001b[0;34m\u001b[0m\u001b[0;34m\u001b[0m\u001b[0m\n",
      "\u001b[0;31mNameError\u001b[0m: name 'grouped_day' is not defined"
     ]
    }
   ],
   "source": [
    "grouped_day['Total_Entries'] = grouped_day['ENTRIES_MAX'] - grouped_day['ENTRIES_MIN']\n",
    "grouped_day['Total_Exits'] = grouped_day['EXITS_MAX'] - grouped_day['EXITS_MIN']\n",
    "grouped_day['Total_Traffic'] = grouped_day['Total_Exits'] + grouped_day['Total_Entries']\n",
    "#grouped_day.head()"
   ]
  },
  {
   "cell_type": "code",
   "execution_count": null,
   "metadata": {},
   "outputs": [],
   "source": [
    "#grouped_day.drop(['ENTRIES_MIN','ENTRIES_MAX','EXITS_MIN','EXITS_MAX', 'Total_Entries', 'Total_Exits', ], axis=1)\n",
    "\n"
   ]
  },
  {
   "cell_type": "markdown",
   "metadata": {},
   "source": [
    "Removing Outlier data from Total_traffic column (Removing anything outside 3 sigma)"
   ]
  },
  {
   "cell_type": "code",
   "execution_count": 35,
   "metadata": {},
   "outputs": [
    {
     "ename": "NameError",
     "evalue": "name 'grouped_day' is not defined",
     "output_type": "error",
     "traceback": [
      "\u001b[0;31m---------------------------------------------------------------------------\u001b[0m",
      "\u001b[0;31mNameError\u001b[0m                                 Traceback (most recent call last)",
      "\u001b[0;32m<ipython-input-35-c80369e57d35>\u001b[0m in \u001b[0;36m<module>\u001b[0;34m\u001b[0m\n\u001b[0;32m----> 1\u001b[0;31m \u001b[0mgrouped_day\u001b[0m \u001b[0;34m=\u001b[0m \u001b[0mgrouped_day\u001b[0m\u001b[0;34m[\u001b[0m\u001b[0;34m(\u001b[0m\u001b[0mnp\u001b[0m\u001b[0;34m.\u001b[0m\u001b[0mabs\u001b[0m\u001b[0;34m(\u001b[0m\u001b[0mstats\u001b[0m\u001b[0;34m.\u001b[0m\u001b[0mzscore\u001b[0m\u001b[0;34m(\u001b[0m\u001b[0mgrouped_day\u001b[0m\u001b[0;34m[\u001b[0m\u001b[0;34m'Total_Traffic'\u001b[0m\u001b[0;34m]\u001b[0m\u001b[0;34m)\u001b[0m\u001b[0;34m)\u001b[0m \u001b[0;34m<\u001b[0m \u001b[0;36m3\u001b[0m\u001b[0;34m)\u001b[0m\u001b[0;34m]\u001b[0m \u001b[0;31m#filtering\u001b[0m\u001b[0;34m\u001b[0m\u001b[0;34m\u001b[0m\u001b[0m\n\u001b[0m",
      "\u001b[0;31mNameError\u001b[0m: name 'grouped_day' is not defined"
     ]
    }
   ],
   "source": [
    "grouped_day = grouped_day[(np.abs(stats.zscore(grouped_day['Total_Traffic'])) < 3)] #filtering"
   ]
  },
  {
   "cell_type": "code",
   "execution_count": 36,
   "metadata": {},
   "outputs": [],
   "source": [
    "#grouped_time[grouped_time[\"ENTRIES\"] < grouped_time[\"PREV_ENTRIES\"]].head()"
   ]
  },
  {
   "cell_type": "code",
   "execution_count": 37,
   "metadata": {},
   "outputs": [],
   "source": [
    "#grouped_time = data.sort_values(['Date_Time']).groupby(['Turnstile','STATION','DIVISION','Date_Time'],as_index = False).agg({'ENTRIES': ['diff'], 'EXITS': ['diff']})"
   ]
  },
  {
   "cell_type": "code",
   "execution_count": 38,
   "metadata": {},
   "outputs": [],
   "source": [
    "#grouped_time = data\n",
    "#grouped_time.sort_values(['Turnstile','Date_Time'],inplace = True)\n",
    "#grouped_time.head(5)\n",
    "#entry_vals = grouped_time['ENTRIES'].values\n",
    "#exit_vals = grouped_time['EXITS'].values\n",
    "#len(entry)\n",
    "#len (entry_vals[:-1])\n",
    "#len (entry_vals[1:])\n",
    "#diffs_entry = entry_vals[1:] - entry_vals[:-1]\n",
    "#diffs_exit = exit_vals[1:] - exit_vals[:-1]\n",
    "#diffs_entry = np.append(diffs_entry,0)\n",
    "#diffs_exit = np.append(diffs_exit,0)\n",
    "#grouped_time['diffs_entry'] = grouped_time.groupby(['Turnstile'])['ENTRIES'].diff()\n",
    "#grouped_time['diffs_exit'] = grouped_time.groupby(['Turnstile'])['EXITS'].diff()\n",
    "#mask = !((grouped_time['diffs_entry'] == 0) && (grouped_time['diffs_exit'] == 0))\n",
    "#mask =   grouped_time['diffs_entry'] == 0\n",
    "#grouped_time = grouped_time[grouped_time['diffs_entry'] ]\n",
    "#grouped_time['diffs_entry'] = grouped_time.rolling_apply(data['ENTRIES'], 2, lambda x: x[1] - x[0])\n",
    "#grouped_time['diffs_exit'] = grouped_time.rolling_apply(data['EXITS'], 2, lambda x: x[1] - x[0])\n",
    "#grouped_time.head()\n",
    "#mask\n",
    "#grouped_time.head()"
   ]
  },
  {
   "cell_type": "code",
   "execution_count": 39,
   "metadata": {},
   "outputs": [],
   "source": [
    "#entry_vals = grouped_time['ENTRIES'].values\n",
    "#entry_vals[1:]"
   ]
  },
  {
   "cell_type": "code",
   "execution_count": 40,
   "metadata": {},
   "outputs": [],
   "source": [
    "#grouped_time = data.groupby(['STATION','TIME'], as_index=False).agg({'ENTRIES': ['diff'], 'EXITS': ['diff']})\n",
    "#grouped_time.head()\n",
    "#grouped_time.columns = ['Station', 'Time', 'ENTRIES_MIN', 'ENTRIES_MAX', 'EXITS_MIN', 'EXITS_MAX']\n"
   ]
  },
  {
   "cell_type": "code",
   "execution_count": 60,
   "metadata": {},
   "outputs": [
    {
     "ename": "KeyError",
     "evalue": "'ENTRIES_MAX'",
     "output_type": "error",
     "traceback": [
      "\u001b[0;31m---------------------------------------------------------------------------\u001b[0m",
      "\u001b[0;31mKeyError\u001b[0m                                  Traceback (most recent call last)",
      "\u001b[0;32m~/opt/anaconda3/lib/python3.8/site-packages/pandas/core/indexes/base.py\u001b[0m in \u001b[0;36mget_loc\u001b[0;34m(self, key, method, tolerance)\u001b[0m\n\u001b[1;32m   2894\u001b[0m             \u001b[0;32mtry\u001b[0m\u001b[0;34m:\u001b[0m\u001b[0;34m\u001b[0m\u001b[0;34m\u001b[0m\u001b[0m\n\u001b[0;32m-> 2895\u001b[0;31m                 \u001b[0;32mreturn\u001b[0m \u001b[0mself\u001b[0m\u001b[0;34m.\u001b[0m\u001b[0m_engine\u001b[0m\u001b[0;34m.\u001b[0m\u001b[0mget_loc\u001b[0m\u001b[0;34m(\u001b[0m\u001b[0mcasted_key\u001b[0m\u001b[0;34m)\u001b[0m\u001b[0;34m\u001b[0m\u001b[0;34m\u001b[0m\u001b[0m\n\u001b[0m\u001b[1;32m   2896\u001b[0m             \u001b[0;32mexcept\u001b[0m \u001b[0mKeyError\u001b[0m \u001b[0;32mas\u001b[0m \u001b[0merr\u001b[0m\u001b[0;34m:\u001b[0m\u001b[0;34m\u001b[0m\u001b[0;34m\u001b[0m\u001b[0m\n",
      "\u001b[0;32mpandas/_libs/index.pyx\u001b[0m in \u001b[0;36mpandas._libs.index.IndexEngine.get_loc\u001b[0;34m()\u001b[0m\n",
      "\u001b[0;32mpandas/_libs/index.pyx\u001b[0m in \u001b[0;36mpandas._libs.index.IndexEngine.get_loc\u001b[0;34m()\u001b[0m\n",
      "\u001b[0;32mpandas/_libs/hashtable_class_helper.pxi\u001b[0m in \u001b[0;36mpandas._libs.hashtable.PyObjectHashTable.get_item\u001b[0;34m()\u001b[0m\n",
      "\u001b[0;32mpandas/_libs/hashtable_class_helper.pxi\u001b[0m in \u001b[0;36mpandas._libs.hashtable.PyObjectHashTable.get_item\u001b[0;34m()\u001b[0m\n",
      "\u001b[0;31mKeyError\u001b[0m: 'ENTRIES_MAX'",
      "\nThe above exception was the direct cause of the following exception:\n",
      "\u001b[0;31mKeyError\u001b[0m                                  Traceback (most recent call last)",
      "\u001b[0;32m<ipython-input-60-c237ba385bc3>\u001b[0m in \u001b[0;36m<module>\u001b[0;34m\u001b[0m\n\u001b[0;32m----> 1\u001b[0;31m \u001b[0mgrouped_time\u001b[0m\u001b[0;34m[\u001b[0m\u001b[0;34m'Total_Entries'\u001b[0m\u001b[0;34m]\u001b[0m \u001b[0;34m=\u001b[0m \u001b[0mgrouped_time\u001b[0m\u001b[0;34m[\u001b[0m\u001b[0;34m'ENTRIES_MAX'\u001b[0m\u001b[0;34m]\u001b[0m \u001b[0;34m-\u001b[0m \u001b[0mgrouped_time\u001b[0m\u001b[0;34m[\u001b[0m\u001b[0;34m'ENTRIES_MIN'\u001b[0m\u001b[0;34m]\u001b[0m\u001b[0;34m\u001b[0m\u001b[0;34m\u001b[0m\u001b[0m\n\u001b[0m\u001b[1;32m      2\u001b[0m \u001b[0mgrouped_time\u001b[0m\u001b[0;34m[\u001b[0m\u001b[0;34m'Total_Exits'\u001b[0m\u001b[0;34m]\u001b[0m \u001b[0;34m=\u001b[0m \u001b[0mgrouped_time\u001b[0m\u001b[0;34m[\u001b[0m\u001b[0;34m'EXITS_MAX'\u001b[0m\u001b[0;34m]\u001b[0m \u001b[0;34m-\u001b[0m \u001b[0mgrouped_time\u001b[0m\u001b[0;34m[\u001b[0m\u001b[0;34m'EXITS_MIN'\u001b[0m\u001b[0;34m]\u001b[0m\u001b[0;34m\u001b[0m\u001b[0;34m\u001b[0m\u001b[0m\n\u001b[1;32m      3\u001b[0m \u001b[0mgrouped_time\u001b[0m\u001b[0;34m[\u001b[0m\u001b[0;34m'Total_Traffic'\u001b[0m\u001b[0;34m]\u001b[0m \u001b[0;34m=\u001b[0m \u001b[0mgrouped_time\u001b[0m\u001b[0;34m[\u001b[0m\u001b[0;34m'Total_Exits'\u001b[0m\u001b[0;34m]\u001b[0m \u001b[0;34m+\u001b[0m \u001b[0mgrouped_time\u001b[0m\u001b[0;34m[\u001b[0m\u001b[0;34m'Total_Entries'\u001b[0m\u001b[0;34m]\u001b[0m\u001b[0;34m\u001b[0m\u001b[0;34m\u001b[0m\u001b[0m\n\u001b[1;32m      4\u001b[0m \u001b[0mgrouped_time\u001b[0m\u001b[0;34m.\u001b[0m\u001b[0mhead\u001b[0m\u001b[0;34m(\u001b[0m\u001b[0;34m)\u001b[0m\u001b[0;34m\u001b[0m\u001b[0;34m\u001b[0m\u001b[0m\n",
      "\u001b[0;32m~/opt/anaconda3/lib/python3.8/site-packages/pandas/core/frame.py\u001b[0m in \u001b[0;36m__getitem__\u001b[0;34m(self, key)\u001b[0m\n\u001b[1;32m   2900\u001b[0m             \u001b[0;32mif\u001b[0m \u001b[0mself\u001b[0m\u001b[0;34m.\u001b[0m\u001b[0mcolumns\u001b[0m\u001b[0;34m.\u001b[0m\u001b[0mnlevels\u001b[0m \u001b[0;34m>\u001b[0m \u001b[0;36m1\u001b[0m\u001b[0;34m:\u001b[0m\u001b[0;34m\u001b[0m\u001b[0;34m\u001b[0m\u001b[0m\n\u001b[1;32m   2901\u001b[0m                 \u001b[0;32mreturn\u001b[0m \u001b[0mself\u001b[0m\u001b[0;34m.\u001b[0m\u001b[0m_getitem_multilevel\u001b[0m\u001b[0;34m(\u001b[0m\u001b[0mkey\u001b[0m\u001b[0;34m)\u001b[0m\u001b[0;34m\u001b[0m\u001b[0;34m\u001b[0m\u001b[0m\n\u001b[0;32m-> 2902\u001b[0;31m             \u001b[0mindexer\u001b[0m \u001b[0;34m=\u001b[0m \u001b[0mself\u001b[0m\u001b[0;34m.\u001b[0m\u001b[0mcolumns\u001b[0m\u001b[0;34m.\u001b[0m\u001b[0mget_loc\u001b[0m\u001b[0;34m(\u001b[0m\u001b[0mkey\u001b[0m\u001b[0;34m)\u001b[0m\u001b[0;34m\u001b[0m\u001b[0;34m\u001b[0m\u001b[0m\n\u001b[0m\u001b[1;32m   2903\u001b[0m             \u001b[0;32mif\u001b[0m \u001b[0mis_integer\u001b[0m\u001b[0;34m(\u001b[0m\u001b[0mindexer\u001b[0m\u001b[0;34m)\u001b[0m\u001b[0;34m:\u001b[0m\u001b[0;34m\u001b[0m\u001b[0;34m\u001b[0m\u001b[0m\n\u001b[1;32m   2904\u001b[0m                 \u001b[0mindexer\u001b[0m \u001b[0;34m=\u001b[0m \u001b[0;34m[\u001b[0m\u001b[0mindexer\u001b[0m\u001b[0;34m]\u001b[0m\u001b[0;34m\u001b[0m\u001b[0;34m\u001b[0m\u001b[0m\n",
      "\u001b[0;32m~/opt/anaconda3/lib/python3.8/site-packages/pandas/core/indexes/base.py\u001b[0m in \u001b[0;36mget_loc\u001b[0;34m(self, key, method, tolerance)\u001b[0m\n\u001b[1;32m   2895\u001b[0m                 \u001b[0;32mreturn\u001b[0m \u001b[0mself\u001b[0m\u001b[0;34m.\u001b[0m\u001b[0m_engine\u001b[0m\u001b[0;34m.\u001b[0m\u001b[0mget_loc\u001b[0m\u001b[0;34m(\u001b[0m\u001b[0mcasted_key\u001b[0m\u001b[0;34m)\u001b[0m\u001b[0;34m\u001b[0m\u001b[0;34m\u001b[0m\u001b[0m\n\u001b[1;32m   2896\u001b[0m             \u001b[0;32mexcept\u001b[0m \u001b[0mKeyError\u001b[0m \u001b[0;32mas\u001b[0m \u001b[0merr\u001b[0m\u001b[0;34m:\u001b[0m\u001b[0;34m\u001b[0m\u001b[0;34m\u001b[0m\u001b[0m\n\u001b[0;32m-> 2897\u001b[0;31m                 \u001b[0;32mraise\u001b[0m \u001b[0mKeyError\u001b[0m\u001b[0;34m(\u001b[0m\u001b[0mkey\u001b[0m\u001b[0;34m)\u001b[0m \u001b[0;32mfrom\u001b[0m \u001b[0merr\u001b[0m\u001b[0;34m\u001b[0m\u001b[0;34m\u001b[0m\u001b[0m\n\u001b[0m\u001b[1;32m   2898\u001b[0m \u001b[0;34m\u001b[0m\u001b[0m\n\u001b[1;32m   2899\u001b[0m         \u001b[0;32mif\u001b[0m \u001b[0mtolerance\u001b[0m \u001b[0;32mis\u001b[0m \u001b[0;32mnot\u001b[0m \u001b[0;32mNone\u001b[0m\u001b[0;34m:\u001b[0m\u001b[0;34m\u001b[0m\u001b[0;34m\u001b[0m\u001b[0m\n",
      "\u001b[0;31mKeyError\u001b[0m: 'ENTRIES_MAX'"
     ]
    }
   ],
   "source": [
    "grouped_time['Total_Entries'] = grouped_time['ENTRIES_MAX'] - grouped_time['ENTRIES_MIN']\n",
    "grouped_time['Total_Exits'] = grouped_time['EXITS_MAX'] - grouped_time['EXITS_MIN']\n",
    "grouped_time['Total_Traffic'] = grouped_time['Total_Exits'] + grouped_time['Total_Entries']\n",
    "grouped_time.head()"
   ]
  },
  {
   "cell_type": "code",
   "execution_count": 42,
   "metadata": {},
   "outputs": [
    {
     "ename": "KeyError",
     "evalue": "\"['ENTRIES_MIN' 'ENTRIES_MAX' 'EXITS_MIN' 'EXITS_MAX' 'Total_Entries'\\n 'Total_Exits'] not found in axis\"",
     "output_type": "error",
     "traceback": [
      "\u001b[0;31m---------------------------------------------------------------------------\u001b[0m",
      "\u001b[0;31mKeyError\u001b[0m                                  Traceback (most recent call last)",
      "\u001b[0;32m<ipython-input-42-25e65e8907df>\u001b[0m in \u001b[0;36m<module>\u001b[0;34m\u001b[0m\n\u001b[0;32m----> 1\u001b[0;31m \u001b[0mgrouped_time\u001b[0m\u001b[0;34m.\u001b[0m\u001b[0mdrop\u001b[0m\u001b[0;34m(\u001b[0m\u001b[0;34m[\u001b[0m\u001b[0;34m'ENTRIES_MIN'\u001b[0m\u001b[0;34m,\u001b[0m\u001b[0;34m'ENTRIES_MAX'\u001b[0m\u001b[0;34m,\u001b[0m\u001b[0;34m'EXITS_MIN'\u001b[0m\u001b[0;34m,\u001b[0m\u001b[0;34m'EXITS_MAX'\u001b[0m\u001b[0;34m,\u001b[0m \u001b[0;34m'Total_Entries'\u001b[0m\u001b[0;34m,\u001b[0m \u001b[0;34m'Total_Exits'\u001b[0m\u001b[0;34m,\u001b[0m \u001b[0;34m]\u001b[0m\u001b[0;34m,\u001b[0m \u001b[0maxis\u001b[0m\u001b[0;34m=\u001b[0m\u001b[0;36m1\u001b[0m\u001b[0;34m)\u001b[0m\u001b[0;34m\u001b[0m\u001b[0;34m\u001b[0m\u001b[0m\n\u001b[0m",
      "\u001b[0;32m~/opt/anaconda3/lib/python3.8/site-packages/pandas/core/frame.py\u001b[0m in \u001b[0;36mdrop\u001b[0;34m(self, labels, axis, index, columns, level, inplace, errors)\u001b[0m\n\u001b[1;32m   4161\u001b[0m                 \u001b[0mweight\u001b[0m  \u001b[0;36m1.0\u001b[0m     \u001b[0;36m0.8\u001b[0m\u001b[0;34m\u001b[0m\u001b[0;34m\u001b[0m\u001b[0m\n\u001b[1;32m   4162\u001b[0m         \"\"\"\n\u001b[0;32m-> 4163\u001b[0;31m         return super().drop(\n\u001b[0m\u001b[1;32m   4164\u001b[0m             \u001b[0mlabels\u001b[0m\u001b[0;34m=\u001b[0m\u001b[0mlabels\u001b[0m\u001b[0;34m,\u001b[0m\u001b[0;34m\u001b[0m\u001b[0;34m\u001b[0m\u001b[0m\n\u001b[1;32m   4165\u001b[0m             \u001b[0maxis\u001b[0m\u001b[0;34m=\u001b[0m\u001b[0maxis\u001b[0m\u001b[0;34m,\u001b[0m\u001b[0;34m\u001b[0m\u001b[0;34m\u001b[0m\u001b[0m\n",
      "\u001b[0;32m~/opt/anaconda3/lib/python3.8/site-packages/pandas/core/generic.py\u001b[0m in \u001b[0;36mdrop\u001b[0;34m(self, labels, axis, index, columns, level, inplace, errors)\u001b[0m\n\u001b[1;32m   3885\u001b[0m         \u001b[0;32mfor\u001b[0m \u001b[0maxis\u001b[0m\u001b[0;34m,\u001b[0m \u001b[0mlabels\u001b[0m \u001b[0;32min\u001b[0m \u001b[0maxes\u001b[0m\u001b[0;34m.\u001b[0m\u001b[0mitems\u001b[0m\u001b[0;34m(\u001b[0m\u001b[0;34m)\u001b[0m\u001b[0;34m:\u001b[0m\u001b[0;34m\u001b[0m\u001b[0;34m\u001b[0m\u001b[0m\n\u001b[1;32m   3886\u001b[0m             \u001b[0;32mif\u001b[0m \u001b[0mlabels\u001b[0m \u001b[0;32mis\u001b[0m \u001b[0;32mnot\u001b[0m \u001b[0;32mNone\u001b[0m\u001b[0;34m:\u001b[0m\u001b[0;34m\u001b[0m\u001b[0;34m\u001b[0m\u001b[0m\n\u001b[0;32m-> 3887\u001b[0;31m                 \u001b[0mobj\u001b[0m \u001b[0;34m=\u001b[0m \u001b[0mobj\u001b[0m\u001b[0;34m.\u001b[0m\u001b[0m_drop_axis\u001b[0m\u001b[0;34m(\u001b[0m\u001b[0mlabels\u001b[0m\u001b[0;34m,\u001b[0m \u001b[0maxis\u001b[0m\u001b[0;34m,\u001b[0m \u001b[0mlevel\u001b[0m\u001b[0;34m=\u001b[0m\u001b[0mlevel\u001b[0m\u001b[0;34m,\u001b[0m \u001b[0merrors\u001b[0m\u001b[0;34m=\u001b[0m\u001b[0merrors\u001b[0m\u001b[0;34m)\u001b[0m\u001b[0;34m\u001b[0m\u001b[0;34m\u001b[0m\u001b[0m\n\u001b[0m\u001b[1;32m   3888\u001b[0m \u001b[0;34m\u001b[0m\u001b[0m\n\u001b[1;32m   3889\u001b[0m         \u001b[0;32mif\u001b[0m \u001b[0minplace\u001b[0m\u001b[0;34m:\u001b[0m\u001b[0;34m\u001b[0m\u001b[0;34m\u001b[0m\u001b[0m\n",
      "\u001b[0;32m~/opt/anaconda3/lib/python3.8/site-packages/pandas/core/generic.py\u001b[0m in \u001b[0;36m_drop_axis\u001b[0;34m(self, labels, axis, level, errors)\u001b[0m\n\u001b[1;32m   3919\u001b[0m                 \u001b[0mnew_axis\u001b[0m \u001b[0;34m=\u001b[0m \u001b[0maxis\u001b[0m\u001b[0;34m.\u001b[0m\u001b[0mdrop\u001b[0m\u001b[0;34m(\u001b[0m\u001b[0mlabels\u001b[0m\u001b[0;34m,\u001b[0m \u001b[0mlevel\u001b[0m\u001b[0;34m=\u001b[0m\u001b[0mlevel\u001b[0m\u001b[0;34m,\u001b[0m \u001b[0merrors\u001b[0m\u001b[0;34m=\u001b[0m\u001b[0merrors\u001b[0m\u001b[0;34m)\u001b[0m\u001b[0;34m\u001b[0m\u001b[0;34m\u001b[0m\u001b[0m\n\u001b[1;32m   3920\u001b[0m             \u001b[0;32melse\u001b[0m\u001b[0;34m:\u001b[0m\u001b[0;34m\u001b[0m\u001b[0;34m\u001b[0m\u001b[0m\n\u001b[0;32m-> 3921\u001b[0;31m                 \u001b[0mnew_axis\u001b[0m \u001b[0;34m=\u001b[0m \u001b[0maxis\u001b[0m\u001b[0;34m.\u001b[0m\u001b[0mdrop\u001b[0m\u001b[0;34m(\u001b[0m\u001b[0mlabels\u001b[0m\u001b[0;34m,\u001b[0m \u001b[0merrors\u001b[0m\u001b[0;34m=\u001b[0m\u001b[0merrors\u001b[0m\u001b[0;34m)\u001b[0m\u001b[0;34m\u001b[0m\u001b[0;34m\u001b[0m\u001b[0m\n\u001b[0m\u001b[1;32m   3922\u001b[0m             \u001b[0mresult\u001b[0m \u001b[0;34m=\u001b[0m \u001b[0mself\u001b[0m\u001b[0;34m.\u001b[0m\u001b[0mreindex\u001b[0m\u001b[0;34m(\u001b[0m\u001b[0;34m**\u001b[0m\u001b[0;34m{\u001b[0m\u001b[0maxis_name\u001b[0m\u001b[0;34m:\u001b[0m \u001b[0mnew_axis\u001b[0m\u001b[0;34m}\u001b[0m\u001b[0;34m)\u001b[0m\u001b[0;34m\u001b[0m\u001b[0;34m\u001b[0m\u001b[0m\n\u001b[1;32m   3923\u001b[0m \u001b[0;34m\u001b[0m\u001b[0m\n",
      "\u001b[0;32m~/opt/anaconda3/lib/python3.8/site-packages/pandas/core/indexes/base.py\u001b[0m in \u001b[0;36mdrop\u001b[0;34m(self, labels, errors)\u001b[0m\n\u001b[1;32m   5280\u001b[0m         \u001b[0;32mif\u001b[0m \u001b[0mmask\u001b[0m\u001b[0;34m.\u001b[0m\u001b[0many\u001b[0m\u001b[0;34m(\u001b[0m\u001b[0;34m)\u001b[0m\u001b[0;34m:\u001b[0m\u001b[0;34m\u001b[0m\u001b[0;34m\u001b[0m\u001b[0m\n\u001b[1;32m   5281\u001b[0m             \u001b[0;32mif\u001b[0m \u001b[0merrors\u001b[0m \u001b[0;34m!=\u001b[0m \u001b[0;34m\"ignore\"\u001b[0m\u001b[0;34m:\u001b[0m\u001b[0;34m\u001b[0m\u001b[0;34m\u001b[0m\u001b[0m\n\u001b[0;32m-> 5282\u001b[0;31m                 \u001b[0;32mraise\u001b[0m \u001b[0mKeyError\u001b[0m\u001b[0;34m(\u001b[0m\u001b[0;34mf\"{labels[mask]} not found in axis\"\u001b[0m\u001b[0;34m)\u001b[0m\u001b[0;34m\u001b[0m\u001b[0;34m\u001b[0m\u001b[0m\n\u001b[0m\u001b[1;32m   5283\u001b[0m             \u001b[0mindexer\u001b[0m \u001b[0;34m=\u001b[0m \u001b[0mindexer\u001b[0m\u001b[0;34m[\u001b[0m\u001b[0;34m~\u001b[0m\u001b[0mmask\u001b[0m\u001b[0;34m]\u001b[0m\u001b[0;34m\u001b[0m\u001b[0;34m\u001b[0m\u001b[0m\n\u001b[1;32m   5284\u001b[0m         \u001b[0;32mreturn\u001b[0m \u001b[0mself\u001b[0m\u001b[0;34m.\u001b[0m\u001b[0mdelete\u001b[0m\u001b[0;34m(\u001b[0m\u001b[0mindexer\u001b[0m\u001b[0;34m)\u001b[0m\u001b[0;34m\u001b[0m\u001b[0;34m\u001b[0m\u001b[0m\n",
      "\u001b[0;31mKeyError\u001b[0m: \"['ENTRIES_MIN' 'ENTRIES_MAX' 'EXITS_MIN' 'EXITS_MAX' 'Total_Entries'\\n 'Total_Exits'] not found in axis\""
     ]
    }
   ],
   "source": [
    "grouped_time.drop(['ENTRIES_MIN','ENTRIES_MAX','EXITS_MIN','EXITS_MAX', 'Total_Entries', 'Total_Exits', ], axis=1)"
   ]
  },
  {
   "cell_type": "code",
   "execution_count": null,
   "metadata": {},
   "outputs": [],
   "source": []
  },
  {
   "cell_type": "markdown",
   "metadata": {},
   "source": [
    "#### Combine data"
   ]
  },
  {
   "cell_type": "markdown",
   "metadata": {},
   "source": [
    "### Finding top 10 visited stations"
   ]
  },
  {
   "cell_type": "code",
   "execution_count": 59,
   "metadata": {},
   "outputs": [
    {
     "ename": "NameError",
     "evalue": "name 'grouped_day' is not defined",
     "output_type": "error",
     "traceback": [
      "\u001b[0;31m---------------------------------------------------------------------------\u001b[0m",
      "\u001b[0;31mNameError\u001b[0m                                 Traceback (most recent call last)",
      "\u001b[0;32m<ipython-input-59-8bc3c35ef6ba>\u001b[0m in \u001b[0;36m<module>\u001b[0;34m\u001b[0m\n\u001b[0;32m----> 1\u001b[0;31m \u001b[0mTotal_ridership\u001b[0m \u001b[0;34m=\u001b[0m \u001b[0mgrouped_day\u001b[0m\u001b[0;34m.\u001b[0m\u001b[0mgroupby\u001b[0m\u001b[0;34m(\u001b[0m\u001b[0;34m[\u001b[0m\u001b[0;34m'Station'\u001b[0m\u001b[0;34m]\u001b[0m\u001b[0;34m)\u001b[0m\u001b[0;34m.\u001b[0m\u001b[0mTotal_Traffic\u001b[0m\u001b[0;34m.\u001b[0m\u001b[0msum\u001b[0m\u001b[0;34m(\u001b[0m\u001b[0;34m)\u001b[0m\u001b[0;34m.\u001b[0m\u001b[0mreset_index\u001b[0m\u001b[0;34m(\u001b[0m\u001b[0;34m)\u001b[0m\u001b[0;34m\u001b[0m\u001b[0;34m\u001b[0m\u001b[0m\n\u001b[0m",
      "\u001b[0;31mNameError\u001b[0m: name 'grouped_day' is not defined"
     ]
    }
   ],
   "source": [
    "Total_ridership = grouped_day.groupby(['Station']).Total_Traffic.sum().reset_index()"
   ]
  },
  {
   "cell_type": "code",
   "execution_count": null,
   "metadata": {},
   "outputs": [],
   "source": [
    "Total_ridership.sort_values(by=['Total_Traffic'],inplace = True, ascending = False)\n"
   ]
  },
  {
   "cell_type": "code",
   "execution_count": null,
   "metadata": {},
   "outputs": [],
   "source": [
    "Row_list =[] \n",
    "indices = []\n",
    "  \n",
    "# Iterate over each row \n",
    "for index, rows in Total_ridership[:10].iterrows(): \n",
    "    # Create list for the current row \n",
    "#    my_list =[rows.STATION, rows.Total_Traffic] \n",
    "    my_list =rows.Total_Traffic \n",
    "    station_list = rows.Station\n",
    "    # append the list to the final list \n",
    "    Row_list.append(my_list) \n",
    "    indices.append(station_list)\n",
    "Total_ridership.head(10)\n"
   ]
  },
  {
   "cell_type": "code",
   "execution_count": null,
   "metadata": {},
   "outputs": [],
   "source": [
    "plt.ylim(10000000,21000000)\n",
    "plt.xlabel(\"Station\")\n",
    "plt.ylabel(\"Total Traffic\")\n",
    "plt.title(\"Total traffic for the period for top 10 busiest stations\")\n",
    "plt.bar(indices, Row_list)"
   ]
  },
  {
   "cell_type": "markdown",
   "metadata": {},
   "source": [
    "Top 10 Busy Stations, We will focus on top5 of these."
   ]
  },
  {
   "cell_type": "code",
   "execution_count": null,
   "metadata": {},
   "outputs": [],
   "source": [
    "indices"
   ]
  },
  {
   "cell_type": "markdown",
   "metadata": {},
   "source": [
    "### Find high traffic days"
   ]
  },
  {
   "cell_type": "code",
   "execution_count": null,
   "metadata": {},
   "outputs": [],
   "source": [
    "Total_Weekly_ridership = grouped_day.groupby(['Week_Day']).Total_Traffic.sum().reset_index()\n",
    "#Total_Weekly_ridership = grouped_day.groupby(['Week_Day']).Total_Traffic.mean().reset_index()\n",
    "Total_Weekly_ridership.sort_values(by=['Total_Traffic'],inplace = True, ascending = False)\n",
    "Total_Weekly_ridership.head()"
   ]
  },
  {
   "cell_type": "code",
   "execution_count": null,
   "metadata": {},
   "outputs": [],
   "source": [
    "#plt.ylim(1610000000000,1620000000000)\n",
    "plt.ylim(40000000,140000000)\n",
    "plt.bar(Total_Weekly_ridership['Week_Day'], Total_Weekly_ridership['Total_Traffic'])"
   ]
  },
  {
   "cell_type": "markdown",
   "metadata": {},
   "source": [
    "Based on this it seems like weekends see much less traffic compared to weekdays. So WWTF should focus more on weekdays "
   ]
  },
  {
   "cell_type": "code",
   "execution_count": null,
   "metadata": {},
   "outputs": [],
   "source": [
    "Top5 = Total_ridership['Station'][0:5].tolist()\n",
    "Top5_stations = grouped_day[grouped_day['Station'].isin(Top5)]\n",
    "Top5_station_weekly = Top5_stations.groupby(['Station','Week_Day']).Total_Traffic.sum().reset_index()\n",
    "Top5_station_Daily = Top5_stations.groupby(['Station','Date']).Total_Traffic.sum().reset_index()\n",
    "#Top5_station_weekly = Top5_stations.groupby(['Station','Week_Day']).Total_Traffic.mean().reset_index()"
   ]
  },
  {
   "cell_type": "markdown",
   "metadata": {},
   "source": [
    "    "
   ]
  },
  {
   "cell_type": "markdown",
   "metadata": {},
   "source": [
    "#### Weekly Plot for Top5 stations"
   ]
  },
  {
   "cell_type": "code",
   "execution_count": null,
   "metadata": {},
   "outputs": [],
   "source": [
    "\n",
    "for stations in Top5:\n",
    "    station = Top5_station_weekly[Top5_station_weekly['Station'] == stations]\n",
    "#    print(station)\n",
    "    plt.plot(station['Week_Day'],station['Total_Traffic'],label = stations)\n",
    "#plt.ylim(32500000000,40700000000)\n",
    "#plt.ylim(400000000,405000000)\n",
    "plt.legend()\n",
    "plt.show()\n",
    "\n"
   ]
  },
  {
   "cell_type": "markdown",
   "metadata": {},
   "source": [
    "Looking at the plot seems like top5 stations are also showing a dip on weekends, but PATH NEW WTC station is oblitrating seeing the trend properly. This needs to be investigated further. Also, to see the trend for rest of the station we will do another plot removing the data for PATH NEW WTC"
   ]
  },
  {
   "cell_type": "code",
   "execution_count": null,
   "metadata": {},
   "outputs": [],
   "source": [
    "for stations in Top5:\n",
    "    if stations != \"PATH NEW WTC\" :\n",
    "        station = Top5_station_weekly[Top5_station_weekly['Station'] == stations]\n",
    "#    print(station)\n",
    "        plt.plot(station['Week_Day'],station['Total_Traffic'],label = stations)\n",
    "#plt.ylim(32500000000,40700000000)\n",
    "#plt.ylim(400000000,405000000)\n",
    "plt.legend()\n",
    "plt.show()"
   ]
  },
  {
   "cell_type": "markdown",
   "metadata": {},
   "source": [
    "This is also showing the dip in weekend more clearly. But GRD CNTRL-42 ST shows peak on thursday - which needs to be investigated."
   ]
  },
  {
   "cell_type": "code",
   "execution_count": null,
   "metadata": {},
   "outputs": [],
   "source": [
    "for stations in Top5:\n",
    "    station = Top5_station_Daily[Top5_station_Daily['Station'] == stations]\n",
    "#    print(station)\n",
    "    plt.plot(station['Date'],station['Total_Traffic'],label = stations)\n",
    "#plt.ylim(32500000000,40700000000)\n",
    "#plt.ylim(400000000,405000000)\n",
    "plt.legend()\n",
    "plt.show()"
   ]
  },
  {
   "cell_type": "markdown",
   "metadata": {},
   "source": [
    "This plot is also showing some abnormal values for some of the days for PATH NEW WTC. Two of these dates are looking on thursdays. We will look at rest of the stations removing PATH NEW WTC"
   ]
  },
  {
   "cell_type": "code",
   "execution_count": null,
   "metadata": {},
   "outputs": [],
   "source": [
    "for stations in Top5:\n",
    "    if stations != \"PATH NEW WTC\" :\n",
    "        station = Top5_station_Daily[Top5_station_Daily['Station'] == stations]\n",
    "#    print(station)\n",
    "        plt.plot(station['Date'],station['Total_Traffic'],label = stations)\n",
    "#plt.ylim(32500000000,40700000000)\n",
    "#plt.ylim(400000000,405000000)\n",
    "plt.legend()\n",
    "plt.show()"
   ]
  },
  {
   "cell_type": "markdown",
   "metadata": {},
   "source": [
    "This plot also seems to have some outliers. But In general trend is clear Traffic takes a dip on weekends and remains kind of static on weekdays"
   ]
  },
  {
   "cell_type": "markdown",
   "metadata": {},
   "source": [
    "### Find peak hours"
   ]
  },
  {
   "cell_type": "code",
   "execution_count": null,
   "metadata": {},
   "outputs": [],
   "source": []
  },
  {
   "cell_type": "code",
   "execution_count": null,
   "metadata": {},
   "outputs": [],
   "source": []
  },
  {
   "cell_type": "code",
   "execution_count": null,
   "metadata": {},
   "outputs": [],
   "source": []
  },
  {
   "cell_type": "code",
   "execution_count": null,
   "metadata": {},
   "outputs": [],
   "source": []
  },
  {
   "cell_type": "markdown",
   "metadata": {},
   "source": [
    "### Find high traffic areas for games"
   ]
  },
  {
   "cell_type": "code",
   "execution_count": 18,
   "metadata": {},
   "outputs": [
    {
     "data": {
      "text/plain": [
       "'/Users/patrickbovard/Documents/GitHubRepos/mta-project-1/CSVs'"
      ]
     },
     "execution_count": 18,
     "metadata": {},
     "output_type": "execute_result"
    }
   ],
   "source": [
    "pwd"
   ]
  },
  {
   "cell_type": "markdown",
   "metadata": {},
   "source": [
    "### Reading in the 2019 MLB Schedule CSV data"
   ]
  },
  {
   "cell_type": "code",
   "execution_count": 14,
   "metadata": {},
   "outputs": [],
   "source": [
    "schedule_2019 = pd.read_csv(\"2019SKED.TXT\")"
   ]
  },
  {
   "cell_type": "code",
   "execution_count": 15,
   "metadata": {},
   "outputs": [
    {
     "data": {
      "text/html": [
       "<div>\n",
       "<style scoped>\n",
       "    .dataframe tbody tr th:only-of-type {\n",
       "        vertical-align: middle;\n",
       "    }\n",
       "\n",
       "    .dataframe tbody tr th {\n",
       "        vertical-align: top;\n",
       "    }\n",
       "\n",
       "    .dataframe thead th {\n",
       "        text-align: right;\n",
       "    }\n",
       "</style>\n",
       "<table border=\"1\" class=\"dataframe\">\n",
       "  <thead>\n",
       "    <tr style=\"text-align: right;\">\n",
       "      <th></th>\n",
       "      <th>20190320</th>\n",
       "      <th>0</th>\n",
       "      <th>Wed</th>\n",
       "      <th>SEA</th>\n",
       "      <th>AL</th>\n",
       "      <th>1</th>\n",
       "      <th>OAK</th>\n",
       "      <th>AL.1</th>\n",
       "      <th>1.1</th>\n",
       "      <th>n</th>\n",
       "      <th>Unnamed: 10</th>\n",
       "      <th>Unnamed: 11</th>\n",
       "    </tr>\n",
       "  </thead>\n",
       "  <tbody>\n",
       "    <tr>\n",
       "      <th>0</th>\n",
       "      <td>20190321</td>\n",
       "      <td>0</td>\n",
       "      <td>Thu</td>\n",
       "      <td>SEA</td>\n",
       "      <td>AL</td>\n",
       "      <td>2</td>\n",
       "      <td>OAK</td>\n",
       "      <td>AL</td>\n",
       "      <td>2</td>\n",
       "      <td>n</td>\n",
       "      <td>NaN</td>\n",
       "      <td>NaN</td>\n",
       "    </tr>\n",
       "    <tr>\n",
       "      <th>1</th>\n",
       "      <td>20190328</td>\n",
       "      <td>0</td>\n",
       "      <td>Thu</td>\n",
       "      <td>ANA</td>\n",
       "      <td>AL</td>\n",
       "      <td>1</td>\n",
       "      <td>OAK</td>\n",
       "      <td>AL</td>\n",
       "      <td>3</td>\n",
       "      <td>d</td>\n",
       "      <td>NaN</td>\n",
       "      <td>NaN</td>\n",
       "    </tr>\n",
       "    <tr>\n",
       "      <th>2</th>\n",
       "      <td>20190328</td>\n",
       "      <td>0</td>\n",
       "      <td>Thu</td>\n",
       "      <td>ARI</td>\n",
       "      <td>NL</td>\n",
       "      <td>1</td>\n",
       "      <td>LAN</td>\n",
       "      <td>NL</td>\n",
       "      <td>1</td>\n",
       "      <td>d</td>\n",
       "      <td>NaN</td>\n",
       "      <td>NaN</td>\n",
       "    </tr>\n",
       "    <tr>\n",
       "      <th>3</th>\n",
       "      <td>20190328</td>\n",
       "      <td>0</td>\n",
       "      <td>Thu</td>\n",
       "      <td>ATL</td>\n",
       "      <td>NL</td>\n",
       "      <td>1</td>\n",
       "      <td>PHI</td>\n",
       "      <td>NL</td>\n",
       "      <td>1</td>\n",
       "      <td>d</td>\n",
       "      <td>NaN</td>\n",
       "      <td>NaN</td>\n",
       "    </tr>\n",
       "    <tr>\n",
       "      <th>4</th>\n",
       "      <td>20190328</td>\n",
       "      <td>0</td>\n",
       "      <td>Thu</td>\n",
       "      <td>BAL</td>\n",
       "      <td>AL</td>\n",
       "      <td>1</td>\n",
       "      <td>NYA</td>\n",
       "      <td>AL</td>\n",
       "      <td>1</td>\n",
       "      <td>d</td>\n",
       "      <td>NaN</td>\n",
       "      <td>NaN</td>\n",
       "    </tr>\n",
       "  </tbody>\n",
       "</table>\n",
       "</div>"
      ],
      "text/plain": [
       "   20190320  0  Wed  SEA  AL  1  OAK AL.1  1.1  n Unnamed: 10 Unnamed: 11\n",
       "0  20190321  0  Thu  SEA  AL  2  OAK   AL    2  n         NaN         NaN\n",
       "1  20190328  0  Thu  ANA  AL  1  OAK   AL    3  d         NaN         NaN\n",
       "2  20190328  0  Thu  ARI  NL  1  LAN   NL    1  d         NaN         NaN\n",
       "3  20190328  0  Thu  ATL  NL  1  PHI   NL    1  d         NaN         NaN\n",
       "4  20190328  0  Thu  BAL  AL  1  NYA   AL    1  d         NaN         NaN"
      ]
     },
     "execution_count": 15,
     "metadata": {},
     "output_type": "execute_result"
    }
   ],
   "source": [
    "#scope out the data\n",
    "schedule_2019.head()"
   ]
  },
  {
   "cell_type": "markdown",
   "metadata": {},
   "source": [
    "Columns are the first row, need to rename."
   ]
  },
  {
   "cell_type": "code",
   "execution_count": 16,
   "metadata": {},
   "outputs": [],
   "source": [
    "schedule_2019.columns=['Date','GameNumber','WeekDay','VisitingTeam','VisitingTeamLeague','VisitingTeamGame','HomeTeam','HomeTeamLeague','HomeTeamGame','GameTime','CancelIndicator','MakeUpDate']"
   ]
  },
  {
   "cell_type": "code",
   "execution_count": 17,
   "metadata": {},
   "outputs": [],
   "source": [
    "#adding a DateTime element to the schedule data to match with the subway data\n",
    "schedule_2019['DateTime'] = pd.to_datetime(schedule_2019.Date, format='%Y%m%d')"
   ]
  },
  {
   "cell_type": "code",
   "execution_count": 18,
   "metadata": {},
   "outputs": [
    {
     "data": {
      "text/plain": [
       "HomeTeam\n",
       "ANA    81\n",
       "ARI    81\n",
       "ATL    81\n",
       "BAL    81\n",
       "BOS    81\n",
       "CHA    81\n",
       "CHN    81\n",
       "CIN    81\n",
       "CLE    81\n",
       "COL    81\n",
       "DET    81\n",
       "HOU    81\n",
       "KCA    81\n",
       "LAN    81\n",
       "MIA    81\n",
       "MIL    81\n",
       "MIN    81\n",
       "NYA    81\n",
       "NYN    81\n",
       "OAK    80\n",
       "PHI    81\n",
       "PIT    81\n",
       "SDN    81\n",
       "SEA    81\n",
       "SFN    81\n",
       "SLN    81\n",
       "TBA    81\n",
       "TEX    81\n",
       "TOR    81\n",
       "WAS    81\n",
       "Name: GameNumber, dtype: int64"
      ]
     },
     "execution_count": 18,
     "metadata": {},
     "output_type": "execute_result"
    }
   ],
   "source": [
    "#Pulling the team abbreviations, each should have about 81 home games:\n",
    "schedule_2019.groupby(['HomeTeam']).GameNumber.count()"
   ]
  },
  {
   "cell_type": "markdown",
   "metadata": {},
   "source": [
    "Finding New York Home games, with home teams NYA (Yankees) and NYN (Mets)"
   ]
  },
  {
   "cell_type": "code",
   "execution_count": 19,
   "metadata": {},
   "outputs": [],
   "source": [
    "ny_home_games = ((schedule_2019.HomeTeam == 'NYA') |(schedule_2019.HomeTeam == 'NYN'))"
   ]
  },
  {
   "cell_type": "code",
   "execution_count": 20,
   "metadata": {},
   "outputs": [
    {
     "name": "stdout",
     "output_type": "stream",
     "text": [
      "<class 'pandas.core.frame.DataFrame'>\n",
      "Int64Index: 162 entries, 4 to 2414\n",
      "Data columns (total 13 columns):\n",
      " #   Column              Non-Null Count  Dtype         \n",
      "---  ------              --------------  -----         \n",
      " 0   Date                162 non-null    int64         \n",
      " 1   GameNumber          162 non-null    int64         \n",
      " 2   WeekDay             162 non-null    object        \n",
      " 3   VisitingTeam        162 non-null    object        \n",
      " 4   VisitingTeamLeague  162 non-null    object        \n",
      " 5   VisitingTeamGame    162 non-null    int64         \n",
      " 6   HomeTeam            162 non-null    object        \n",
      " 7   HomeTeamLeague      162 non-null    object        \n",
      " 8   HomeTeamGame        162 non-null    int64         \n",
      " 9   GameTime            162 non-null    object        \n",
      " 10  CancelIndicator     6 non-null      object        \n",
      " 11  MakeUpDate          6 non-null      object        \n",
      " 12  DateTime            162 non-null    datetime64[ns]\n",
      "dtypes: datetime64[ns](1), int64(4), object(8)\n",
      "memory usage: 17.7+ KB\n"
     ]
    }
   ],
   "source": [
    "ny_games_2019 = schedule_2019[ny_home_games]\n",
    "ny_games_2019.info()"
   ]
  },
  {
   "cell_type": "markdown",
   "metadata": {},
   "source": [
    "Adding Date Time to ny_games dataframe:"
   ]
  },
  {
   "cell_type": "code",
   "execution_count": 21,
   "metadata": {},
   "outputs": [
    {
     "name": "stderr",
     "output_type": "stream",
     "text": [
      "<ipython-input-21-05c8f9fc2885>:1: SettingWithCopyWarning: \n",
      "A value is trying to be set on a copy of a slice from a DataFrame.\n",
      "Try using .loc[row_indexer,col_indexer] = value instead\n",
      "\n",
      "See the caveats in the documentation: https://pandas.pydata.org/pandas-docs/stable/user_guide/indexing.html#returning-a-view-versus-a-copy\n",
      "  ny_games_2019['DateTime'] = pd.to_datetime(ny_games_2019['Date'], format='%Y%m%d')\n"
     ]
    }
   ],
   "source": [
    "ny_games_2019['DateTime'] = pd.to_datetime(ny_games_2019['Date'], format='%Y%m%d')"
   ]
  },
  {
   "cell_type": "code",
   "execution_count": 22,
   "metadata": {},
   "outputs": [
    {
     "data": {
      "text/html": [
       "<div>\n",
       "<style scoped>\n",
       "    .dataframe tbody tr th:only-of-type {\n",
       "        vertical-align: middle;\n",
       "    }\n",
       "\n",
       "    .dataframe tbody tr th {\n",
       "        vertical-align: top;\n",
       "    }\n",
       "\n",
       "    .dataframe thead th {\n",
       "        text-align: right;\n",
       "    }\n",
       "</style>\n",
       "<table border=\"1\" class=\"dataframe\">\n",
       "  <thead>\n",
       "    <tr style=\"text-align: right;\">\n",
       "      <th></th>\n",
       "      <th>Date</th>\n",
       "      <th>GameNumber</th>\n",
       "      <th>WeekDay</th>\n",
       "      <th>VisitingTeam</th>\n",
       "      <th>VisitingTeamLeague</th>\n",
       "      <th>VisitingTeamGame</th>\n",
       "      <th>HomeTeam</th>\n",
       "      <th>HomeTeamLeague</th>\n",
       "      <th>HomeTeamGame</th>\n",
       "      <th>GameTime</th>\n",
       "      <th>CancelIndicator</th>\n",
       "      <th>MakeUpDate</th>\n",
       "      <th>DateTime</th>\n",
       "    </tr>\n",
       "  </thead>\n",
       "  <tbody>\n",
       "    <tr>\n",
       "      <th>4</th>\n",
       "      <td>20190328</td>\n",
       "      <td>0</td>\n",
       "      <td>Thu</td>\n",
       "      <td>BAL</td>\n",
       "      <td>AL</td>\n",
       "      <td>1</td>\n",
       "      <td>NYA</td>\n",
       "      <td>AL</td>\n",
       "      <td>1</td>\n",
       "      <td>d</td>\n",
       "      <td>NaN</td>\n",
       "      <td>NaN</td>\n",
       "      <td>2019-03-28</td>\n",
       "    </tr>\n",
       "    <tr>\n",
       "      <th>27</th>\n",
       "      <td>20190330</td>\n",
       "      <td>0</td>\n",
       "      <td>Sat</td>\n",
       "      <td>BAL</td>\n",
       "      <td>AL</td>\n",
       "      <td>2</td>\n",
       "      <td>NYA</td>\n",
       "      <td>AL</td>\n",
       "      <td>2</td>\n",
       "      <td>d</td>\n",
       "      <td>NaN</td>\n",
       "      <td>NaN</td>\n",
       "      <td>2019-03-30</td>\n",
       "    </tr>\n",
       "    <tr>\n",
       "      <th>42</th>\n",
       "      <td>20190331</td>\n",
       "      <td>0</td>\n",
       "      <td>Sun</td>\n",
       "      <td>BAL</td>\n",
       "      <td>AL</td>\n",
       "      <td>3</td>\n",
       "      <td>NYA</td>\n",
       "      <td>AL</td>\n",
       "      <td>3</td>\n",
       "      <td>d</td>\n",
       "      <td>NaN</td>\n",
       "      <td>NaN</td>\n",
       "      <td>2019-03-31</td>\n",
       "    </tr>\n",
       "    <tr>\n",
       "      <th>61</th>\n",
       "      <td>20190401</td>\n",
       "      <td>0</td>\n",
       "      <td>Mon</td>\n",
       "      <td>DET</td>\n",
       "      <td>AL</td>\n",
       "      <td>5</td>\n",
       "      <td>NYA</td>\n",
       "      <td>AL</td>\n",
       "      <td>4</td>\n",
       "      <td>n</td>\n",
       "      <td>NaN</td>\n",
       "      <td>NaN</td>\n",
       "      <td>2019-04-01</td>\n",
       "    </tr>\n",
       "    <tr>\n",
       "      <th>72</th>\n",
       "      <td>20190402</td>\n",
       "      <td>0</td>\n",
       "      <td>Tue</td>\n",
       "      <td>DET</td>\n",
       "      <td>AL</td>\n",
       "      <td>6</td>\n",
       "      <td>NYA</td>\n",
       "      <td>AL</td>\n",
       "      <td>5</td>\n",
       "      <td>n</td>\n",
       "      <td>NaN</td>\n",
       "      <td>NaN</td>\n",
       "      <td>2019-04-02</td>\n",
       "    </tr>\n",
       "    <tr>\n",
       "      <th>...</th>\n",
       "      <td>...</td>\n",
       "      <td>...</td>\n",
       "      <td>...</td>\n",
       "      <td>...</td>\n",
       "      <td>...</td>\n",
       "      <td>...</td>\n",
       "      <td>...</td>\n",
       "      <td>...</td>\n",
       "      <td>...</td>\n",
       "      <td>...</td>\n",
       "      <td>...</td>\n",
       "      <td>...</td>\n",
       "      <td>...</td>\n",
       "    </tr>\n",
       "    <tr>\n",
       "      <th>2366</th>\n",
       "      <td>20190925</td>\n",
       "      <td>0</td>\n",
       "      <td>Wed</td>\n",
       "      <td>MIA</td>\n",
       "      <td>NL</td>\n",
       "      <td>158</td>\n",
       "      <td>NYN</td>\n",
       "      <td>NL</td>\n",
       "      <td>158</td>\n",
       "      <td>n</td>\n",
       "      <td>NaN</td>\n",
       "      <td>NaN</td>\n",
       "      <td>2019-09-25</td>\n",
       "    </tr>\n",
       "    <tr>\n",
       "      <th>2379</th>\n",
       "      <td>20190926</td>\n",
       "      <td>0</td>\n",
       "      <td>Thu</td>\n",
       "      <td>MIA</td>\n",
       "      <td>NL</td>\n",
       "      <td>159</td>\n",
       "      <td>NYN</td>\n",
       "      <td>NL</td>\n",
       "      <td>159</td>\n",
       "      <td>n</td>\n",
       "      <td>NaN</td>\n",
       "      <td>NaN</td>\n",
       "      <td>2019-09-26</td>\n",
       "    </tr>\n",
       "    <tr>\n",
       "      <th>2384</th>\n",
       "      <td>20190927</td>\n",
       "      <td>0</td>\n",
       "      <td>Fri</td>\n",
       "      <td>ATL</td>\n",
       "      <td>NL</td>\n",
       "      <td>160</td>\n",
       "      <td>NYN</td>\n",
       "      <td>NL</td>\n",
       "      <td>160</td>\n",
       "      <td>n</td>\n",
       "      <td>NaN</td>\n",
       "      <td>NaN</td>\n",
       "      <td>2019-09-27</td>\n",
       "    </tr>\n",
       "    <tr>\n",
       "      <th>2399</th>\n",
       "      <td>20190928</td>\n",
       "      <td>0</td>\n",
       "      <td>Sat</td>\n",
       "      <td>ATL</td>\n",
       "      <td>NL</td>\n",
       "      <td>161</td>\n",
       "      <td>NYN</td>\n",
       "      <td>NL</td>\n",
       "      <td>161</td>\n",
       "      <td>n</td>\n",
       "      <td>NaN</td>\n",
       "      <td>NaN</td>\n",
       "      <td>2019-09-28</td>\n",
       "    </tr>\n",
       "    <tr>\n",
       "      <th>2414</th>\n",
       "      <td>20190929</td>\n",
       "      <td>0</td>\n",
       "      <td>Sun</td>\n",
       "      <td>ATL</td>\n",
       "      <td>NL</td>\n",
       "      <td>162</td>\n",
       "      <td>NYN</td>\n",
       "      <td>NL</td>\n",
       "      <td>162</td>\n",
       "      <td>d</td>\n",
       "      <td>NaN</td>\n",
       "      <td>NaN</td>\n",
       "      <td>2019-09-29</td>\n",
       "    </tr>\n",
       "  </tbody>\n",
       "</table>\n",
       "<p>162 rows × 13 columns</p>\n",
       "</div>"
      ],
      "text/plain": [
       "          Date  GameNumber WeekDay VisitingTeam VisitingTeamLeague  \\\n",
       "4     20190328           0     Thu          BAL                 AL   \n",
       "27    20190330           0     Sat          BAL                 AL   \n",
       "42    20190331           0     Sun          BAL                 AL   \n",
       "61    20190401           0     Mon          DET                 AL   \n",
       "72    20190402           0     Tue          DET                 AL   \n",
       "...        ...         ...     ...          ...                ...   \n",
       "2366  20190925           0     Wed          MIA                 NL   \n",
       "2379  20190926           0     Thu          MIA                 NL   \n",
       "2384  20190927           0     Fri          ATL                 NL   \n",
       "2399  20190928           0     Sat          ATL                 NL   \n",
       "2414  20190929           0     Sun          ATL                 NL   \n",
       "\n",
       "      VisitingTeamGame HomeTeam HomeTeamLeague  HomeTeamGame GameTime  \\\n",
       "4                    1      NYA             AL             1        d   \n",
       "27                   2      NYA             AL             2        d   \n",
       "42                   3      NYA             AL             3        d   \n",
       "61                   5      NYA             AL             4        n   \n",
       "72                   6      NYA             AL             5        n   \n",
       "...                ...      ...            ...           ...      ...   \n",
       "2366               158      NYN             NL           158        n   \n",
       "2379               159      NYN             NL           159        n   \n",
       "2384               160      NYN             NL           160        n   \n",
       "2399               161      NYN             NL           161        n   \n",
       "2414               162      NYN             NL           162        d   \n",
       "\n",
       "     CancelIndicator MakeUpDate   DateTime  \n",
       "4                NaN        NaN 2019-03-28  \n",
       "27               NaN        NaN 2019-03-30  \n",
       "42               NaN        NaN 2019-03-31  \n",
       "61               NaN        NaN 2019-04-01  \n",
       "72               NaN        NaN 2019-04-02  \n",
       "...              ...        ...        ...  \n",
       "2366             NaN        NaN 2019-09-25  \n",
       "2379             NaN        NaN 2019-09-26  \n",
       "2384             NaN        NaN 2019-09-27  \n",
       "2399             NaN        NaN 2019-09-28  \n",
       "2414             NaN        NaN 2019-09-29  \n",
       "\n",
       "[162 rows x 13 columns]"
      ]
     },
     "execution_count": 22,
     "metadata": {},
     "output_type": "execute_result"
    }
   ],
   "source": [
    "ny_games_2019"
   ]
  },
  {
   "cell_type": "code",
   "execution_count": 23,
   "metadata": {},
   "outputs": [
    {
     "name": "stderr",
     "output_type": "stream",
     "text": [
      "/Users/patrickbovard/opt/anaconda3/lib/python3.8/site-packages/pandas/core/frame.py:4163: SettingWithCopyWarning: \n",
      "A value is trying to be set on a copy of a slice from a DataFrame\n",
      "\n",
      "See the caveats in the documentation: https://pandas.pydata.org/pandas-docs/stable/user_guide/indexing.html#returning-a-view-versus-a-copy\n",
      "  return super().drop(\n"
     ]
    }
   ],
   "source": [
    "#Dropping columns that are not needed for merging the files\n",
    "ny_games_2019.drop(columns = ['Date', 'GameNumber','VisitingTeam','VisitingTeamLeague','VisitingTeamGame', 'CancelIndicator','MakeUpDate'], inplace=True)"
   ]
  },
  {
   "cell_type": "code",
   "execution_count": 24,
   "metadata": {},
   "outputs": [
    {
     "data": {
      "text/html": [
       "<div>\n",
       "<style scoped>\n",
       "    .dataframe tbody tr th:only-of-type {\n",
       "        vertical-align: middle;\n",
       "    }\n",
       "\n",
       "    .dataframe tbody tr th {\n",
       "        vertical-align: top;\n",
       "    }\n",
       "\n",
       "    .dataframe thead th {\n",
       "        text-align: right;\n",
       "    }\n",
       "</style>\n",
       "<table border=\"1\" class=\"dataframe\">\n",
       "  <thead>\n",
       "    <tr style=\"text-align: right;\">\n",
       "      <th></th>\n",
       "      <th>WeekDay</th>\n",
       "      <th>HomeTeam</th>\n",
       "      <th>HomeTeamLeague</th>\n",
       "      <th>HomeTeamGame</th>\n",
       "      <th>GameTime</th>\n",
       "      <th>DateTime</th>\n",
       "    </tr>\n",
       "  </thead>\n",
       "  <tbody>\n",
       "    <tr>\n",
       "      <th>4</th>\n",
       "      <td>Thu</td>\n",
       "      <td>NYA</td>\n",
       "      <td>AL</td>\n",
       "      <td>1</td>\n",
       "      <td>d</td>\n",
       "      <td>2019-03-28</td>\n",
       "    </tr>\n",
       "    <tr>\n",
       "      <th>27</th>\n",
       "      <td>Sat</td>\n",
       "      <td>NYA</td>\n",
       "      <td>AL</td>\n",
       "      <td>2</td>\n",
       "      <td>d</td>\n",
       "      <td>2019-03-30</td>\n",
       "    </tr>\n",
       "    <tr>\n",
       "      <th>42</th>\n",
       "      <td>Sun</td>\n",
       "      <td>NYA</td>\n",
       "      <td>AL</td>\n",
       "      <td>3</td>\n",
       "      <td>d</td>\n",
       "      <td>2019-03-31</td>\n",
       "    </tr>\n",
       "    <tr>\n",
       "      <th>61</th>\n",
       "      <td>Mon</td>\n",
       "      <td>NYA</td>\n",
       "      <td>AL</td>\n",
       "      <td>4</td>\n",
       "      <td>n</td>\n",
       "      <td>2019-04-01</td>\n",
       "    </tr>\n",
       "    <tr>\n",
       "      <th>72</th>\n",
       "      <td>Tue</td>\n",
       "      <td>NYA</td>\n",
       "      <td>AL</td>\n",
       "      <td>5</td>\n",
       "      <td>n</td>\n",
       "      <td>2019-04-02</td>\n",
       "    </tr>\n",
       "  </tbody>\n",
       "</table>\n",
       "</div>"
      ],
      "text/plain": [
       "   WeekDay HomeTeam HomeTeamLeague  HomeTeamGame GameTime   DateTime\n",
       "4      Thu      NYA             AL             1        d 2019-03-28\n",
       "27     Sat      NYA             AL             2        d 2019-03-30\n",
       "42     Sun      NYA             AL             3        d 2019-03-31\n",
       "61     Mon      NYA             AL             4        n 2019-04-01\n",
       "72     Tue      NYA             AL             5        n 2019-04-02"
      ]
     },
     "execution_count": 24,
     "metadata": {},
     "output_type": "execute_result"
    }
   ],
   "source": [
    "ny_games_2019.head()"
   ]
  },
  {
   "cell_type": "markdown",
   "metadata": {},
   "source": [
    "Yankee Games only:"
   ]
  },
  {
   "cell_type": "code",
   "execution_count": 25,
   "metadata": {},
   "outputs": [
    {
     "data": {
      "text/plain": [
       "HomeTeam\n",
       "NYA    81\n",
       "dtype: int64"
      ]
     },
     "execution_count": 25,
     "metadata": {},
     "output_type": "execute_result"
    }
   ],
   "source": [
    "yankee_games = ny_games_2019[ny_games_2019.HomeTeam == 'NYA']\n",
    "yankee_games.value_counts(yankee_games.HomeTeam)"
   ]
  },
  {
   "cell_type": "markdown",
   "metadata": {},
   "source": [
    "Mets Games only:"
   ]
  },
  {
   "cell_type": "code",
   "execution_count": 26,
   "metadata": {},
   "outputs": [
    {
     "data": {
      "text/plain": [
       "HomeTeam\n",
       "NYN    81\n",
       "dtype: int64"
      ]
     },
     "execution_count": 26,
     "metadata": {},
     "output_type": "execute_result"
    }
   ],
   "source": [
    "mets_games = ny_games_2019[ny_games_2019.HomeTeam == 'NYN']\n",
    "mets_games.value_counts(mets_games.HomeTeam)"
   ]
  },
  {
   "cell_type": "markdown",
   "metadata": {},
   "source": [
    "Creating a dataframe of just the Mets/Yankee stops:"
   ]
  },
  {
   "cell_type": "code",
   "execution_count": 59,
   "metadata": {},
   "outputs": [
    {
     "data": {
      "text/html": [
       "<div>\n",
       "<style scoped>\n",
       "    .dataframe tbody tr th:only-of-type {\n",
       "        vertical-align: middle;\n",
       "    }\n",
       "\n",
       "    .dataframe tbody tr th {\n",
       "        vertical-align: top;\n",
       "    }\n",
       "\n",
       "    .dataframe thead th {\n",
       "        text-align: right;\n",
       "    }\n",
       "</style>\n",
       "<table border=\"1\" class=\"dataframe\">\n",
       "  <thead>\n",
       "    <tr style=\"text-align: right;\">\n",
       "      <th></th>\n",
       "      <th>Station</th>\n",
       "      <th>Date</th>\n",
       "      <th>ENTRIES_MIN</th>\n",
       "      <th>ENTRIES_MAX</th>\n",
       "      <th>EXITS_MIN</th>\n",
       "      <th>EXITS_MAX</th>\n",
       "      <th>Week_Day</th>\n",
       "      <th>Total_Entries</th>\n",
       "      <th>Total_Exits</th>\n",
       "      <th>Total_Traffic</th>\n",
       "    </tr>\n",
       "  </thead>\n",
       "  <tbody>\n",
       "    <tr>\n",
       "      <th>9345</th>\n",
       "      <td>AQUEDUCT RACETR</td>\n",
       "      <td>2019-05-13</td>\n",
       "      <td>1</td>\n",
       "      <td>51046238</td>\n",
       "      <td>0</td>\n",
       "      <td>16917842</td>\n",
       "      <td>Monday</td>\n",
       "      <td>51046237</td>\n",
       "      <td>16917842</td>\n",
       "      <td>33835684</td>\n",
       "    </tr>\n",
       "    <tr>\n",
       "      <th>5890</th>\n",
       "      <td>5 AV/59 ST</td>\n",
       "      <td>2019-05-13</td>\n",
       "      <td>1</td>\n",
       "      <td>119333808</td>\n",
       "      <td>0</td>\n",
       "      <td>16440059</td>\n",
       "      <td>Monday</td>\n",
       "      <td>119333807</td>\n",
       "      <td>16440059</td>\n",
       "      <td>32880118</td>\n",
       "    </tr>\n",
       "    <tr>\n",
       "      <th>1604</th>\n",
       "      <td>157 ST</td>\n",
       "      <td>2019-06-03</td>\n",
       "      <td>774457</td>\n",
       "      <td>22261937</td>\n",
       "      <td>381292</td>\n",
       "      <td>9215774</td>\n",
       "      <td>Monday</td>\n",
       "      <td>21487480</td>\n",
       "      <td>8834482</td>\n",
       "      <td>17668964</td>\n",
       "    </tr>\n",
       "  </tbody>\n",
       "</table>\n",
       "</div>"
      ],
      "text/plain": [
       "              Station       Date  ENTRIES_MIN  ENTRIES_MAX  EXITS_MIN  \\\n",
       "9345  AQUEDUCT RACETR 2019-05-13            1     51046238          0   \n",
       "5890       5 AV/59 ST 2019-05-13            1    119333808          0   \n",
       "1604           157 ST 2019-06-03       774457     22261937     381292   \n",
       "\n",
       "      EXITS_MAX Week_Day  Total_Entries  Total_Exits  Total_Traffic  \n",
       "9345   16917842   Monday       51046237     16917842       33835684  \n",
       "5890   16440059   Monday      119333807     16440059       32880118  \n",
       "1604    9215774   Monday       21487480      8834482       17668964  "
      ]
     },
     "execution_count": 59,
     "metadata": {},
     "output_type": "execute_result"
    }
   ],
   "source": [
    "grouped_day.sample(3)"
   ]
  },
  {
   "cell_type": "code",
   "execution_count": 29,
   "metadata": {},
   "outputs": [
    {
     "data": {
      "text/html": [
       "<div>\n",
       "<style scoped>\n",
       "    .dataframe tbody tr th:only-of-type {\n",
       "        vertical-align: middle;\n",
       "    }\n",
       "\n",
       "    .dataframe tbody tr th {\n",
       "        vertical-align: top;\n",
       "    }\n",
       "\n",
       "    .dataframe thead th {\n",
       "        text-align: right;\n",
       "    }\n",
       "</style>\n",
       "<table border=\"1\" class=\"dataframe\">\n",
       "  <thead>\n",
       "    <tr style=\"text-align: right;\">\n",
       "      <th></th>\n",
       "      <th>Station</th>\n",
       "      <th>Date</th>\n",
       "      <th>ENTRIES_MIN</th>\n",
       "      <th>ENTRIES_MAX</th>\n",
       "      <th>EXITS_MIN</th>\n",
       "      <th>EXITS_MAX</th>\n",
       "      <th>Week_Day</th>\n",
       "      <th>Total_Entries</th>\n",
       "      <th>Total_Exits</th>\n",
       "      <th>Total_Traffic</th>\n",
       "    </tr>\n",
       "  </thead>\n",
       "  <tbody>\n",
       "    <tr>\n",
       "      <th>1616</th>\n",
       "      <td>161/YANKEE STAD</td>\n",
       "      <td>2019-03-30</td>\n",
       "      <td>2</td>\n",
       "      <td>1399610147</td>\n",
       "      <td>0</td>\n",
       "      <td>1094593895</td>\n",
       "      <td>Saturday</td>\n",
       "      <td>1399610145</td>\n",
       "      <td>1094593895</td>\n",
       "      <td>2189187790</td>\n",
       "    </tr>\n",
       "    <tr>\n",
       "      <th>1617</th>\n",
       "      <td>161/YANKEE STAD</td>\n",
       "      <td>2019-03-31</td>\n",
       "      <td>2</td>\n",
       "      <td>1399608307</td>\n",
       "      <td>0</td>\n",
       "      <td>1094592883</td>\n",
       "      <td>Sunday</td>\n",
       "      <td>1399608305</td>\n",
       "      <td>1094592883</td>\n",
       "      <td>2189185766</td>\n",
       "    </tr>\n",
       "    <tr>\n",
       "      <th>1618</th>\n",
       "      <td>161/YANKEE STAD</td>\n",
       "      <td>2019-04-01</td>\n",
       "      <td>2</td>\n",
       "      <td>1399606792</td>\n",
       "      <td>0</td>\n",
       "      <td>1094592147</td>\n",
       "      <td>Monday</td>\n",
       "      <td>1399606790</td>\n",
       "      <td>1094592147</td>\n",
       "      <td>2189184294</td>\n",
       "    </tr>\n",
       "    <tr>\n",
       "      <th>1619</th>\n",
       "      <td>161/YANKEE STAD</td>\n",
       "      <td>2019-04-02</td>\n",
       "      <td>2</td>\n",
       "      <td>1399604731</td>\n",
       "      <td>0</td>\n",
       "      <td>1094590972</td>\n",
       "      <td>Tuesday</td>\n",
       "      <td>1399604729</td>\n",
       "      <td>1094590972</td>\n",
       "      <td>2189181944</td>\n",
       "    </tr>\n",
       "    <tr>\n",
       "      <th>1620</th>\n",
       "      <td>161/YANKEE STAD</td>\n",
       "      <td>2019-04-03</td>\n",
       "      <td>2</td>\n",
       "      <td>1399602603</td>\n",
       "      <td>0</td>\n",
       "      <td>1094589795</td>\n",
       "      <td>Wednesday</td>\n",
       "      <td>1399602601</td>\n",
       "      <td>1094589795</td>\n",
       "      <td>2189179590</td>\n",
       "    </tr>\n",
       "  </tbody>\n",
       "</table>\n",
       "</div>"
      ],
      "text/plain": [
       "              Station       Date  ENTRIES_MIN  ENTRIES_MAX  EXITS_MIN  \\\n",
       "1616  161/YANKEE STAD 2019-03-30            2   1399610147          0   \n",
       "1617  161/YANKEE STAD 2019-03-31            2   1399608307          0   \n",
       "1618  161/YANKEE STAD 2019-04-01            2   1399606792          0   \n",
       "1619  161/YANKEE STAD 2019-04-02            2   1399604731          0   \n",
       "1620  161/YANKEE STAD 2019-04-03            2   1399602603          0   \n",
       "\n",
       "       EXITS_MAX   Week_Day  Total_Entries  Total_Exits  Total_Traffic  \n",
       "1616  1094593895   Saturday     1399610145   1094593895     2189187790  \n",
       "1617  1094592883     Sunday     1399608305   1094592883     2189185766  \n",
       "1618  1094592147     Monday     1399606790   1094592147     2189184294  \n",
       "1619  1094590972    Tuesday     1399604729   1094590972     2189181944  \n",
       "1620  1094589795  Wednesday     1399602601   1094589795     2189179590  "
      ]
     },
     "execution_count": 29,
     "metadata": {},
     "output_type": "execute_result"
    }
   ],
   "source": [
    "stadium_stations = grouped_day[(grouped_day.Station == '161/YANKEE STAD') | (grouped_day.Station == 'METS-WILLETS PT')]\n",
    "stadium_stations.head()"
   ]
  },
  {
   "cell_type": "markdown",
   "metadata": {},
   "source": [
    "Creating a DateTime object to help join to the subway data."
   ]
  },
  {
   "cell_type": "code",
   "execution_count": 31,
   "metadata": {},
   "outputs": [
    {
     "name": "stderr",
     "output_type": "stream",
     "text": [
      "<ipython-input-31-4437dcc56464>:1: SettingWithCopyWarning: \n",
      "A value is trying to be set on a copy of a slice from a DataFrame.\n",
      "Try using .loc[row_indexer,col_indexer] = value instead\n",
      "\n",
      "See the caveats in the documentation: https://pandas.pydata.org/pandas-docs/stable/user_guide/indexing.html#returning-a-view-versus-a-copy\n",
      "  stadium_stations['DateTime'] = pd.to_datetime(stadium_stations['Date'], cache=True)\n"
     ]
    }
   ],
   "source": [
    "stadium_stations['DateTime'] = pd.to_datetime(stadium_stations['Date'], cache=True)"
   ]
  },
  {
   "cell_type": "markdown",
   "metadata": {},
   "source": [
    "Adding Games to the stadium_stations dataframe:"
   ]
  },
  {
   "cell_type": "code",
   "execution_count": 32,
   "metadata": {},
   "outputs": [
    {
     "data": {
      "text/html": [
       "<div>\n",
       "<style scoped>\n",
       "    .dataframe tbody tr th:only-of-type {\n",
       "        vertical-align: middle;\n",
       "    }\n",
       "\n",
       "    .dataframe tbody tr th {\n",
       "        vertical-align: top;\n",
       "    }\n",
       "\n",
       "    .dataframe thead th {\n",
       "        text-align: right;\n",
       "    }\n",
       "</style>\n",
       "<table border=\"1\" class=\"dataframe\">\n",
       "  <thead>\n",
       "    <tr style=\"text-align: right;\">\n",
       "      <th></th>\n",
       "      <th>Station</th>\n",
       "      <th>Date</th>\n",
       "      <th>ENTRIES_MIN</th>\n",
       "      <th>ENTRIES_MAX</th>\n",
       "      <th>EXITS_MIN</th>\n",
       "      <th>EXITS_MAX</th>\n",
       "      <th>Week_Day</th>\n",
       "      <th>Total_Entries</th>\n",
       "      <th>Total_Exits</th>\n",
       "      <th>Total_Traffic</th>\n",
       "      <th>DateTime</th>\n",
       "      <th>WeekDay</th>\n",
       "      <th>HomeTeam</th>\n",
       "      <th>HomeTeamLeague</th>\n",
       "      <th>HomeTeamGame</th>\n",
       "      <th>GameTime</th>\n",
       "    </tr>\n",
       "  </thead>\n",
       "  <tbody>\n",
       "    <tr>\n",
       "      <th>0</th>\n",
       "      <td>161/YANKEE STAD</td>\n",
       "      <td>2019-03-30</td>\n",
       "      <td>2</td>\n",
       "      <td>1399610147</td>\n",
       "      <td>0</td>\n",
       "      <td>1094593895</td>\n",
       "      <td>Saturday</td>\n",
       "      <td>1399610145</td>\n",
       "      <td>1094593895</td>\n",
       "      <td>2189187790</td>\n",
       "      <td>2019-03-30</td>\n",
       "      <td>Sat</td>\n",
       "      <td>NYA</td>\n",
       "      <td>AL</td>\n",
       "      <td>2.0</td>\n",
       "      <td>d</td>\n",
       "    </tr>\n",
       "    <tr>\n",
       "      <th>1</th>\n",
       "      <td>161/YANKEE STAD</td>\n",
       "      <td>2019-03-31</td>\n",
       "      <td>2</td>\n",
       "      <td>1399608307</td>\n",
       "      <td>0</td>\n",
       "      <td>1094592883</td>\n",
       "      <td>Sunday</td>\n",
       "      <td>1399608305</td>\n",
       "      <td>1094592883</td>\n",
       "      <td>2189185766</td>\n",
       "      <td>2019-03-31</td>\n",
       "      <td>Sun</td>\n",
       "      <td>NYA</td>\n",
       "      <td>AL</td>\n",
       "      <td>3.0</td>\n",
       "      <td>d</td>\n",
       "    </tr>\n",
       "    <tr>\n",
       "      <th>2</th>\n",
       "      <td>161/YANKEE STAD</td>\n",
       "      <td>2019-04-01</td>\n",
       "      <td>2</td>\n",
       "      <td>1399606792</td>\n",
       "      <td>0</td>\n",
       "      <td>1094592147</td>\n",
       "      <td>Monday</td>\n",
       "      <td>1399606790</td>\n",
       "      <td>1094592147</td>\n",
       "      <td>2189184294</td>\n",
       "      <td>2019-04-01</td>\n",
       "      <td>Mon</td>\n",
       "      <td>NYA</td>\n",
       "      <td>AL</td>\n",
       "      <td>4.0</td>\n",
       "      <td>n</td>\n",
       "    </tr>\n",
       "    <tr>\n",
       "      <th>3</th>\n",
       "      <td>161/YANKEE STAD</td>\n",
       "      <td>2019-04-02</td>\n",
       "      <td>2</td>\n",
       "      <td>1399604731</td>\n",
       "      <td>0</td>\n",
       "      <td>1094590972</td>\n",
       "      <td>Tuesday</td>\n",
       "      <td>1399604729</td>\n",
       "      <td>1094590972</td>\n",
       "      <td>2189181944</td>\n",
       "      <td>2019-04-02</td>\n",
       "      <td>Tue</td>\n",
       "      <td>NYA</td>\n",
       "      <td>AL</td>\n",
       "      <td>5.0</td>\n",
       "      <td>n</td>\n",
       "    </tr>\n",
       "    <tr>\n",
       "      <th>4</th>\n",
       "      <td>161/YANKEE STAD</td>\n",
       "      <td>2019-04-03</td>\n",
       "      <td>2</td>\n",
       "      <td>1399602603</td>\n",
       "      <td>0</td>\n",
       "      <td>1094589795</td>\n",
       "      <td>Wednesday</td>\n",
       "      <td>1399602601</td>\n",
       "      <td>1094589795</td>\n",
       "      <td>2189179590</td>\n",
       "      <td>2019-04-03</td>\n",
       "      <td>Wed</td>\n",
       "      <td>NYA</td>\n",
       "      <td>AL</td>\n",
       "      <td>6.0</td>\n",
       "      <td>d</td>\n",
       "    </tr>\n",
       "  </tbody>\n",
       "</table>\n",
       "</div>"
      ],
      "text/plain": [
       "           Station       Date  ENTRIES_MIN  ENTRIES_MAX  EXITS_MIN  \\\n",
       "0  161/YANKEE STAD 2019-03-30            2   1399610147          0   \n",
       "1  161/YANKEE STAD 2019-03-31            2   1399608307          0   \n",
       "2  161/YANKEE STAD 2019-04-01            2   1399606792          0   \n",
       "3  161/YANKEE STAD 2019-04-02            2   1399604731          0   \n",
       "4  161/YANKEE STAD 2019-04-03            2   1399602603          0   \n",
       "\n",
       "    EXITS_MAX   Week_Day  Total_Entries  Total_Exits  Total_Traffic  \\\n",
       "0  1094593895   Saturday     1399610145   1094593895     2189187790   \n",
       "1  1094592883     Sunday     1399608305   1094592883     2189185766   \n",
       "2  1094592147     Monday     1399606790   1094592147     2189184294   \n",
       "3  1094590972    Tuesday     1399604729   1094590972     2189181944   \n",
       "4  1094589795  Wednesday     1399602601   1094589795     2189179590   \n",
       "\n",
       "    DateTime WeekDay HomeTeam HomeTeamLeague  HomeTeamGame GameTime  \n",
       "0 2019-03-30     Sat      NYA             AL           2.0        d  \n",
       "1 2019-03-31     Sun      NYA             AL           3.0        d  \n",
       "2 2019-04-01     Mon      NYA             AL           4.0        n  \n",
       "3 2019-04-02     Tue      NYA             AL           5.0        n  \n",
       "4 2019-04-03     Wed      NYA             AL           6.0        d  "
      ]
     },
     "execution_count": 32,
     "metadata": {},
     "output_type": "execute_result"
    }
   ],
   "source": [
    "stadium_with_yankeegames = stadium_stations.merge(yankee_games, how='left', on='DateTime')\n",
    "stadium_with_yankeegames.head()"
   ]
  },
  {
   "cell_type": "code",
   "execution_count": 33,
   "metadata": {},
   "outputs": [
    {
     "data": {
      "text/html": [
       "<div>\n",
       "<style scoped>\n",
       "    .dataframe tbody tr th:only-of-type {\n",
       "        vertical-align: middle;\n",
       "    }\n",
       "\n",
       "    .dataframe tbody tr th {\n",
       "        vertical-align: top;\n",
       "    }\n",
       "\n",
       "    .dataframe thead th {\n",
       "        text-align: right;\n",
       "    }\n",
       "</style>\n",
       "<table border=\"1\" class=\"dataframe\">\n",
       "  <thead>\n",
       "    <tr style=\"text-align: right;\">\n",
       "      <th></th>\n",
       "      <th>Station</th>\n",
       "      <th>Date</th>\n",
       "      <th>ENTRIES_MIN</th>\n",
       "      <th>ENTRIES_MAX</th>\n",
       "      <th>EXITS_MIN</th>\n",
       "      <th>EXITS_MAX</th>\n",
       "      <th>Week_Day</th>\n",
       "      <th>Total_Entries</th>\n",
       "      <th>Total_Exits</th>\n",
       "      <th>Total_Traffic</th>\n",
       "      <th>DateTime</th>\n",
       "      <th>HomeTeam</th>\n",
       "    </tr>\n",
       "  </thead>\n",
       "  <tbody>\n",
       "    <tr>\n",
       "      <th>0</th>\n",
       "      <td>161/YANKEE STAD</td>\n",
       "      <td>2019-03-30</td>\n",
       "      <td>2</td>\n",
       "      <td>1399610147</td>\n",
       "      <td>0</td>\n",
       "      <td>1094593895</td>\n",
       "      <td>Saturday</td>\n",
       "      <td>1399610145</td>\n",
       "      <td>1094593895</td>\n",
       "      <td>2189187790</td>\n",
       "      <td>2019-03-30</td>\n",
       "      <td>NYA</td>\n",
       "    </tr>\n",
       "    <tr>\n",
       "      <th>1</th>\n",
       "      <td>161/YANKEE STAD</td>\n",
       "      <td>2019-03-31</td>\n",
       "      <td>2</td>\n",
       "      <td>1399608307</td>\n",
       "      <td>0</td>\n",
       "      <td>1094592883</td>\n",
       "      <td>Sunday</td>\n",
       "      <td>1399608305</td>\n",
       "      <td>1094592883</td>\n",
       "      <td>2189185766</td>\n",
       "      <td>2019-03-31</td>\n",
       "      <td>NYA</td>\n",
       "    </tr>\n",
       "    <tr>\n",
       "      <th>2</th>\n",
       "      <td>161/YANKEE STAD</td>\n",
       "      <td>2019-04-01</td>\n",
       "      <td>2</td>\n",
       "      <td>1399606792</td>\n",
       "      <td>0</td>\n",
       "      <td>1094592147</td>\n",
       "      <td>Monday</td>\n",
       "      <td>1399606790</td>\n",
       "      <td>1094592147</td>\n",
       "      <td>2189184294</td>\n",
       "      <td>2019-04-01</td>\n",
       "      <td>NYA</td>\n",
       "    </tr>\n",
       "    <tr>\n",
       "      <th>3</th>\n",
       "      <td>161/YANKEE STAD</td>\n",
       "      <td>2019-04-02</td>\n",
       "      <td>2</td>\n",
       "      <td>1399604731</td>\n",
       "      <td>0</td>\n",
       "      <td>1094590972</td>\n",
       "      <td>Tuesday</td>\n",
       "      <td>1399604729</td>\n",
       "      <td>1094590972</td>\n",
       "      <td>2189181944</td>\n",
       "      <td>2019-04-02</td>\n",
       "      <td>NYA</td>\n",
       "    </tr>\n",
       "    <tr>\n",
       "      <th>4</th>\n",
       "      <td>161/YANKEE STAD</td>\n",
       "      <td>2019-04-03</td>\n",
       "      <td>2</td>\n",
       "      <td>1399602603</td>\n",
       "      <td>0</td>\n",
       "      <td>1094589795</td>\n",
       "      <td>Wednesday</td>\n",
       "      <td>1399602601</td>\n",
       "      <td>1094589795</td>\n",
       "      <td>2189179590</td>\n",
       "      <td>2019-04-03</td>\n",
       "      <td>NYA</td>\n",
       "    </tr>\n",
       "  </tbody>\n",
       "</table>\n",
       "</div>"
      ],
      "text/plain": [
       "           Station       Date  ENTRIES_MIN  ENTRIES_MAX  EXITS_MIN  \\\n",
       "0  161/YANKEE STAD 2019-03-30            2   1399610147          0   \n",
       "1  161/YANKEE STAD 2019-03-31            2   1399608307          0   \n",
       "2  161/YANKEE STAD 2019-04-01            2   1399606792          0   \n",
       "3  161/YANKEE STAD 2019-04-02            2   1399604731          0   \n",
       "4  161/YANKEE STAD 2019-04-03            2   1399602603          0   \n",
       "\n",
       "    EXITS_MAX   Week_Day  Total_Entries  Total_Exits  Total_Traffic  \\\n",
       "0  1094593895   Saturday     1399610145   1094593895     2189187790   \n",
       "1  1094592883     Sunday     1399608305   1094592883     2189185766   \n",
       "2  1094592147     Monday     1399606790   1094592147     2189184294   \n",
       "3  1094590972    Tuesday     1399604729   1094590972     2189181944   \n",
       "4  1094589795  Wednesday     1399602601   1094589795     2189179590   \n",
       "\n",
       "    DateTime HomeTeam  \n",
       "0 2019-03-30      NYA  \n",
       "1 2019-03-31      NYA  \n",
       "2 2019-04-01      NYA  \n",
       "3 2019-04-02      NYA  \n",
       "4 2019-04-03      NYA  "
      ]
     },
     "execution_count": 33,
     "metadata": {},
     "output_type": "execute_result"
    }
   ],
   "source": [
    "stadium_with_yankeegames.drop(columns=['WeekDay','HomeTeamLeague','HomeTeamGame','GameTime'], inplace=True)\n",
    "stadium_with_yankeegames.head()"
   ]
  },
  {
   "cell_type": "code",
   "execution_count": 34,
   "metadata": {},
   "outputs": [
    {
     "data": {
      "text/html": [
       "<div>\n",
       "<style scoped>\n",
       "    .dataframe tbody tr th:only-of-type {\n",
       "        vertical-align: middle;\n",
       "    }\n",
       "\n",
       "    .dataframe tbody tr th {\n",
       "        vertical-align: top;\n",
       "    }\n",
       "\n",
       "    .dataframe thead th {\n",
       "        text-align: right;\n",
       "    }\n",
       "</style>\n",
       "<table border=\"1\" class=\"dataframe\">\n",
       "  <thead>\n",
       "    <tr style=\"text-align: right;\">\n",
       "      <th></th>\n",
       "      <th>Station</th>\n",
       "      <th>Date</th>\n",
       "      <th>ENTRIES_MIN</th>\n",
       "      <th>ENTRIES_MAX</th>\n",
       "      <th>EXITS_MIN</th>\n",
       "      <th>EXITS_MAX</th>\n",
       "      <th>Week_Day</th>\n",
       "      <th>Total_Entries</th>\n",
       "      <th>Total_Exits</th>\n",
       "      <th>Total_Traffic</th>\n",
       "      <th>DateTime</th>\n",
       "      <th>YankeeGame</th>\n",
       "    </tr>\n",
       "  </thead>\n",
       "  <tbody>\n",
       "    <tr>\n",
       "      <th>0</th>\n",
       "      <td>161/YANKEE STAD</td>\n",
       "      <td>2019-03-30</td>\n",
       "      <td>2</td>\n",
       "      <td>1399610147</td>\n",
       "      <td>0</td>\n",
       "      <td>1094593895</td>\n",
       "      <td>Saturday</td>\n",
       "      <td>1399610145</td>\n",
       "      <td>1094593895</td>\n",
       "      <td>2189187790</td>\n",
       "      <td>2019-03-30</td>\n",
       "      <td>NYA</td>\n",
       "    </tr>\n",
       "    <tr>\n",
       "      <th>1</th>\n",
       "      <td>161/YANKEE STAD</td>\n",
       "      <td>2019-03-31</td>\n",
       "      <td>2</td>\n",
       "      <td>1399608307</td>\n",
       "      <td>0</td>\n",
       "      <td>1094592883</td>\n",
       "      <td>Sunday</td>\n",
       "      <td>1399608305</td>\n",
       "      <td>1094592883</td>\n",
       "      <td>2189185766</td>\n",
       "      <td>2019-03-31</td>\n",
       "      <td>NYA</td>\n",
       "    </tr>\n",
       "    <tr>\n",
       "      <th>2</th>\n",
       "      <td>161/YANKEE STAD</td>\n",
       "      <td>2019-04-01</td>\n",
       "      <td>2</td>\n",
       "      <td>1399606792</td>\n",
       "      <td>0</td>\n",
       "      <td>1094592147</td>\n",
       "      <td>Monday</td>\n",
       "      <td>1399606790</td>\n",
       "      <td>1094592147</td>\n",
       "      <td>2189184294</td>\n",
       "      <td>2019-04-01</td>\n",
       "      <td>NYA</td>\n",
       "    </tr>\n",
       "    <tr>\n",
       "      <th>3</th>\n",
       "      <td>161/YANKEE STAD</td>\n",
       "      <td>2019-04-02</td>\n",
       "      <td>2</td>\n",
       "      <td>1399604731</td>\n",
       "      <td>0</td>\n",
       "      <td>1094590972</td>\n",
       "      <td>Tuesday</td>\n",
       "      <td>1399604729</td>\n",
       "      <td>1094590972</td>\n",
       "      <td>2189181944</td>\n",
       "      <td>2019-04-02</td>\n",
       "      <td>NYA</td>\n",
       "    </tr>\n",
       "    <tr>\n",
       "      <th>4</th>\n",
       "      <td>161/YANKEE STAD</td>\n",
       "      <td>2019-04-03</td>\n",
       "      <td>2</td>\n",
       "      <td>1399602603</td>\n",
       "      <td>0</td>\n",
       "      <td>1094589795</td>\n",
       "      <td>Wednesday</td>\n",
       "      <td>1399602601</td>\n",
       "      <td>1094589795</td>\n",
       "      <td>2189179590</td>\n",
       "      <td>2019-04-03</td>\n",
       "      <td>NYA</td>\n",
       "    </tr>\n",
       "  </tbody>\n",
       "</table>\n",
       "</div>"
      ],
      "text/plain": [
       "           Station       Date  ENTRIES_MIN  ENTRIES_MAX  EXITS_MIN  \\\n",
       "0  161/YANKEE STAD 2019-03-30            2   1399610147          0   \n",
       "1  161/YANKEE STAD 2019-03-31            2   1399608307          0   \n",
       "2  161/YANKEE STAD 2019-04-01            2   1399606792          0   \n",
       "3  161/YANKEE STAD 2019-04-02            2   1399604731          0   \n",
       "4  161/YANKEE STAD 2019-04-03            2   1399602603          0   \n",
       "\n",
       "    EXITS_MAX   Week_Day  Total_Entries  Total_Exits  Total_Traffic  \\\n",
       "0  1094593895   Saturday     1399610145   1094593895     2189187790   \n",
       "1  1094592883     Sunday     1399608305   1094592883     2189185766   \n",
       "2  1094592147     Monday     1399606790   1094592147     2189184294   \n",
       "3  1094590972    Tuesday     1399604729   1094590972     2189181944   \n",
       "4  1094589795  Wednesday     1399602601   1094589795     2189179590   \n",
       "\n",
       "    DateTime YankeeGame  \n",
       "0 2019-03-30        NYA  \n",
       "1 2019-03-31        NYA  \n",
       "2 2019-04-01        NYA  \n",
       "3 2019-04-02        NYA  \n",
       "4 2019-04-03        NYA  "
      ]
     },
     "execution_count": 34,
     "metadata": {},
     "output_type": "execute_result"
    }
   ],
   "source": [
    "stadium_with_yankeegames.rename(columns = {'HomeTeam':'YankeeGame'}, inplace=True)\n",
    "stadium_with_yankeegames.head()"
   ]
  },
  {
   "cell_type": "markdown",
   "metadata": {},
   "source": [
    "Adding Mets Games and combining:"
   ]
  },
  {
   "cell_type": "code",
   "execution_count": 35,
   "metadata": {},
   "outputs": [
    {
     "data": {
      "text/html": [
       "<div>\n",
       "<style scoped>\n",
       "    .dataframe tbody tr th:only-of-type {\n",
       "        vertical-align: middle;\n",
       "    }\n",
       "\n",
       "    .dataframe tbody tr th {\n",
       "        vertical-align: top;\n",
       "    }\n",
       "\n",
       "    .dataframe thead th {\n",
       "        text-align: right;\n",
       "    }\n",
       "</style>\n",
       "<table border=\"1\" class=\"dataframe\">\n",
       "  <thead>\n",
       "    <tr style=\"text-align: right;\">\n",
       "      <th></th>\n",
       "      <th>Station</th>\n",
       "      <th>Date</th>\n",
       "      <th>ENTRIES_MIN</th>\n",
       "      <th>ENTRIES_MAX</th>\n",
       "      <th>EXITS_MIN</th>\n",
       "      <th>EXITS_MAX</th>\n",
       "      <th>Week_Day</th>\n",
       "      <th>Total_Entries</th>\n",
       "      <th>Total_Exits</th>\n",
       "      <th>Total_Traffic</th>\n",
       "      <th>DateTime</th>\n",
       "      <th>YankeeGame</th>\n",
       "      <th>WeekDay</th>\n",
       "      <th>HomeTeam</th>\n",
       "      <th>HomeTeamLeague</th>\n",
       "      <th>HomeTeamGame</th>\n",
       "      <th>GameTime</th>\n",
       "    </tr>\n",
       "  </thead>\n",
       "  <tbody>\n",
       "    <tr>\n",
       "      <th>0</th>\n",
       "      <td>161/YANKEE STAD</td>\n",
       "      <td>2019-03-30</td>\n",
       "      <td>2</td>\n",
       "      <td>1399610147</td>\n",
       "      <td>0</td>\n",
       "      <td>1094593895</td>\n",
       "      <td>Saturday</td>\n",
       "      <td>1399610145</td>\n",
       "      <td>1094593895</td>\n",
       "      <td>2189187790</td>\n",
       "      <td>2019-03-30</td>\n",
       "      <td>NYA</td>\n",
       "      <td>NaN</td>\n",
       "      <td>NaN</td>\n",
       "      <td>NaN</td>\n",
       "      <td>NaN</td>\n",
       "      <td>NaN</td>\n",
       "    </tr>\n",
       "    <tr>\n",
       "      <th>1</th>\n",
       "      <td>161/YANKEE STAD</td>\n",
       "      <td>2019-03-31</td>\n",
       "      <td>2</td>\n",
       "      <td>1399608307</td>\n",
       "      <td>0</td>\n",
       "      <td>1094592883</td>\n",
       "      <td>Sunday</td>\n",
       "      <td>1399608305</td>\n",
       "      <td>1094592883</td>\n",
       "      <td>2189185766</td>\n",
       "      <td>2019-03-31</td>\n",
       "      <td>NYA</td>\n",
       "      <td>NaN</td>\n",
       "      <td>NaN</td>\n",
       "      <td>NaN</td>\n",
       "      <td>NaN</td>\n",
       "      <td>NaN</td>\n",
       "    </tr>\n",
       "    <tr>\n",
       "      <th>2</th>\n",
       "      <td>161/YANKEE STAD</td>\n",
       "      <td>2019-04-01</td>\n",
       "      <td>2</td>\n",
       "      <td>1399606792</td>\n",
       "      <td>0</td>\n",
       "      <td>1094592147</td>\n",
       "      <td>Monday</td>\n",
       "      <td>1399606790</td>\n",
       "      <td>1094592147</td>\n",
       "      <td>2189184294</td>\n",
       "      <td>2019-04-01</td>\n",
       "      <td>NYA</td>\n",
       "      <td>NaN</td>\n",
       "      <td>NaN</td>\n",
       "      <td>NaN</td>\n",
       "      <td>NaN</td>\n",
       "      <td>NaN</td>\n",
       "    </tr>\n",
       "    <tr>\n",
       "      <th>3</th>\n",
       "      <td>161/YANKEE STAD</td>\n",
       "      <td>2019-04-02</td>\n",
       "      <td>2</td>\n",
       "      <td>1399604731</td>\n",
       "      <td>0</td>\n",
       "      <td>1094590972</td>\n",
       "      <td>Tuesday</td>\n",
       "      <td>1399604729</td>\n",
       "      <td>1094590972</td>\n",
       "      <td>2189181944</td>\n",
       "      <td>2019-04-02</td>\n",
       "      <td>NYA</td>\n",
       "      <td>NaN</td>\n",
       "      <td>NaN</td>\n",
       "      <td>NaN</td>\n",
       "      <td>NaN</td>\n",
       "      <td>NaN</td>\n",
       "    </tr>\n",
       "    <tr>\n",
       "      <th>4</th>\n",
       "      <td>161/YANKEE STAD</td>\n",
       "      <td>2019-04-03</td>\n",
       "      <td>2</td>\n",
       "      <td>1399602603</td>\n",
       "      <td>0</td>\n",
       "      <td>1094589795</td>\n",
       "      <td>Wednesday</td>\n",
       "      <td>1399602601</td>\n",
       "      <td>1094589795</td>\n",
       "      <td>2189179590</td>\n",
       "      <td>2019-04-03</td>\n",
       "      <td>NYA</td>\n",
       "      <td>NaN</td>\n",
       "      <td>NaN</td>\n",
       "      <td>NaN</td>\n",
       "      <td>NaN</td>\n",
       "      <td>NaN</td>\n",
       "    </tr>\n",
       "  </tbody>\n",
       "</table>\n",
       "</div>"
      ],
      "text/plain": [
       "           Station       Date  ENTRIES_MIN  ENTRIES_MAX  EXITS_MIN  \\\n",
       "0  161/YANKEE STAD 2019-03-30            2   1399610147          0   \n",
       "1  161/YANKEE STAD 2019-03-31            2   1399608307          0   \n",
       "2  161/YANKEE STAD 2019-04-01            2   1399606792          0   \n",
       "3  161/YANKEE STAD 2019-04-02            2   1399604731          0   \n",
       "4  161/YANKEE STAD 2019-04-03            2   1399602603          0   \n",
       "\n",
       "    EXITS_MAX   Week_Day  Total_Entries  Total_Exits  Total_Traffic  \\\n",
       "0  1094593895   Saturday     1399610145   1094593895     2189187790   \n",
       "1  1094592883     Sunday     1399608305   1094592883     2189185766   \n",
       "2  1094592147     Monday     1399606790   1094592147     2189184294   \n",
       "3  1094590972    Tuesday     1399604729   1094590972     2189181944   \n",
       "4  1094589795  Wednesday     1399602601   1094589795     2189179590   \n",
       "\n",
       "    DateTime YankeeGame WeekDay HomeTeam HomeTeamLeague  HomeTeamGame GameTime  \n",
       "0 2019-03-30        NYA     NaN      NaN            NaN           NaN      NaN  \n",
       "1 2019-03-31        NYA     NaN      NaN            NaN           NaN      NaN  \n",
       "2 2019-04-01        NYA     NaN      NaN            NaN           NaN      NaN  \n",
       "3 2019-04-02        NYA     NaN      NaN            NaN           NaN      NaN  \n",
       "4 2019-04-03        NYA     NaN      NaN            NaN           NaN      NaN  "
      ]
     },
     "execution_count": 35,
     "metadata": {},
     "output_type": "execute_result"
    }
   ],
   "source": [
    "stadium_with_combined_games = stadium_with_yankeegames.merge(mets_games, how='left', on='DateTime')\n",
    "stadium_with_combined_games.head()"
   ]
  },
  {
   "cell_type": "code",
   "execution_count": 36,
   "metadata": {},
   "outputs": [],
   "source": [
    "stadium_with_combined_games.drop(columns=['WeekDay','HomeTeamLeague','HomeTeamGame','GameTime'], inplace=True)\n",
    "stadium_with_combined_games.rename(columns = {'HomeTeam':'MetsGame'}, inplace=True)"
   ]
  },
  {
   "cell_type": "code",
   "execution_count": 37,
   "metadata": {},
   "outputs": [
    {
     "data": {
      "text/plain": [
       "YankeeGame\n",
       "NYA    72\n",
       "dtype: int64"
      ]
     },
     "execution_count": 37,
     "metadata": {},
     "output_type": "execute_result"
    }
   ],
   "source": [
    "stadium_with_combined_games.value_counts(stadium_with_combined_games.YankeeGame)"
   ]
  },
  {
   "cell_type": "code",
   "execution_count": 38,
   "metadata": {},
   "outputs": [
    {
     "data": {
      "text/plain": [
       "MetsGame\n",
       "NYN    66\n",
       "dtype: int64"
      ]
     },
     "execution_count": 38,
     "metadata": {},
     "output_type": "execute_result"
    }
   ],
   "source": [
    "stadium_with_combined_games.value_counts(stadium_with_combined_games.MetsGame)"
   ]
  },
  {
   "cell_type": "markdown",
   "metadata": {},
   "source": [
    "Replacing na values with NoGame:"
   ]
  },
  {
   "cell_type": "code",
   "execution_count": 39,
   "metadata": {},
   "outputs": [],
   "source": [
    "stadium_with_combined_games['YankeeGame'].fillna('NoGame', inplace=True)\n",
    "stadium_with_combined_games['MetsGame'].fillna('NoGame', inplace=True)"
   ]
  },
  {
   "cell_type": "code",
   "execution_count": 40,
   "metadata": {},
   "outputs": [
    {
     "data": {
      "text/html": [
       "<div>\n",
       "<style scoped>\n",
       "    .dataframe tbody tr th:only-of-type {\n",
       "        vertical-align: middle;\n",
       "    }\n",
       "\n",
       "    .dataframe tbody tr th {\n",
       "        vertical-align: top;\n",
       "    }\n",
       "\n",
       "    .dataframe thead th {\n",
       "        text-align: right;\n",
       "    }\n",
       "</style>\n",
       "<table border=\"1\" class=\"dataframe\">\n",
       "  <thead>\n",
       "    <tr style=\"text-align: right;\">\n",
       "      <th></th>\n",
       "      <th>Station</th>\n",
       "      <th>Date</th>\n",
       "      <th>ENTRIES_MIN</th>\n",
       "      <th>ENTRIES_MAX</th>\n",
       "      <th>EXITS_MIN</th>\n",
       "      <th>EXITS_MAX</th>\n",
       "      <th>Week_Day</th>\n",
       "      <th>Total_Entries</th>\n",
       "      <th>Total_Exits</th>\n",
       "      <th>Total_Traffic</th>\n",
       "      <th>DateTime</th>\n",
       "      <th>YankeeGame</th>\n",
       "      <th>MetsGame</th>\n",
       "    </tr>\n",
       "  </thead>\n",
       "  <tbody>\n",
       "    <tr>\n",
       "      <th>144</th>\n",
       "      <td>METS-WILLETS PT</td>\n",
       "      <td>2019-06-05</td>\n",
       "      <td>1</td>\n",
       "      <td>684543892</td>\n",
       "      <td>0</td>\n",
       "      <td>488703605</td>\n",
       "      <td>Wednesday</td>\n",
       "      <td>684543891</td>\n",
       "      <td>488703605</td>\n",
       "      <td>977407210</td>\n",
       "      <td>2019-06-05</td>\n",
       "      <td>NoGame</td>\n",
       "      <td>NYN</td>\n",
       "    </tr>\n",
       "    <tr>\n",
       "      <th>95</th>\n",
       "      <td>METS-WILLETS PT</td>\n",
       "      <td>2019-04-17</td>\n",
       "      <td>1</td>\n",
       "      <td>684527142</td>\n",
       "      <td>0</td>\n",
       "      <td>488702149</td>\n",
       "      <td>Wednesday</td>\n",
       "      <td>684527141</td>\n",
       "      <td>488702149</td>\n",
       "      <td>977404298</td>\n",
       "      <td>2019-04-17</td>\n",
       "      <td>NYA</td>\n",
       "      <td>NoGame</td>\n",
       "    </tr>\n",
       "    <tr>\n",
       "      <th>153</th>\n",
       "      <td>METS-WILLETS PT</td>\n",
       "      <td>2019-06-14</td>\n",
       "      <td>1</td>\n",
       "      <td>684547728</td>\n",
       "      <td>0</td>\n",
       "      <td>488703782</td>\n",
       "      <td>Friday</td>\n",
       "      <td>684547727</td>\n",
       "      <td>488703782</td>\n",
       "      <td>977407564</td>\n",
       "      <td>2019-06-14</td>\n",
       "      <td>NoGame</td>\n",
       "      <td>NYN</td>\n",
       "    </tr>\n",
       "    <tr>\n",
       "      <th>3</th>\n",
       "      <td>161/YANKEE STAD</td>\n",
       "      <td>2019-04-02</td>\n",
       "      <td>2</td>\n",
       "      <td>1399604731</td>\n",
       "      <td>0</td>\n",
       "      <td>1094590972</td>\n",
       "      <td>Tuesday</td>\n",
       "      <td>1399604729</td>\n",
       "      <td>1094590972</td>\n",
       "      <td>2189181944</td>\n",
       "      <td>2019-04-02</td>\n",
       "      <td>NYA</td>\n",
       "      <td>NoGame</td>\n",
       "    </tr>\n",
       "    <tr>\n",
       "      <th>122</th>\n",
       "      <td>METS-WILLETS PT</td>\n",
       "      <td>2019-05-14</td>\n",
       "      <td>1</td>\n",
       "      <td>684537624</td>\n",
       "      <td>0</td>\n",
       "      <td>488703231</td>\n",
       "      <td>Tuesday</td>\n",
       "      <td>684537623</td>\n",
       "      <td>488703231</td>\n",
       "      <td>977406462</td>\n",
       "      <td>2019-05-14</td>\n",
       "      <td>NYA</td>\n",
       "      <td>NoGame</td>\n",
       "    </tr>\n",
       "    <tr>\n",
       "      <th>119</th>\n",
       "      <td>METS-WILLETS PT</td>\n",
       "      <td>2019-05-11</td>\n",
       "      <td>1</td>\n",
       "      <td>684537181</td>\n",
       "      <td>0</td>\n",
       "      <td>488703215</td>\n",
       "      <td>Saturday</td>\n",
       "      <td>684537180</td>\n",
       "      <td>488703215</td>\n",
       "      <td>977406430</td>\n",
       "      <td>2019-05-11</td>\n",
       "      <td>NoGame</td>\n",
       "      <td>NYN</td>\n",
       "    </tr>\n",
       "    <tr>\n",
       "      <th>61</th>\n",
       "      <td>161/YANKEE STAD</td>\n",
       "      <td>2019-05-30</td>\n",
       "      <td>2</td>\n",
       "      <td>1399504682</td>\n",
       "      <td>0</td>\n",
       "      <td>1094532629</td>\n",
       "      <td>Thursday</td>\n",
       "      <td>1399504680</td>\n",
       "      <td>1094532629</td>\n",
       "      <td>2189065258</td>\n",
       "      <td>2019-05-30</td>\n",
       "      <td>NYA</td>\n",
       "      <td>NoGame</td>\n",
       "    </tr>\n",
       "    <tr>\n",
       "      <th>114</th>\n",
       "      <td>METS-WILLETS PT</td>\n",
       "      <td>2019-05-06</td>\n",
       "      <td>1</td>\n",
       "      <td>684536567</td>\n",
       "      <td>0</td>\n",
       "      <td>488703152</td>\n",
       "      <td>Monday</td>\n",
       "      <td>684536566</td>\n",
       "      <td>488703152</td>\n",
       "      <td>977406304</td>\n",
       "      <td>2019-05-06</td>\n",
       "      <td>NYA</td>\n",
       "      <td>NoGame</td>\n",
       "    </tr>\n",
       "    <tr>\n",
       "      <th>134</th>\n",
       "      <td>METS-WILLETS PT</td>\n",
       "      <td>2019-05-26</td>\n",
       "      <td>1</td>\n",
       "      <td>684542195</td>\n",
       "      <td>0</td>\n",
       "      <td>488703473</td>\n",
       "      <td>Sunday</td>\n",
       "      <td>684542194</td>\n",
       "      <td>488703473</td>\n",
       "      <td>977406946</td>\n",
       "      <td>2019-05-26</td>\n",
       "      <td>NoGame</td>\n",
       "      <td>NYN</td>\n",
       "    </tr>\n",
       "    <tr>\n",
       "      <th>21</th>\n",
       "      <td>161/YANKEE STAD</td>\n",
       "      <td>2019-04-20</td>\n",
       "      <td>2</td>\n",
       "      <td>1399571071</td>\n",
       "      <td>0</td>\n",
       "      <td>1094571453</td>\n",
       "      <td>Saturday</td>\n",
       "      <td>1399571069</td>\n",
       "      <td>1094571453</td>\n",
       "      <td>2189142906</td>\n",
       "      <td>2019-04-20</td>\n",
       "      <td>NYA</td>\n",
       "      <td>NoGame</td>\n",
       "    </tr>\n",
       "  </tbody>\n",
       "</table>\n",
       "</div>"
      ],
      "text/plain": [
       "             Station       Date  ENTRIES_MIN  ENTRIES_MAX  EXITS_MIN  \\\n",
       "144  METS-WILLETS PT 2019-06-05            1    684543892          0   \n",
       "95   METS-WILLETS PT 2019-04-17            1    684527142          0   \n",
       "153  METS-WILLETS PT 2019-06-14            1    684547728          0   \n",
       "3    161/YANKEE STAD 2019-04-02            2   1399604731          0   \n",
       "122  METS-WILLETS PT 2019-05-14            1    684537624          0   \n",
       "119  METS-WILLETS PT 2019-05-11            1    684537181          0   \n",
       "61   161/YANKEE STAD 2019-05-30            2   1399504682          0   \n",
       "114  METS-WILLETS PT 2019-05-06            1    684536567          0   \n",
       "134  METS-WILLETS PT 2019-05-26            1    684542195          0   \n",
       "21   161/YANKEE STAD 2019-04-20            2   1399571071          0   \n",
       "\n",
       "      EXITS_MAX   Week_Day  Total_Entries  Total_Exits  Total_Traffic  \\\n",
       "144   488703605  Wednesday      684543891    488703605      977407210   \n",
       "95    488702149  Wednesday      684527141    488702149      977404298   \n",
       "153   488703782     Friday      684547727    488703782      977407564   \n",
       "3    1094590972    Tuesday     1399604729   1094590972     2189181944   \n",
       "122   488703231    Tuesday      684537623    488703231      977406462   \n",
       "119   488703215   Saturday      684537180    488703215      977406430   \n",
       "61   1094532629   Thursday     1399504680   1094532629     2189065258   \n",
       "114   488703152     Monday      684536566    488703152      977406304   \n",
       "134   488703473     Sunday      684542194    488703473      977406946   \n",
       "21   1094571453   Saturday     1399571069   1094571453     2189142906   \n",
       "\n",
       "      DateTime YankeeGame MetsGame  \n",
       "144 2019-06-05     NoGame      NYN  \n",
       "95  2019-04-17        NYA   NoGame  \n",
       "153 2019-06-14     NoGame      NYN  \n",
       "3   2019-04-02        NYA   NoGame  \n",
       "122 2019-05-14        NYA   NoGame  \n",
       "119 2019-05-11     NoGame      NYN  \n",
       "61  2019-05-30        NYA   NoGame  \n",
       "114 2019-05-06        NYA   NoGame  \n",
       "134 2019-05-26     NoGame      NYN  \n",
       "21  2019-04-20        NYA   NoGame  "
      ]
     },
     "execution_count": 40,
     "metadata": {},
     "output_type": "execute_result"
    }
   ],
   "source": [
    "#Combined Sheet with Mets/Yankee Games, pulling a sample to audit with mlb.com:\n",
    "stadium_with_combined_games.sample(10)"
   ]
  },
  {
   "cell_type": "markdown",
   "metadata": {},
   "source": [
    "All dates in sample set match with schedule correctly"
   ]
  },
  {
   "cell_type": "markdown",
   "metadata": {},
   "source": [
    "Setting masks for games, no games to use for filtering:"
   ]
  },
  {
   "cell_type": "code",
   "execution_count": 41,
   "metadata": {},
   "outputs": [],
   "source": [
    "yankee_game_mask = (stadium_with_combined_games.YankeeGame == 'NYA')\n",
    "non_yankee_game_mask = (stadium_with_combined_games.YankeeGame == 'NoGame')\n",
    "mets_game_mask = (stadium_with_combined_games.MetsGame == 'NYN')\n",
    "non_mets_game_mask = (stadium_with_combined_games.MetsGame == 'NoGame')"
   ]
  },
  {
   "cell_type": "markdown",
   "metadata": {},
   "source": [
    "Finding Yankees Game vs Non-Yankees Game at 161/Yankee Stadium Station:"
   ]
  },
  {
   "cell_type": "code",
   "execution_count": 44,
   "metadata": {},
   "outputs": [],
   "source": [
    "#Yankee Stadium Stop w/ Yankee Games\n",
    "yankee_game_df = stadium_with_combined_games[(stadium_with_combined_games.Station == '161/YANKEE STAD') & yankee_game_mask]"
   ]
  },
  {
   "cell_type": "code",
   "execution_count": 45,
   "metadata": {},
   "outputs": [],
   "source": [
    "#Yankee Stadium Stop w/o Yankee Games:\n",
    "non_yankee_game_df = stadium_with_combined_games[(stadium_with_combined_games.Station == '161/YANKEE STAD') & non_yankee_game_mask]"
   ]
  },
  {
   "cell_type": "markdown",
   "metadata": {},
   "source": [
    "Finding Mets Game vs Non-Mets Game at METS-WILLETS PT Station:"
   ]
  },
  {
   "cell_type": "code",
   "execution_count": 46,
   "metadata": {},
   "outputs": [],
   "source": [
    "#Mets Stadium Stop w/ Mets Games\n",
    "mets_game_df = stadium_with_combined_games[(stadium_with_combined_games.Station == 'METS-WILLETS PT') & mets_game_mask]"
   ]
  },
  {
   "cell_type": "code",
   "execution_count": 47,
   "metadata": {},
   "outputs": [],
   "source": [
    "#Mets Stadium Stop w/o Mets Games\n",
    "non_mets_game_df = stadium_with_combined_games[(stadium_with_combined_games.Station == 'METS-WILLETS PT') & non_mets_game_mask]"
   ]
  },
  {
   "cell_type": "code",
   "execution_count": 49,
   "metadata": {},
   "outputs": [],
   "source": [
    "#Avg. Entries on Yankee Game Days at Yankee Stadium Stop:\n",
    "yankee_gd_traffic = yankee_game_df.Total_Traffic.mean()"
   ]
  },
  {
   "cell_type": "code",
   "execution_count": 50,
   "metadata": {},
   "outputs": [],
   "source": [
    "#Avg. Entries on Non-Yankee Game Days at Yankee Stadium Stop:\n",
    "yankee_ngd_traffic = non_yankee_game_df.Total_Traffic.mean()"
   ]
  },
  {
   "cell_type": "code",
   "execution_count": 51,
   "metadata": {},
   "outputs": [],
   "source": [
    "#Avg. Entries on Mets Game Days at Mets Stadium Stop:\n",
    "mets_gd_traffic = mets_game_df.Total_Traffic.mean()"
   ]
  },
  {
   "cell_type": "code",
   "execution_count": 52,
   "metadata": {},
   "outputs": [],
   "source": [
    "#Avg. Entries on Non-Mets Game Days at Mets Stadium Stop:\n",
    "mets_ngd_traffic = non_mets_game_df.Total_Traffic.mean()"
   ]
  },
  {
   "cell_type": "markdown",
   "metadata": {},
   "source": [
    "Percent Difference: Yankee Games"
   ]
  },
  {
   "cell_type": "code",
   "execution_count": 53,
   "metadata": {},
   "outputs": [
    {
     "data": {
      "text/plain": [
       "0.00045187968820297624"
      ]
     },
     "execution_count": 53,
     "metadata": {},
     "output_type": "execute_result"
    }
   ],
   "source": [
    "((yankee_gd_traffic - yankee_ngd_traffic) / (yankee_ngd_traffic))*100"
   ]
  },
  {
   "cell_type": "markdown",
   "metadata": {},
   "source": [
    "Percent Difference: Mets Games"
   ]
  },
  {
   "cell_type": "code",
   "execution_count": 54,
   "metadata": {},
   "outputs": [
    {
     "data": {
      "text/plain": [
       "2.2999973756703066e-05"
      ]
     },
     "execution_count": 54,
     "metadata": {},
     "output_type": "execute_result"
    }
   ],
   "source": [
    "((mets_gd_traffic - mets_ngd_traffic) / (mets_ngd_traffic))*100"
   ]
  },
  {
   "cell_type": "markdown",
   "metadata": {},
   "source": [
    "Plotting GameDay Differences as a bar chart:"
   ]
  },
  {
   "cell_type": "code",
   "execution_count": 55,
   "metadata": {},
   "outputs": [],
   "source": [
    "game_days = (yankee_gd_traffic, mets_gd_traffic)\n",
    "non_game_days = (yankee_ngd_traffic, mets_ngd_traffic)"
   ]
  },
  {
   "cell_type": "code",
   "execution_count": 56,
   "metadata": {},
   "outputs": [],
   "source": [
    "N = 2\n",
    "ind = np.arange(N)\n",
    "width = 0.3"
   ]
  },
  {
   "cell_type": "code",
   "execution_count": 57,
   "metadata": {
    "scrolled": true
   },
   "outputs": [
    {
     "data": {
      "image/png": "[encoded data removed]",
      "text/plain": [
       "<Figure size 1440x720 with 1 Axes>"
      ]
     },
     "metadata": {
      "needs_background": "light"
     },
     "output_type": "display_data"
    }
   ],
   "source": [
    "plt.bar(ind, game_days, width, label='Game Days')\n",
    "plt.bar(ind + width, non_game_days, width, label='Non Game Days')\n",
    "plt.xlabel('New York Stadium Stops')\n",
    "plt.ylabel('Average Daily Traffic')\n",
    "plt.title('NYC Subway Traffic: Mets and Yankees Stadium Stops')\n",
    "plt.legend()\n",
    "plt.xticks(ind + width / 2, ('Yankee Stadium', 'Citi Field (Mets Stadium)'));"
   ]
  },
  {
   "cell_type": "markdown",
   "metadata": {},
   "source": [
    "### Find top stations in each area code"
   ]
  },
  {
   "cell_type": "code",
   "execution_count": null,
   "metadata": {},
   "outputs": [],
   "source": [
    "loc_data = pd.read_csv('http://web.mta.info/developers/data/nyct/subway/Stations.csv')\n",
    "print(loc_data.Borough.unique())\n",
    "loc_data.tail()"
   ]
  },
  {
   "cell_type": "code",
   "execution_count": null,
   "metadata": {},
   "outputs": [],
   "source": []
  },
  {
   "cell_type": "code",
   "execution_count": null,
   "metadata": {},
   "outputs": [],
   "source": []
  },
  {
   "cell_type": "code",
   "execution_count": null,
   "metadata": {},
   "outputs": [],
   "source": []
  }
 ],
 "metadata": {
  "kernelspec": {
   "display_name": "Python 3",
   "language": "python",
   "name": "python3"
  },
  "language_info": {
   "codemirror_mode": {
    "name": "ipython",
    "version": 3
   },
   "file_extension": ".py",
   "mimetype": "text/x-python",
   "name": "python",
   "nbconvert_exporter": "python",
   "pygments_lexer": "ipython3",
   "version": "3.8.5"
  }
 },
 "nbformat": 4,
 "nbformat_minor": 4
}
