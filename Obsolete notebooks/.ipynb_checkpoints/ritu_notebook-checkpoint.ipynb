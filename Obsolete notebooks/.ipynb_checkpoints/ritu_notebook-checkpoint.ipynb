{
 "cells": [
  {
   "cell_type": "code",
   "execution_count": 2,
   "metadata": {},
   "outputs": [
    {
     "data": {
      "text/html": [
       "<div>\n",
       "<style scoped>\n",
       "    .dataframe tbody tr th:only-of-type {\n",
       "        vertical-align: middle;\n",
       "    }\n",
       "\n",
       "    .dataframe tbody tr th {\n",
       "        vertical-align: top;\n",
       "    }\n",
       "\n",
       "    .dataframe thead th {\n",
       "        text-align: right;\n",
       "    }\n",
       "</style>\n",
       "<table border=\"1\" class=\"dataframe\">\n",
       "  <thead>\n",
       "    <tr style=\"text-align: right;\">\n",
       "      <th></th>\n",
       "      <th>C/A</th>\n",
       "      <th>UNIT</th>\n",
       "      <th>SCP</th>\n",
       "      <th>STATION</th>\n",
       "      <th>LINENAME</th>\n",
       "      <th>DIVISION</th>\n",
       "      <th>DATE</th>\n",
       "      <th>TIME</th>\n",
       "      <th>DESC</th>\n",
       "      <th>ENTRIES</th>\n",
       "      <th>EXITS</th>\n",
       "    </tr>\n",
       "  </thead>\n",
       "  <tbody>\n",
       "    <tr>\n",
       "      <th>0</th>\n",
       "      <td>A002</td>\n",
       "      <td>R051</td>\n",
       "      <td>02-00-00</td>\n",
       "      <td>59 ST</td>\n",
       "      <td>NQR456W</td>\n",
       "      <td>BMT</td>\n",
       "      <td>04/27/2019</td>\n",
       "      <td>00:00:00</td>\n",
       "      <td>REGULAR</td>\n",
       "      <td>7035249</td>\n",
       "      <td>2384833</td>\n",
       "    </tr>\n",
       "    <tr>\n",
       "      <th>1</th>\n",
       "      <td>A002</td>\n",
       "      <td>R051</td>\n",
       "      <td>02-00-00</td>\n",
       "      <td>59 ST</td>\n",
       "      <td>NQR456W</td>\n",
       "      <td>BMT</td>\n",
       "      <td>04/27/2019</td>\n",
       "      <td>04:00:00</td>\n",
       "      <td>REGULAR</td>\n",
       "      <td>7035269</td>\n",
       "      <td>2384840</td>\n",
       "    </tr>\n",
       "    <tr>\n",
       "      <th>2</th>\n",
       "      <td>A002</td>\n",
       "      <td>R051</td>\n",
       "      <td>02-00-00</td>\n",
       "      <td>59 ST</td>\n",
       "      <td>NQR456W</td>\n",
       "      <td>BMT</td>\n",
       "      <td>04/27/2019</td>\n",
       "      <td>08:00:00</td>\n",
       "      <td>REGULAR</td>\n",
       "      <td>7035292</td>\n",
       "      <td>2384875</td>\n",
       "    </tr>\n",
       "    <tr>\n",
       "      <th>3</th>\n",
       "      <td>A002</td>\n",
       "      <td>R051</td>\n",
       "      <td>02-00-00</td>\n",
       "      <td>59 ST</td>\n",
       "      <td>NQR456W</td>\n",
       "      <td>BMT</td>\n",
       "      <td>04/27/2019</td>\n",
       "      <td>12:00:00</td>\n",
       "      <td>REGULAR</td>\n",
       "      <td>7035392</td>\n",
       "      <td>2384951</td>\n",
       "    </tr>\n",
       "    <tr>\n",
       "      <th>4</th>\n",
       "      <td>A002</td>\n",
       "      <td>R051</td>\n",
       "      <td>02-00-00</td>\n",
       "      <td>59 ST</td>\n",
       "      <td>NQR456W</td>\n",
       "      <td>BMT</td>\n",
       "      <td>04/27/2019</td>\n",
       "      <td>16:00:00</td>\n",
       "      <td>REGULAR</td>\n",
       "      <td>7035651</td>\n",
       "      <td>2385020</td>\n",
       "    </tr>\n",
       "  </tbody>\n",
       "</table>\n",
       "</div>"
      ],
      "text/plain": [
       "    C/A  UNIT       SCP STATION LINENAME DIVISION        DATE      TIME  \\\n",
       "0  A002  R051  02-00-00   59 ST  NQR456W      BMT  04/27/2019  00:00:00   \n",
       "1  A002  R051  02-00-00   59 ST  NQR456W      BMT  04/27/2019  04:00:00   \n",
       "2  A002  R051  02-00-00   59 ST  NQR456W      BMT  04/27/2019  08:00:00   \n",
       "3  A002  R051  02-00-00   59 ST  NQR456W      BMT  04/27/2019  12:00:00   \n",
       "4  A002  R051  02-00-00   59 ST  NQR456W      BMT  04/27/2019  16:00:00   \n",
       "\n",
       "      DESC  ENTRIES  \\\n",
       "0  REGULAR  7035249   \n",
       "1  REGULAR  7035269   \n",
       "2  REGULAR  7035292   \n",
       "3  REGULAR  7035392   \n",
       "4  REGULAR  7035651   \n",
       "\n",
       "   EXITS                                                                 \n",
       "0                                            2384833                     \n",
       "1                                            2384840                     \n",
       "2                                            2384875                     \n",
       "3                                            2384951                     \n",
       "4                                            2385020                     "
      ]
     },
     "execution_count": 2,
     "metadata": {},
     "output_type": "execute_result"
    }
   ],
   "source": [
    "import pandas as pd\n",
    "#Path_prefix =  \n",
    "data1 = pd.read_csv('turnstile_190504.csv')\n",
    "data2 = pd.read_csv('turnstile_190511.csv')\n",
    "data = pd.concat([data1,data2])\n",
    "data.head()"
   ]
  },
  {
   "cell_type": "code",
   "execution_count": 3,
   "metadata": {},
   "outputs": [
    {
     "data": {
      "text/plain": [
       "pandas.core.series.Series"
      ]
     },
     "execution_count": 3,
     "metadata": {},
     "output_type": "execute_result"
    }
   ],
   "source": [
    "type(data['DATE'])"
   ]
  },
  {
   "cell_type": "code",
   "execution_count": 4,
   "metadata": {},
   "outputs": [],
   "source": [
    "data['Date_Time'] = pd.to_datetime(data['DATE'], cache=True) + pd.to_timedelta(data['TIME'])"
   ]
  },
  {
   "cell_type": "code",
   "execution_count": 5,
   "metadata": {},
   "outputs": [
    {
     "data": {
      "text/html": [
       "<div>\n",
       "<style scoped>\n",
       "    .dataframe tbody tr th:only-of-type {\n",
       "        vertical-align: middle;\n",
       "    }\n",
       "\n",
       "    .dataframe tbody tr th {\n",
       "        vertical-align: top;\n",
       "    }\n",
       "\n",
       "    .dataframe thead th {\n",
       "        text-align: right;\n",
       "    }\n",
       "</style>\n",
       "<table border=\"1\" class=\"dataframe\">\n",
       "  <thead>\n",
       "    <tr style=\"text-align: right;\">\n",
       "      <th></th>\n",
       "      <th>C/A</th>\n",
       "      <th>UNIT</th>\n",
       "      <th>SCP</th>\n",
       "      <th>STATION</th>\n",
       "      <th>LINENAME</th>\n",
       "      <th>DIVISION</th>\n",
       "      <th>DATE</th>\n",
       "      <th>TIME</th>\n",
       "      <th>DESC</th>\n",
       "      <th>ENTRIES</th>\n",
       "      <th>EXITS</th>\n",
       "      <th>Date_Time</th>\n",
       "    </tr>\n",
       "  </thead>\n",
       "  <tbody>\n",
       "    <tr>\n",
       "      <th>0</th>\n",
       "      <td>A002</td>\n",
       "      <td>R051</td>\n",
       "      <td>02-00-00</td>\n",
       "      <td>59 ST</td>\n",
       "      <td>NQR456W</td>\n",
       "      <td>BMT</td>\n",
       "      <td>04/27/2019</td>\n",
       "      <td>00:00:00</td>\n",
       "      <td>REGULAR</td>\n",
       "      <td>7035249</td>\n",
       "      <td>2384833</td>\n",
       "      <td>2019-04-27 00:00:00</td>\n",
       "    </tr>\n",
       "    <tr>\n",
       "      <th>1</th>\n",
       "      <td>A002</td>\n",
       "      <td>R051</td>\n",
       "      <td>02-00-00</td>\n",
       "      <td>59 ST</td>\n",
       "      <td>NQR456W</td>\n",
       "      <td>BMT</td>\n",
       "      <td>04/27/2019</td>\n",
       "      <td>04:00:00</td>\n",
       "      <td>REGULAR</td>\n",
       "      <td>7035269</td>\n",
       "      <td>2384840</td>\n",
       "      <td>2019-04-27 04:00:00</td>\n",
       "    </tr>\n",
       "    <tr>\n",
       "      <th>2</th>\n",
       "      <td>A002</td>\n",
       "      <td>R051</td>\n",
       "      <td>02-00-00</td>\n",
       "      <td>59 ST</td>\n",
       "      <td>NQR456W</td>\n",
       "      <td>BMT</td>\n",
       "      <td>04/27/2019</td>\n",
       "      <td>08:00:00</td>\n",
       "      <td>REGULAR</td>\n",
       "      <td>7035292</td>\n",
       "      <td>2384875</td>\n",
       "      <td>2019-04-27 08:00:00</td>\n",
       "    </tr>\n",
       "    <tr>\n",
       "      <th>3</th>\n",
       "      <td>A002</td>\n",
       "      <td>R051</td>\n",
       "      <td>02-00-00</td>\n",
       "      <td>59 ST</td>\n",
       "      <td>NQR456W</td>\n",
       "      <td>BMT</td>\n",
       "      <td>04/27/2019</td>\n",
       "      <td>12:00:00</td>\n",
       "      <td>REGULAR</td>\n",
       "      <td>7035392</td>\n",
       "      <td>2384951</td>\n",
       "      <td>2019-04-27 12:00:00</td>\n",
       "    </tr>\n",
       "    <tr>\n",
       "      <th>4</th>\n",
       "      <td>A002</td>\n",
       "      <td>R051</td>\n",
       "      <td>02-00-00</td>\n",
       "      <td>59 ST</td>\n",
       "      <td>NQR456W</td>\n",
       "      <td>BMT</td>\n",
       "      <td>04/27/2019</td>\n",
       "      <td>16:00:00</td>\n",
       "      <td>REGULAR</td>\n",
       "      <td>7035651</td>\n",
       "      <td>2385020</td>\n",
       "      <td>2019-04-27 16:00:00</td>\n",
       "    </tr>\n",
       "  </tbody>\n",
       "</table>\n",
       "</div>"
      ],
      "text/plain": [
       "    C/A  UNIT       SCP STATION LINENAME DIVISION        DATE      TIME  \\\n",
       "0  A002  R051  02-00-00   59 ST  NQR456W      BMT  04/27/2019  00:00:00   \n",
       "1  A002  R051  02-00-00   59 ST  NQR456W      BMT  04/27/2019  04:00:00   \n",
       "2  A002  R051  02-00-00   59 ST  NQR456W      BMT  04/27/2019  08:00:00   \n",
       "3  A002  R051  02-00-00   59 ST  NQR456W      BMT  04/27/2019  12:00:00   \n",
       "4  A002  R051  02-00-00   59 ST  NQR456W      BMT  04/27/2019  16:00:00   \n",
       "\n",
       "      DESC  ENTRIES  \\\n",
       "0  REGULAR  7035249   \n",
       "1  REGULAR  7035269   \n",
       "2  REGULAR  7035292   \n",
       "3  REGULAR  7035392   \n",
       "4  REGULAR  7035651   \n",
       "\n",
       "   EXITS                                                                 \\\n",
       "0                                            2384833                      \n",
       "1                                            2384840                      \n",
       "2                                            2384875                      \n",
       "3                                            2384951                      \n",
       "4                                            2385020                      \n",
       "\n",
       "            Date_Time  \n",
       "0 2019-04-27 00:00:00  \n",
       "1 2019-04-27 04:00:00  \n",
       "2 2019-04-27 08:00:00  \n",
       "3 2019-04-27 12:00:00  \n",
       "4 2019-04-27 16:00:00  "
      ]
     },
     "execution_count": 5,
     "metadata": {},
     "output_type": "execute_result"
    }
   ],
   "source": [
    "data.head()"
   ]
  },
  {
   "cell_type": "code",
   "execution_count": 6,
   "metadata": {},
   "outputs": [
    {
     "data": {
      "text/plain": [
       "C/A                                                                             object\n",
       "UNIT                                                                            object\n",
       "SCP                                                                             object\n",
       "STATION                                                                         object\n",
       "LINENAME                                                                        object\n",
       "DIVISION                                                                        object\n",
       "DATE                                                                            object\n",
       "TIME                                                                            object\n",
       "DESC                                                                            object\n",
       "ENTRIES                                                                          int64\n",
       "EXITS                                                                            int64\n",
       "Date_Time                                                               datetime64[ns]\n",
       "dtype: object"
      ]
     },
     "execution_count": 6,
     "metadata": {},
     "output_type": "execute_result"
    }
   ],
   "source": [
    "data.dtypes"
   ]
  },
  {
   "cell_type": "code",
   "execution_count": 7,
   "metadata": {},
   "outputs": [],
   "source": [
    "data.columns = data.columns.str.replace(' ', '')"
   ]
  },
  {
   "cell_type": "code",
   "execution_count": 8,
   "metadata": {},
   "outputs": [],
   "source": [
    "data['Turnstile'] = data['C/A'] + data['UNIT'] + data['SCP'] + data['STATION']"
   ]
  },
  {
   "cell_type": "code",
   "execution_count": 9,
   "metadata": {},
   "outputs": [],
   "source": [
    "entry_start = data.groupby(['DATE','Turnstile'], as_index = False).ENTRIES.min()"
   ]
  },
  {
   "cell_type": "code",
   "execution_count": 10,
   "metadata": {},
   "outputs": [],
   "source": [
    "entry_end = data.groupby(['DATE','Turnstile'], as_index = False).ENTRIES.max()"
   ]
  },
  {
   "cell_type": "code",
   "execution_count": 11,
   "metadata": {},
   "outputs": [],
   "source": [
    "traffic_entries = data.groupby(['DATE','Turnstile'], as_index = False).ENTRIES.agg(['max','min'])\n",
    "traffic_exits = data.groupby(['DATE','Turnstile'], as_index = False).EXITS.agg(['max','min'])"
   ]
  },
  {
   "cell_type": "code",
   "execution_count": 12,
   "metadata": {},
   "outputs": [],
   "source": [
    "traffic_entries['Daily Entries Traffic'] = traffic_entries['max'] - traffic_entries['min']"
   ]
  },
  {
   "cell_type": "code",
   "execution_count": 13,
   "metadata": {},
   "outputs": [
    {
     "data": {
      "text/html": [
       "<div>\n",
       "<style scoped>\n",
       "    .dataframe tbody tr th:only-of-type {\n",
       "        vertical-align: middle;\n",
       "    }\n",
       "\n",
       "    .dataframe tbody tr th {\n",
       "        vertical-align: top;\n",
       "    }\n",
       "\n",
       "    .dataframe thead th {\n",
       "        text-align: right;\n",
       "    }\n",
       "</style>\n",
       "<table border=\"1\" class=\"dataframe\">\n",
       "  <thead>\n",
       "    <tr style=\"text-align: right;\">\n",
       "      <th></th>\n",
       "      <th></th>\n",
       "      <th>max</th>\n",
       "      <th>min</th>\n",
       "      <th>Daily Entries Traffic</th>\n",
       "    </tr>\n",
       "    <tr>\n",
       "      <th>DATE</th>\n",
       "      <th>Turnstile</th>\n",
       "      <th></th>\n",
       "      <th></th>\n",
       "      <th></th>\n",
       "    </tr>\n",
       "  </thead>\n",
       "  <tbody>\n",
       "    <tr>\n",
       "      <th rowspan=\"5\" valign=\"top\">04/27/2019</th>\n",
       "      <th>A002R05102-00-0059 ST</th>\n",
       "      <td>7035930</td>\n",
       "      <td>7035249</td>\n",
       "      <td>681</td>\n",
       "    </tr>\n",
       "    <tr>\n",
       "      <th>A002R05102-00-0159 ST</th>\n",
       "      <td>6268850</td>\n",
       "      <td>6268264</td>\n",
       "      <td>586</td>\n",
       "    </tr>\n",
       "    <tr>\n",
       "      <th>A002R05102-03-0059 ST</th>\n",
       "      <td>1224610</td>\n",
       "      <td>1224314</td>\n",
       "      <td>296</td>\n",
       "    </tr>\n",
       "    <tr>\n",
       "      <th>A002R05102-03-0159 ST</th>\n",
       "      <td>1083245</td>\n",
       "      <td>1082462</td>\n",
       "      <td>783</td>\n",
       "    </tr>\n",
       "    <tr>\n",
       "      <th>A002R05102-03-0259 ST</th>\n",
       "      <td>6167128</td>\n",
       "      <td>6166378</td>\n",
       "      <td>750</td>\n",
       "    </tr>\n",
       "  </tbody>\n",
       "</table>\n",
       "</div>"
      ],
      "text/plain": [
       "                                      max      min  Daily Entries Traffic\n",
       "DATE       Turnstile                                                     \n",
       "04/27/2019 A002R05102-00-0059 ST  7035930  7035249                    681\n",
       "           A002R05102-00-0159 ST  6268850  6268264                    586\n",
       "           A002R05102-03-0059 ST  1224610  1224314                    296\n",
       "           A002R05102-03-0159 ST  1083245  1082462                    783\n",
       "           A002R05102-03-0259 ST  6167128  6166378                    750"
      ]
     },
     "execution_count": 13,
     "metadata": {},
     "output_type": "execute_result"
    }
   ],
   "source": [
    "traffic_entries.head()"
   ]
  },
  {
   "cell_type": "code",
   "execution_count": 14,
   "metadata": {},
   "outputs": [],
   "source": [
    "traffic_exits['Daily Exits Traffic'] = traffic_exits['max'] - traffic_exits['min']"
   ]
  },
  {
   "cell_type": "code",
   "execution_count": 15,
   "metadata": {},
   "outputs": [
    {
     "data": {
      "text/html": [
       "<div>\n",
       "<style scoped>\n",
       "    .dataframe tbody tr th:only-of-type {\n",
       "        vertical-align: middle;\n",
       "    }\n",
       "\n",
       "    .dataframe tbody tr th {\n",
       "        vertical-align: top;\n",
       "    }\n",
       "\n",
       "    .dataframe thead th {\n",
       "        text-align: right;\n",
       "    }\n",
       "</style>\n",
       "<table border=\"1\" class=\"dataframe\">\n",
       "  <thead>\n",
       "    <tr style=\"text-align: right;\">\n",
       "      <th></th>\n",
       "      <th></th>\n",
       "      <th>max</th>\n",
       "      <th>min</th>\n",
       "      <th>Daily Exits Traffic</th>\n",
       "    </tr>\n",
       "    <tr>\n",
       "      <th>DATE</th>\n",
       "      <th>Turnstile</th>\n",
       "      <th></th>\n",
       "      <th></th>\n",
       "      <th></th>\n",
       "    </tr>\n",
       "  </thead>\n",
       "  <tbody>\n",
       "    <tr>\n",
       "      <th rowspan=\"5\" valign=\"top\">04/27/2019</th>\n",
       "      <th>A002R05102-00-0059 ST</th>\n",
       "      <td>2385070</td>\n",
       "      <td>2384833</td>\n",
       "      <td>237</td>\n",
       "    </tr>\n",
       "    <tr>\n",
       "      <th>A002R05102-00-0159 ST</th>\n",
       "      <td>1405894</td>\n",
       "      <td>1405759</td>\n",
       "      <td>135</td>\n",
       "    </tr>\n",
       "    <tr>\n",
       "      <th>A002R05102-03-0059 ST</th>\n",
       "      <td>4604078</td>\n",
       "      <td>4603019</td>\n",
       "      <td>1059</td>\n",
       "    </tr>\n",
       "    <tr>\n",
       "      <th>A002R05102-03-0159 ST</th>\n",
       "      <td>1671430</td>\n",
       "      <td>1670332</td>\n",
       "      <td>1098</td>\n",
       "    </tr>\n",
       "    <tr>\n",
       "      <th>A002R05102-03-0259 ST</th>\n",
       "      <td>8317101</td>\n",
       "      <td>8316344</td>\n",
       "      <td>757</td>\n",
       "    </tr>\n",
       "  </tbody>\n",
       "</table>\n",
       "</div>"
      ],
      "text/plain": [
       "                                      max      min  Daily Exits Traffic\n",
       "DATE       Turnstile                                                   \n",
       "04/27/2019 A002R05102-00-0059 ST  2385070  2384833                  237\n",
       "           A002R05102-00-0159 ST  1405894  1405759                  135\n",
       "           A002R05102-03-0059 ST  4604078  4603019                 1059\n",
       "           A002R05102-03-0159 ST  1671430  1670332                 1098\n",
       "           A002R05102-03-0259 ST  8317101  8316344                  757"
      ]
     },
     "execution_count": 15,
     "metadata": {},
     "output_type": "execute_result"
    }
   ],
   "source": [
    "traffic_exits.head()"
   ]
  },
  {
   "cell_type": "code",
   "execution_count": 16,
   "metadata": {},
   "outputs": [
    {
     "data": {
      "text/plain": [
       "0         2384833\n",
       "1         2384840\n",
       "2         2384875\n",
       "3         2384951\n",
       "4         2385020\n",
       "           ...   \n",
       "204083        376\n",
       "204084        376\n",
       "204085        376\n",
       "204086        376\n",
       "204087        376\n",
       "Name: EXITS, Length: 410945, dtype: int64"
      ]
     },
     "execution_count": 16,
     "metadata": {},
     "output_type": "execute_result"
    }
   ],
   "source": [
    "data.iloc[:,-3]"
   ]
  },
  {
   "cell_type": "code",
   "execution_count": 17,
   "metadata": {},
   "outputs": [],
   "source": [
    "grouped = data.groupby(['DATE','Turnstile'], as_index=False).agg({'ENTRIES': ['min', 'max'], 'EXITS': ['min', 'max']})"
   ]
  },
  {
   "cell_type": "code",
   "execution_count": 18,
   "metadata": {},
   "outputs": [
    {
     "data": {
      "text/html": [
       "<div>\n",
       "<style scoped>\n",
       "    .dataframe tbody tr th:only-of-type {\n",
       "        vertical-align: middle;\n",
       "    }\n",
       "\n",
       "    .dataframe tbody tr th {\n",
       "        vertical-align: top;\n",
       "    }\n",
       "\n",
       "    .dataframe thead tr th {\n",
       "        text-align: left;\n",
       "    }\n",
       "</style>\n",
       "<table border=\"1\" class=\"dataframe\">\n",
       "  <thead>\n",
       "    <tr>\n",
       "      <th></th>\n",
       "      <th>DATE</th>\n",
       "      <th>Turnstile</th>\n",
       "      <th colspan=\"2\" halign=\"left\">ENTRIES</th>\n",
       "      <th colspan=\"2\" halign=\"left\">EXITS</th>\n",
       "    </tr>\n",
       "    <tr>\n",
       "      <th></th>\n",
       "      <th></th>\n",
       "      <th></th>\n",
       "      <th>min</th>\n",
       "      <th>max</th>\n",
       "      <th>min</th>\n",
       "      <th>max</th>\n",
       "    </tr>\n",
       "  </thead>\n",
       "  <tbody>\n",
       "    <tr>\n",
       "      <th>0</th>\n",
       "      <td>04/27/2019</td>\n",
       "      <td>A002R05102-00-0059 ST</td>\n",
       "      <td>7035249</td>\n",
       "      <td>7035930</td>\n",
       "      <td>2384833</td>\n",
       "      <td>2385070</td>\n",
       "    </tr>\n",
       "    <tr>\n",
       "      <th>1</th>\n",
       "      <td>04/27/2019</td>\n",
       "      <td>A002R05102-00-0159 ST</td>\n",
       "      <td>6268264</td>\n",
       "      <td>6268850</td>\n",
       "      <td>1405759</td>\n",
       "      <td>1405894</td>\n",
       "    </tr>\n",
       "    <tr>\n",
       "      <th>2</th>\n",
       "      <td>04/27/2019</td>\n",
       "      <td>A002R05102-03-0059 ST</td>\n",
       "      <td>1224314</td>\n",
       "      <td>1224610</td>\n",
       "      <td>4603019</td>\n",
       "      <td>4604078</td>\n",
       "    </tr>\n",
       "    <tr>\n",
       "      <th>3</th>\n",
       "      <td>04/27/2019</td>\n",
       "      <td>A002R05102-03-0159 ST</td>\n",
       "      <td>1082462</td>\n",
       "      <td>1083245</td>\n",
       "      <td>1670332</td>\n",
       "      <td>1671430</td>\n",
       "    </tr>\n",
       "    <tr>\n",
       "      <th>4</th>\n",
       "      <td>04/27/2019</td>\n",
       "      <td>A002R05102-03-0259 ST</td>\n",
       "      <td>6166378</td>\n",
       "      <td>6167128</td>\n",
       "      <td>8316344</td>\n",
       "      <td>8317101</td>\n",
       "    </tr>\n",
       "  </tbody>\n",
       "</table>\n",
       "</div>"
      ],
      "text/plain": [
       "         DATE              Turnstile  ENTRIES             EXITS         \n",
       "                                          min      max      min      max\n",
       "0  04/27/2019  A002R05102-00-0059 ST  7035249  7035930  2384833  2385070\n",
       "1  04/27/2019  A002R05102-00-0159 ST  6268264  6268850  1405759  1405894\n",
       "2  04/27/2019  A002R05102-03-0059 ST  1224314  1224610  4603019  4604078\n",
       "3  04/27/2019  A002R05102-03-0159 ST  1082462  1083245  1670332  1671430\n",
       "4  04/27/2019  A002R05102-03-0259 ST  6166378  6167128  8316344  8317101"
      ]
     },
     "execution_count": 18,
     "metadata": {},
     "output_type": "execute_result"
    }
   ],
   "source": [
    "grouped.head()"
   ]
  },
  {
   "cell_type": "code",
   "execution_count": 19,
   "metadata": {},
   "outputs": [],
   "source": [
    "grouped[('ENTRIES','Total_Entries')] = grouped[('ENTRIES','max')] - grouped[('ENTRIES', 'min')]"
   ]
  },
  {
   "cell_type": "code",
   "execution_count": 20,
   "metadata": {},
   "outputs": [],
   "source": [
    "grouped[('EXITS','Total_Exits')] = grouped[('EXITS','max')] - grouped[('EXITS', 'min')]"
   ]
  },
  {
   "cell_type": "code",
   "execution_count": 21,
   "metadata": {},
   "outputs": [],
   "source": [
    "grouped[('Total_Traffic','')] = grouped[('ENTRIES','Total_Entries')] + grouped[('EXITS', 'Total_Exits')]"
   ]
  },
  {
   "cell_type": "code",
   "execution_count": 22,
   "metadata": {},
   "outputs": [
    {
     "data": {
      "text/html": [
       "<div>\n",
       "<style scoped>\n",
       "    .dataframe tbody tr th:only-of-type {\n",
       "        vertical-align: middle;\n",
       "    }\n",
       "\n",
       "    .dataframe tbody tr th {\n",
       "        vertical-align: top;\n",
       "    }\n",
       "\n",
       "    .dataframe thead tr th {\n",
       "        text-align: left;\n",
       "    }\n",
       "</style>\n",
       "<table border=\"1\" class=\"dataframe\">\n",
       "  <thead>\n",
       "    <tr>\n",
       "      <th></th>\n",
       "      <th>DATE</th>\n",
       "      <th>Turnstile</th>\n",
       "      <th colspan=\"2\" halign=\"left\">ENTRIES</th>\n",
       "      <th colspan=\"2\" halign=\"left\">EXITS</th>\n",
       "      <th>ENTRIES</th>\n",
       "      <th>EXITS</th>\n",
       "      <th>Total_Traffic</th>\n",
       "    </tr>\n",
       "    <tr>\n",
       "      <th></th>\n",
       "      <th></th>\n",
       "      <th></th>\n",
       "      <th>min</th>\n",
       "      <th>max</th>\n",
       "      <th>min</th>\n",
       "      <th>max</th>\n",
       "      <th>Total_Entries</th>\n",
       "      <th>Total_Exits</th>\n",
       "      <th></th>\n",
       "    </tr>\n",
       "  </thead>\n",
       "  <tbody>\n",
       "    <tr>\n",
       "      <th>0</th>\n",
       "      <td>04/27/2019</td>\n",
       "      <td>A002R05102-00-0059 ST</td>\n",
       "      <td>7035249</td>\n",
       "      <td>7035930</td>\n",
       "      <td>2384833</td>\n",
       "      <td>2385070</td>\n",
       "      <td>681</td>\n",
       "      <td>237</td>\n",
       "      <td>918</td>\n",
       "    </tr>\n",
       "    <tr>\n",
       "      <th>1</th>\n",
       "      <td>04/27/2019</td>\n",
       "      <td>A002R05102-00-0159 ST</td>\n",
       "      <td>6268264</td>\n",
       "      <td>6268850</td>\n",
       "      <td>1405759</td>\n",
       "      <td>1405894</td>\n",
       "      <td>586</td>\n",
       "      <td>135</td>\n",
       "      <td>721</td>\n",
       "    </tr>\n",
       "    <tr>\n",
       "      <th>2</th>\n",
       "      <td>04/27/2019</td>\n",
       "      <td>A002R05102-03-0059 ST</td>\n",
       "      <td>1224314</td>\n",
       "      <td>1224610</td>\n",
       "      <td>4603019</td>\n",
       "      <td>4604078</td>\n",
       "      <td>296</td>\n",
       "      <td>1059</td>\n",
       "      <td>1355</td>\n",
       "    </tr>\n",
       "    <tr>\n",
       "      <th>3</th>\n",
       "      <td>04/27/2019</td>\n",
       "      <td>A002R05102-03-0159 ST</td>\n",
       "      <td>1082462</td>\n",
       "      <td>1083245</td>\n",
       "      <td>1670332</td>\n",
       "      <td>1671430</td>\n",
       "      <td>783</td>\n",
       "      <td>1098</td>\n",
       "      <td>1881</td>\n",
       "    </tr>\n",
       "    <tr>\n",
       "      <th>4</th>\n",
       "      <td>04/27/2019</td>\n",
       "      <td>A002R05102-03-0259 ST</td>\n",
       "      <td>6166378</td>\n",
       "      <td>6167128</td>\n",
       "      <td>8316344</td>\n",
       "      <td>8317101</td>\n",
       "      <td>750</td>\n",
       "      <td>757</td>\n",
       "      <td>1507</td>\n",
       "    </tr>\n",
       "  </tbody>\n",
       "</table>\n",
       "</div>"
      ],
      "text/plain": [
       "         DATE              Turnstile  ENTRIES             EXITS           \\\n",
       "                                          min      max      min      max   \n",
       "0  04/27/2019  A002R05102-00-0059 ST  7035249  7035930  2384833  2385070   \n",
       "1  04/27/2019  A002R05102-00-0159 ST  6268264  6268850  1405759  1405894   \n",
       "2  04/27/2019  A002R05102-03-0059 ST  1224314  1224610  4603019  4604078   \n",
       "3  04/27/2019  A002R05102-03-0159 ST  1082462  1083245  1670332  1671430   \n",
       "4  04/27/2019  A002R05102-03-0259 ST  6166378  6167128  8316344  8317101   \n",
       "\n",
       "        ENTRIES       EXITS Total_Traffic  \n",
       "  Total_Entries Total_Exits                \n",
       "0           681         237           918  \n",
       "1           586         135           721  \n",
       "2           296        1059          1355  \n",
       "3           783        1098          1881  \n",
       "4           750         757          1507  "
      ]
     },
     "execution_count": 22,
     "metadata": {},
     "output_type": "execute_result"
    }
   ],
   "source": [
    "grouped.head()"
   ]
  },
  {
   "cell_type": "code",
   "execution_count": null,
   "metadata": {},
   "outputs": [],
   "source": []
  },
  {
   "cell_type": "markdown",
   "metadata": {},
   "source": [
    "## Challenge 4"
   ]
  },
  {
   "cell_type": "code",
   "execution_count": 54,
   "metadata": {},
   "outputs": [],
   "source": [
    "from pylab import rcParams"
   ]
  },
  {
   "cell_type": "code",
   "execution_count": 55,
   "metadata": {},
   "outputs": [],
   "source": [
    "%matplotlib inline"
   ]
  },
  {
   "cell_type": "code",
   "execution_count": 56,
   "metadata": {},
   "outputs": [],
   "source": [
    "rcParams['figure.figsize'] = 20,10"
   ]
  },
  {
   "cell_type": "code",
   "execution_count": 57,
   "metadata": {},
   "outputs": [],
   "source": [
    "import matplotlib.pyplot as plt"
   ]
  },
  {
   "cell_type": "code",
   "execution_count": 58,
   "metadata": {},
   "outputs": [
    {
     "data": {
      "text/plain": [
       "<Figure size 720x216 with 0 Axes>"
      ]
     },
     "execution_count": 58,
     "metadata": {},
     "output_type": "execute_result"
    },
    {
     "data": {
      "text/plain": [
       "<Figure size 720x216 with 0 Axes>"
      ]
     },
     "metadata": {},
     "output_type": "display_data"
    }
   ],
   "source": [
    "plt.figure(figsize=(10,3))"
   ]
  },
  {
   "cell_type": "code",
   "execution_count": 25,
   "metadata": {},
   "outputs": [],
   "source": [
    "test = 'A002R05102-00-0059 ST'"
   ]
  },
  {
   "cell_type": "code",
   "execution_count": 26,
   "metadata": {
    "scrolled": true
   },
   "outputs": [],
   "source": [
    "test_df = grouped[grouped.iloc[:,1] == test]"
   ]
  },
  {
   "cell_type": "code",
   "execution_count": 27,
   "metadata": {},
   "outputs": [
    {
     "data": {
      "text/html": [
       "<div>\n",
       "<style scoped>\n",
       "    .dataframe tbody tr th:only-of-type {\n",
       "        vertical-align: middle;\n",
       "    }\n",
       "\n",
       "    .dataframe tbody tr th {\n",
       "        vertical-align: top;\n",
       "    }\n",
       "\n",
       "    .dataframe thead tr th {\n",
       "        text-align: left;\n",
       "    }\n",
       "</style>\n",
       "<table border=\"1\" class=\"dataframe\">\n",
       "  <thead>\n",
       "    <tr>\n",
       "      <th></th>\n",
       "      <th>DATE</th>\n",
       "      <th>Turnstile</th>\n",
       "      <th colspan=\"2\" halign=\"left\">ENTRIES</th>\n",
       "      <th colspan=\"2\" halign=\"left\">EXITS</th>\n",
       "      <th>ENTRIES</th>\n",
       "      <th>EXITS</th>\n",
       "      <th>Total_Traffic</th>\n",
       "      <th>Date_Time</th>\n",
       "      <th>Week_Day</th>\n",
       "    </tr>\n",
       "    <tr>\n",
       "      <th></th>\n",
       "      <th></th>\n",
       "      <th></th>\n",
       "      <th>min</th>\n",
       "      <th>max</th>\n",
       "      <th>min</th>\n",
       "      <th>max</th>\n",
       "      <th>Total_Entries</th>\n",
       "      <th>Total_Exits</th>\n",
       "      <th></th>\n",
       "      <th></th>\n",
       "      <th></th>\n",
       "    </tr>\n",
       "  </thead>\n",
       "  <tbody>\n",
       "    <tr>\n",
       "      <th>0</th>\n",
       "      <td>04/27/2019</td>\n",
       "      <td>A002R05102-00-0059 ST</td>\n",
       "      <td>7035249</td>\n",
       "      <td>7035930</td>\n",
       "      <td>2384833</td>\n",
       "      <td>2385070</td>\n",
       "      <td>681</td>\n",
       "      <td>237</td>\n",
       "      <td>918</td>\n",
       "      <td>2019-04-27</td>\n",
       "      <td>5</td>\n",
       "    </tr>\n",
       "    <tr>\n",
       "      <th>1</th>\n",
       "      <td>04/27/2019</td>\n",
       "      <td>A002R05102-00-0159 ST</td>\n",
       "      <td>6268264</td>\n",
       "      <td>6268850</td>\n",
       "      <td>1405759</td>\n",
       "      <td>1405894</td>\n",
       "      <td>586</td>\n",
       "      <td>135</td>\n",
       "      <td>721</td>\n",
       "      <td>2019-04-27</td>\n",
       "      <td>5</td>\n",
       "    </tr>\n",
       "    <tr>\n",
       "      <th>2</th>\n",
       "      <td>04/27/2019</td>\n",
       "      <td>A002R05102-03-0059 ST</td>\n",
       "      <td>1224314</td>\n",
       "      <td>1224610</td>\n",
       "      <td>4603019</td>\n",
       "      <td>4604078</td>\n",
       "      <td>296</td>\n",
       "      <td>1059</td>\n",
       "      <td>1355</td>\n",
       "      <td>2019-04-27</td>\n",
       "      <td>5</td>\n",
       "    </tr>\n",
       "    <tr>\n",
       "      <th>3</th>\n",
       "      <td>04/27/2019</td>\n",
       "      <td>A002R05102-03-0159 ST</td>\n",
       "      <td>1082462</td>\n",
       "      <td>1083245</td>\n",
       "      <td>1670332</td>\n",
       "      <td>1671430</td>\n",
       "      <td>783</td>\n",
       "      <td>1098</td>\n",
       "      <td>1881</td>\n",
       "      <td>2019-04-27</td>\n",
       "      <td>5</td>\n",
       "    </tr>\n",
       "    <tr>\n",
       "      <th>4</th>\n",
       "      <td>04/27/2019</td>\n",
       "      <td>A002R05102-03-0259 ST</td>\n",
       "      <td>6166378</td>\n",
       "      <td>6167128</td>\n",
       "      <td>8316344</td>\n",
       "      <td>8317101</td>\n",
       "      <td>750</td>\n",
       "      <td>757</td>\n",
       "      <td>1507</td>\n",
       "      <td>2019-04-27</td>\n",
       "      <td>5</td>\n",
       "    </tr>\n",
       "  </tbody>\n",
       "</table>\n",
       "</div>"
      ],
      "text/plain": [
       "         DATE              Turnstile  ENTRIES             EXITS           \\\n",
       "                                          min      max      min      max   \n",
       "0  04/27/2019  A002R05102-00-0059 ST  7035249  7035930  2384833  2385070   \n",
       "1  04/27/2019  A002R05102-00-0159 ST  6268264  6268850  1405759  1405894   \n",
       "2  04/27/2019  A002R05102-03-0059 ST  1224314  1224610  4603019  4604078   \n",
       "3  04/27/2019  A002R05102-03-0159 ST  1082462  1083245  1670332  1671430   \n",
       "4  04/27/2019  A002R05102-03-0259 ST  6166378  6167128  8316344  8317101   \n",
       "\n",
       "        ENTRIES       EXITS Total_Traffic  Date_Time Week_Day  \n",
       "  Total_Entries Total_Exits                                    \n",
       "0           681         237           918 2019-04-27        5  \n",
       "1           586         135           721 2019-04-27        5  \n",
       "2           296        1059          1355 2019-04-27        5  \n",
       "3           783        1098          1881 2019-04-27        5  \n",
       "4           750         757          1507 2019-04-27        5  "
      ]
     },
     "execution_count": 27,
     "metadata": {},
     "output_type": "execute_result"
    }
   ],
   "source": [
    "grouped[('Date_Time','')] = pd.to_datetime(grouped[('DATE','')], cache=True)\n",
    "grouped[('Week_Day','')] = grouped[('Date_Time','')].dt.weekday\n",
    "grouped.head()"
   ]
  },
  {
   "cell_type": "code",
   "execution_count": 28,
   "metadata": {},
   "outputs": [
    {
     "data": {
      "text/plain": [
       "0       2019-04-27\n",
       "1       2019-04-27\n",
       "2       2019-04-27\n",
       "3       2019-04-27\n",
       "4       2019-04-27\n",
       "           ...    \n",
       "67685   2019-05-10\n",
       "67686   2019-05-10\n",
       "67687   2019-05-10\n",
       "67688   2019-05-10\n",
       "67689   2019-05-10\n",
       "Name: (Date_Time, ), Length: 67690, dtype: datetime64[ns]"
      ]
     },
     "execution_count": 28,
     "metadata": {},
     "output_type": "execute_result"
    }
   ],
   "source": [
    "grouped[('Date_Time','')]"
   ]
  },
  {
   "cell_type": "code",
   "execution_count": 29,
   "metadata": {},
   "outputs": [
    {
     "data": {
      "text/plain": [
       "[<matplotlib.lines.Line2D at 0x7fb6e56d65b0>]"
      ]
     },
     "execution_count": 29,
     "metadata": {},
     "output_type": "execute_result"
    },
    {
     "data": {
      "image/png": "[encoded data removed]",
      "text/plain": [
       "<Figure size 720x216 with 1 Axes>"
      ]
     },
     "metadata": {
      "needs_background": "light"
     },
     "output_type": "display_data"
    }
   ],
   "source": [
    "plt.figure(figsize=(10,3))\n",
    "plt.plot(test_df[('DATE','')],test_df[('Total_Traffic','')])"
   ]
  },
  {
   "cell_type": "markdown",
   "metadata": {},
   "source": [
    "## Challenge 6"
   ]
  },
  {
   "cell_type": "code",
   "execution_count": 30,
   "metadata": {},
   "outputs": [
    {
     "data": {
      "text/html": [
       "<div>\n",
       "<style scoped>\n",
       "    .dataframe tbody tr th:only-of-type {\n",
       "        vertical-align: middle;\n",
       "    }\n",
       "\n",
       "    .dataframe tbody tr th {\n",
       "        vertical-align: top;\n",
       "    }\n",
       "\n",
       "    .dataframe thead th {\n",
       "        text-align: right;\n",
       "    }\n",
       "</style>\n",
       "<table border=\"1\" class=\"dataframe\">\n",
       "  <thead>\n",
       "    <tr style=\"text-align: right;\">\n",
       "      <th></th>\n",
       "      <th>C/A</th>\n",
       "      <th>UNIT</th>\n",
       "      <th>SCP</th>\n",
       "      <th>STATION</th>\n",
       "      <th>LINENAME</th>\n",
       "      <th>DIVISION</th>\n",
       "      <th>DATE</th>\n",
       "      <th>TIME</th>\n",
       "      <th>DESC</th>\n",
       "      <th>ENTRIES</th>\n",
       "      <th>EXITS</th>\n",
       "      <th>Date_Time</th>\n",
       "      <th>Turnstile</th>\n",
       "    </tr>\n",
       "  </thead>\n",
       "  <tbody>\n",
       "    <tr>\n",
       "      <th>0</th>\n",
       "      <td>A002</td>\n",
       "      <td>R051</td>\n",
       "      <td>02-00-00</td>\n",
       "      <td>59 ST</td>\n",
       "      <td>NQR456W</td>\n",
       "      <td>BMT</td>\n",
       "      <td>04/27/2019</td>\n",
       "      <td>00:00:00</td>\n",
       "      <td>REGULAR</td>\n",
       "      <td>7035249</td>\n",
       "      <td>2384833</td>\n",
       "      <td>2019-04-27 00:00:00</td>\n",
       "      <td>A002R05102-00-0059 ST</td>\n",
       "    </tr>\n",
       "    <tr>\n",
       "      <th>1</th>\n",
       "      <td>A002</td>\n",
       "      <td>R051</td>\n",
       "      <td>02-00-00</td>\n",
       "      <td>59 ST</td>\n",
       "      <td>NQR456W</td>\n",
       "      <td>BMT</td>\n",
       "      <td>04/27/2019</td>\n",
       "      <td>04:00:00</td>\n",
       "      <td>REGULAR</td>\n",
       "      <td>7035269</td>\n",
       "      <td>2384840</td>\n",
       "      <td>2019-04-27 04:00:00</td>\n",
       "      <td>A002R05102-00-0059 ST</td>\n",
       "    </tr>\n",
       "    <tr>\n",
       "      <th>2</th>\n",
       "      <td>A002</td>\n",
       "      <td>R051</td>\n",
       "      <td>02-00-00</td>\n",
       "      <td>59 ST</td>\n",
       "      <td>NQR456W</td>\n",
       "      <td>BMT</td>\n",
       "      <td>04/27/2019</td>\n",
       "      <td>08:00:00</td>\n",
       "      <td>REGULAR</td>\n",
       "      <td>7035292</td>\n",
       "      <td>2384875</td>\n",
       "      <td>2019-04-27 08:00:00</td>\n",
       "      <td>A002R05102-00-0059 ST</td>\n",
       "    </tr>\n",
       "    <tr>\n",
       "      <th>3</th>\n",
       "      <td>A002</td>\n",
       "      <td>R051</td>\n",
       "      <td>02-00-00</td>\n",
       "      <td>59 ST</td>\n",
       "      <td>NQR456W</td>\n",
       "      <td>BMT</td>\n",
       "      <td>04/27/2019</td>\n",
       "      <td>12:00:00</td>\n",
       "      <td>REGULAR</td>\n",
       "      <td>7035392</td>\n",
       "      <td>2384951</td>\n",
       "      <td>2019-04-27 12:00:00</td>\n",
       "      <td>A002R05102-00-0059 ST</td>\n",
       "    </tr>\n",
       "    <tr>\n",
       "      <th>4</th>\n",
       "      <td>A002</td>\n",
       "      <td>R051</td>\n",
       "      <td>02-00-00</td>\n",
       "      <td>59 ST</td>\n",
       "      <td>NQR456W</td>\n",
       "      <td>BMT</td>\n",
       "      <td>04/27/2019</td>\n",
       "      <td>16:00:00</td>\n",
       "      <td>REGULAR</td>\n",
       "      <td>7035651</td>\n",
       "      <td>2385020</td>\n",
       "      <td>2019-04-27 16:00:00</td>\n",
       "      <td>A002R05102-00-0059 ST</td>\n",
       "    </tr>\n",
       "  </tbody>\n",
       "</table>\n",
       "</div>"
      ],
      "text/plain": [
       "    C/A  UNIT       SCP STATION LINENAME DIVISION        DATE      TIME  \\\n",
       "0  A002  R051  02-00-00   59 ST  NQR456W      BMT  04/27/2019  00:00:00   \n",
       "1  A002  R051  02-00-00   59 ST  NQR456W      BMT  04/27/2019  04:00:00   \n",
       "2  A002  R051  02-00-00   59 ST  NQR456W      BMT  04/27/2019  08:00:00   \n",
       "3  A002  R051  02-00-00   59 ST  NQR456W      BMT  04/27/2019  12:00:00   \n",
       "4  A002  R051  02-00-00   59 ST  NQR456W      BMT  04/27/2019  16:00:00   \n",
       "\n",
       "      DESC  ENTRIES    EXITS           Date_Time              Turnstile  \n",
       "0  REGULAR  7035249  2384833 2019-04-27 00:00:00  A002R05102-00-0059 ST  \n",
       "1  REGULAR  7035269  2384840 2019-04-27 04:00:00  A002R05102-00-0059 ST  \n",
       "2  REGULAR  7035292  2384875 2019-04-27 08:00:00  A002R05102-00-0059 ST  \n",
       "3  REGULAR  7035392  2384951 2019-04-27 12:00:00  A002R05102-00-0059 ST  \n",
       "4  REGULAR  7035651  2385020 2019-04-27 16:00:00  A002R05102-00-0059 ST  "
      ]
     },
     "execution_count": 30,
     "metadata": {},
     "output_type": "execute_result"
    }
   ],
   "source": [
    "data.head()"
   ]
  },
  {
   "cell_type": "code",
   "execution_count": 31,
   "metadata": {},
   "outputs": [
    {
     "data": {
      "text/plain": [
       "(410945, 13)"
      ]
     },
     "execution_count": 31,
     "metadata": {},
     "output_type": "execute_result"
    }
   ],
   "source": [
    "data.shape"
   ]
  },
  {
   "cell_type": "code",
   "execution_count": null,
   "metadata": {},
   "outputs": [],
   "source": []
  },
  {
   "cell_type": "code",
   "execution_count": 32,
   "metadata": {},
   "outputs": [],
   "source": [
    "station_entries = data.groupby(['DATE','STATION'], as_index = False).ENTRIES.agg(['max','min'])\n",
    "station_exits = data.groupby(['DATE','STATION'], as_index = False).EXITS.agg(['max','min'])"
   ]
  },
  {
   "cell_type": "code",
   "execution_count": 33,
   "metadata": {},
   "outputs": [],
   "source": [
    "station_entries['Daily Station Traffic'] = station_entries['max'] - station_entries['min']"
   ]
  },
  {
   "cell_type": "code",
   "execution_count": 34,
   "metadata": {},
   "outputs": [],
   "source": [
    "station_exits['Daily Station Exits Traffic'] = station_exits['max'] - station_exits['min']"
   ]
  },
  {
   "cell_type": "code",
   "execution_count": 35,
   "metadata": {},
   "outputs": [
    {
     "data": {
      "text/html": [
       "<div>\n",
       "<style scoped>\n",
       "    .dataframe tbody tr th:only-of-type {\n",
       "        vertical-align: middle;\n",
       "    }\n",
       "\n",
       "    .dataframe tbody tr th {\n",
       "        vertical-align: top;\n",
       "    }\n",
       "\n",
       "    .dataframe thead th {\n",
       "        text-align: right;\n",
       "    }\n",
       "</style>\n",
       "<table border=\"1\" class=\"dataframe\">\n",
       "  <thead>\n",
       "    <tr style=\"text-align: right;\">\n",
       "      <th></th>\n",
       "      <th></th>\n",
       "      <th>max</th>\n",
       "      <th>min</th>\n",
       "      <th>Daily Station Traffic</th>\n",
       "    </tr>\n",
       "    <tr>\n",
       "      <th>DATE</th>\n",
       "      <th>STATION</th>\n",
       "      <th></th>\n",
       "      <th></th>\n",
       "      <th></th>\n",
       "    </tr>\n",
       "  </thead>\n",
       "  <tbody>\n",
       "    <tr>\n",
       "      <th rowspan=\"5\" valign=\"top\">04/27/2019</th>\n",
       "      <th>1 AV</th>\n",
       "      <td>955342251</td>\n",
       "      <td>198884</td>\n",
       "      <td>955143367</td>\n",
       "    </tr>\n",
       "    <tr>\n",
       "      <th>103 ST</th>\n",
       "      <td>36810311</td>\n",
       "      <td>574861</td>\n",
       "      <td>36235450</td>\n",
       "    </tr>\n",
       "    <tr>\n",
       "      <th>103 ST-CORONA</th>\n",
       "      <td>15557711</td>\n",
       "      <td>1175636</td>\n",
       "      <td>14382075</td>\n",
       "    </tr>\n",
       "    <tr>\n",
       "      <th>104 ST</th>\n",
       "      <td>2025897597</td>\n",
       "      <td>214366</td>\n",
       "      <td>2025683231</td>\n",
       "    </tr>\n",
       "    <tr>\n",
       "      <th>110 ST</th>\n",
       "      <td>13871007</td>\n",
       "      <td>3490386</td>\n",
       "      <td>10380621</td>\n",
       "    </tr>\n",
       "  </tbody>\n",
       "</table>\n",
       "</div>"
      ],
      "text/plain": [
       "                                 max      min  Daily Station Traffic\n",
       "DATE       STATION                                                  \n",
       "04/27/2019 1 AV            955342251   198884              955143367\n",
       "           103 ST           36810311   574861               36235450\n",
       "           103 ST-CORONA    15557711  1175636               14382075\n",
       "           104 ST         2025897597   214366             2025683231\n",
       "           110 ST           13871007  3490386               10380621"
      ]
     },
     "execution_count": 35,
     "metadata": {},
     "output_type": "execute_result"
    }
   ],
   "source": [
    "station_entries.head()"
   ]
  },
  {
   "cell_type": "code",
   "execution_count": 36,
   "metadata": {},
   "outputs": [
    {
     "data": {
      "text/html": [
       "<div>\n",
       "<style scoped>\n",
       "    .dataframe tbody tr th:only-of-type {\n",
       "        vertical-align: middle;\n",
       "    }\n",
       "\n",
       "    .dataframe tbody tr th {\n",
       "        vertical-align: top;\n",
       "    }\n",
       "\n",
       "    .dataframe thead th {\n",
       "        text-align: right;\n",
       "    }\n",
       "</style>\n",
       "<table border=\"1\" class=\"dataframe\">\n",
       "  <thead>\n",
       "    <tr style=\"text-align: right;\">\n",
       "      <th></th>\n",
       "      <th></th>\n",
       "      <th>max</th>\n",
       "      <th>min</th>\n",
       "      <th>Daily Station Exits Traffic</th>\n",
       "    </tr>\n",
       "    <tr>\n",
       "      <th>DATE</th>\n",
       "      <th>STATION</th>\n",
       "      <th></th>\n",
       "      <th></th>\n",
       "      <th></th>\n",
       "    </tr>\n",
       "  </thead>\n",
       "  <tbody>\n",
       "    <tr>\n",
       "      <th rowspan=\"5\" valign=\"top\">04/27/2019</th>\n",
       "      <th>1 AV</th>\n",
       "      <td>998712585</td>\n",
       "      <td>23822</td>\n",
       "      <td>998688763</td>\n",
       "    </tr>\n",
       "    <tr>\n",
       "      <th>103 ST</th>\n",
       "      <td>505796597</td>\n",
       "      <td>777006</td>\n",
       "      <td>505019591</td>\n",
       "    </tr>\n",
       "    <tr>\n",
       "      <th>103 ST-CORONA</th>\n",
       "      <td>24501410</td>\n",
       "      <td>417639</td>\n",
       "      <td>24083771</td>\n",
       "    </tr>\n",
       "    <tr>\n",
       "      <th>104 ST</th>\n",
       "      <td>1907502735</td>\n",
       "      <td>137445</td>\n",
       "      <td>1907365290</td>\n",
       "    </tr>\n",
       "    <tr>\n",
       "      <th>110 ST</th>\n",
       "      <td>12483430</td>\n",
       "      <td>1378134</td>\n",
       "      <td>11105296</td>\n",
       "    </tr>\n",
       "  </tbody>\n",
       "</table>\n",
       "</div>"
      ],
      "text/plain": [
       "                                 max      min  Daily Station Exits Traffic\n",
       "DATE       STATION                                                        \n",
       "04/27/2019 1 AV            998712585    23822                    998688763\n",
       "           103 ST          505796597   777006                    505019591\n",
       "           103 ST-CORONA    24501410   417639                     24083771\n",
       "           104 ST         1907502735   137445                   1907365290\n",
       "           110 ST           12483430  1378134                     11105296"
      ]
     },
     "execution_count": 36,
     "metadata": {},
     "output_type": "execute_result"
    }
   ],
   "source": [
    "station_exits.head()"
   ]
  },
  {
   "cell_type": "code",
   "execution_count": 37,
   "metadata": {},
   "outputs": [],
   "source": [
    "station_grouped = data.groupby(['DATE','STATION'], as_index=False).agg({'ENTRIES': ['min', 'max'], 'EXITS': ['min', 'max']})"
   ]
  },
  {
   "cell_type": "code",
   "execution_count": 38,
   "metadata": {},
   "outputs": [],
   "source": [
    "station_grouped[('ENTRIES','Station_Entries')] = station_grouped[('ENTRIES','max')] - station_grouped[('ENTRIES', 'min')]\n",
    "station_grouped[('EXITS','Station_Exits')] = station_grouped[('EXITS','max')] - station_grouped[('EXITS', 'min')]\n",
    "station_grouped[('Total_Traffic','')] = station_grouped[('ENTRIES','Station_Entries')] + station_grouped[('EXITS', 'Station_Exits')]"
   ]
  },
  {
   "cell_type": "code",
   "execution_count": 39,
   "metadata": {},
   "outputs": [
    {
     "data": {
      "text/html": [
       "<div>\n",
       "<style scoped>\n",
       "    .dataframe tbody tr th:only-of-type {\n",
       "        vertical-align: middle;\n",
       "    }\n",
       "\n",
       "    .dataframe tbody tr th {\n",
       "        vertical-align: top;\n",
       "    }\n",
       "\n",
       "    .dataframe thead tr th {\n",
       "        text-align: left;\n",
       "    }\n",
       "</style>\n",
       "<table border=\"1\" class=\"dataframe\">\n",
       "  <thead>\n",
       "    <tr>\n",
       "      <th></th>\n",
       "      <th>DATE</th>\n",
       "      <th>STATION</th>\n",
       "      <th colspan=\"2\" halign=\"left\">ENTRIES</th>\n",
       "      <th colspan=\"2\" halign=\"left\">EXITS</th>\n",
       "      <th>ENTRIES</th>\n",
       "      <th>EXITS</th>\n",
       "      <th>Total_Traffic</th>\n",
       "    </tr>\n",
       "    <tr>\n",
       "      <th></th>\n",
       "      <th></th>\n",
       "      <th></th>\n",
       "      <th>min</th>\n",
       "      <th>max</th>\n",
       "      <th>min</th>\n",
       "      <th>max</th>\n",
       "      <th>Station_Entries</th>\n",
       "      <th>Station_Exits</th>\n",
       "      <th></th>\n",
       "    </tr>\n",
       "  </thead>\n",
       "  <tbody>\n",
       "    <tr>\n",
       "      <th>0</th>\n",
       "      <td>04/27/2019</td>\n",
       "      <td>1 AV</td>\n",
       "      <td>198884</td>\n",
       "      <td>955342251</td>\n",
       "      <td>23822</td>\n",
       "      <td>998712585</td>\n",
       "      <td>955143367</td>\n",
       "      <td>998688763</td>\n",
       "      <td>1953832130</td>\n",
       "    </tr>\n",
       "    <tr>\n",
       "      <th>1</th>\n",
       "      <td>04/27/2019</td>\n",
       "      <td>103 ST</td>\n",
       "      <td>574861</td>\n",
       "      <td>36810311</td>\n",
       "      <td>777006</td>\n",
       "      <td>505796597</td>\n",
       "      <td>36235450</td>\n",
       "      <td>505019591</td>\n",
       "      <td>541255041</td>\n",
       "    </tr>\n",
       "    <tr>\n",
       "      <th>2</th>\n",
       "      <td>04/27/2019</td>\n",
       "      <td>103 ST-CORONA</td>\n",
       "      <td>1175636</td>\n",
       "      <td>15557711</td>\n",
       "      <td>417639</td>\n",
       "      <td>24501410</td>\n",
       "      <td>14382075</td>\n",
       "      <td>24083771</td>\n",
       "      <td>38465846</td>\n",
       "    </tr>\n",
       "    <tr>\n",
       "      <th>3</th>\n",
       "      <td>04/27/2019</td>\n",
       "      <td>104 ST</td>\n",
       "      <td>214366</td>\n",
       "      <td>2025897597</td>\n",
       "      <td>137445</td>\n",
       "      <td>1907502735</td>\n",
       "      <td>2025683231</td>\n",
       "      <td>1907365290</td>\n",
       "      <td>3933048521</td>\n",
       "    </tr>\n",
       "    <tr>\n",
       "      <th>4</th>\n",
       "      <td>04/27/2019</td>\n",
       "      <td>110 ST</td>\n",
       "      <td>3490386</td>\n",
       "      <td>13871007</td>\n",
       "      <td>1378134</td>\n",
       "      <td>12483430</td>\n",
       "      <td>10380621</td>\n",
       "      <td>11105296</td>\n",
       "      <td>21485917</td>\n",
       "    </tr>\n",
       "  </tbody>\n",
       "</table>\n",
       "</div>"
      ],
      "text/plain": [
       "         DATE        STATION  ENTRIES                EXITS              \\\n",
       "                                  min         max      min         max   \n",
       "0  04/27/2019           1 AV   198884   955342251    23822   998712585   \n",
       "1  04/27/2019         103 ST   574861    36810311   777006   505796597   \n",
       "2  04/27/2019  103 ST-CORONA  1175636    15557711   417639    24501410   \n",
       "3  04/27/2019         104 ST   214366  2025897597   137445  1907502735   \n",
       "4  04/27/2019         110 ST  3490386    13871007  1378134    12483430   \n",
       "\n",
       "          ENTRIES         EXITS Total_Traffic  \n",
       "  Station_Entries Station_Exits                \n",
       "0       955143367     998688763    1953832130  \n",
       "1        36235450     505019591     541255041  \n",
       "2        14382075      24083771      38465846  \n",
       "3      2025683231    1907365290    3933048521  \n",
       "4        10380621      11105296      21485917  "
      ]
     },
     "execution_count": 39,
     "metadata": {},
     "output_type": "execute_result"
    }
   ],
   "source": [
    "station_grouped.head()"
   ]
  },
  {
   "cell_type": "code",
   "execution_count": 40,
   "metadata": {},
   "outputs": [
    {
     "data": {
      "text/html": [
       "<div>\n",
       "<style scoped>\n",
       "    .dataframe tbody tr th:only-of-type {\n",
       "        vertical-align: middle;\n",
       "    }\n",
       "\n",
       "    .dataframe tbody tr th {\n",
       "        vertical-align: top;\n",
       "    }\n",
       "\n",
       "    .dataframe thead tr th {\n",
       "        text-align: left;\n",
       "    }\n",
       "</style>\n",
       "<table border=\"1\" class=\"dataframe\">\n",
       "  <thead>\n",
       "    <tr>\n",
       "      <th></th>\n",
       "      <th>DATE</th>\n",
       "      <th>STATION</th>\n",
       "      <th colspan=\"2\" halign=\"left\">ENTRIES</th>\n",
       "      <th colspan=\"2\" halign=\"left\">EXITS</th>\n",
       "      <th>ENTRIES</th>\n",
       "      <th>EXITS</th>\n",
       "      <th>Total_Traffic</th>\n",
       "      <th>Date_Time</th>\n",
       "      <th>Week_Day</th>\n",
       "    </tr>\n",
       "    <tr>\n",
       "      <th></th>\n",
       "      <th></th>\n",
       "      <th></th>\n",
       "      <th>min</th>\n",
       "      <th>max</th>\n",
       "      <th>min</th>\n",
       "      <th>max</th>\n",
       "      <th>Station_Entries</th>\n",
       "      <th>Station_Exits</th>\n",
       "      <th></th>\n",
       "      <th></th>\n",
       "      <th></th>\n",
       "    </tr>\n",
       "  </thead>\n",
       "  <tbody>\n",
       "    <tr>\n",
       "      <th>0</th>\n",
       "      <td>04/27/2019</td>\n",
       "      <td>1 AV</td>\n",
       "      <td>198884</td>\n",
       "      <td>955342251</td>\n",
       "      <td>23822</td>\n",
       "      <td>998712585</td>\n",
       "      <td>955143367</td>\n",
       "      <td>998688763</td>\n",
       "      <td>1953832130</td>\n",
       "      <td>2019-04-27</td>\n",
       "      <td>5</td>\n",
       "    </tr>\n",
       "    <tr>\n",
       "      <th>1</th>\n",
       "      <td>04/27/2019</td>\n",
       "      <td>103 ST</td>\n",
       "      <td>574861</td>\n",
       "      <td>36810311</td>\n",
       "      <td>777006</td>\n",
       "      <td>505796597</td>\n",
       "      <td>36235450</td>\n",
       "      <td>505019591</td>\n",
       "      <td>541255041</td>\n",
       "      <td>2019-04-27</td>\n",
       "      <td>5</td>\n",
       "    </tr>\n",
       "    <tr>\n",
       "      <th>2</th>\n",
       "      <td>04/27/2019</td>\n",
       "      <td>103 ST-CORONA</td>\n",
       "      <td>1175636</td>\n",
       "      <td>15557711</td>\n",
       "      <td>417639</td>\n",
       "      <td>24501410</td>\n",
       "      <td>14382075</td>\n",
       "      <td>24083771</td>\n",
       "      <td>38465846</td>\n",
       "      <td>2019-04-27</td>\n",
       "      <td>5</td>\n",
       "    </tr>\n",
       "    <tr>\n",
       "      <th>3</th>\n",
       "      <td>04/27/2019</td>\n",
       "      <td>104 ST</td>\n",
       "      <td>214366</td>\n",
       "      <td>2025897597</td>\n",
       "      <td>137445</td>\n",
       "      <td>1907502735</td>\n",
       "      <td>2025683231</td>\n",
       "      <td>1907365290</td>\n",
       "      <td>3933048521</td>\n",
       "      <td>2019-04-27</td>\n",
       "      <td>5</td>\n",
       "    </tr>\n",
       "    <tr>\n",
       "      <th>4</th>\n",
       "      <td>04/27/2019</td>\n",
       "      <td>110 ST</td>\n",
       "      <td>3490386</td>\n",
       "      <td>13871007</td>\n",
       "      <td>1378134</td>\n",
       "      <td>12483430</td>\n",
       "      <td>10380621</td>\n",
       "      <td>11105296</td>\n",
       "      <td>21485917</td>\n",
       "      <td>2019-04-27</td>\n",
       "      <td>5</td>\n",
       "    </tr>\n",
       "  </tbody>\n",
       "</table>\n",
       "</div>"
      ],
      "text/plain": [
       "         DATE        STATION  ENTRIES                EXITS              \\\n",
       "                                  min         max      min         max   \n",
       "0  04/27/2019           1 AV   198884   955342251    23822   998712585   \n",
       "1  04/27/2019         103 ST   574861    36810311   777006   505796597   \n",
       "2  04/27/2019  103 ST-CORONA  1175636    15557711   417639    24501410   \n",
       "3  04/27/2019         104 ST   214366  2025897597   137445  1907502735   \n",
       "4  04/27/2019         110 ST  3490386    13871007  1378134    12483430   \n",
       "\n",
       "          ENTRIES         EXITS Total_Traffic  Date_Time Week_Day  \n",
       "  Station_Entries Station_Exits                                    \n",
       "0       955143367     998688763    1953832130 2019-04-27        5  \n",
       "1        36235450     505019591     541255041 2019-04-27        5  \n",
       "2        14382075      24083771      38465846 2019-04-27        5  \n",
       "3      2025683231    1907365290    3933048521 2019-04-27        5  \n",
       "4        10380621      11105296      21485917 2019-04-27        5  "
      ]
     },
     "execution_count": 40,
     "metadata": {},
     "output_type": "execute_result"
    }
   ],
   "source": [
    "test_station = station_grouped[station_grouped.iloc[:,1] == '103 ST-CORONA']\n",
    "station_grouped[('Date_Time','')] = pd.to_datetime(station_grouped[('DATE','')], cache=True)\n",
    "station_grouped[('Week_Day','')] = station_grouped[('Date_Time','')].dt.weekday\n",
    "station_grouped.head()\n",
    "#station_grouped.reset_index()\n",
    "#test_station.head()"
   ]
  },
  {
   "cell_type": "code",
   "execution_count": null,
   "metadata": {},
   "outputs": [],
   "source": []
  },
  {
   "cell_type": "code",
   "execution_count": 43,
   "metadata": {},
   "outputs": [
    {
     "data": {
      "text/html": [
       "<div>\n",
       "<style scoped>\n",
       "    .dataframe tbody tr th:only-of-type {\n",
       "        vertical-align: middle;\n",
       "    }\n",
       "\n",
       "    .dataframe tbody tr th {\n",
       "        vertical-align: top;\n",
       "    }\n",
       "\n",
       "    .dataframe thead th {\n",
       "        text-align: right;\n",
       "    }\n",
       "</style>\n",
       "<table border=\"1\" class=\"dataframe\">\n",
       "  <thead>\n",
       "    <tr style=\"text-align: right;\">\n",
       "      <th></th>\n",
       "      <th>STATION</th>\n",
       "      <th>Total_Traffic</th>\n",
       "    </tr>\n",
       "  </thead>\n",
       "  <tbody>\n",
       "    <tr>\n",
       "      <th>0</th>\n",
       "      <td>1 AV</td>\n",
       "      <td>27353685298</td>\n",
       "    </tr>\n",
       "    <tr>\n",
       "      <th>1</th>\n",
       "      <td>103 ST</td>\n",
       "      <td>7577811995</td>\n",
       "    </tr>\n",
       "    <tr>\n",
       "      <th>2</th>\n",
       "      <td>103 ST-CORONA</td>\n",
       "      <td>538631469</td>\n",
       "    </tr>\n",
       "    <tr>\n",
       "      <th>3</th>\n",
       "      <td>104 ST</td>\n",
       "      <td>55062559967</td>\n",
       "    </tr>\n",
       "    <tr>\n",
       "      <th>4</th>\n",
       "      <td>110 ST</td>\n",
       "      <td>300900553</td>\n",
       "    </tr>\n",
       "    <tr>\n",
       "      <th>...</th>\n",
       "      <td>...</td>\n",
       "      <td>...</td>\n",
       "    </tr>\n",
       "    <tr>\n",
       "      <th>372</th>\n",
       "      <td>WOODLAWN</td>\n",
       "      <td>206052749</td>\n",
       "    </tr>\n",
       "    <tr>\n",
       "      <th>373</th>\n",
       "      <td>WORLD TRADE CTR</td>\n",
       "      <td>47726676453</td>\n",
       "    </tr>\n",
       "    <tr>\n",
       "      <th>374</th>\n",
       "      <td>WTC-CORTLANDT</td>\n",
       "      <td>10235357686</td>\n",
       "    </tr>\n",
       "    <tr>\n",
       "      <th>375</th>\n",
       "      <td>YORK ST</td>\n",
       "      <td>386311693</td>\n",
       "    </tr>\n",
       "    <tr>\n",
       "      <th>376</th>\n",
       "      <td>ZEREGA AV</td>\n",
       "      <td>18168663</td>\n",
       "    </tr>\n",
       "  </tbody>\n",
       "</table>\n",
       "<p>377 rows × 2 columns</p>\n",
       "</div>"
      ],
      "text/plain": [
       "             STATION  Total_Traffic\n",
       "0               1 AV    27353685298\n",
       "1             103 ST     7577811995\n",
       "2      103 ST-CORONA      538631469\n",
       "3             104 ST    55062559967\n",
       "4             110 ST      300900553\n",
       "..               ...            ...\n",
       "372         WOODLAWN      206052749\n",
       "373  WORLD TRADE CTR    47726676453\n",
       "374    WTC-CORTLANDT    10235357686\n",
       "375          YORK ST      386311693\n",
       "376        ZEREGA AV       18168663\n",
       "\n",
       "[377 rows x 2 columns]"
      ]
     },
     "execution_count": 43,
     "metadata": {},
     "output_type": "execute_result"
    }
   ],
   "source": [
    "#test_station = station_grouped[station_grouped.iloc[:,1] == '103 ST-CORONA']\n",
    "station_grouped.columns = ['DATE', 'STATION', 'ENTRIES_MIN', 'ENTRIES_MAX', 'EXITS_MIN', 'EXITS_MAX', 'ENTRIES', 'EXITS', 'Total_Traffic', 'Date_Time', 'Week_Day']\n",
    "#test_station.head()\n",
    "#Answer = test_station.groupby(['Week_Day','Date_Time']).Total_Traffic.sum()\n",
    "#fig, ax = plt.subplots(figsize=(15,7))\n",
    "#test_station.groupby(['Week_Day','Date_Time']).Total_Traffic.sum().unstack().plot(ax=ax)\n",
    "#type(Answer)\n",
    "#Answer.shape\n",
    "#plt.plot(Answer)\n",
    "Total_ridership = station_grouped.groupby(['STATION']).Total_Traffic.sum().reset_index()\n",
    "type(Total_ridership)\n",
    "Total_ridership\n"
   ]
  },
  {
   "cell_type": "code",
   "execution_count": 52,
   "metadata": {},
   "outputs": [
    {
     "data": {
      "text/html": [
       "<div>\n",
       "<style scoped>\n",
       "    .dataframe tbody tr th:only-of-type {\n",
       "        vertical-align: middle;\n",
       "    }\n",
       "\n",
       "    .dataframe tbody tr th {\n",
       "        vertical-align: top;\n",
       "    }\n",
       "\n",
       "    .dataframe thead th {\n",
       "        text-align: right;\n",
       "    }\n",
       "</style>\n",
       "<table border=\"1\" class=\"dataframe\">\n",
       "  <thead>\n",
       "    <tr style=\"text-align: right;\">\n",
       "      <th></th>\n",
       "      <th>STATION</th>\n",
       "      <th>Total_Traffic</th>\n",
       "    </tr>\n",
       "  </thead>\n",
       "  <tbody>\n",
       "    <tr>\n",
       "      <th>72</th>\n",
       "      <td>47-50 STS ROCK</td>\n",
       "      <td>55472019311</td>\n",
       "    </tr>\n",
       "    <tr>\n",
       "      <th>3</th>\n",
       "      <td>104 ST</td>\n",
       "      <td>55062559967</td>\n",
       "    </tr>\n",
       "    <tr>\n",
       "      <th>179</th>\n",
       "      <td>CHAMBERS ST</td>\n",
       "      <td>54820025591</td>\n",
       "    </tr>\n",
       "    <tr>\n",
       "      <th>68</th>\n",
       "      <td>42 ST-PORT AUTH</td>\n",
       "      <td>54090317497</td>\n",
       "    </tr>\n",
       "    <tr>\n",
       "      <th>240</th>\n",
       "      <td>HIGH ST</td>\n",
       "      <td>53476720300</td>\n",
       "    </tr>\n",
       "    <tr>\n",
       "      <th>...</th>\n",
       "      <td>...</td>\n",
       "      <td>...</td>\n",
       "    </tr>\n",
       "    <tr>\n",
       "      <th>297</th>\n",
       "      <td>NEWARK BM BW</td>\n",
       "      <td>10444511</td>\n",
       "    </tr>\n",
       "    <tr>\n",
       "      <th>352</th>\n",
       "      <td>TOMPKINSVILLE</td>\n",
       "      <td>9380977</td>\n",
       "    </tr>\n",
       "    <tr>\n",
       "      <th>298</th>\n",
       "      <td>NEWARK C</td>\n",
       "      <td>7540694</td>\n",
       "    </tr>\n",
       "    <tr>\n",
       "      <th>327</th>\n",
       "      <td>RIT-MANHATTAN</td>\n",
       "      <td>5339173</td>\n",
       "    </tr>\n",
       "    <tr>\n",
       "      <th>314</th>\n",
       "      <td>PATH WTC 2</td>\n",
       "      <td>4210183</td>\n",
       "    </tr>\n",
       "  </tbody>\n",
       "</table>\n",
       "<p>377 rows × 2 columns</p>\n",
       "</div>"
      ],
      "text/plain": [
       "             STATION  Total_Traffic\n",
       "72    47-50 STS ROCK    55472019311\n",
       "3             104 ST    55062559967\n",
       "179      CHAMBERS ST    54820025591\n",
       "68   42 ST-PORT AUTH    54090317497\n",
       "240          HIGH ST    53476720300\n",
       "..               ...            ...\n",
       "297     NEWARK BM BW       10444511\n",
       "352    TOMPKINSVILLE        9380977\n",
       "298         NEWARK C        7540694\n",
       "327    RIT-MANHATTAN        5339173\n",
       "314       PATH WTC 2        4210183\n",
       "\n",
       "[377 rows x 2 columns]"
      ]
     },
     "execution_count": 52,
     "metadata": {},
     "output_type": "execute_result"
    }
   ],
   "source": [
    "Total_ridership.sort_values(by=['Total_Traffic'],inplace = True, ascending = False)\n",
    "Total_ridership\n",
    "#plt.hist(Total_ridership['Total_Traffic'])"
   ]
  },
  {
   "cell_type": "code",
   "execution_count": 71,
   "metadata": {},
   "outputs": [
    {
     "data": {
      "text/plain": [
       "(array([2., 2., 0., 0., 1., 0., 1., 1., 1., 2.]),\n",
       " array([5.03771384e+10, 5.08866265e+10, 5.13961146e+10, 5.19056027e+10,\n",
       "        5.24150908e+10, 5.29245789e+10, 5.34340670e+10, 5.39435550e+10,\n",
       "        5.44530431e+10, 5.49625312e+10, 5.54720193e+10]),\n",
       " <BarContainer object of 10 artists>)"
      ]
     },
     "execution_count": 71,
     "metadata": {},
     "output_type": "execute_result"
    },
    {
     "data": {
      "image/png": "[encoded data removed]",
      "text/plain": [
       "<Figure size 1440x720 with 1 Axes>"
      ]
     },
     "metadata": {
      "needs_background": "light"
     },
     "output_type": "display_data"
    }
   ],
   "source": [
    "Row_list =[] \n",
    "indices = []\n",
    "  \n",
    "# Iterate over each row \n",
    "for index, rows in Total_ridership[:10].iterrows(): \n",
    "    # Create list for the current row \n",
    "#    my_list =[rows.STATION, rows.Total_Traffic] \n",
    "    my_list =rows.Total_Traffic \n",
    "    station_list = rows.STATION\n",
    "    # append the list to the final list \n",
    "    Row_list.append(my_list) \n",
    "    indices.append(station_list)\n",
    "\n",
    "Row_list    \n",
    "#plt.ylim(50000000000,56000000000)\n",
    "#plt.bar(Row_list) \n",
    "#plt.hist([[x for x in y] for y in Row_list])\n",
    "plt.hist(Row_list)\n",
    "#plt.xticks(rotation = 'vertical')\n"
   ]
  },
  {
   "cell_type": "code",
   "execution_count": 72,
   "metadata": {},
   "outputs": [
    {
     "data": {
      "text/plain": [
       "['47-50 STS ROCK',\n",
       " '104 ST',\n",
       " 'CHAMBERS ST',\n",
       " '42 ST-PORT AUTH',\n",
       " 'HIGH ST',\n",
       " 'CANAL ST',\n",
       " '183 ST',\n",
       " '14 ST',\n",
       " '23 ST',\n",
       " 'ELMHURST AV']"
      ]
     },
     "execution_count": 72,
     "metadata": {},
     "output_type": "execute_result"
    }
   ],
   "source": [
    "indices"
   ]
  },
  {
   "cell_type": "code",
   "execution_count": 75,
   "metadata": {},
   "outputs": [
    {
     "data": {
      "text/plain": [
       "<BarContainer object of 10 artists>"
      ]
     },
     "execution_count": 75,
     "metadata": {},
     "output_type": "execute_result"
    },
    {
     "data": {
      "image/png": "[encoded data removed]",
      "text/plain": [
       "<Figure size 1440x720 with 1 Axes>"
      ]
     },
     "metadata": {
      "needs_background": "light"
     },
     "output_type": "display_data"
    }
   ],
   "source": [
    "#indices = range(len(Row_list))\n",
    "plt.ylim(50000000000,56000000000)\n",
    "plt.xlabel(\"Station\")\n",
    "plt.ylabel(\"Total Traffic\")\n",
    "plt.title(\"Total traffic for the period for top 10 busiest stations\")\n",
    "plt.bar(indices, Row_list)"
   ]
  },
  {
   "cell_type": "code",
   "execution_count": 73,
   "metadata": {},
   "outputs": [
    {
     "name": "stderr",
     "output_type": "stream",
     "text": [
      "<ipython-input-73-f06c79419715>:1: SettingWithCopyWarning: \n",
      "A value is trying to be set on a copy of a slice from a DataFrame\n",
      "\n",
      "See the caveats in the documentation: https://pandas.pydata.org/pandas-docs/stable/user_guide/indexing.html#returning-a-view-versus-a-copy\n",
      "  test_station.sort_values(by=[('Week_Day','')], inplace = True)\n"
     ]
    }
   ],
   "source": [
    "test_station.sort_values(by=[('Week_Day','')], inplace = True)"
   ]
  },
  {
   "cell_type": "code",
   "execution_count": null,
   "metadata": {},
   "outputs": [],
   "source": []
  },
  {
   "cell_type": "markdown",
   "metadata": {},
   "source": [
    "## Challenge 7"
   ]
  },
  {
   "cell_type": "code",
   "execution_count": 74,
   "metadata": {},
   "outputs": [
    {
     "data": {
      "text/plain": [
       "[<matplotlib.lines.Line2D at 0x7fb70a1c4250>]"
      ]
     },
     "execution_count": 74,
     "metadata": {},
     "output_type": "execute_result"
    },
    {
     "data": {
      "image/png": "[encoded data removed]",
      "text/plain": [
       "<Figure size 720x216 with 1 Axes>"
      ]
     },
     "metadata": {
      "needs_background": "light"
     },
     "output_type": "display_data"
    }
   ],
   "source": [
    "plt.figure(figsize=(10,3))\n",
    "plt.plot(test_station[('Week_Day','')],test_station[('Total_Traffic','')])"
   ]
  },
  {
   "cell_type": "markdown",
   "metadata": {},
   "source": [
    "### New CSV File"
   ]
  },
  {
   "cell_type": "code",
   "execution_count": 75,
   "metadata": {},
   "outputs": [
    {
     "data": {
      "text/html": [
       "<div>\n",
       "<style scoped>\n",
       "    .dataframe tbody tr th:only-of-type {\n",
       "        vertical-align: middle;\n",
       "    }\n",
       "\n",
       "    .dataframe tbody tr th {\n",
       "        vertical-align: top;\n",
       "    }\n",
       "\n",
       "    .dataframe thead th {\n",
       "        text-align: right;\n",
       "    }\n",
       "</style>\n",
       "<table border=\"1\" class=\"dataframe\">\n",
       "  <thead>\n",
       "    <tr style=\"text-align: right;\">\n",
       "      <th></th>\n",
       "      <th>C/A</th>\n",
       "      <th>UNIT</th>\n",
       "      <th>SCP</th>\n",
       "      <th>STATION</th>\n",
       "      <th>LINENAME</th>\n",
       "      <th>DIVISION</th>\n",
       "      <th>DATE</th>\n",
       "      <th>TIME</th>\n",
       "      <th>DESC</th>\n",
       "      <th>ENTRIES</th>\n",
       "      <th>EXITS</th>\n",
       "    </tr>\n",
       "  </thead>\n",
       "  <tbody>\n",
       "    <tr>\n",
       "      <th>0</th>\n",
       "      <td>A002</td>\n",
       "      <td>R051</td>\n",
       "      <td>02-00-00</td>\n",
       "      <td>59 ST</td>\n",
       "      <td>NQR456W</td>\n",
       "      <td>BMT</td>\n",
       "      <td>05/04/2019</td>\n",
       "      <td>00:00:00</td>\n",
       "      <td>REGULAR</td>\n",
       "      <td>7044468</td>\n",
       "      <td>2387700</td>\n",
       "    </tr>\n",
       "    <tr>\n",
       "      <th>1</th>\n",
       "      <td>A002</td>\n",
       "      <td>R051</td>\n",
       "      <td>02-00-00</td>\n",
       "      <td>59 ST</td>\n",
       "      <td>NQR456W</td>\n",
       "      <td>BMT</td>\n",
       "      <td>05/04/2019</td>\n",
       "      <td>04:00:00</td>\n",
       "      <td>REGULAR</td>\n",
       "      <td>7044495</td>\n",
       "      <td>2387706</td>\n",
       "    </tr>\n",
       "    <tr>\n",
       "      <th>2</th>\n",
       "      <td>A002</td>\n",
       "      <td>R051</td>\n",
       "      <td>02-00-00</td>\n",
       "      <td>59 ST</td>\n",
       "      <td>NQR456W</td>\n",
       "      <td>BMT</td>\n",
       "      <td>05/04/2019</td>\n",
       "      <td>08:00:00</td>\n",
       "      <td>REGULAR</td>\n",
       "      <td>7044509</td>\n",
       "      <td>2387740</td>\n",
       "    </tr>\n",
       "    <tr>\n",
       "      <th>3</th>\n",
       "      <td>A002</td>\n",
       "      <td>R051</td>\n",
       "      <td>02-00-00</td>\n",
       "      <td>59 ST</td>\n",
       "      <td>NQR456W</td>\n",
       "      <td>BMT</td>\n",
       "      <td>05/04/2019</td>\n",
       "      <td>12:00:00</td>\n",
       "      <td>REGULAR</td>\n",
       "      <td>7044568</td>\n",
       "      <td>2387757</td>\n",
       "    </tr>\n",
       "    <tr>\n",
       "      <th>4</th>\n",
       "      <td>A002</td>\n",
       "      <td>R051</td>\n",
       "      <td>02-00-00</td>\n",
       "      <td>59 ST</td>\n",
       "      <td>NQR456W</td>\n",
       "      <td>BMT</td>\n",
       "      <td>05/04/2019</td>\n",
       "      <td>16:00:00</td>\n",
       "      <td>REGULAR</td>\n",
       "      <td>7044743</td>\n",
       "      <td>2387774</td>\n",
       "    </tr>\n",
       "  </tbody>\n",
       "</table>\n",
       "</div>"
      ],
      "text/plain": [
       "    C/A  UNIT       SCP STATION LINENAME DIVISION        DATE      TIME  \\\n",
       "0  A002  R051  02-00-00   59 ST  NQR456W      BMT  05/04/2019  00:00:00   \n",
       "1  A002  R051  02-00-00   59 ST  NQR456W      BMT  05/04/2019  04:00:00   \n",
       "2  A002  R051  02-00-00   59 ST  NQR456W      BMT  05/04/2019  08:00:00   \n",
       "3  A002  R051  02-00-00   59 ST  NQR456W      BMT  05/04/2019  12:00:00   \n",
       "4  A002  R051  02-00-00   59 ST  NQR456W      BMT  05/04/2019  16:00:00   \n",
       "\n",
       "      DESC  ENTRIES  \\\n",
       "0  REGULAR  7044468   \n",
       "1  REGULAR  7044495   \n",
       "2  REGULAR  7044509   \n",
       "3  REGULAR  7044568   \n",
       "4  REGULAR  7044743   \n",
       "\n",
       "   EXITS                                                                 \n",
       "0                                            2387700                     \n",
       "1                                            2387706                     \n",
       "2                                            2387740                     \n",
       "3                                            2387757                     \n",
       "4                                            2387774                     "
      ]
     },
     "execution_count": 75,
     "metadata": {},
     "output_type": "execute_result"
    }
   ],
   "source": [
    "data2 = pd.read_csv('turnstile_190511.csv')\n",
    "data2.head()"
   ]
  },
  {
   "cell_type": "code",
   "execution_count": null,
   "metadata": {},
   "outputs": [],
   "source": []
  }
 ],
 "metadata": {
  "kernelspec": {
   "display_name": "Python 3",
   "language": "python",
   "name": "python3"
  },
  "language_info": {
   "codemirror_mode": {
    "name": "ipython",
    "version": 3
   },
   "file_extension": ".py",
   "mimetype": "text/x-python",
   "name": "python",
   "nbconvert_exporter": "python",
   "pygments_lexer": "ipython3",
   "version": "3.8.5"
  }
 },
 "nbformat": 4,
 "nbformat_minor": 4
}
