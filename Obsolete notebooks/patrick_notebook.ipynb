{
 "cells": [
  {
   "cell_type": "markdown",
   "metadata": {},
   "source": [
    "# Everything is markdown until: \"Combining Data from April-mid June 2019\"\n"
   ]
  },
  {
   "cell_type": "markdown",
   "metadata": {},
   "source": [
    "## Challenge 1"
   ]
  },
  {
   "cell_type": "markdown",
   "metadata": {},
   "source": [
    "import pandas as pd\n",
    "data = pd.read_csv('turnstile_190504.csv')\n",
    "data.head()"
   ]
  },
  {
   "cell_type": "markdown",
   "metadata": {},
   "source": [
    "## Challenge 2"
   ]
  },
  {
   "cell_type": "markdown",
   "metadata": {},
   "source": [
    "type(data['DATE'])"
   ]
  },
  {
   "cell_type": "markdown",
   "metadata": {},
   "source": [
    "data['Date_Time'] = pd.to_datetime(data['DATE'], cache=True) + pd.to_timedelta(data['TIME'])"
   ]
  },
  {
   "cell_type": "markdown",
   "metadata": {},
   "source": [
    "data.head()"
   ]
  },
  {
   "cell_type": "markdown",
   "metadata": {},
   "source": [
    "data.dtypes"
   ]
  },
  {
   "cell_type": "markdown",
   "metadata": {},
   "source": [
    "## Challenge 3"
   ]
  },
  {
   "cell_type": "markdown",
   "metadata": {},
   "source": [
    "data.columns = data.columns.str.replace(' ', '')"
   ]
  },
  {
   "cell_type": "markdown",
   "metadata": {},
   "source": [
    "data['Turnstile'] = data['C/A'] + data['UNIT'] + data['SCP'] + data['STATION']"
   ]
  },
  {
   "cell_type": "markdown",
   "metadata": {},
   "source": [
    "entry_start = data.groupby(['DATE','Turnstile'], as_index = False).ENTRIES.min()"
   ]
  },
  {
   "cell_type": "markdown",
   "metadata": {},
   "source": [
    "entry_end = data.groupby(['DATE','Turnstile'], as_index = False).ENTRIES.max()"
   ]
  },
  {
   "cell_type": "markdown",
   "metadata": {},
   "source": [
    "traffic_entries = data.groupby(['DATE','Turnstile'], as_index = False).ENTRIES.agg(['max','min'])\n",
    "traffic_exits = data.groupby(['DATE','Turnstile'], as_index = False).EXITS.agg(['max','min'])"
   ]
  },
  {
   "cell_type": "markdown",
   "metadata": {},
   "source": [
    "traffic_entries['Daily Entries Traffic'] = traffic_entries['max'] - traffic_entries['min']"
   ]
  },
  {
   "cell_type": "markdown",
   "metadata": {},
   "source": [
    "traffic_entries.head()"
   ]
  },
  {
   "cell_type": "markdown",
   "metadata": {},
   "source": [
    "traffic_exits['Daily Exits Traffic'] = traffic_exits['max'] - traffic_exits['min']"
   ]
  },
  {
   "cell_type": "markdown",
   "metadata": {},
   "source": [
    "traffic_exits.head()"
   ]
  },
  {
   "cell_type": "markdown",
   "metadata": {},
   "source": [
    "data.iloc[:,-3]"
   ]
  },
  {
   "cell_type": "markdown",
   "metadata": {},
   "source": [
    "grouped = data.groupby(['DATE','Turnstile'], as_index=False).agg({'ENTRIES': ['min', 'max'], 'EXITS': ['min', 'max']})"
   ]
  },
  {
   "cell_type": "markdown",
   "metadata": {},
   "source": [
    "grouped.head()"
   ]
  },
  {
   "cell_type": "markdown",
   "metadata": {},
   "source": [
    "grouped[('ENTRIES','Total_Entries')] = grouped[('ENTRIES','max')] - grouped[('ENTRIES', 'min')]"
   ]
  },
  {
   "cell_type": "markdown",
   "metadata": {},
   "source": [
    "grouped[('EXITS','Total_Exits')] = grouped[('EXITS','max')] - grouped[('EXITS', 'min')]"
   ]
  },
  {
   "cell_type": "markdown",
   "metadata": {},
   "source": [
    "grouped[('Total_Traffic','')] = grouped[('ENTRIES','Total_Entries')] + grouped[('EXITS', 'Total_Exits')]"
   ]
  },
  {
   "cell_type": "markdown",
   "metadata": {},
   "source": [
    "grouped.head()"
   ]
  },
  {
   "cell_type": "markdown",
   "metadata": {},
   "source": []
  },
  {
   "cell_type": "markdown",
   "metadata": {},
   "source": [
    "## Challenge 4"
   ]
  },
  {
   "cell_type": "markdown",
   "metadata": {},
   "source": [
    "%matplotlib inline"
   ]
  },
  {
   "cell_type": "markdown",
   "metadata": {},
   "source": [
    "import matplotlib.pyplot as plt"
   ]
  },
  {
   "cell_type": "markdown",
   "metadata": {},
   "source": [
    "test = 'A002R05102-00-0059 ST'"
   ]
  },
  {
   "cell_type": "markdown",
   "metadata": {
    "scrolled": true
   },
   "source": [
    "test_df = grouped[grouped.iloc[:,1] == test]"
   ]
  },
  {
   "cell_type": "markdown",
   "metadata": {},
   "source": [
    "grouped[('Date_Time','')] = pd.to_datetime(grouped[('DATE','')], cache=True)\n",
    "grouped[('Week_Day','')] = grouped[('Date_Time','')].dt.weekday\n",
    "grouped.head()"
   ]
  },
  {
   "cell_type": "markdown",
   "metadata": {},
   "source": [
    "grouped[('Date_Time','')]"
   ]
  },
  {
   "cell_type": "markdown",
   "metadata": {},
   "source": [
    "plt.figure(figsize=(10,3))\n",
    "plt.plot(test_df[('DATE','')],test_df[('Total_Traffic','')])"
   ]
  },
  {
   "cell_type": "markdown",
   "metadata": {},
   "source": [
    "## Challenge 6"
   ]
  },
  {
   "cell_type": "markdown",
   "metadata": {},
   "source": [
    "data.head()"
   ]
  },
  {
   "cell_type": "markdown",
   "metadata": {},
   "source": [
    "data.shape"
   ]
  },
  {
   "cell_type": "markdown",
   "metadata": {},
   "source": []
  },
  {
   "cell_type": "markdown",
   "metadata": {},
   "source": [
    "station_entries = data.groupby(['DATE','STATION'], as_index = False).ENTRIES.agg(['max','min'])\n",
    "station_exits = data.groupby(['DATE','STATION'], as_index = False).EXITS.agg(['max','min'])"
   ]
  },
  {
   "cell_type": "markdown",
   "metadata": {},
   "source": [
    "station_entries['Daily Station Traffic'] = station_entries['max'] - station_entries['min']"
   ]
  },
  {
   "cell_type": "markdown",
   "metadata": {},
   "source": [
    "station_exits['Daily Station Exits Traffic'] = station_exits['max'] - station_exits['min']"
   ]
  },
  {
   "cell_type": "markdown",
   "metadata": {},
   "source": [
    "station_entries.head()"
   ]
  },
  {
   "cell_type": "markdown",
   "metadata": {},
   "source": [
    "station_exits.head()"
   ]
  },
  {
   "cell_type": "markdown",
   "metadata": {},
   "source": [
    "station_grouped = data.groupby(['DATE','STATION'], as_index=False).agg({'ENTRIES': ['min', 'max'], 'EXITS': ['min', 'max']})"
   ]
  },
  {
   "cell_type": "markdown",
   "metadata": {},
   "source": [
    "station_grouped[('ENTRIES','Station_Entries')] = station_grouped[('ENTRIES','max')] - station_grouped[('ENTRIES', 'min')]\n",
    "station_grouped[('EXITS','Station_Exits')] = station_grouped[('EXITS','max')] - station_grouped[('EXITS', 'min')]\n",
    "station_grouped[('Total_Traffic','')] = station_grouped[('ENTRIES','Station_Entries')] + station_grouped[('EXITS', 'Station_Exits')]"
   ]
  },
  {
   "cell_type": "markdown",
   "metadata": {},
   "source": [
    "station_grouped.head()"
   ]
  },
  {
   "cell_type": "markdown",
   "metadata": {},
   "source": [
    "test_station = station_grouped[station_grouped.iloc[:,1] == '103 ST-CORONA']\n",
    "station_grouped[('Date_Time','')] = pd.to_datetime(station_grouped[('DATE','')], cache=True)\n",
    "station_grouped[('Week_Day','')] = station_grouped[('Date_Time','')].dt.weekday\n",
    "station_grouped.head()\n",
    "test_station.head()"
   ]
  },
  {
   "cell_type": "markdown",
   "metadata": {},
   "source": [
    "test_station.sort_values(by=[('Week_Day','')], inplace = True)"
   ]
  },
  {
   "cell_type": "markdown",
   "metadata": {},
   "source": [
    "## Challenge 7"
   ]
  },
  {
   "cell_type": "markdown",
   "metadata": {},
   "source": [
    "plt.figure(figsize=(10,3))\n",
    "plt.plot(test_station[('Week_Day','')],test_station[('Total_Traffic','')])"
   ]
  },
  {
   "cell_type": "markdown",
   "metadata": {},
   "source": [
    "# Combining Data from April-mid June 2019\n"
   ]
  },
  {
   "cell_type": "code",
   "execution_count": 1,
   "metadata": {},
   "outputs": [],
   "source": [
    "import numpy as np\n",
    "import glob\n",
    "import pandas as pd\n",
    "\n",
    "%matplotlib inline"
   ]
  },
  {
   "cell_type": "code",
   "execution_count": 2,
   "metadata": {},
   "outputs": [
    {
     "data": {
      "text/plain": [
       "'/Users/patrickbovard/Documents/GitHubRepos/mta-project-1'"
      ]
     },
     "execution_count": 2,
     "metadata": {},
     "output_type": "execute_result"
    }
   ],
   "source": [
    "pwd"
   ]
  },
  {
   "cell_type": "code",
   "execution_count": 3,
   "metadata": {},
   "outputs": [
    {
     "name": "stdout",
     "output_type": "stream",
     "text": [
      "\u001b[34mCSVs\u001b[m\u001b[m/                         Rachel_Notebook.ipynb\r\n",
      "Josef_MTA_Workbook.ipynb      Remote-Booth-Station.xls\r\n",
      "MTA Project Submission.ipynb  StationList.xls\r\n",
      "NYC_Map.png                   patrick_notebook.ipynb\r\n",
      "Proj1.ipynb                   ritu_notebook.ipynb\r\n",
      "Proj1_Ritu.ipynb              turnstile_190504.csv\r\n",
      "README.md                     turnstile_190511.csv\r\n"
     ]
    }
   ],
   "source": [
    "ls"
   ]
  },
  {
   "cell_type": "code",
   "execution_count": 4,
   "metadata": {},
   "outputs": [
    {
     "name": "stdout",
     "output_type": "stream",
     "text": [
      "/Users/patrickbovard/Documents/GitHubRepos/mta-project-1/CSVs\n"
     ]
    }
   ],
   "source": [
    "cd CSVs"
   ]
  },
  {
   "cell_type": "code",
   "execution_count": 5,
   "metadata": {},
   "outputs": [
    {
     "name": "stdout",
     "output_type": "stream",
     "text": [
      "2019SKED.TXT          turnstile_190427.txt  turnstile_190525.txt\r\n",
      "turnstile_190406.txt  turnstile_190504.txt  turnstile_190601.txt\r\n",
      "turnstile_190413.txt  turnstile_190511.txt  turnstile_190608.txt\r\n",
      "turnstile_190420.txt  turnstile_190518.txt  turnstile_190615.txt\r\n"
     ]
    }
   ],
   "source": [
    "ls"
   ]
  },
  {
   "cell_type": "code",
   "execution_count": 6,
   "metadata": {},
   "outputs": [],
   "source": [
    "\n",
    "extension = 'txt'\n",
    "all_filenames = [i for i in glob.glob('*.{}'.format(extension))]\n",
    "\n",
    "\n",
    "#combine all files in the list\n",
    "combined_data = pd.concat([pd.read_csv(f) for f in all_filenames ])\n",
    "#export to csv\n",
    "#data.to_csv( \"combined_csv.csv\", index=False, encoding='utf-8-sig')"
   ]
  },
  {
   "cell_type": "code",
   "execution_count": 7,
   "metadata": {},
   "outputs": [
    {
     "data": {
      "text/html": [
       "<div>\n",
       "<style scoped>\n",
       "    .dataframe tbody tr th:only-of-type {\n",
       "        vertical-align: middle;\n",
       "    }\n",
       "\n",
       "    .dataframe tbody tr th {\n",
       "        vertical-align: top;\n",
       "    }\n",
       "\n",
       "    .dataframe thead th {\n",
       "        text-align: right;\n",
       "    }\n",
       "</style>\n",
       "<table border=\"1\" class=\"dataframe\">\n",
       "  <thead>\n",
       "    <tr style=\"text-align: right;\">\n",
       "      <th></th>\n",
       "      <th>C/A</th>\n",
       "      <th>UNIT</th>\n",
       "      <th>SCP</th>\n",
       "      <th>STATION</th>\n",
       "      <th>LINENAME</th>\n",
       "      <th>DIVISION</th>\n",
       "      <th>DATE</th>\n",
       "      <th>TIME</th>\n",
       "      <th>DESC</th>\n",
       "      <th>ENTRIES</th>\n",
       "      <th>EXITS</th>\n",
       "    </tr>\n",
       "  </thead>\n",
       "  <tbody>\n",
       "    <tr>\n",
       "      <th>0</th>\n",
       "      <td>A002</td>\n",
       "      <td>R051</td>\n",
       "      <td>02-00-00</td>\n",
       "      <td>59 ST</td>\n",
       "      <td>NQR456W</td>\n",
       "      <td>BMT</td>\n",
       "      <td>05/11/2019</td>\n",
       "      <td>00:00:00</td>\n",
       "      <td>REGULAR</td>\n",
       "      <td>7053483</td>\n",
       "      <td>2390505</td>\n",
       "    </tr>\n",
       "    <tr>\n",
       "      <th>1</th>\n",
       "      <td>A002</td>\n",
       "      <td>R051</td>\n",
       "      <td>02-00-00</td>\n",
       "      <td>59 ST</td>\n",
       "      <td>NQR456W</td>\n",
       "      <td>BMT</td>\n",
       "      <td>05/11/2019</td>\n",
       "      <td>04:00:00</td>\n",
       "      <td>REGULAR</td>\n",
       "      <td>7053511</td>\n",
       "      <td>2390508</td>\n",
       "    </tr>\n",
       "    <tr>\n",
       "      <th>2</th>\n",
       "      <td>A002</td>\n",
       "      <td>R051</td>\n",
       "      <td>02-00-00</td>\n",
       "      <td>59 ST</td>\n",
       "      <td>NQR456W</td>\n",
       "      <td>BMT</td>\n",
       "      <td>05/11/2019</td>\n",
       "      <td>08:00:00</td>\n",
       "      <td>REGULAR</td>\n",
       "      <td>7053534</td>\n",
       "      <td>2390536</td>\n",
       "    </tr>\n",
       "    <tr>\n",
       "      <th>3</th>\n",
       "      <td>A002</td>\n",
       "      <td>R051</td>\n",
       "      <td>02-00-00</td>\n",
       "      <td>59 ST</td>\n",
       "      <td>NQR456W</td>\n",
       "      <td>BMT</td>\n",
       "      <td>05/11/2019</td>\n",
       "      <td>12:00:00</td>\n",
       "      <td>REGULAR</td>\n",
       "      <td>7053618</td>\n",
       "      <td>2390596</td>\n",
       "    </tr>\n",
       "    <tr>\n",
       "      <th>4</th>\n",
       "      <td>A002</td>\n",
       "      <td>R051</td>\n",
       "      <td>02-00-00</td>\n",
       "      <td>59 ST</td>\n",
       "      <td>NQR456W</td>\n",
       "      <td>BMT</td>\n",
       "      <td>05/11/2019</td>\n",
       "      <td>16:00:00</td>\n",
       "      <td>REGULAR</td>\n",
       "      <td>7053841</td>\n",
       "      <td>2390655</td>\n",
       "    </tr>\n",
       "  </tbody>\n",
       "</table>\n",
       "</div>"
      ],
      "text/plain": [
       "    C/A  UNIT       SCP STATION LINENAME DIVISION        DATE      TIME  \\\n",
       "0  A002  R051  02-00-00   59 ST  NQR456W      BMT  05/11/2019  00:00:00   \n",
       "1  A002  R051  02-00-00   59 ST  NQR456W      BMT  05/11/2019  04:00:00   \n",
       "2  A002  R051  02-00-00   59 ST  NQR456W      BMT  05/11/2019  08:00:00   \n",
       "3  A002  R051  02-00-00   59 ST  NQR456W      BMT  05/11/2019  12:00:00   \n",
       "4  A002  R051  02-00-00   59 ST  NQR456W      BMT  05/11/2019  16:00:00   \n",
       "\n",
       "      DESC  ENTRIES  \\\n",
       "0  REGULAR  7053483   \n",
       "1  REGULAR  7053511   \n",
       "2  REGULAR  7053534   \n",
       "3  REGULAR  7053618   \n",
       "4  REGULAR  7053841   \n",
       "\n",
       "   EXITS                                                                 \n",
       "0                                            2390505                     \n",
       "1                                            2390508                     \n",
       "2                                            2390536                     \n",
       "3                                            2390596                     \n",
       "4                                            2390655                     "
      ]
     },
     "execution_count": 7,
     "metadata": {},
     "output_type": "execute_result"
    }
   ],
   "source": [
    "combined_data.head()"
   ]
  },
  {
   "cell_type": "code",
   "execution_count": 8,
   "metadata": {},
   "outputs": [
    {
     "data": {
      "text/plain": [
       "(2250808, 11)"
      ]
     },
     "execution_count": 8,
     "metadata": {},
     "output_type": "execute_result"
    }
   ],
   "source": [
    "combined_data.shape"
   ]
  },
  {
   "cell_type": "code",
   "execution_count": 9,
   "metadata": {},
   "outputs": [],
   "source": [
    "combined_data.columns = combined_data.columns.str.replace(' ', '')\n",
    "combined_data['Traffic'] = combined_data['ENTRIES'] + combined_data['EXITS']"
   ]
  },
  {
   "cell_type": "code",
   "execution_count": 10,
   "metadata": {},
   "outputs": [],
   "source": [
    "station_traffic = combined_data.groupby(['STATION'], as_index=False).Traffic.sum()"
   ]
  },
  {
   "cell_type": "code",
   "execution_count": 11,
   "metadata": {},
   "outputs": [
    {
     "data": {
      "text/html": [
       "<div>\n",
       "<style scoped>\n",
       "    .dataframe tbody tr th:only-of-type {\n",
       "        vertical-align: middle;\n",
       "    }\n",
       "\n",
       "    .dataframe tbody tr th {\n",
       "        vertical-align: top;\n",
       "    }\n",
       "\n",
       "    .dataframe thead th {\n",
       "        text-align: right;\n",
       "    }\n",
       "</style>\n",
       "<table border=\"1\" class=\"dataframe\">\n",
       "  <thead>\n",
       "    <tr style=\"text-align: right;\">\n",
       "      <th></th>\n",
       "      <th>STATION</th>\n",
       "      <th>Traffic</th>\n",
       "    </tr>\n",
       "  </thead>\n",
       "  <tbody>\n",
       "    <tr>\n",
       "      <th>0</th>\n",
       "      <td>1 AV</td>\n",
       "      <td>1378353055191</td>\n",
       "    </tr>\n",
       "    <tr>\n",
       "      <th>1</th>\n",
       "      <td>103 ST</td>\n",
       "      <td>806847481771</td>\n",
       "    </tr>\n",
       "    <tr>\n",
       "      <th>2</th>\n",
       "      <td>103 ST-CORONA</td>\n",
       "      <td>67519250622</td>\n",
       "    </tr>\n",
       "    <tr>\n",
       "      <th>3</th>\n",
       "      <td>104 ST</td>\n",
       "      <td>3878362727391</td>\n",
       "    </tr>\n",
       "    <tr>\n",
       "      <th>4</th>\n",
       "      <td>110 ST</td>\n",
       "      <td>34617818646</td>\n",
       "    </tr>\n",
       "  </tbody>\n",
       "</table>\n",
       "</div>"
      ],
      "text/plain": [
       "         STATION        Traffic\n",
       "0           1 AV  1378353055191\n",
       "1         103 ST   806847481771\n",
       "2  103 ST-CORONA    67519250622\n",
       "3         104 ST  3878362727391\n",
       "4         110 ST    34617818646"
      ]
     },
     "execution_count": 11,
     "metadata": {},
     "output_type": "execute_result"
    }
   ],
   "source": [
    "station_traffic.head()"
   ]
  },
  {
   "cell_type": "code",
   "execution_count": 12,
   "metadata": {},
   "outputs": [
    {
     "data": {
      "text/plain": [
       "0"
      ]
     },
     "execution_count": 12,
     "metadata": {},
     "output_type": "execute_result"
    }
   ],
   "source": [
    "station_traffic['STATION'].duplicated().sum()"
   ]
  },
  {
   "cell_type": "code",
   "execution_count": 13,
   "metadata": {},
   "outputs": [
    {
     "data": {
      "text/html": [
       "<div>\n",
       "<style scoped>\n",
       "    .dataframe tbody tr th:only-of-type {\n",
       "        vertical-align: middle;\n",
       "    }\n",
       "\n",
       "    .dataframe tbody tr th {\n",
       "        vertical-align: top;\n",
       "    }\n",
       "\n",
       "    .dataframe thead th {\n",
       "        text-align: right;\n",
       "    }\n",
       "</style>\n",
       "<table border=\"1\" class=\"dataframe\">\n",
       "  <thead>\n",
       "    <tr style=\"text-align: right;\">\n",
       "      <th></th>\n",
       "      <th>STATION</th>\n",
       "      <th>Traffic</th>\n",
       "    </tr>\n",
       "  </thead>\n",
       "  <tbody>\n",
       "    <tr>\n",
       "      <th>278</th>\n",
       "      <td>METS-WILLETS PT</td>\n",
       "      <td>574777435664</td>\n",
       "    </tr>\n",
       "  </tbody>\n",
       "</table>\n",
       "</div>"
      ],
      "text/plain": [
       "             STATION       Traffic\n",
       "278  METS-WILLETS PT  574777435664"
      ]
     },
     "execution_count": 13,
     "metadata": {},
     "output_type": "execute_result"
    }
   ],
   "source": [
    "#Station Name/Traffic for Citi Field (Mets)\n",
    "station_traffic[station_traffic.STATION == 'METS-WILLETS PT']"
   ]
  },
  {
   "cell_type": "code",
   "execution_count": 14,
   "metadata": {},
   "outputs": [
    {
     "data": {
      "text/html": [
       "<div>\n",
       "<style scoped>\n",
       "    .dataframe tbody tr th:only-of-type {\n",
       "        vertical-align: middle;\n",
       "    }\n",
       "\n",
       "    .dataframe tbody tr th {\n",
       "        vertical-align: top;\n",
       "    }\n",
       "\n",
       "    .dataframe thead th {\n",
       "        text-align: right;\n",
       "    }\n",
       "</style>\n",
       "<table border=\"1\" class=\"dataframe\">\n",
       "  <thead>\n",
       "    <tr style=\"text-align: right;\">\n",
       "      <th></th>\n",
       "      <th>STATION</th>\n",
       "      <th>Traffic</th>\n",
       "    </tr>\n",
       "  </thead>\n",
       "  <tbody>\n",
       "    <tr>\n",
       "      <th>21</th>\n",
       "      <td>161/YANKEE STAD</td>\n",
       "      <td>1561851003244</td>\n",
       "    </tr>\n",
       "  </tbody>\n",
       "</table>\n",
       "</div>"
      ],
      "text/plain": [
       "            STATION        Traffic\n",
       "21  161/YANKEE STAD  1561851003244"
      ]
     },
     "execution_count": 14,
     "metadata": {},
     "output_type": "execute_result"
    }
   ],
   "source": [
    "#Station Name/Traffic for Yankee Stadium (Yankees)\n",
    "station_traffic[station_traffic.STATION == '161/YANKEE STAD']"
   ]
  },
  {
   "cell_type": "code",
   "execution_count": 15,
   "metadata": {
    "scrolled": true
   },
   "outputs": [
    {
     "data": {
      "text/html": [
       "<div>\n",
       "<style scoped>\n",
       "    .dataframe tbody tr th:only-of-type {\n",
       "        vertical-align: middle;\n",
       "    }\n",
       "\n",
       "    .dataframe tbody tr th {\n",
       "        vertical-align: top;\n",
       "    }\n",
       "\n",
       "    .dataframe thead th {\n",
       "        text-align: right;\n",
       "    }\n",
       "</style>\n",
       "<table border=\"1\" class=\"dataframe\">\n",
       "  <thead>\n",
       "    <tr style=\"text-align: right;\">\n",
       "      <th></th>\n",
       "      <th>STATION</th>\n",
       "      <th>Traffic</th>\n",
       "    </tr>\n",
       "  </thead>\n",
       "  <tbody>\n",
       "    <tr>\n",
       "      <th>0</th>\n",
       "      <td>1 AV</td>\n",
       "      <td>1378353055191</td>\n",
       "    </tr>\n",
       "    <tr>\n",
       "      <th>1</th>\n",
       "      <td>103 ST</td>\n",
       "      <td>806847481771</td>\n",
       "    </tr>\n",
       "    <tr>\n",
       "      <th>2</th>\n",
       "      <td>103 ST-CORONA</td>\n",
       "      <td>67519250622</td>\n",
       "    </tr>\n",
       "    <tr>\n",
       "      <th>3</th>\n",
       "      <td>104 ST</td>\n",
       "      <td>3878362727391</td>\n",
       "    </tr>\n",
       "    <tr>\n",
       "      <th>4</th>\n",
       "      <td>110 ST</td>\n",
       "      <td>34617818646</td>\n",
       "    </tr>\n",
       "  </tbody>\n",
       "</table>\n",
       "</div>"
      ],
      "text/plain": [
       "         STATION        Traffic\n",
       "0           1 AV  1378353055191\n",
       "1         103 ST   806847481771\n",
       "2  103 ST-CORONA    67519250622\n",
       "3         104 ST  3878362727391\n",
       "4         110 ST    34617818646"
      ]
     },
     "execution_count": 15,
     "metadata": {},
     "output_type": "execute_result"
    }
   ],
   "source": [
    "station_traffic.head()"
   ]
  },
  {
   "cell_type": "code",
   "execution_count": 16,
   "metadata": {},
   "outputs": [
    {
     "data": {
      "text/html": [
       "<div>\n",
       "<style scoped>\n",
       "    .dataframe tbody tr th:only-of-type {\n",
       "        vertical-align: middle;\n",
       "    }\n",
       "\n",
       "    .dataframe tbody tr th {\n",
       "        vertical-align: top;\n",
       "    }\n",
       "\n",
       "    .dataframe thead th {\n",
       "        text-align: right;\n",
       "    }\n",
       "</style>\n",
       "<table border=\"1\" class=\"dataframe\">\n",
       "  <thead>\n",
       "    <tr style=\"text-align: right;\">\n",
       "      <th></th>\n",
       "      <th>C/A</th>\n",
       "      <th>UNIT</th>\n",
       "      <th>SCP</th>\n",
       "      <th>STATION</th>\n",
       "      <th>LINENAME</th>\n",
       "      <th>DIVISION</th>\n",
       "      <th>DATE</th>\n",
       "      <th>TIME</th>\n",
       "      <th>DESC</th>\n",
       "      <th>ENTRIES</th>\n",
       "      <th>EXITS</th>\n",
       "      <th>Traffic</th>\n",
       "    </tr>\n",
       "  </thead>\n",
       "  <tbody>\n",
       "    <tr>\n",
       "      <th>0</th>\n",
       "      <td>A002</td>\n",
       "      <td>R051</td>\n",
       "      <td>02-00-00</td>\n",
       "      <td>59 ST</td>\n",
       "      <td>NQR456W</td>\n",
       "      <td>BMT</td>\n",
       "      <td>05/11/2019</td>\n",
       "      <td>00:00:00</td>\n",
       "      <td>REGULAR</td>\n",
       "      <td>7053483</td>\n",
       "      <td>2390505</td>\n",
       "      <td>9443988</td>\n",
       "    </tr>\n",
       "    <tr>\n",
       "      <th>1</th>\n",
       "      <td>A002</td>\n",
       "      <td>R051</td>\n",
       "      <td>02-00-00</td>\n",
       "      <td>59 ST</td>\n",
       "      <td>NQR456W</td>\n",
       "      <td>BMT</td>\n",
       "      <td>05/11/2019</td>\n",
       "      <td>04:00:00</td>\n",
       "      <td>REGULAR</td>\n",
       "      <td>7053511</td>\n",
       "      <td>2390508</td>\n",
       "      <td>9444019</td>\n",
       "    </tr>\n",
       "    <tr>\n",
       "      <th>2</th>\n",
       "      <td>A002</td>\n",
       "      <td>R051</td>\n",
       "      <td>02-00-00</td>\n",
       "      <td>59 ST</td>\n",
       "      <td>NQR456W</td>\n",
       "      <td>BMT</td>\n",
       "      <td>05/11/2019</td>\n",
       "      <td>08:00:00</td>\n",
       "      <td>REGULAR</td>\n",
       "      <td>7053534</td>\n",
       "      <td>2390536</td>\n",
       "      <td>9444070</td>\n",
       "    </tr>\n",
       "    <tr>\n",
       "      <th>3</th>\n",
       "      <td>A002</td>\n",
       "      <td>R051</td>\n",
       "      <td>02-00-00</td>\n",
       "      <td>59 ST</td>\n",
       "      <td>NQR456W</td>\n",
       "      <td>BMT</td>\n",
       "      <td>05/11/2019</td>\n",
       "      <td>12:00:00</td>\n",
       "      <td>REGULAR</td>\n",
       "      <td>7053618</td>\n",
       "      <td>2390596</td>\n",
       "      <td>9444214</td>\n",
       "    </tr>\n",
       "    <tr>\n",
       "      <th>4</th>\n",
       "      <td>A002</td>\n",
       "      <td>R051</td>\n",
       "      <td>02-00-00</td>\n",
       "      <td>59 ST</td>\n",
       "      <td>NQR456W</td>\n",
       "      <td>BMT</td>\n",
       "      <td>05/11/2019</td>\n",
       "      <td>16:00:00</td>\n",
       "      <td>REGULAR</td>\n",
       "      <td>7053841</td>\n",
       "      <td>2390655</td>\n",
       "      <td>9444496</td>\n",
       "    </tr>\n",
       "  </tbody>\n",
       "</table>\n",
       "</div>"
      ],
      "text/plain": [
       "    C/A  UNIT       SCP STATION LINENAME DIVISION        DATE      TIME  \\\n",
       "0  A002  R051  02-00-00   59 ST  NQR456W      BMT  05/11/2019  00:00:00   \n",
       "1  A002  R051  02-00-00   59 ST  NQR456W      BMT  05/11/2019  04:00:00   \n",
       "2  A002  R051  02-00-00   59 ST  NQR456W      BMT  05/11/2019  08:00:00   \n",
       "3  A002  R051  02-00-00   59 ST  NQR456W      BMT  05/11/2019  12:00:00   \n",
       "4  A002  R051  02-00-00   59 ST  NQR456W      BMT  05/11/2019  16:00:00   \n",
       "\n",
       "      DESC  ENTRIES    EXITS  Traffic  \n",
       "0  REGULAR  7053483  2390505  9443988  \n",
       "1  REGULAR  7053511  2390508  9444019  \n",
       "2  REGULAR  7053534  2390536  9444070  \n",
       "3  REGULAR  7053618  2390596  9444214  \n",
       "4  REGULAR  7053841  2390655  9444496  "
      ]
     },
     "execution_count": 16,
     "metadata": {},
     "output_type": "execute_result"
    }
   ],
   "source": [
    "combined_data.head()"
   ]
  },
  {
   "cell_type": "code",
   "execution_count": 17,
   "metadata": {},
   "outputs": [
    {
     "data": {
      "text/plain": [
       "['59 ST', '59 ST', '59 ST', '59 ST', '59 ST']"
      ]
     },
     "execution_count": 17,
     "metadata": {},
     "output_type": "execute_result"
    }
   ],
   "source": [
    "combined_data['STATION'][0:5].tolist()"
   ]
  },
  {
   "cell_type": "markdown",
   "metadata": {},
   "source": [
    "### Loading in 2019 MLB Schedule CSV"
   ]
  },
  {
   "cell_type": "code",
   "execution_count": 18,
   "metadata": {},
   "outputs": [
    {
     "data": {
      "text/plain": [
       "'/Users/patrickbovard/Documents/GitHubRepos/mta-project-1/CSVs'"
      ]
     },
     "execution_count": 18,
     "metadata": {},
     "output_type": "execute_result"
    }
   ],
   "source": [
    "pwd"
   ]
  },
  {
   "cell_type": "code",
   "execution_count": 19,
   "metadata": {},
   "outputs": [],
   "source": [
    "schedule_2019 = pd.read_csv(\"2019SKED.TXT\")"
   ]
  },
  {
   "cell_type": "code",
   "execution_count": 20,
   "metadata": {},
   "outputs": [
    {
     "data": {
      "text/html": [
       "<div>\n",
       "<style scoped>\n",
       "    .dataframe tbody tr th:only-of-type {\n",
       "        vertical-align: middle;\n",
       "    }\n",
       "\n",
       "    .dataframe tbody tr th {\n",
       "        vertical-align: top;\n",
       "    }\n",
       "\n",
       "    .dataframe thead th {\n",
       "        text-align: right;\n",
       "    }\n",
       "</style>\n",
       "<table border=\"1\" class=\"dataframe\">\n",
       "  <thead>\n",
       "    <tr style=\"text-align: right;\">\n",
       "      <th></th>\n",
       "      <th>20190320</th>\n",
       "      <th>0</th>\n",
       "      <th>Wed</th>\n",
       "      <th>SEA</th>\n",
       "      <th>AL</th>\n",
       "      <th>1</th>\n",
       "      <th>OAK</th>\n",
       "      <th>AL.1</th>\n",
       "      <th>1.1</th>\n",
       "      <th>n</th>\n",
       "      <th>Unnamed: 10</th>\n",
       "      <th>Unnamed: 11</th>\n",
       "    </tr>\n",
       "  </thead>\n",
       "  <tbody>\n",
       "    <tr>\n",
       "      <th>0</th>\n",
       "      <td>20190321</td>\n",
       "      <td>0</td>\n",
       "      <td>Thu</td>\n",
       "      <td>SEA</td>\n",
       "      <td>AL</td>\n",
       "      <td>2</td>\n",
       "      <td>OAK</td>\n",
       "      <td>AL</td>\n",
       "      <td>2</td>\n",
       "      <td>n</td>\n",
       "      <td>NaN</td>\n",
       "      <td>NaN</td>\n",
       "    </tr>\n",
       "    <tr>\n",
       "      <th>1</th>\n",
       "      <td>20190328</td>\n",
       "      <td>0</td>\n",
       "      <td>Thu</td>\n",
       "      <td>ANA</td>\n",
       "      <td>AL</td>\n",
       "      <td>1</td>\n",
       "      <td>OAK</td>\n",
       "      <td>AL</td>\n",
       "      <td>3</td>\n",
       "      <td>d</td>\n",
       "      <td>NaN</td>\n",
       "      <td>NaN</td>\n",
       "    </tr>\n",
       "    <tr>\n",
       "      <th>2</th>\n",
       "      <td>20190328</td>\n",
       "      <td>0</td>\n",
       "      <td>Thu</td>\n",
       "      <td>ARI</td>\n",
       "      <td>NL</td>\n",
       "      <td>1</td>\n",
       "      <td>LAN</td>\n",
       "      <td>NL</td>\n",
       "      <td>1</td>\n",
       "      <td>d</td>\n",
       "      <td>NaN</td>\n",
       "      <td>NaN</td>\n",
       "    </tr>\n",
       "    <tr>\n",
       "      <th>3</th>\n",
       "      <td>20190328</td>\n",
       "      <td>0</td>\n",
       "      <td>Thu</td>\n",
       "      <td>ATL</td>\n",
       "      <td>NL</td>\n",
       "      <td>1</td>\n",
       "      <td>PHI</td>\n",
       "      <td>NL</td>\n",
       "      <td>1</td>\n",
       "      <td>d</td>\n",
       "      <td>NaN</td>\n",
       "      <td>NaN</td>\n",
       "    </tr>\n",
       "    <tr>\n",
       "      <th>4</th>\n",
       "      <td>20190328</td>\n",
       "      <td>0</td>\n",
       "      <td>Thu</td>\n",
       "      <td>BAL</td>\n",
       "      <td>AL</td>\n",
       "      <td>1</td>\n",
       "      <td>NYA</td>\n",
       "      <td>AL</td>\n",
       "      <td>1</td>\n",
       "      <td>d</td>\n",
       "      <td>NaN</td>\n",
       "      <td>NaN</td>\n",
       "    </tr>\n",
       "  </tbody>\n",
       "</table>\n",
       "</div>"
      ],
      "text/plain": [
       "   20190320  0  Wed  SEA  AL  1  OAK AL.1  1.1  n Unnamed: 10 Unnamed: 11\n",
       "0  20190321  0  Thu  SEA  AL  2  OAK   AL    2  n         NaN         NaN\n",
       "1  20190328  0  Thu  ANA  AL  1  OAK   AL    3  d         NaN         NaN\n",
       "2  20190328  0  Thu  ARI  NL  1  LAN   NL    1  d         NaN         NaN\n",
       "3  20190328  0  Thu  ATL  NL  1  PHI   NL    1  d         NaN         NaN\n",
       "4  20190328  0  Thu  BAL  AL  1  NYA   AL    1  d         NaN         NaN"
      ]
     },
     "execution_count": 20,
     "metadata": {},
     "output_type": "execute_result"
    }
   ],
   "source": [
    "schedule_2019.head()"
   ]
  },
  {
   "cell_type": "markdown",
   "metadata": {},
   "source": [
    "Columns are the first row, need to rename."
   ]
  },
  {
   "cell_type": "code",
   "execution_count": 21,
   "metadata": {},
   "outputs": [],
   "source": [
    "schedule_2019.columns=['Date','GameNumber','WeekDay','VisitingTeam','VisitingTeamLeague','VisitingTeamGame','HomeTeam','HomeTeamLeague','HomeTeamGame','GameTime','CancelIndicator','MakeUpDate']"
   ]
  },
  {
   "cell_type": "code",
   "execution_count": 22,
   "metadata": {},
   "outputs": [
    {
     "data": {
      "text/html": [
       "<div>\n",
       "<style scoped>\n",
       "    .dataframe tbody tr th:only-of-type {\n",
       "        vertical-align: middle;\n",
       "    }\n",
       "\n",
       "    .dataframe tbody tr th {\n",
       "        vertical-align: top;\n",
       "    }\n",
       "\n",
       "    .dataframe thead th {\n",
       "        text-align: right;\n",
       "    }\n",
       "</style>\n",
       "<table border=\"1\" class=\"dataframe\">\n",
       "  <thead>\n",
       "    <tr style=\"text-align: right;\">\n",
       "      <th></th>\n",
       "      <th>Date</th>\n",
       "      <th>GameNumber</th>\n",
       "      <th>WeekDay</th>\n",
       "      <th>VisitingTeam</th>\n",
       "      <th>VisitingTeamLeague</th>\n",
       "      <th>VisitingTeamGame</th>\n",
       "      <th>HomeTeam</th>\n",
       "      <th>HomeTeamLeague</th>\n",
       "      <th>HomeTeamGame</th>\n",
       "      <th>GameTime</th>\n",
       "      <th>CancelIndicator</th>\n",
       "      <th>MakeUpDate</th>\n",
       "    </tr>\n",
       "  </thead>\n",
       "  <tbody>\n",
       "    <tr>\n",
       "      <th>0</th>\n",
       "      <td>20190321</td>\n",
       "      <td>0</td>\n",
       "      <td>Thu</td>\n",
       "      <td>SEA</td>\n",
       "      <td>AL</td>\n",
       "      <td>2</td>\n",
       "      <td>OAK</td>\n",
       "      <td>AL</td>\n",
       "      <td>2</td>\n",
       "      <td>n</td>\n",
       "      <td>NaN</td>\n",
       "      <td>NaN</td>\n",
       "    </tr>\n",
       "    <tr>\n",
       "      <th>1</th>\n",
       "      <td>20190328</td>\n",
       "      <td>0</td>\n",
       "      <td>Thu</td>\n",
       "      <td>ANA</td>\n",
       "      <td>AL</td>\n",
       "      <td>1</td>\n",
       "      <td>OAK</td>\n",
       "      <td>AL</td>\n",
       "      <td>3</td>\n",
       "      <td>d</td>\n",
       "      <td>NaN</td>\n",
       "      <td>NaN</td>\n",
       "    </tr>\n",
       "    <tr>\n",
       "      <th>2</th>\n",
       "      <td>20190328</td>\n",
       "      <td>0</td>\n",
       "      <td>Thu</td>\n",
       "      <td>ARI</td>\n",
       "      <td>NL</td>\n",
       "      <td>1</td>\n",
       "      <td>LAN</td>\n",
       "      <td>NL</td>\n",
       "      <td>1</td>\n",
       "      <td>d</td>\n",
       "      <td>NaN</td>\n",
       "      <td>NaN</td>\n",
       "    </tr>\n",
       "    <tr>\n",
       "      <th>3</th>\n",
       "      <td>20190328</td>\n",
       "      <td>0</td>\n",
       "      <td>Thu</td>\n",
       "      <td>ATL</td>\n",
       "      <td>NL</td>\n",
       "      <td>1</td>\n",
       "      <td>PHI</td>\n",
       "      <td>NL</td>\n",
       "      <td>1</td>\n",
       "      <td>d</td>\n",
       "      <td>NaN</td>\n",
       "      <td>NaN</td>\n",
       "    </tr>\n",
       "    <tr>\n",
       "      <th>4</th>\n",
       "      <td>20190328</td>\n",
       "      <td>0</td>\n",
       "      <td>Thu</td>\n",
       "      <td>BAL</td>\n",
       "      <td>AL</td>\n",
       "      <td>1</td>\n",
       "      <td>NYA</td>\n",
       "      <td>AL</td>\n",
       "      <td>1</td>\n",
       "      <td>d</td>\n",
       "      <td>NaN</td>\n",
       "      <td>NaN</td>\n",
       "    </tr>\n",
       "  </tbody>\n",
       "</table>\n",
       "</div>"
      ],
      "text/plain": [
       "       Date  GameNumber WeekDay VisitingTeam VisitingTeamLeague  \\\n",
       "0  20190321           0     Thu          SEA                 AL   \n",
       "1  20190328           0     Thu          ANA                 AL   \n",
       "2  20190328           0     Thu          ARI                 NL   \n",
       "3  20190328           0     Thu          ATL                 NL   \n",
       "4  20190328           0     Thu          BAL                 AL   \n",
       "\n",
       "   VisitingTeamGame HomeTeam HomeTeamLeague  HomeTeamGame GameTime  \\\n",
       "0                 2      OAK             AL             2        n   \n",
       "1                 1      OAK             AL             3        d   \n",
       "2                 1      LAN             NL             1        d   \n",
       "3                 1      PHI             NL             1        d   \n",
       "4                 1      NYA             AL             1        d   \n",
       "\n",
       "  CancelIndicator MakeUpDate  \n",
       "0             NaN        NaN  \n",
       "1             NaN        NaN  \n",
       "2             NaN        NaN  \n",
       "3             NaN        NaN  \n",
       "4             NaN        NaN  "
      ]
     },
     "execution_count": 22,
     "metadata": {},
     "output_type": "execute_result"
    }
   ],
   "source": [
    "schedule_2019.head()"
   ]
  },
  {
   "cell_type": "code",
   "execution_count": 23,
   "metadata": {},
   "outputs": [],
   "source": [
    "schedule_2019['DateTime'] = pd.to_datetime(schedule_2019.Date, format='%Y%m%d')"
   ]
  },
  {
   "cell_type": "code",
   "execution_count": 24,
   "metadata": {},
   "outputs": [
    {
     "data": {
      "text/html": [
       "<div>\n",
       "<style scoped>\n",
       "    .dataframe tbody tr th:only-of-type {\n",
       "        vertical-align: middle;\n",
       "    }\n",
       "\n",
       "    .dataframe tbody tr th {\n",
       "        vertical-align: top;\n",
       "    }\n",
       "\n",
       "    .dataframe thead th {\n",
       "        text-align: right;\n",
       "    }\n",
       "</style>\n",
       "<table border=\"1\" class=\"dataframe\">\n",
       "  <thead>\n",
       "    <tr style=\"text-align: right;\">\n",
       "      <th></th>\n",
       "      <th>Date</th>\n",
       "      <th>GameNumber</th>\n",
       "      <th>WeekDay</th>\n",
       "      <th>VisitingTeam</th>\n",
       "      <th>VisitingTeamLeague</th>\n",
       "      <th>VisitingTeamGame</th>\n",
       "      <th>HomeTeam</th>\n",
       "      <th>HomeTeamLeague</th>\n",
       "      <th>HomeTeamGame</th>\n",
       "      <th>GameTime</th>\n",
       "      <th>CancelIndicator</th>\n",
       "      <th>MakeUpDate</th>\n",
       "      <th>DateTime</th>\n",
       "    </tr>\n",
       "  </thead>\n",
       "  <tbody>\n",
       "    <tr>\n",
       "      <th>0</th>\n",
       "      <td>20190321</td>\n",
       "      <td>0</td>\n",
       "      <td>Thu</td>\n",
       "      <td>SEA</td>\n",
       "      <td>AL</td>\n",
       "      <td>2</td>\n",
       "      <td>OAK</td>\n",
       "      <td>AL</td>\n",
       "      <td>2</td>\n",
       "      <td>n</td>\n",
       "      <td>NaN</td>\n",
       "      <td>NaN</td>\n",
       "      <td>2019-03-21</td>\n",
       "    </tr>\n",
       "    <tr>\n",
       "      <th>1</th>\n",
       "      <td>20190328</td>\n",
       "      <td>0</td>\n",
       "      <td>Thu</td>\n",
       "      <td>ANA</td>\n",
       "      <td>AL</td>\n",
       "      <td>1</td>\n",
       "      <td>OAK</td>\n",
       "      <td>AL</td>\n",
       "      <td>3</td>\n",
       "      <td>d</td>\n",
       "      <td>NaN</td>\n",
       "      <td>NaN</td>\n",
       "      <td>2019-03-28</td>\n",
       "    </tr>\n",
       "    <tr>\n",
       "      <th>2</th>\n",
       "      <td>20190328</td>\n",
       "      <td>0</td>\n",
       "      <td>Thu</td>\n",
       "      <td>ARI</td>\n",
       "      <td>NL</td>\n",
       "      <td>1</td>\n",
       "      <td>LAN</td>\n",
       "      <td>NL</td>\n",
       "      <td>1</td>\n",
       "      <td>d</td>\n",
       "      <td>NaN</td>\n",
       "      <td>NaN</td>\n",
       "      <td>2019-03-28</td>\n",
       "    </tr>\n",
       "    <tr>\n",
       "      <th>3</th>\n",
       "      <td>20190328</td>\n",
       "      <td>0</td>\n",
       "      <td>Thu</td>\n",
       "      <td>ATL</td>\n",
       "      <td>NL</td>\n",
       "      <td>1</td>\n",
       "      <td>PHI</td>\n",
       "      <td>NL</td>\n",
       "      <td>1</td>\n",
       "      <td>d</td>\n",
       "      <td>NaN</td>\n",
       "      <td>NaN</td>\n",
       "      <td>2019-03-28</td>\n",
       "    </tr>\n",
       "    <tr>\n",
       "      <th>4</th>\n",
       "      <td>20190328</td>\n",
       "      <td>0</td>\n",
       "      <td>Thu</td>\n",
       "      <td>BAL</td>\n",
       "      <td>AL</td>\n",
       "      <td>1</td>\n",
       "      <td>NYA</td>\n",
       "      <td>AL</td>\n",
       "      <td>1</td>\n",
       "      <td>d</td>\n",
       "      <td>NaN</td>\n",
       "      <td>NaN</td>\n",
       "      <td>2019-03-28</td>\n",
       "    </tr>\n",
       "  </tbody>\n",
       "</table>\n",
       "</div>"
      ],
      "text/plain": [
       "       Date  GameNumber WeekDay VisitingTeam VisitingTeamLeague  \\\n",
       "0  20190321           0     Thu          SEA                 AL   \n",
       "1  20190328           0     Thu          ANA                 AL   \n",
       "2  20190328           0     Thu          ARI                 NL   \n",
       "3  20190328           0     Thu          ATL                 NL   \n",
       "4  20190328           0     Thu          BAL                 AL   \n",
       "\n",
       "   VisitingTeamGame HomeTeam HomeTeamLeague  HomeTeamGame GameTime  \\\n",
       "0                 2      OAK             AL             2        n   \n",
       "1                 1      OAK             AL             3        d   \n",
       "2                 1      LAN             NL             1        d   \n",
       "3                 1      PHI             NL             1        d   \n",
       "4                 1      NYA             AL             1        d   \n",
       "\n",
       "  CancelIndicator MakeUpDate   DateTime  \n",
       "0             NaN        NaN 2019-03-21  \n",
       "1             NaN        NaN 2019-03-28  \n",
       "2             NaN        NaN 2019-03-28  \n",
       "3             NaN        NaN 2019-03-28  \n",
       "4             NaN        NaN 2019-03-28  "
      ]
     },
     "execution_count": 24,
     "metadata": {},
     "output_type": "execute_result"
    }
   ],
   "source": [
    "schedule_2019.head()"
   ]
  },
  {
   "cell_type": "code",
   "execution_count": 25,
   "metadata": {},
   "outputs": [
    {
     "data": {
      "text/plain": [
       "HomeTeam\n",
       "ANA    81\n",
       "ARI    81\n",
       "ATL    81\n",
       "BAL    81\n",
       "BOS    81\n",
       "CHA    81\n",
       "CHN    81\n",
       "CIN    81\n",
       "CLE    81\n",
       "COL    81\n",
       "DET    81\n",
       "HOU    81\n",
       "KCA    81\n",
       "LAN    81\n",
       "MIA    81\n",
       "MIL    81\n",
       "MIN    81\n",
       "NYA    81\n",
       "NYN    81\n",
       "OAK    80\n",
       "PHI    81\n",
       "PIT    81\n",
       "SDN    81\n",
       "SEA    81\n",
       "SFN    81\n",
       "SLN    81\n",
       "TBA    81\n",
       "TEX    81\n",
       "TOR    81\n",
       "WAS    81\n",
       "Name: GameNumber, dtype: int64"
      ]
     },
     "execution_count": 25,
     "metadata": {},
     "output_type": "execute_result"
    }
   ],
   "source": [
    "#Pulling the team abbreviations, each should have about 81 home games:\n",
    "schedule_2019.groupby(['HomeTeam']).GameNumber.count()"
   ]
  },
  {
   "cell_type": "markdown",
   "metadata": {},
   "source": [
    "Finding New York Home games, with home teams NYA (Yankees) and NYN (Mets)"
   ]
  },
  {
   "cell_type": "code",
   "execution_count": 26,
   "metadata": {},
   "outputs": [],
   "source": [
    "ny_home_games = ((schedule_2019.HomeTeam == 'NYA') |(schedule_2019.HomeTeam == 'NYN'))"
   ]
  },
  {
   "cell_type": "code",
   "execution_count": 27,
   "metadata": {},
   "outputs": [],
   "source": [
    "ny_games_2019 = schedule_2019[ny_home_games]"
   ]
  },
  {
   "cell_type": "code",
   "execution_count": 28,
   "metadata": {},
   "outputs": [
    {
     "name": "stdout",
     "output_type": "stream",
     "text": [
      "<class 'pandas.core.frame.DataFrame'>\n",
      "Int64Index: 162 entries, 4 to 2414\n",
      "Data columns (total 13 columns):\n",
      " #   Column              Non-Null Count  Dtype         \n",
      "---  ------              --------------  -----         \n",
      " 0   Date                162 non-null    int64         \n",
      " 1   GameNumber          162 non-null    int64         \n",
      " 2   WeekDay             162 non-null    object        \n",
      " 3   VisitingTeam        162 non-null    object        \n",
      " 4   VisitingTeamLeague  162 non-null    object        \n",
      " 5   VisitingTeamGame    162 non-null    int64         \n",
      " 6   HomeTeam            162 non-null    object        \n",
      " 7   HomeTeamLeague      162 non-null    object        \n",
      " 8   HomeTeamGame        162 non-null    int64         \n",
      " 9   GameTime            162 non-null    object        \n",
      " 10  CancelIndicator     6 non-null      object        \n",
      " 11  MakeUpDate          6 non-null      object        \n",
      " 12  DateTime            162 non-null    datetime64[ns]\n",
      "dtypes: datetime64[ns](1), int64(4), object(8)\n",
      "memory usage: 17.7+ KB\n"
     ]
    }
   ],
   "source": [
    "ny_games_2019.info()"
   ]
  },
  {
   "cell_type": "markdown",
   "metadata": {},
   "source": [
    "Adding Date Time to ny_games dataframe:"
   ]
  },
  {
   "cell_type": "code",
   "execution_count": 29,
   "metadata": {},
   "outputs": [
    {
     "name": "stderr",
     "output_type": "stream",
     "text": [
      "<ipython-input-29-05c8f9fc2885>:1: SettingWithCopyWarning: \n",
      "A value is trying to be set on a copy of a slice from a DataFrame.\n",
      "Try using .loc[row_indexer,col_indexer] = value instead\n",
      "\n",
      "See the caveats in the documentation: https://pandas.pydata.org/pandas-docs/stable/user_guide/indexing.html#returning-a-view-versus-a-copy\n",
      "  ny_games_2019['DateTime'] = pd.to_datetime(ny_games_2019['Date'], format='%Y%m%d')\n"
     ]
    }
   ],
   "source": [
    "ny_games_2019['DateTime'] = pd.to_datetime(ny_games_2019['Date'], format='%Y%m%d')"
   ]
  },
  {
   "cell_type": "code",
   "execution_count": 30,
   "metadata": {},
   "outputs": [
    {
     "data": {
      "text/html": [
       "<div>\n",
       "<style scoped>\n",
       "    .dataframe tbody tr th:only-of-type {\n",
       "        vertical-align: middle;\n",
       "    }\n",
       "\n",
       "    .dataframe tbody tr th {\n",
       "        vertical-align: top;\n",
       "    }\n",
       "\n",
       "    .dataframe thead th {\n",
       "        text-align: right;\n",
       "    }\n",
       "</style>\n",
       "<table border=\"1\" class=\"dataframe\">\n",
       "  <thead>\n",
       "    <tr style=\"text-align: right;\">\n",
       "      <th></th>\n",
       "      <th>Date</th>\n",
       "      <th>GameNumber</th>\n",
       "      <th>WeekDay</th>\n",
       "      <th>VisitingTeam</th>\n",
       "      <th>VisitingTeamLeague</th>\n",
       "      <th>VisitingTeamGame</th>\n",
       "      <th>HomeTeam</th>\n",
       "      <th>HomeTeamLeague</th>\n",
       "      <th>HomeTeamGame</th>\n",
       "      <th>GameTime</th>\n",
       "      <th>CancelIndicator</th>\n",
       "      <th>MakeUpDate</th>\n",
       "      <th>DateTime</th>\n",
       "    </tr>\n",
       "  </thead>\n",
       "  <tbody>\n",
       "    <tr>\n",
       "      <th>4</th>\n",
       "      <td>20190328</td>\n",
       "      <td>0</td>\n",
       "      <td>Thu</td>\n",
       "      <td>BAL</td>\n",
       "      <td>AL</td>\n",
       "      <td>1</td>\n",
       "      <td>NYA</td>\n",
       "      <td>AL</td>\n",
       "      <td>1</td>\n",
       "      <td>d</td>\n",
       "      <td>NaN</td>\n",
       "      <td>NaN</td>\n",
       "      <td>2019-03-28</td>\n",
       "    </tr>\n",
       "    <tr>\n",
       "      <th>27</th>\n",
       "      <td>20190330</td>\n",
       "      <td>0</td>\n",
       "      <td>Sat</td>\n",
       "      <td>BAL</td>\n",
       "      <td>AL</td>\n",
       "      <td>2</td>\n",
       "      <td>NYA</td>\n",
       "      <td>AL</td>\n",
       "      <td>2</td>\n",
       "      <td>d</td>\n",
       "      <td>NaN</td>\n",
       "      <td>NaN</td>\n",
       "      <td>2019-03-30</td>\n",
       "    </tr>\n",
       "    <tr>\n",
       "      <th>42</th>\n",
       "      <td>20190331</td>\n",
       "      <td>0</td>\n",
       "      <td>Sun</td>\n",
       "      <td>BAL</td>\n",
       "      <td>AL</td>\n",
       "      <td>3</td>\n",
       "      <td>NYA</td>\n",
       "      <td>AL</td>\n",
       "      <td>3</td>\n",
       "      <td>d</td>\n",
       "      <td>NaN</td>\n",
       "      <td>NaN</td>\n",
       "      <td>2019-03-31</td>\n",
       "    </tr>\n",
       "    <tr>\n",
       "      <th>61</th>\n",
       "      <td>20190401</td>\n",
       "      <td>0</td>\n",
       "      <td>Mon</td>\n",
       "      <td>DET</td>\n",
       "      <td>AL</td>\n",
       "      <td>5</td>\n",
       "      <td>NYA</td>\n",
       "      <td>AL</td>\n",
       "      <td>4</td>\n",
       "      <td>n</td>\n",
       "      <td>NaN</td>\n",
       "      <td>NaN</td>\n",
       "      <td>2019-04-01</td>\n",
       "    </tr>\n",
       "    <tr>\n",
       "      <th>72</th>\n",
       "      <td>20190402</td>\n",
       "      <td>0</td>\n",
       "      <td>Tue</td>\n",
       "      <td>DET</td>\n",
       "      <td>AL</td>\n",
       "      <td>6</td>\n",
       "      <td>NYA</td>\n",
       "      <td>AL</td>\n",
       "      <td>5</td>\n",
       "      <td>n</td>\n",
       "      <td>NaN</td>\n",
       "      <td>NaN</td>\n",
       "      <td>2019-04-02</td>\n",
       "    </tr>\n",
       "    <tr>\n",
       "      <th>...</th>\n",
       "      <td>...</td>\n",
       "      <td>...</td>\n",
       "      <td>...</td>\n",
       "      <td>...</td>\n",
       "      <td>...</td>\n",
       "      <td>...</td>\n",
       "      <td>...</td>\n",
       "      <td>...</td>\n",
       "      <td>...</td>\n",
       "      <td>...</td>\n",
       "      <td>...</td>\n",
       "      <td>...</td>\n",
       "      <td>...</td>\n",
       "    </tr>\n",
       "    <tr>\n",
       "      <th>2366</th>\n",
       "      <td>20190925</td>\n",
       "      <td>0</td>\n",
       "      <td>Wed</td>\n",
       "      <td>MIA</td>\n",
       "      <td>NL</td>\n",
       "      <td>158</td>\n",
       "      <td>NYN</td>\n",
       "      <td>NL</td>\n",
       "      <td>158</td>\n",
       "      <td>n</td>\n",
       "      <td>NaN</td>\n",
       "      <td>NaN</td>\n",
       "      <td>2019-09-25</td>\n",
       "    </tr>\n",
       "    <tr>\n",
       "      <th>2379</th>\n",
       "      <td>20190926</td>\n",
       "      <td>0</td>\n",
       "      <td>Thu</td>\n",
       "      <td>MIA</td>\n",
       "      <td>NL</td>\n",
       "      <td>159</td>\n",
       "      <td>NYN</td>\n",
       "      <td>NL</td>\n",
       "      <td>159</td>\n",
       "      <td>n</td>\n",
       "      <td>NaN</td>\n",
       "      <td>NaN</td>\n",
       "      <td>2019-09-26</td>\n",
       "    </tr>\n",
       "    <tr>\n",
       "      <th>2384</th>\n",
       "      <td>20190927</td>\n",
       "      <td>0</td>\n",
       "      <td>Fri</td>\n",
       "      <td>ATL</td>\n",
       "      <td>NL</td>\n",
       "      <td>160</td>\n",
       "      <td>NYN</td>\n",
       "      <td>NL</td>\n",
       "      <td>160</td>\n",
       "      <td>n</td>\n",
       "      <td>NaN</td>\n",
       "      <td>NaN</td>\n",
       "      <td>2019-09-27</td>\n",
       "    </tr>\n",
       "    <tr>\n",
       "      <th>2399</th>\n",
       "      <td>20190928</td>\n",
       "      <td>0</td>\n",
       "      <td>Sat</td>\n",
       "      <td>ATL</td>\n",
       "      <td>NL</td>\n",
       "      <td>161</td>\n",
       "      <td>NYN</td>\n",
       "      <td>NL</td>\n",
       "      <td>161</td>\n",
       "      <td>n</td>\n",
       "      <td>NaN</td>\n",
       "      <td>NaN</td>\n",
       "      <td>2019-09-28</td>\n",
       "    </tr>\n",
       "    <tr>\n",
       "      <th>2414</th>\n",
       "      <td>20190929</td>\n",
       "      <td>0</td>\n",
       "      <td>Sun</td>\n",
       "      <td>ATL</td>\n",
       "      <td>NL</td>\n",
       "      <td>162</td>\n",
       "      <td>NYN</td>\n",
       "      <td>NL</td>\n",
       "      <td>162</td>\n",
       "      <td>d</td>\n",
       "      <td>NaN</td>\n",
       "      <td>NaN</td>\n",
       "      <td>2019-09-29</td>\n",
       "    </tr>\n",
       "  </tbody>\n",
       "</table>\n",
       "<p>162 rows × 13 columns</p>\n",
       "</div>"
      ],
      "text/plain": [
       "          Date  GameNumber WeekDay VisitingTeam VisitingTeamLeague  \\\n",
       "4     20190328           0     Thu          BAL                 AL   \n",
       "27    20190330           0     Sat          BAL                 AL   \n",
       "42    20190331           0     Sun          BAL                 AL   \n",
       "61    20190401           0     Mon          DET                 AL   \n",
       "72    20190402           0     Tue          DET                 AL   \n",
       "...        ...         ...     ...          ...                ...   \n",
       "2366  20190925           0     Wed          MIA                 NL   \n",
       "2379  20190926           0     Thu          MIA                 NL   \n",
       "2384  20190927           0     Fri          ATL                 NL   \n",
       "2399  20190928           0     Sat          ATL                 NL   \n",
       "2414  20190929           0     Sun          ATL                 NL   \n",
       "\n",
       "      VisitingTeamGame HomeTeam HomeTeamLeague  HomeTeamGame GameTime  \\\n",
       "4                    1      NYA             AL             1        d   \n",
       "27                   2      NYA             AL             2        d   \n",
       "42                   3      NYA             AL             3        d   \n",
       "61                   5      NYA             AL             4        n   \n",
       "72                   6      NYA             AL             5        n   \n",
       "...                ...      ...            ...           ...      ...   \n",
       "2366               158      NYN             NL           158        n   \n",
       "2379               159      NYN             NL           159        n   \n",
       "2384               160      NYN             NL           160        n   \n",
       "2399               161      NYN             NL           161        n   \n",
       "2414               162      NYN             NL           162        d   \n",
       "\n",
       "     CancelIndicator MakeUpDate   DateTime  \n",
       "4                NaN        NaN 2019-03-28  \n",
       "27               NaN        NaN 2019-03-30  \n",
       "42               NaN        NaN 2019-03-31  \n",
       "61               NaN        NaN 2019-04-01  \n",
       "72               NaN        NaN 2019-04-02  \n",
       "...              ...        ...        ...  \n",
       "2366             NaN        NaN 2019-09-25  \n",
       "2379             NaN        NaN 2019-09-26  \n",
       "2384             NaN        NaN 2019-09-27  \n",
       "2399             NaN        NaN 2019-09-28  \n",
       "2414             NaN        NaN 2019-09-29  \n",
       "\n",
       "[162 rows x 13 columns]"
      ]
     },
     "execution_count": 30,
     "metadata": {},
     "output_type": "execute_result"
    }
   ],
   "source": [
    "ny_games_2019"
   ]
  },
  {
   "cell_type": "code",
   "execution_count": 31,
   "metadata": {},
   "outputs": [
    {
     "name": "stderr",
     "output_type": "stream",
     "text": [
      "/Users/patrickbovard/opt/anaconda3/lib/python3.8/site-packages/pandas/core/frame.py:4163: SettingWithCopyWarning: \n",
      "A value is trying to be set on a copy of a slice from a DataFrame\n",
      "\n",
      "See the caveats in the documentation: https://pandas.pydata.org/pandas-docs/stable/user_guide/indexing.html#returning-a-view-versus-a-copy\n",
      "  return super().drop(\n"
     ]
    }
   ],
   "source": [
    "#Dropping columns that are not needed for merging the files\n",
    "ny_games_2019.drop(columns = ['Date', 'GameNumber','VisitingTeam','VisitingTeamLeague','VisitingTeamGame', 'CancelIndicator','MakeUpDate'], inplace=True)"
   ]
  },
  {
   "cell_type": "code",
   "execution_count": 32,
   "metadata": {},
   "outputs": [
    {
     "data": {
      "text/html": [
       "<div>\n",
       "<style scoped>\n",
       "    .dataframe tbody tr th:only-of-type {\n",
       "        vertical-align: middle;\n",
       "    }\n",
       "\n",
       "    .dataframe tbody tr th {\n",
       "        vertical-align: top;\n",
       "    }\n",
       "\n",
       "    .dataframe thead th {\n",
       "        text-align: right;\n",
       "    }\n",
       "</style>\n",
       "<table border=\"1\" class=\"dataframe\">\n",
       "  <thead>\n",
       "    <tr style=\"text-align: right;\">\n",
       "      <th></th>\n",
       "      <th>WeekDay</th>\n",
       "      <th>HomeTeam</th>\n",
       "      <th>HomeTeamLeague</th>\n",
       "      <th>HomeTeamGame</th>\n",
       "      <th>GameTime</th>\n",
       "      <th>DateTime</th>\n",
       "    </tr>\n",
       "  </thead>\n",
       "  <tbody>\n",
       "    <tr>\n",
       "      <th>4</th>\n",
       "      <td>Thu</td>\n",
       "      <td>NYA</td>\n",
       "      <td>AL</td>\n",
       "      <td>1</td>\n",
       "      <td>d</td>\n",
       "      <td>2019-03-28</td>\n",
       "    </tr>\n",
       "    <tr>\n",
       "      <th>27</th>\n",
       "      <td>Sat</td>\n",
       "      <td>NYA</td>\n",
       "      <td>AL</td>\n",
       "      <td>2</td>\n",
       "      <td>d</td>\n",
       "      <td>2019-03-30</td>\n",
       "    </tr>\n",
       "    <tr>\n",
       "      <th>42</th>\n",
       "      <td>Sun</td>\n",
       "      <td>NYA</td>\n",
       "      <td>AL</td>\n",
       "      <td>3</td>\n",
       "      <td>d</td>\n",
       "      <td>2019-03-31</td>\n",
       "    </tr>\n",
       "    <tr>\n",
       "      <th>61</th>\n",
       "      <td>Mon</td>\n",
       "      <td>NYA</td>\n",
       "      <td>AL</td>\n",
       "      <td>4</td>\n",
       "      <td>n</td>\n",
       "      <td>2019-04-01</td>\n",
       "    </tr>\n",
       "    <tr>\n",
       "      <th>72</th>\n",
       "      <td>Tue</td>\n",
       "      <td>NYA</td>\n",
       "      <td>AL</td>\n",
       "      <td>5</td>\n",
       "      <td>n</td>\n",
       "      <td>2019-04-02</td>\n",
       "    </tr>\n",
       "  </tbody>\n",
       "</table>\n",
       "</div>"
      ],
      "text/plain": [
       "   WeekDay HomeTeam HomeTeamLeague  HomeTeamGame GameTime   DateTime\n",
       "4      Thu      NYA             AL             1        d 2019-03-28\n",
       "27     Sat      NYA             AL             2        d 2019-03-30\n",
       "42     Sun      NYA             AL             3        d 2019-03-31\n",
       "61     Mon      NYA             AL             4        n 2019-04-01\n",
       "72     Tue      NYA             AL             5        n 2019-04-02"
      ]
     },
     "execution_count": 32,
     "metadata": {},
     "output_type": "execute_result"
    }
   ],
   "source": [
    "ny_games_2019.head()"
   ]
  },
  {
   "cell_type": "code",
   "execution_count": 33,
   "metadata": {},
   "outputs": [
    {
     "data": {
      "text/html": [
       "<div>\n",
       "<style scoped>\n",
       "    .dataframe tbody tr th:only-of-type {\n",
       "        vertical-align: middle;\n",
       "    }\n",
       "\n",
       "    .dataframe tbody tr th {\n",
       "        vertical-align: top;\n",
       "    }\n",
       "\n",
       "    .dataframe thead th {\n",
       "        text-align: right;\n",
       "    }\n",
       "</style>\n",
       "<table border=\"1\" class=\"dataframe\">\n",
       "  <thead>\n",
       "    <tr style=\"text-align: right;\">\n",
       "      <th></th>\n",
       "      <th>DateTime</th>\n",
       "      <th>HomeTeam</th>\n",
       "      <th>HomeTeamGame</th>\n",
       "    </tr>\n",
       "  </thead>\n",
       "  <tbody>\n",
       "    <tr>\n",
       "      <th>0</th>\n",
       "      <td>2019-03-28</td>\n",
       "      <td>NYA</td>\n",
       "      <td>1</td>\n",
       "    </tr>\n",
       "    <tr>\n",
       "      <th>1</th>\n",
       "      <td>2019-03-30</td>\n",
       "      <td>NYA</td>\n",
       "      <td>1</td>\n",
       "    </tr>\n",
       "    <tr>\n",
       "      <th>2</th>\n",
       "      <td>2019-03-31</td>\n",
       "      <td>NYA</td>\n",
       "      <td>1</td>\n",
       "    </tr>\n",
       "    <tr>\n",
       "      <th>3</th>\n",
       "      <td>2019-04-01</td>\n",
       "      <td>NYA</td>\n",
       "      <td>1</td>\n",
       "    </tr>\n",
       "    <tr>\n",
       "      <th>4</th>\n",
       "      <td>2019-04-02</td>\n",
       "      <td>NYA</td>\n",
       "      <td>1</td>\n",
       "    </tr>\n",
       "    <tr>\n",
       "      <th>...</th>\n",
       "      <td>...</td>\n",
       "      <td>...</td>\n",
       "      <td>...</td>\n",
       "    </tr>\n",
       "    <tr>\n",
       "      <th>157</th>\n",
       "      <td>2019-09-25</td>\n",
       "      <td>NYN</td>\n",
       "      <td>1</td>\n",
       "    </tr>\n",
       "    <tr>\n",
       "      <th>158</th>\n",
       "      <td>2019-09-26</td>\n",
       "      <td>NYN</td>\n",
       "      <td>1</td>\n",
       "    </tr>\n",
       "    <tr>\n",
       "      <th>159</th>\n",
       "      <td>2019-09-27</td>\n",
       "      <td>NYN</td>\n",
       "      <td>1</td>\n",
       "    </tr>\n",
       "    <tr>\n",
       "      <th>160</th>\n",
       "      <td>2019-09-28</td>\n",
       "      <td>NYN</td>\n",
       "      <td>1</td>\n",
       "    </tr>\n",
       "    <tr>\n",
       "      <th>161</th>\n",
       "      <td>2019-09-29</td>\n",
       "      <td>NYN</td>\n",
       "      <td>1</td>\n",
       "    </tr>\n",
       "  </tbody>\n",
       "</table>\n",
       "<p>162 rows × 3 columns</p>\n",
       "</div>"
      ],
      "text/plain": [
       "      DateTime HomeTeam  HomeTeamGame\n",
       "0   2019-03-28      NYA             1\n",
       "1   2019-03-30      NYA             1\n",
       "2   2019-03-31      NYA             1\n",
       "3   2019-04-01      NYA             1\n",
       "4   2019-04-02      NYA             1\n",
       "..         ...      ...           ...\n",
       "157 2019-09-25      NYN             1\n",
       "158 2019-09-26      NYN             1\n",
       "159 2019-09-27      NYN             1\n",
       "160 2019-09-28      NYN             1\n",
       "161 2019-09-29      NYN             1\n",
       "\n",
       "[162 rows x 3 columns]"
      ]
     },
     "execution_count": 33,
     "metadata": {},
     "output_type": "execute_result"
    }
   ],
   "source": [
    "ny_games_2019.groupby(['DateTime', 'HomeTeam']).HomeTeamGame.count().reset_index()"
   ]
  },
  {
   "cell_type": "markdown",
   "metadata": {},
   "source": [
    "Yankee Games only:"
   ]
  },
  {
   "cell_type": "code",
   "execution_count": 34,
   "metadata": {},
   "outputs": [
    {
     "data": {
      "text/plain": [
       "HomeTeam\n",
       "NYA    81\n",
       "dtype: int64"
      ]
     },
     "execution_count": 34,
     "metadata": {},
     "output_type": "execute_result"
    }
   ],
   "source": [
    "yankee_games = ny_games_2019[ny_games_2019.HomeTeam == 'NYA']\n",
    "yankee_games.value_counts(yankee_games.HomeTeam)"
   ]
  },
  {
   "cell_type": "markdown",
   "metadata": {},
   "source": [
    "Mets Games only:"
   ]
  },
  {
   "cell_type": "code",
   "execution_count": 35,
   "metadata": {},
   "outputs": [
    {
     "data": {
      "text/plain": [
       "HomeTeam\n",
       "NYN    81\n",
       "dtype: int64"
      ]
     },
     "execution_count": 35,
     "metadata": {},
     "output_type": "execute_result"
    }
   ],
   "source": [
    "mets_games = ny_games_2019[ny_games_2019.HomeTeam == 'NYN']\n",
    "mets_games.value_counts(mets_games.HomeTeam)"
   ]
  },
  {
   "cell_type": "markdown",
   "metadata": {},
   "source": [
    "Creating a dataframe of just the Mets/Yankee stops:"
   ]
  },
  {
   "cell_type": "code",
   "execution_count": 36,
   "metadata": {},
   "outputs": [],
   "source": [
    "stadium_stations = combined_data[(combined_data.STATION == '161/YANKEE STAD') | (combined_data.STATION == 'METS-WILLETS PT')]"
   ]
  },
  {
   "cell_type": "code",
   "execution_count": 37,
   "metadata": {},
   "outputs": [
    {
     "name": "stderr",
     "output_type": "stream",
     "text": [
      "<ipython-input-37-85dd7bdb2426>:2: SettingWithCopyWarning: \n",
      "A value is trying to be set on a copy of a slice from a DataFrame.\n",
      "Try using .loc[row_indexer,col_indexer] = value instead\n",
      "\n",
      "See the caveats in the documentation: https://pandas.pydata.org/pandas-docs/stable/user_guide/indexing.html#returning-a-view-versus-a-copy\n",
      "  stadium_stations['DateTime'] = pd.to_datetime(stadium_stations['DATE'], cache=True)\n"
     ]
    }
   ],
   "source": [
    "#Creating a DateTime object to help join to the subway data.\n",
    "stadium_stations['DateTime'] = pd.to_datetime(stadium_stations['DATE'], cache=True)"
   ]
  },
  {
   "cell_type": "code",
   "execution_count": 38,
   "metadata": {},
   "outputs": [
    {
     "data": {
      "text/html": [
       "<div>\n",
       "<style scoped>\n",
       "    .dataframe tbody tr th:only-of-type {\n",
       "        vertical-align: middle;\n",
       "    }\n",
       "\n",
       "    .dataframe tbody tr th {\n",
       "        vertical-align: top;\n",
       "    }\n",
       "\n",
       "    .dataframe thead th {\n",
       "        text-align: right;\n",
       "    }\n",
       "</style>\n",
       "<table border=\"1\" class=\"dataframe\">\n",
       "  <thead>\n",
       "    <tr style=\"text-align: right;\">\n",
       "      <th></th>\n",
       "      <th>C/A</th>\n",
       "      <th>UNIT</th>\n",
       "      <th>SCP</th>\n",
       "      <th>STATION</th>\n",
       "      <th>LINENAME</th>\n",
       "      <th>DIVISION</th>\n",
       "      <th>DATE</th>\n",
       "      <th>TIME</th>\n",
       "      <th>DESC</th>\n",
       "      <th>ENTRIES</th>\n",
       "      <th>EXITS</th>\n",
       "      <th>Traffic</th>\n",
       "      <th>DateTime</th>\n",
       "    </tr>\n",
       "  </thead>\n",
       "  <tbody>\n",
       "    <tr>\n",
       "      <th>72747</th>\n",
       "      <td>N203</td>\n",
       "      <td>R195</td>\n",
       "      <td>00-00-00</td>\n",
       "      <td>161/YANKEE STAD</td>\n",
       "      <td>BD4</td>\n",
       "      <td>IND</td>\n",
       "      <td>05/11/2019</td>\n",
       "      <td>00:22:00</td>\n",
       "      <td>REGULAR</td>\n",
       "      <td>6029974</td>\n",
       "      <td>5954320</td>\n",
       "      <td>11984294</td>\n",
       "      <td>2019-05-11</td>\n",
       "    </tr>\n",
       "    <tr>\n",
       "      <th>72748</th>\n",
       "      <td>N203</td>\n",
       "      <td>R195</td>\n",
       "      <td>00-00-00</td>\n",
       "      <td>161/YANKEE STAD</td>\n",
       "      <td>BD4</td>\n",
       "      <td>IND</td>\n",
       "      <td>05/11/2019</td>\n",
       "      <td>04:22:00</td>\n",
       "      <td>REGULAR</td>\n",
       "      <td>6029974</td>\n",
       "      <td>5954332</td>\n",
       "      <td>11984306</td>\n",
       "      <td>2019-05-11</td>\n",
       "    </tr>\n",
       "    <tr>\n",
       "      <th>72749</th>\n",
       "      <td>N203</td>\n",
       "      <td>R195</td>\n",
       "      <td>00-00-00</td>\n",
       "      <td>161/YANKEE STAD</td>\n",
       "      <td>BD4</td>\n",
       "      <td>IND</td>\n",
       "      <td>05/11/2019</td>\n",
       "      <td>08:22:00</td>\n",
       "      <td>REGULAR</td>\n",
       "      <td>6030016</td>\n",
       "      <td>5954362</td>\n",
       "      <td>11984378</td>\n",
       "      <td>2019-05-11</td>\n",
       "    </tr>\n",
       "    <tr>\n",
       "      <th>72750</th>\n",
       "      <td>N203</td>\n",
       "      <td>R195</td>\n",
       "      <td>00-00-00</td>\n",
       "      <td>161/YANKEE STAD</td>\n",
       "      <td>BD4</td>\n",
       "      <td>IND</td>\n",
       "      <td>05/11/2019</td>\n",
       "      <td>12:22:00</td>\n",
       "      <td>REGULAR</td>\n",
       "      <td>6030116</td>\n",
       "      <td>5954438</td>\n",
       "      <td>11984554</td>\n",
       "      <td>2019-05-11</td>\n",
       "    </tr>\n",
       "    <tr>\n",
       "      <th>72751</th>\n",
       "      <td>N203</td>\n",
       "      <td>R195</td>\n",
       "      <td>00-00-00</td>\n",
       "      <td>161/YANKEE STAD</td>\n",
       "      <td>BD4</td>\n",
       "      <td>IND</td>\n",
       "      <td>05/11/2019</td>\n",
       "      <td>16:22:00</td>\n",
       "      <td>REGULAR</td>\n",
       "      <td>6030269</td>\n",
       "      <td>5954564</td>\n",
       "      <td>11984833</td>\n",
       "      <td>2019-05-11</td>\n",
       "    </tr>\n",
       "  </tbody>\n",
       "</table>\n",
       "</div>"
      ],
      "text/plain": [
       "        C/A  UNIT       SCP          STATION LINENAME DIVISION        DATE  \\\n",
       "72747  N203  R195  00-00-00  161/YANKEE STAD      BD4      IND  05/11/2019   \n",
       "72748  N203  R195  00-00-00  161/YANKEE STAD      BD4      IND  05/11/2019   \n",
       "72749  N203  R195  00-00-00  161/YANKEE STAD      BD4      IND  05/11/2019   \n",
       "72750  N203  R195  00-00-00  161/YANKEE STAD      BD4      IND  05/11/2019   \n",
       "72751  N203  R195  00-00-00  161/YANKEE STAD      BD4      IND  05/11/2019   \n",
       "\n",
       "           TIME     DESC  ENTRIES    EXITS   Traffic   DateTime  \n",
       "72747  00:22:00  REGULAR  6029974  5954320  11984294 2019-05-11  \n",
       "72748  04:22:00  REGULAR  6029974  5954332  11984306 2019-05-11  \n",
       "72749  08:22:00  REGULAR  6030016  5954362  11984378 2019-05-11  \n",
       "72750  12:22:00  REGULAR  6030116  5954438  11984554 2019-05-11  \n",
       "72751  16:22:00  REGULAR  6030269  5954564  11984833 2019-05-11  "
      ]
     },
     "execution_count": 38,
     "metadata": {},
     "output_type": "execute_result"
    }
   ],
   "source": [
    "stadium_stations.head()"
   ]
  },
  {
   "cell_type": "markdown",
   "metadata": {},
   "source": [
    "Adding Games to the stadium_stations dataframe:"
   ]
  },
  {
   "cell_type": "code",
   "execution_count": 39,
   "metadata": {},
   "outputs": [
    {
     "data": {
      "text/html": [
       "<div>\n",
       "<style scoped>\n",
       "    .dataframe tbody tr th:only-of-type {\n",
       "        vertical-align: middle;\n",
       "    }\n",
       "\n",
       "    .dataframe tbody tr th {\n",
       "        vertical-align: top;\n",
       "    }\n",
       "\n",
       "    .dataframe thead th {\n",
       "        text-align: right;\n",
       "    }\n",
       "</style>\n",
       "<table border=\"1\" class=\"dataframe\">\n",
       "  <thead>\n",
       "    <tr style=\"text-align: right;\">\n",
       "      <th></th>\n",
       "      <th>C/A</th>\n",
       "      <th>UNIT</th>\n",
       "      <th>SCP</th>\n",
       "      <th>STATION</th>\n",
       "      <th>LINENAME</th>\n",
       "      <th>DIVISION</th>\n",
       "      <th>DATE</th>\n",
       "      <th>TIME</th>\n",
       "      <th>DESC</th>\n",
       "      <th>ENTRIES</th>\n",
       "      <th>EXITS</th>\n",
       "      <th>Traffic</th>\n",
       "      <th>DateTime</th>\n",
       "      <th>WeekDay</th>\n",
       "      <th>HomeTeam</th>\n",
       "      <th>HomeTeamLeague</th>\n",
       "      <th>HomeTeamGame</th>\n",
       "      <th>GameTime</th>\n",
       "    </tr>\n",
       "  </thead>\n",
       "  <tbody>\n",
       "    <tr>\n",
       "      <th>0</th>\n",
       "      <td>N203</td>\n",
       "      <td>R195</td>\n",
       "      <td>00-00-00</td>\n",
       "      <td>161/YANKEE STAD</td>\n",
       "      <td>BD4</td>\n",
       "      <td>IND</td>\n",
       "      <td>05/11/2019</td>\n",
       "      <td>00:22:00</td>\n",
       "      <td>REGULAR</td>\n",
       "      <td>6029974</td>\n",
       "      <td>5954320</td>\n",
       "      <td>11984294</td>\n",
       "      <td>2019-05-11</td>\n",
       "      <td>NaN</td>\n",
       "      <td>NaN</td>\n",
       "      <td>NaN</td>\n",
       "      <td>NaN</td>\n",
       "      <td>NaN</td>\n",
       "    </tr>\n",
       "    <tr>\n",
       "      <th>1</th>\n",
       "      <td>N203</td>\n",
       "      <td>R195</td>\n",
       "      <td>00-00-00</td>\n",
       "      <td>161/YANKEE STAD</td>\n",
       "      <td>BD4</td>\n",
       "      <td>IND</td>\n",
       "      <td>05/11/2019</td>\n",
       "      <td>04:22:00</td>\n",
       "      <td>REGULAR</td>\n",
       "      <td>6029974</td>\n",
       "      <td>5954332</td>\n",
       "      <td>11984306</td>\n",
       "      <td>2019-05-11</td>\n",
       "      <td>NaN</td>\n",
       "      <td>NaN</td>\n",
       "      <td>NaN</td>\n",
       "      <td>NaN</td>\n",
       "      <td>NaN</td>\n",
       "    </tr>\n",
       "    <tr>\n",
       "      <th>2</th>\n",
       "      <td>N203</td>\n",
       "      <td>R195</td>\n",
       "      <td>00-00-00</td>\n",
       "      <td>161/YANKEE STAD</td>\n",
       "      <td>BD4</td>\n",
       "      <td>IND</td>\n",
       "      <td>05/11/2019</td>\n",
       "      <td>08:22:00</td>\n",
       "      <td>REGULAR</td>\n",
       "      <td>6030016</td>\n",
       "      <td>5954362</td>\n",
       "      <td>11984378</td>\n",
       "      <td>2019-05-11</td>\n",
       "      <td>NaN</td>\n",
       "      <td>NaN</td>\n",
       "      <td>NaN</td>\n",
       "      <td>NaN</td>\n",
       "      <td>NaN</td>\n",
       "    </tr>\n",
       "    <tr>\n",
       "      <th>3</th>\n",
       "      <td>N203</td>\n",
       "      <td>R195</td>\n",
       "      <td>00-00-00</td>\n",
       "      <td>161/YANKEE STAD</td>\n",
       "      <td>BD4</td>\n",
       "      <td>IND</td>\n",
       "      <td>05/11/2019</td>\n",
       "      <td>12:22:00</td>\n",
       "      <td>REGULAR</td>\n",
       "      <td>6030116</td>\n",
       "      <td>5954438</td>\n",
       "      <td>11984554</td>\n",
       "      <td>2019-05-11</td>\n",
       "      <td>NaN</td>\n",
       "      <td>NaN</td>\n",
       "      <td>NaN</td>\n",
       "      <td>NaN</td>\n",
       "      <td>NaN</td>\n",
       "    </tr>\n",
       "    <tr>\n",
       "      <th>4</th>\n",
       "      <td>N203</td>\n",
       "      <td>R195</td>\n",
       "      <td>00-00-00</td>\n",
       "      <td>161/YANKEE STAD</td>\n",
       "      <td>BD4</td>\n",
       "      <td>IND</td>\n",
       "      <td>05/11/2019</td>\n",
       "      <td>16:22:00</td>\n",
       "      <td>REGULAR</td>\n",
       "      <td>6030269</td>\n",
       "      <td>5954564</td>\n",
       "      <td>11984833</td>\n",
       "      <td>2019-05-11</td>\n",
       "      <td>NaN</td>\n",
       "      <td>NaN</td>\n",
       "      <td>NaN</td>\n",
       "      <td>NaN</td>\n",
       "      <td>NaN</td>\n",
       "    </tr>\n",
       "  </tbody>\n",
       "</table>\n",
       "</div>"
      ],
      "text/plain": [
       "    C/A  UNIT       SCP          STATION LINENAME DIVISION        DATE  \\\n",
       "0  N203  R195  00-00-00  161/YANKEE STAD      BD4      IND  05/11/2019   \n",
       "1  N203  R195  00-00-00  161/YANKEE STAD      BD4      IND  05/11/2019   \n",
       "2  N203  R195  00-00-00  161/YANKEE STAD      BD4      IND  05/11/2019   \n",
       "3  N203  R195  00-00-00  161/YANKEE STAD      BD4      IND  05/11/2019   \n",
       "4  N203  R195  00-00-00  161/YANKEE STAD      BD4      IND  05/11/2019   \n",
       "\n",
       "       TIME     DESC  ENTRIES    EXITS   Traffic   DateTime WeekDay HomeTeam  \\\n",
       "0  00:22:00  REGULAR  6029974  5954320  11984294 2019-05-11     NaN      NaN   \n",
       "1  04:22:00  REGULAR  6029974  5954332  11984306 2019-05-11     NaN      NaN   \n",
       "2  08:22:00  REGULAR  6030016  5954362  11984378 2019-05-11     NaN      NaN   \n",
       "3  12:22:00  REGULAR  6030116  5954438  11984554 2019-05-11     NaN      NaN   \n",
       "4  16:22:00  REGULAR  6030269  5954564  11984833 2019-05-11     NaN      NaN   \n",
       "\n",
       "  HomeTeamLeague  HomeTeamGame GameTime  \n",
       "0            NaN           NaN      NaN  \n",
       "1            NaN           NaN      NaN  \n",
       "2            NaN           NaN      NaN  \n",
       "3            NaN           NaN      NaN  \n",
       "4            NaN           NaN      NaN  "
      ]
     },
     "execution_count": 39,
     "metadata": {},
     "output_type": "execute_result"
    }
   ],
   "source": [
    "stadium_with_yankeegames = stadium_stations.merge(yankee_games, how='left', on='DateTime')\n",
    "stadium_with_yankeegames.head()"
   ]
  },
  {
   "cell_type": "code",
   "execution_count": 40,
   "metadata": {},
   "outputs": [
    {
     "data": {
      "text/html": [
       "<div>\n",
       "<style scoped>\n",
       "    .dataframe tbody tr th:only-of-type {\n",
       "        vertical-align: middle;\n",
       "    }\n",
       "\n",
       "    .dataframe tbody tr th {\n",
       "        vertical-align: top;\n",
       "    }\n",
       "\n",
       "    .dataframe thead th {\n",
       "        text-align: right;\n",
       "    }\n",
       "</style>\n",
       "<table border=\"1\" class=\"dataframe\">\n",
       "  <thead>\n",
       "    <tr style=\"text-align: right;\">\n",
       "      <th></th>\n",
       "      <th>C/A</th>\n",
       "      <th>UNIT</th>\n",
       "      <th>SCP</th>\n",
       "      <th>STATION</th>\n",
       "      <th>LINENAME</th>\n",
       "      <th>DIVISION</th>\n",
       "      <th>DATE</th>\n",
       "      <th>TIME</th>\n",
       "      <th>DESC</th>\n",
       "      <th>ENTRIES</th>\n",
       "      <th>EXITS</th>\n",
       "      <th>Traffic</th>\n",
       "      <th>DateTime</th>\n",
       "      <th>HomeTeam</th>\n",
       "    </tr>\n",
       "  </thead>\n",
       "  <tbody>\n",
       "    <tr>\n",
       "      <th>0</th>\n",
       "      <td>N203</td>\n",
       "      <td>R195</td>\n",
       "      <td>00-00-00</td>\n",
       "      <td>161/YANKEE STAD</td>\n",
       "      <td>BD4</td>\n",
       "      <td>IND</td>\n",
       "      <td>05/11/2019</td>\n",
       "      <td>00:22:00</td>\n",
       "      <td>REGULAR</td>\n",
       "      <td>6029974</td>\n",
       "      <td>5954320</td>\n",
       "      <td>11984294</td>\n",
       "      <td>2019-05-11</td>\n",
       "      <td>NaN</td>\n",
       "    </tr>\n",
       "    <tr>\n",
       "      <th>1</th>\n",
       "      <td>N203</td>\n",
       "      <td>R195</td>\n",
       "      <td>00-00-00</td>\n",
       "      <td>161/YANKEE STAD</td>\n",
       "      <td>BD4</td>\n",
       "      <td>IND</td>\n",
       "      <td>05/11/2019</td>\n",
       "      <td>04:22:00</td>\n",
       "      <td>REGULAR</td>\n",
       "      <td>6029974</td>\n",
       "      <td>5954332</td>\n",
       "      <td>11984306</td>\n",
       "      <td>2019-05-11</td>\n",
       "      <td>NaN</td>\n",
       "    </tr>\n",
       "    <tr>\n",
       "      <th>2</th>\n",
       "      <td>N203</td>\n",
       "      <td>R195</td>\n",
       "      <td>00-00-00</td>\n",
       "      <td>161/YANKEE STAD</td>\n",
       "      <td>BD4</td>\n",
       "      <td>IND</td>\n",
       "      <td>05/11/2019</td>\n",
       "      <td>08:22:00</td>\n",
       "      <td>REGULAR</td>\n",
       "      <td>6030016</td>\n",
       "      <td>5954362</td>\n",
       "      <td>11984378</td>\n",
       "      <td>2019-05-11</td>\n",
       "      <td>NaN</td>\n",
       "    </tr>\n",
       "    <tr>\n",
       "      <th>3</th>\n",
       "      <td>N203</td>\n",
       "      <td>R195</td>\n",
       "      <td>00-00-00</td>\n",
       "      <td>161/YANKEE STAD</td>\n",
       "      <td>BD4</td>\n",
       "      <td>IND</td>\n",
       "      <td>05/11/2019</td>\n",
       "      <td>12:22:00</td>\n",
       "      <td>REGULAR</td>\n",
       "      <td>6030116</td>\n",
       "      <td>5954438</td>\n",
       "      <td>11984554</td>\n",
       "      <td>2019-05-11</td>\n",
       "      <td>NaN</td>\n",
       "    </tr>\n",
       "    <tr>\n",
       "      <th>4</th>\n",
       "      <td>N203</td>\n",
       "      <td>R195</td>\n",
       "      <td>00-00-00</td>\n",
       "      <td>161/YANKEE STAD</td>\n",
       "      <td>BD4</td>\n",
       "      <td>IND</td>\n",
       "      <td>05/11/2019</td>\n",
       "      <td>16:22:00</td>\n",
       "      <td>REGULAR</td>\n",
       "      <td>6030269</td>\n",
       "      <td>5954564</td>\n",
       "      <td>11984833</td>\n",
       "      <td>2019-05-11</td>\n",
       "      <td>NaN</td>\n",
       "    </tr>\n",
       "  </tbody>\n",
       "</table>\n",
       "</div>"
      ],
      "text/plain": [
       "    C/A  UNIT       SCP          STATION LINENAME DIVISION        DATE  \\\n",
       "0  N203  R195  00-00-00  161/YANKEE STAD      BD4      IND  05/11/2019   \n",
       "1  N203  R195  00-00-00  161/YANKEE STAD      BD4      IND  05/11/2019   \n",
       "2  N203  R195  00-00-00  161/YANKEE STAD      BD4      IND  05/11/2019   \n",
       "3  N203  R195  00-00-00  161/YANKEE STAD      BD4      IND  05/11/2019   \n",
       "4  N203  R195  00-00-00  161/YANKEE STAD      BD4      IND  05/11/2019   \n",
       "\n",
       "       TIME     DESC  ENTRIES    EXITS   Traffic   DateTime HomeTeam  \n",
       "0  00:22:00  REGULAR  6029974  5954320  11984294 2019-05-11      NaN  \n",
       "1  04:22:00  REGULAR  6029974  5954332  11984306 2019-05-11      NaN  \n",
       "2  08:22:00  REGULAR  6030016  5954362  11984378 2019-05-11      NaN  \n",
       "3  12:22:00  REGULAR  6030116  5954438  11984554 2019-05-11      NaN  \n",
       "4  16:22:00  REGULAR  6030269  5954564  11984833 2019-05-11      NaN  "
      ]
     },
     "execution_count": 40,
     "metadata": {},
     "output_type": "execute_result"
    }
   ],
   "source": [
    "stadium_with_yankeegames.drop(columns=['WeekDay','HomeTeamLeague','HomeTeamGame','GameTime'], inplace=True)\n",
    "stadium_with_yankeegames.head()"
   ]
  },
  {
   "cell_type": "code",
   "execution_count": 41,
   "metadata": {},
   "outputs": [
    {
     "data": {
      "text/html": [
       "<div>\n",
       "<style scoped>\n",
       "    .dataframe tbody tr th:only-of-type {\n",
       "        vertical-align: middle;\n",
       "    }\n",
       "\n",
       "    .dataframe tbody tr th {\n",
       "        vertical-align: top;\n",
       "    }\n",
       "\n",
       "    .dataframe thead th {\n",
       "        text-align: right;\n",
       "    }\n",
       "</style>\n",
       "<table border=\"1\" class=\"dataframe\">\n",
       "  <thead>\n",
       "    <tr style=\"text-align: right;\">\n",
       "      <th></th>\n",
       "      <th>C/A</th>\n",
       "      <th>UNIT</th>\n",
       "      <th>SCP</th>\n",
       "      <th>STATION</th>\n",
       "      <th>LINENAME</th>\n",
       "      <th>DIVISION</th>\n",
       "      <th>DATE</th>\n",
       "      <th>TIME</th>\n",
       "      <th>DESC</th>\n",
       "      <th>ENTRIES</th>\n",
       "      <th>EXITS</th>\n",
       "      <th>Traffic</th>\n",
       "      <th>DateTime</th>\n",
       "      <th>YankeeGame</th>\n",
       "    </tr>\n",
       "  </thead>\n",
       "  <tbody>\n",
       "    <tr>\n",
       "      <th>0</th>\n",
       "      <td>N203</td>\n",
       "      <td>R195</td>\n",
       "      <td>00-00-00</td>\n",
       "      <td>161/YANKEE STAD</td>\n",
       "      <td>BD4</td>\n",
       "      <td>IND</td>\n",
       "      <td>05/11/2019</td>\n",
       "      <td>00:22:00</td>\n",
       "      <td>REGULAR</td>\n",
       "      <td>6029974</td>\n",
       "      <td>5954320</td>\n",
       "      <td>11984294</td>\n",
       "      <td>2019-05-11</td>\n",
       "      <td>NaN</td>\n",
       "    </tr>\n",
       "    <tr>\n",
       "      <th>1</th>\n",
       "      <td>N203</td>\n",
       "      <td>R195</td>\n",
       "      <td>00-00-00</td>\n",
       "      <td>161/YANKEE STAD</td>\n",
       "      <td>BD4</td>\n",
       "      <td>IND</td>\n",
       "      <td>05/11/2019</td>\n",
       "      <td>04:22:00</td>\n",
       "      <td>REGULAR</td>\n",
       "      <td>6029974</td>\n",
       "      <td>5954332</td>\n",
       "      <td>11984306</td>\n",
       "      <td>2019-05-11</td>\n",
       "      <td>NaN</td>\n",
       "    </tr>\n",
       "    <tr>\n",
       "      <th>2</th>\n",
       "      <td>N203</td>\n",
       "      <td>R195</td>\n",
       "      <td>00-00-00</td>\n",
       "      <td>161/YANKEE STAD</td>\n",
       "      <td>BD4</td>\n",
       "      <td>IND</td>\n",
       "      <td>05/11/2019</td>\n",
       "      <td>08:22:00</td>\n",
       "      <td>REGULAR</td>\n",
       "      <td>6030016</td>\n",
       "      <td>5954362</td>\n",
       "      <td>11984378</td>\n",
       "      <td>2019-05-11</td>\n",
       "      <td>NaN</td>\n",
       "    </tr>\n",
       "    <tr>\n",
       "      <th>3</th>\n",
       "      <td>N203</td>\n",
       "      <td>R195</td>\n",
       "      <td>00-00-00</td>\n",
       "      <td>161/YANKEE STAD</td>\n",
       "      <td>BD4</td>\n",
       "      <td>IND</td>\n",
       "      <td>05/11/2019</td>\n",
       "      <td>12:22:00</td>\n",
       "      <td>REGULAR</td>\n",
       "      <td>6030116</td>\n",
       "      <td>5954438</td>\n",
       "      <td>11984554</td>\n",
       "      <td>2019-05-11</td>\n",
       "      <td>NaN</td>\n",
       "    </tr>\n",
       "    <tr>\n",
       "      <th>4</th>\n",
       "      <td>N203</td>\n",
       "      <td>R195</td>\n",
       "      <td>00-00-00</td>\n",
       "      <td>161/YANKEE STAD</td>\n",
       "      <td>BD4</td>\n",
       "      <td>IND</td>\n",
       "      <td>05/11/2019</td>\n",
       "      <td>16:22:00</td>\n",
       "      <td>REGULAR</td>\n",
       "      <td>6030269</td>\n",
       "      <td>5954564</td>\n",
       "      <td>11984833</td>\n",
       "      <td>2019-05-11</td>\n",
       "      <td>NaN</td>\n",
       "    </tr>\n",
       "  </tbody>\n",
       "</table>\n",
       "</div>"
      ],
      "text/plain": [
       "    C/A  UNIT       SCP          STATION LINENAME DIVISION        DATE  \\\n",
       "0  N203  R195  00-00-00  161/YANKEE STAD      BD4      IND  05/11/2019   \n",
       "1  N203  R195  00-00-00  161/YANKEE STAD      BD4      IND  05/11/2019   \n",
       "2  N203  R195  00-00-00  161/YANKEE STAD      BD4      IND  05/11/2019   \n",
       "3  N203  R195  00-00-00  161/YANKEE STAD      BD4      IND  05/11/2019   \n",
       "4  N203  R195  00-00-00  161/YANKEE STAD      BD4      IND  05/11/2019   \n",
       "\n",
       "       TIME     DESC  ENTRIES    EXITS   Traffic   DateTime YankeeGame  \n",
       "0  00:22:00  REGULAR  6029974  5954320  11984294 2019-05-11        NaN  \n",
       "1  04:22:00  REGULAR  6029974  5954332  11984306 2019-05-11        NaN  \n",
       "2  08:22:00  REGULAR  6030016  5954362  11984378 2019-05-11        NaN  \n",
       "3  12:22:00  REGULAR  6030116  5954438  11984554 2019-05-11        NaN  \n",
       "4  16:22:00  REGULAR  6030269  5954564  11984833 2019-05-11        NaN  "
      ]
     },
     "execution_count": 41,
     "metadata": {},
     "output_type": "execute_result"
    }
   ],
   "source": [
    "stadium_with_yankeegames.rename(columns = {'HomeTeam':'YankeeGame'}, inplace=True)\n",
    "stadium_with_yankeegames.head()"
   ]
  },
  {
   "cell_type": "markdown",
   "metadata": {},
   "source": [
    "Adding Mets Games and combining:"
   ]
  },
  {
   "cell_type": "code",
   "execution_count": 42,
   "metadata": {},
   "outputs": [
    {
     "data": {
      "text/html": [
       "<div>\n",
       "<style scoped>\n",
       "    .dataframe tbody tr th:only-of-type {\n",
       "        vertical-align: middle;\n",
       "    }\n",
       "\n",
       "    .dataframe tbody tr th {\n",
       "        vertical-align: top;\n",
       "    }\n",
       "\n",
       "    .dataframe thead th {\n",
       "        text-align: right;\n",
       "    }\n",
       "</style>\n",
       "<table border=\"1\" class=\"dataframe\">\n",
       "  <thead>\n",
       "    <tr style=\"text-align: right;\">\n",
       "      <th></th>\n",
       "      <th>C/A</th>\n",
       "      <th>UNIT</th>\n",
       "      <th>SCP</th>\n",
       "      <th>STATION</th>\n",
       "      <th>LINENAME</th>\n",
       "      <th>DIVISION</th>\n",
       "      <th>DATE</th>\n",
       "      <th>TIME</th>\n",
       "      <th>DESC</th>\n",
       "      <th>ENTRIES</th>\n",
       "      <th>EXITS</th>\n",
       "      <th>Traffic</th>\n",
       "      <th>DateTime</th>\n",
       "      <th>YankeeGame</th>\n",
       "      <th>WeekDay</th>\n",
       "      <th>HomeTeam</th>\n",
       "      <th>HomeTeamLeague</th>\n",
       "      <th>HomeTeamGame</th>\n",
       "      <th>GameTime</th>\n",
       "    </tr>\n",
       "  </thead>\n",
       "  <tbody>\n",
       "    <tr>\n",
       "      <th>0</th>\n",
       "      <td>N203</td>\n",
       "      <td>R195</td>\n",
       "      <td>00-00-00</td>\n",
       "      <td>161/YANKEE STAD</td>\n",
       "      <td>BD4</td>\n",
       "      <td>IND</td>\n",
       "      <td>05/11/2019</td>\n",
       "      <td>00:22:00</td>\n",
       "      <td>REGULAR</td>\n",
       "      <td>6029974</td>\n",
       "      <td>5954320</td>\n",
       "      <td>11984294</td>\n",
       "      <td>2019-05-11</td>\n",
       "      <td>NaN</td>\n",
       "      <td>Sat</td>\n",
       "      <td>NYN</td>\n",
       "      <td>NL</td>\n",
       "      <td>39.0</td>\n",
       "      <td>n</td>\n",
       "    </tr>\n",
       "    <tr>\n",
       "      <th>1</th>\n",
       "      <td>N203</td>\n",
       "      <td>R195</td>\n",
       "      <td>00-00-00</td>\n",
       "      <td>161/YANKEE STAD</td>\n",
       "      <td>BD4</td>\n",
       "      <td>IND</td>\n",
       "      <td>05/11/2019</td>\n",
       "      <td>04:22:00</td>\n",
       "      <td>REGULAR</td>\n",
       "      <td>6029974</td>\n",
       "      <td>5954332</td>\n",
       "      <td>11984306</td>\n",
       "      <td>2019-05-11</td>\n",
       "      <td>NaN</td>\n",
       "      <td>Sat</td>\n",
       "      <td>NYN</td>\n",
       "      <td>NL</td>\n",
       "      <td>39.0</td>\n",
       "      <td>n</td>\n",
       "    </tr>\n",
       "    <tr>\n",
       "      <th>2</th>\n",
       "      <td>N203</td>\n",
       "      <td>R195</td>\n",
       "      <td>00-00-00</td>\n",
       "      <td>161/YANKEE STAD</td>\n",
       "      <td>BD4</td>\n",
       "      <td>IND</td>\n",
       "      <td>05/11/2019</td>\n",
       "      <td>08:22:00</td>\n",
       "      <td>REGULAR</td>\n",
       "      <td>6030016</td>\n",
       "      <td>5954362</td>\n",
       "      <td>11984378</td>\n",
       "      <td>2019-05-11</td>\n",
       "      <td>NaN</td>\n",
       "      <td>Sat</td>\n",
       "      <td>NYN</td>\n",
       "      <td>NL</td>\n",
       "      <td>39.0</td>\n",
       "      <td>n</td>\n",
       "    </tr>\n",
       "    <tr>\n",
       "      <th>3</th>\n",
       "      <td>N203</td>\n",
       "      <td>R195</td>\n",
       "      <td>00-00-00</td>\n",
       "      <td>161/YANKEE STAD</td>\n",
       "      <td>BD4</td>\n",
       "      <td>IND</td>\n",
       "      <td>05/11/2019</td>\n",
       "      <td>12:22:00</td>\n",
       "      <td>REGULAR</td>\n",
       "      <td>6030116</td>\n",
       "      <td>5954438</td>\n",
       "      <td>11984554</td>\n",
       "      <td>2019-05-11</td>\n",
       "      <td>NaN</td>\n",
       "      <td>Sat</td>\n",
       "      <td>NYN</td>\n",
       "      <td>NL</td>\n",
       "      <td>39.0</td>\n",
       "      <td>n</td>\n",
       "    </tr>\n",
       "    <tr>\n",
       "      <th>4</th>\n",
       "      <td>N203</td>\n",
       "      <td>R195</td>\n",
       "      <td>00-00-00</td>\n",
       "      <td>161/YANKEE STAD</td>\n",
       "      <td>BD4</td>\n",
       "      <td>IND</td>\n",
       "      <td>05/11/2019</td>\n",
       "      <td>16:22:00</td>\n",
       "      <td>REGULAR</td>\n",
       "      <td>6030269</td>\n",
       "      <td>5954564</td>\n",
       "      <td>11984833</td>\n",
       "      <td>2019-05-11</td>\n",
       "      <td>NaN</td>\n",
       "      <td>Sat</td>\n",
       "      <td>NYN</td>\n",
       "      <td>NL</td>\n",
       "      <td>39.0</td>\n",
       "      <td>n</td>\n",
       "    </tr>\n",
       "  </tbody>\n",
       "</table>\n",
       "</div>"
      ],
      "text/plain": [
       "    C/A  UNIT       SCP          STATION LINENAME DIVISION        DATE  \\\n",
       "0  N203  R195  00-00-00  161/YANKEE STAD      BD4      IND  05/11/2019   \n",
       "1  N203  R195  00-00-00  161/YANKEE STAD      BD4      IND  05/11/2019   \n",
       "2  N203  R195  00-00-00  161/YANKEE STAD      BD4      IND  05/11/2019   \n",
       "3  N203  R195  00-00-00  161/YANKEE STAD      BD4      IND  05/11/2019   \n",
       "4  N203  R195  00-00-00  161/YANKEE STAD      BD4      IND  05/11/2019   \n",
       "\n",
       "       TIME     DESC  ENTRIES    EXITS   Traffic   DateTime YankeeGame  \\\n",
       "0  00:22:00  REGULAR  6029974  5954320  11984294 2019-05-11        NaN   \n",
       "1  04:22:00  REGULAR  6029974  5954332  11984306 2019-05-11        NaN   \n",
       "2  08:22:00  REGULAR  6030016  5954362  11984378 2019-05-11        NaN   \n",
       "3  12:22:00  REGULAR  6030116  5954438  11984554 2019-05-11        NaN   \n",
       "4  16:22:00  REGULAR  6030269  5954564  11984833 2019-05-11        NaN   \n",
       "\n",
       "  WeekDay HomeTeam HomeTeamLeague  HomeTeamGame GameTime  \n",
       "0     Sat      NYN             NL          39.0        n  \n",
       "1     Sat      NYN             NL          39.0        n  \n",
       "2     Sat      NYN             NL          39.0        n  \n",
       "3     Sat      NYN             NL          39.0        n  \n",
       "4     Sat      NYN             NL          39.0        n  "
      ]
     },
     "execution_count": 42,
     "metadata": {},
     "output_type": "execute_result"
    }
   ],
   "source": [
    "stadium_with_combined_games = stadium_with_yankeegames.merge(mets_games, how='left', on='DateTime')\n",
    "stadium_with_combined_games.head()"
   ]
  },
  {
   "cell_type": "code",
   "execution_count": 43,
   "metadata": {},
   "outputs": [],
   "source": [
    "stadium_with_combined_games.drop(columns=['WeekDay','HomeTeamLeague','HomeTeamGame','GameTime'], inplace=True)\n",
    "stadium_with_combined_games.rename(columns = {'HomeTeam':'MetsGame'}, inplace=True)"
   ]
  },
  {
   "cell_type": "code",
   "execution_count": 44,
   "metadata": {},
   "outputs": [
    {
     "data": {
      "text/plain": [
       "YankeeGame\n",
       "NYA    15813\n",
       "dtype: int64"
      ]
     },
     "execution_count": 44,
     "metadata": {},
     "output_type": "execute_result"
    }
   ],
   "source": [
    "stadium_with_combined_games.value_counts(stadium_with_combined_games.YankeeGame)"
   ]
  },
  {
   "cell_type": "code",
   "execution_count": 45,
   "metadata": {},
   "outputs": [
    {
     "data": {
      "text/plain": [
       "MetsGame\n",
       "NYN    14622\n",
       "dtype: int64"
      ]
     },
     "execution_count": 45,
     "metadata": {},
     "output_type": "execute_result"
    }
   ],
   "source": [
    "stadium_with_combined_games.value_counts(stadium_with_combined_games.MetsGame)"
   ]
  },
  {
   "cell_type": "markdown",
   "metadata": {},
   "source": [
    "Removing na values with NoGame:"
   ]
  },
  {
   "cell_type": "code",
   "execution_count": 46,
   "metadata": {},
   "outputs": [],
   "source": [
    "stadium_with_combined_games['YankeeGame'].fillna('NoGame', inplace=True)"
   ]
  },
  {
   "cell_type": "code",
   "execution_count": 47,
   "metadata": {},
   "outputs": [],
   "source": [
    "stadium_with_combined_games['MetsGame'].fillna('NoGame', inplace=True)"
   ]
  },
  {
   "cell_type": "code",
   "execution_count": 48,
   "metadata": {
    "scrolled": false
   },
   "outputs": [
    {
     "data": {
      "text/html": [
       "<div>\n",
       "<style scoped>\n",
       "    .dataframe tbody tr th:only-of-type {\n",
       "        vertical-align: middle;\n",
       "    }\n",
       "\n",
       "    .dataframe tbody tr th {\n",
       "        vertical-align: top;\n",
       "    }\n",
       "\n",
       "    .dataframe thead th {\n",
       "        text-align: right;\n",
       "    }\n",
       "</style>\n",
       "<table border=\"1\" class=\"dataframe\">\n",
       "  <thead>\n",
       "    <tr style=\"text-align: right;\">\n",
       "      <th></th>\n",
       "      <th>C/A</th>\n",
       "      <th>UNIT</th>\n",
       "      <th>SCP</th>\n",
       "      <th>STATION</th>\n",
       "      <th>LINENAME</th>\n",
       "      <th>DIVISION</th>\n",
       "      <th>DATE</th>\n",
       "      <th>TIME</th>\n",
       "      <th>DESC</th>\n",
       "      <th>ENTRIES</th>\n",
       "      <th>EXITS</th>\n",
       "      <th>Traffic</th>\n",
       "      <th>DateTime</th>\n",
       "      <th>YankeeGame</th>\n",
       "      <th>MetsGame</th>\n",
       "    </tr>\n",
       "  </thead>\n",
       "  <tbody>\n",
       "    <tr>\n",
       "      <th>27981</th>\n",
       "      <td>N203</td>\n",
       "      <td>R195</td>\n",
       "      <td>00-03-00</td>\n",
       "      <td>161/YANKEE STAD</td>\n",
       "      <td>BD4</td>\n",
       "      <td>IND</td>\n",
       "      <td>05/05/2019</td>\n",
       "      <td>16:22:00</td>\n",
       "      <td>REGULAR</td>\n",
       "      <td>5389681</td>\n",
       "      <td>2110797</td>\n",
       "      <td>7500478</td>\n",
       "      <td>2019-05-05</td>\n",
       "      <td>NYA</td>\n",
       "      <td>NoGame</td>\n",
       "    </tr>\n",
       "    <tr>\n",
       "      <th>33378</th>\n",
       "      <td>R532H</td>\n",
       "      <td>R328</td>\n",
       "      <td>02-00-04</td>\n",
       "      <td>METS-WILLETS PT</td>\n",
       "      <td>7</td>\n",
       "      <td>IRT</td>\n",
       "      <td>05/03/2019</td>\n",
       "      <td>17:00:00</td>\n",
       "      <td>REGULAR</td>\n",
       "      <td>433003</td>\n",
       "      <td>1272802</td>\n",
       "      <td>1705805</td>\n",
       "      <td>2019-05-03</td>\n",
       "      <td>NYA</td>\n",
       "      <td>NoGame</td>\n",
       "    </tr>\n",
       "    <tr>\n",
       "      <th>21022</th>\n",
       "      <td>R532H</td>\n",
       "      <td>R328</td>\n",
       "      <td>02-00-03</td>\n",
       "      <td>METS-WILLETS PT</td>\n",
       "      <td>7</td>\n",
       "      <td>IRT</td>\n",
       "      <td>06/14/2019</td>\n",
       "      <td>13:00:00</td>\n",
       "      <td>REGULAR</td>\n",
       "      <td>541145</td>\n",
       "      <td>1261998</td>\n",
       "      <td>1803143</td>\n",
       "      <td>2019-06-14</td>\n",
       "      <td>NoGame</td>\n",
       "      <td>NYN</td>\n",
       "    </tr>\n",
       "    <tr>\n",
       "      <th>16375</th>\n",
       "      <td>R262</td>\n",
       "      <td>R195</td>\n",
       "      <td>03-03-00</td>\n",
       "      <td>161/YANKEE STAD</td>\n",
       "      <td>4BD</td>\n",
       "      <td>IRT</td>\n",
       "      <td>05/31/2019</td>\n",
       "      <td>00:22:00</td>\n",
       "      <td>REGULAR</td>\n",
       "      <td>2327469</td>\n",
       "      <td>1300912</td>\n",
       "      <td>3628381</td>\n",
       "      <td>2019-05-31</td>\n",
       "      <td>NYA</td>\n",
       "      <td>NoGame</td>\n",
       "    </tr>\n",
       "    <tr>\n",
       "      <th>14629</th>\n",
       "      <td>R532</td>\n",
       "      <td>R328</td>\n",
       "      <td>00-06-04</td>\n",
       "      <td>METS-WILLETS PT</td>\n",
       "      <td>7</td>\n",
       "      <td>IRT</td>\n",
       "      <td>04/26/2019</td>\n",
       "      <td>01:00:00</td>\n",
       "      <td>REGULAR</td>\n",
       "      <td>125128</td>\n",
       "      <td>13390</td>\n",
       "      <td>138518</td>\n",
       "      <td>2019-04-26</td>\n",
       "      <td>NoGame</td>\n",
       "      <td>NYN</td>\n",
       "    </tr>\n",
       "    <tr>\n",
       "      <th>20078</th>\n",
       "      <td>R262B</td>\n",
       "      <td>R195</td>\n",
       "      <td>05-00-05</td>\n",
       "      <td>161/YANKEE STAD</td>\n",
       "      <td>4BD</td>\n",
       "      <td>IRT</td>\n",
       "      <td>06/08/2019</td>\n",
       "      <td>04:22:00</td>\n",
       "      <td>REGULAR</td>\n",
       "      <td>236583</td>\n",
       "      <td>515471</td>\n",
       "      <td>752054</td>\n",
       "      <td>2019-06-08</td>\n",
       "      <td>NoGame</td>\n",
       "      <td>NYN</td>\n",
       "    </tr>\n",
       "    <tr>\n",
       "      <th>21782</th>\n",
       "      <td>N203</td>\n",
       "      <td>R195</td>\n",
       "      <td>00-00-04</td>\n",
       "      <td>161/YANKEE STAD</td>\n",
       "      <td>BD4</td>\n",
       "      <td>IND</td>\n",
       "      <td>03/30/2019</td>\n",
       "      <td>08:22:00</td>\n",
       "      <td>REGULAR</td>\n",
       "      <td>10957194</td>\n",
       "      <td>10250753</td>\n",
       "      <td>21207947</td>\n",
       "      <td>2019-03-30</td>\n",
       "      <td>NYA</td>\n",
       "      <td>NoGame</td>\n",
       "    </tr>\n",
       "    <tr>\n",
       "      <th>12454</th>\n",
       "      <td>N203</td>\n",
       "      <td>R195</td>\n",
       "      <td>00-00-02</td>\n",
       "      <td>161/YANKEE STAD</td>\n",
       "      <td>BD4</td>\n",
       "      <td>IND</td>\n",
       "      <td>04/21/2019</td>\n",
       "      <td>12:22:00</td>\n",
       "      <td>REGULAR</td>\n",
       "      <td>4267960</td>\n",
       "      <td>1669280</td>\n",
       "      <td>5937240</td>\n",
       "      <td>2019-04-21</td>\n",
       "      <td>NYA</td>\n",
       "      <td>NoGame</td>\n",
       "    </tr>\n",
       "    <tr>\n",
       "      <th>9195</th>\n",
       "      <td>R532H</td>\n",
       "      <td>R328</td>\n",
       "      <td>02-05-01</td>\n",
       "      <td>METS-WILLETS PT</td>\n",
       "      <td>7</td>\n",
       "      <td>IRT</td>\n",
       "      <td>04/17/2019</td>\n",
       "      <td>05:00:00</td>\n",
       "      <td>REGULAR</td>\n",
       "      <td>1</td>\n",
       "      <td>513</td>\n",
       "      <td>514</td>\n",
       "      <td>2019-04-17</td>\n",
       "      <td>NYA</td>\n",
       "      <td>NoGame</td>\n",
       "    </tr>\n",
       "    <tr>\n",
       "      <th>27090</th>\n",
       "      <td>R532H</td>\n",
       "      <td>R328</td>\n",
       "      <td>02-00-02</td>\n",
       "      <td>METS-WILLETS PT</td>\n",
       "      <td>7</td>\n",
       "      <td>IRT</td>\n",
       "      <td>04/08/2019</td>\n",
       "      <td>21:00:00</td>\n",
       "      <td>REGULAR</td>\n",
       "      <td>128254</td>\n",
       "      <td>280090</td>\n",
       "      <td>408344</td>\n",
       "      <td>2019-04-08</td>\n",
       "      <td>NoGame</td>\n",
       "      <td>NoGame</td>\n",
       "    </tr>\n",
       "  </tbody>\n",
       "</table>\n",
       "</div>"
      ],
      "text/plain": [
       "         C/A  UNIT       SCP          STATION LINENAME DIVISION        DATE  \\\n",
       "27981   N203  R195  00-03-00  161/YANKEE STAD      BD4      IND  05/05/2019   \n",
       "33378  R532H  R328  02-00-04  METS-WILLETS PT        7      IRT  05/03/2019   \n",
       "21022  R532H  R328  02-00-03  METS-WILLETS PT        7      IRT  06/14/2019   \n",
       "16375   R262  R195  03-03-00  161/YANKEE STAD      4BD      IRT  05/31/2019   \n",
       "14629   R532  R328  00-06-04  METS-WILLETS PT        7      IRT  04/26/2019   \n",
       "20078  R262B  R195  05-00-05  161/YANKEE STAD      4BD      IRT  06/08/2019   \n",
       "21782   N203  R195  00-00-04  161/YANKEE STAD      BD4      IND  03/30/2019   \n",
       "12454   N203  R195  00-00-02  161/YANKEE STAD      BD4      IND  04/21/2019   \n",
       "9195   R532H  R328  02-05-01  METS-WILLETS PT        7      IRT  04/17/2019   \n",
       "27090  R532H  R328  02-00-02  METS-WILLETS PT        7      IRT  04/08/2019   \n",
       "\n",
       "           TIME     DESC   ENTRIES     EXITS   Traffic   DateTime YankeeGame  \\\n",
       "27981  16:22:00  REGULAR   5389681   2110797   7500478 2019-05-05        NYA   \n",
       "33378  17:00:00  REGULAR    433003   1272802   1705805 2019-05-03        NYA   \n",
       "21022  13:00:00  REGULAR    541145   1261998   1803143 2019-06-14     NoGame   \n",
       "16375  00:22:00  REGULAR   2327469   1300912   3628381 2019-05-31        NYA   \n",
       "14629  01:00:00  REGULAR    125128     13390    138518 2019-04-26     NoGame   \n",
       "20078  04:22:00  REGULAR    236583    515471    752054 2019-06-08     NoGame   \n",
       "21782  08:22:00  REGULAR  10957194  10250753  21207947 2019-03-30        NYA   \n",
       "12454  12:22:00  REGULAR   4267960   1669280   5937240 2019-04-21        NYA   \n",
       "9195   05:00:00  REGULAR         1       513       514 2019-04-17        NYA   \n",
       "27090  21:00:00  REGULAR    128254    280090    408344 2019-04-08     NoGame   \n",
       "\n",
       "      MetsGame  \n",
       "27981   NoGame  \n",
       "33378   NoGame  \n",
       "21022      NYN  \n",
       "16375   NoGame  \n",
       "14629      NYN  \n",
       "20078      NYN  \n",
       "21782   NoGame  \n",
       "12454   NoGame  \n",
       "9195    NoGame  \n",
       "27090   NoGame  "
      ]
     },
     "execution_count": 48,
     "metadata": {},
     "output_type": "execute_result"
    }
   ],
   "source": [
    "#Combined Sheet with Mets/Yankee Games, pulling a sample to audit with mlb.com:\n",
    "stadium_with_combined_games.sample(10)"
   ]
  },
  {
   "cell_type": "markdown",
   "metadata": {},
   "source": [
    "All dates in sample set match with schedule correctly"
   ]
  },
  {
   "cell_type": "markdown",
   "metadata": {},
   "source": [
    "Setting masks for games, no games to use for filtering:"
   ]
  },
  {
   "cell_type": "code",
   "execution_count": 49,
   "metadata": {},
   "outputs": [],
   "source": [
    "yankee_game_mask = (stadium_with_combined_games.YankeeGame == 'NYA')"
   ]
  },
  {
   "cell_type": "code",
   "execution_count": 50,
   "metadata": {},
   "outputs": [],
   "source": [
    "non_yankee_game_mask = (stadium_with_combined_games.YankeeGame == 'NoGame')"
   ]
  },
  {
   "cell_type": "code",
   "execution_count": 51,
   "metadata": {},
   "outputs": [],
   "source": [
    "mets_game_mask = (stadium_with_combined_games.MetsGame == 'NYN')"
   ]
  },
  {
   "cell_type": "code",
   "execution_count": 52,
   "metadata": {},
   "outputs": [],
   "source": [
    "non_mets_game_mask = (stadium_with_combined_games.MetsGame == 'NoGame')"
   ]
  },
  {
   "cell_type": "code",
   "execution_count": null,
   "metadata": {},
   "outputs": [],
   "source": []
  },
  {
   "cell_type": "code",
   "execution_count": null,
   "metadata": {},
   "outputs": [],
   "source": []
  }
 ],
 "metadata": {
  "kernelspec": {
   "display_name": "Python 3",
   "language": "python",
   "name": "python3"
  },
  "language_info": {
   "codemirror_mode": {
    "name": "ipython",
    "version": 3
   },
   "file_extension": ".py",
   "mimetype": "text/x-python",
   "name": "python",
   "nbconvert_exporter": "python",
   "pygments_lexer": "ipython3",
   "version": "3.8.5"
  }
 },
 "nbformat": 4,
 "nbformat_minor": 4
}
